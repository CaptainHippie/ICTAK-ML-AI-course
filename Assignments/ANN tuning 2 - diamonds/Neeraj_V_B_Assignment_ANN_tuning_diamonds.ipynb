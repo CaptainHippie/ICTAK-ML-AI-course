{
  "cells": [
    {
      "cell_type": "code",
      "execution_count": 6,
      "metadata": {
        "id": "NBIDZr3v1Nvv"
      },
      "outputs": [],
      "source": [
        "import pandas as pd\n",
        "import numpy as np\n",
        "import matplotlib.pyplot as plt"
      ]
    },
    {
      "cell_type": "code",
      "execution_count": 3,
      "metadata": {
        "id": "CcBi5z4n1t80"
      },
      "outputs": [
        {
          "data": {
            "text/html": [
              "<div>\n",
              "<style scoped>\n",
              "    .dataframe tbody tr th:only-of-type {\n",
              "        vertical-align: middle;\n",
              "    }\n",
              "\n",
              "    .dataframe tbody tr th {\n",
              "        vertical-align: top;\n",
              "    }\n",
              "\n",
              "    .dataframe thead th {\n",
              "        text-align: right;\n",
              "    }\n",
              "</style>\n",
              "<table border=\"1\" class=\"dataframe\">\n",
              "  <thead>\n",
              "    <tr style=\"text-align: right;\">\n",
              "      <th></th>\n",
              "      <th>carat</th>\n",
              "      <th>cut</th>\n",
              "      <th>color</th>\n",
              "      <th>clarity</th>\n",
              "      <th>table</th>\n",
              "      <th>x</th>\n",
              "      <th>y</th>\n",
              "      <th>z</th>\n",
              "      <th>price_new</th>\n",
              "    </tr>\n",
              "  </thead>\n",
              "  <tbody>\n",
              "    <tr>\n",
              "      <th>0</th>\n",
              "      <td>0.23</td>\n",
              "      <td>Ideal</td>\n",
              "      <td>E</td>\n",
              "      <td>SI2</td>\n",
              "      <td>55.0</td>\n",
              "      <td>3.95</td>\n",
              "      <td>3.98</td>\n",
              "      <td>2.43</td>\n",
              "      <td>163.0</td>\n",
              "    </tr>\n",
              "    <tr>\n",
              "      <th>1</th>\n",
              "      <td>0.21</td>\n",
              "      <td>Premium</td>\n",
              "      <td>E</td>\n",
              "      <td>SI1</td>\n",
              "      <td>61.0</td>\n",
              "      <td>3.89</td>\n",
              "      <td>3.84</td>\n",
              "      <td>2.31</td>\n",
              "      <td>163.0</td>\n",
              "    </tr>\n",
              "    <tr>\n",
              "      <th>2</th>\n",
              "      <td>0.23</td>\n",
              "      <td>Good</td>\n",
              "      <td>E</td>\n",
              "      <td>VS1</td>\n",
              "      <td>65.0</td>\n",
              "      <td>4.05</td>\n",
              "      <td>4.07</td>\n",
              "      <td>2.31</td>\n",
              "      <td>163.5</td>\n",
              "    </tr>\n",
              "    <tr>\n",
              "      <th>3</th>\n",
              "      <td>0.29</td>\n",
              "      <td>Premium</td>\n",
              "      <td>I</td>\n",
              "      <td>VS2</td>\n",
              "      <td>58.0</td>\n",
              "      <td>4.20</td>\n",
              "      <td>4.23</td>\n",
              "      <td>2.63</td>\n",
              "      <td>167.0</td>\n",
              "    </tr>\n",
              "    <tr>\n",
              "      <th>4</th>\n",
              "      <td>0.31</td>\n",
              "      <td>Good</td>\n",
              "      <td>J</td>\n",
              "      <td>SI2</td>\n",
              "      <td>58.0</td>\n",
              "      <td>4.34</td>\n",
              "      <td>4.35</td>\n",
              "      <td>2.75</td>\n",
              "      <td>167.5</td>\n",
              "    </tr>\n",
              "    <tr>\n",
              "      <th>5</th>\n",
              "      <td>0.24</td>\n",
              "      <td>Very Good</td>\n",
              "      <td>J</td>\n",
              "      <td>VVS2</td>\n",
              "      <td>57.0</td>\n",
              "      <td>3.94</td>\n",
              "      <td>3.96</td>\n",
              "      <td>2.48</td>\n",
              "      <td>168.0</td>\n",
              "    </tr>\n",
              "    <tr>\n",
              "      <th>6</th>\n",
              "      <td>0.24</td>\n",
              "      <td>Very Good</td>\n",
              "      <td>I</td>\n",
              "      <td>VVS1</td>\n",
              "      <td>57.0</td>\n",
              "      <td>3.95</td>\n",
              "      <td>3.98</td>\n",
              "      <td>2.47</td>\n",
              "      <td>168.0</td>\n",
              "    </tr>\n",
              "    <tr>\n",
              "      <th>7</th>\n",
              "      <td>0.26</td>\n",
              "      <td>Very Good</td>\n",
              "      <td>H</td>\n",
              "      <td>SI1</td>\n",
              "      <td>55.0</td>\n",
              "      <td>4.07</td>\n",
              "      <td>4.11</td>\n",
              "      <td>2.53</td>\n",
              "      <td>168.5</td>\n",
              "    </tr>\n",
              "    <tr>\n",
              "      <th>8</th>\n",
              "      <td>0.22</td>\n",
              "      <td>Fair</td>\n",
              "      <td>E</td>\n",
              "      <td>VS2</td>\n",
              "      <td>61.0</td>\n",
              "      <td>3.87</td>\n",
              "      <td>3.78</td>\n",
              "      <td>2.49</td>\n",
              "      <td>168.5</td>\n",
              "    </tr>\n",
              "    <tr>\n",
              "      <th>9</th>\n",
              "      <td>0.23</td>\n",
              "      <td>Very Good</td>\n",
              "      <td>H</td>\n",
              "      <td>VS1</td>\n",
              "      <td>61.0</td>\n",
              "      <td>4.00</td>\n",
              "      <td>4.05</td>\n",
              "      <td>2.39</td>\n",
              "      <td>169.0</td>\n",
              "    </tr>\n",
              "    <tr>\n",
              "      <th>10</th>\n",
              "      <td>0.30</td>\n",
              "      <td>Good</td>\n",
              "      <td>J</td>\n",
              "      <td>SI1</td>\n",
              "      <td>55.0</td>\n",
              "      <td>4.25</td>\n",
              "      <td>4.28</td>\n",
              "      <td>2.73</td>\n",
              "      <td>169.5</td>\n",
              "    </tr>\n",
              "    <tr>\n",
              "      <th>11</th>\n",
              "      <td>0.23</td>\n",
              "      <td>Ideal</td>\n",
              "      <td>J</td>\n",
              "      <td>VS1</td>\n",
              "      <td>56.0</td>\n",
              "      <td>3.93</td>\n",
              "      <td>3.90</td>\n",
              "      <td>2.46</td>\n",
              "      <td>170.0</td>\n",
              "    </tr>\n",
              "    <tr>\n",
              "      <th>12</th>\n",
              "      <td>0.22</td>\n",
              "      <td>Premium</td>\n",
              "      <td>F</td>\n",
              "      <td>SI1</td>\n",
              "      <td>61.0</td>\n",
              "      <td>3.88</td>\n",
              "      <td>3.84</td>\n",
              "      <td>2.33</td>\n",
              "      <td>171.0</td>\n",
              "    </tr>\n",
              "    <tr>\n",
              "      <th>13</th>\n",
              "      <td>0.31</td>\n",
              "      <td>Ideal</td>\n",
              "      <td>J</td>\n",
              "      <td>SI2</td>\n",
              "      <td>54.0</td>\n",
              "      <td>4.35</td>\n",
              "      <td>4.37</td>\n",
              "      <td>2.71</td>\n",
              "      <td>172.0</td>\n",
              "    </tr>\n",
              "    <tr>\n",
              "      <th>14</th>\n",
              "      <td>0.20</td>\n",
              "      <td>Premium</td>\n",
              "      <td>E</td>\n",
              "      <td>SI2</td>\n",
              "      <td>62.0</td>\n",
              "      <td>3.79</td>\n",
              "      <td>3.75</td>\n",
              "      <td>2.27</td>\n",
              "      <td>172.5</td>\n",
              "    </tr>\n",
              "    <tr>\n",
              "      <th>15</th>\n",
              "      <td>0.32</td>\n",
              "      <td>Premium</td>\n",
              "      <td>E</td>\n",
              "      <td>I1</td>\n",
              "      <td>58.0</td>\n",
              "      <td>4.38</td>\n",
              "      <td>4.42</td>\n",
              "      <td>2.68</td>\n",
              "      <td>172.5</td>\n",
              "    </tr>\n",
              "    <tr>\n",
              "      <th>16</th>\n",
              "      <td>0.30</td>\n",
              "      <td>Ideal</td>\n",
              "      <td>I</td>\n",
              "      <td>SI2</td>\n",
              "      <td>54.0</td>\n",
              "      <td>4.31</td>\n",
              "      <td>4.34</td>\n",
              "      <td>2.68</td>\n",
              "      <td>174.0</td>\n",
              "    </tr>\n",
              "    <tr>\n",
              "      <th>17</th>\n",
              "      <td>0.30</td>\n",
              "      <td>Good</td>\n",
              "      <td>J</td>\n",
              "      <td>SI1</td>\n",
              "      <td>54.0</td>\n",
              "      <td>4.23</td>\n",
              "      <td>4.29</td>\n",
              "      <td>2.70</td>\n",
              "      <td>175.5</td>\n",
              "    </tr>\n",
              "    <tr>\n",
              "      <th>18</th>\n",
              "      <td>0.30</td>\n",
              "      <td>Good</td>\n",
              "      <td>J</td>\n",
              "      <td>SI1</td>\n",
              "      <td>56.0</td>\n",
              "      <td>4.23</td>\n",
              "      <td>4.26</td>\n",
              "      <td>2.71</td>\n",
              "      <td>175.5</td>\n",
              "    </tr>\n",
              "  </tbody>\n",
              "</table>\n",
              "</div>"
            ],
            "text/plain": [
              "    carat        cut color clarity  table     x     y     z  price_new\n",
              "0    0.23      Ideal     E     SI2   55.0  3.95  3.98  2.43      163.0\n",
              "1    0.21    Premium     E     SI1   61.0  3.89  3.84  2.31      163.0\n",
              "2    0.23       Good     E     VS1   65.0  4.05  4.07  2.31      163.5\n",
              "3    0.29    Premium     I     VS2   58.0  4.20  4.23  2.63      167.0\n",
              "4    0.31       Good     J     SI2   58.0  4.34  4.35  2.75      167.5\n",
              "5    0.24  Very Good     J    VVS2   57.0  3.94  3.96  2.48      168.0\n",
              "6    0.24  Very Good     I    VVS1   57.0  3.95  3.98  2.47      168.0\n",
              "7    0.26  Very Good     H     SI1   55.0  4.07  4.11  2.53      168.5\n",
              "8    0.22       Fair     E     VS2   61.0  3.87  3.78  2.49      168.5\n",
              "9    0.23  Very Good     H     VS1   61.0  4.00  4.05  2.39      169.0\n",
              "10   0.30       Good     J     SI1   55.0  4.25  4.28  2.73      169.5\n",
              "11   0.23      Ideal     J     VS1   56.0  3.93  3.90  2.46      170.0\n",
              "12   0.22    Premium     F     SI1   61.0  3.88  3.84  2.33      171.0\n",
              "13   0.31      Ideal     J     SI2   54.0  4.35  4.37  2.71      172.0\n",
              "14   0.20    Premium     E     SI2   62.0  3.79  3.75  2.27      172.5\n",
              "15   0.32    Premium     E      I1   58.0  4.38  4.42  2.68      172.5\n",
              "16   0.30      Ideal     I     SI2   54.0  4.31  4.34  2.68      174.0\n",
              "17   0.30       Good     J     SI1   54.0  4.23  4.29  2.70      175.5\n",
              "18   0.30       Good     J     SI1   56.0  4.23  4.26  2.71      175.5"
            ]
          },
          "execution_count": 3,
          "metadata": {},
          "output_type": "execute_result"
        }
      ],
      "source": [
        "df = pd.read_csv(\"diamonds_new.csv\")\n",
        "df.head(19)"
      ]
    },
    {
      "cell_type": "code",
      "execution_count": 4,
      "metadata": {
        "colab": {
          "base_uri": "https://localhost:8080/"
        },
        "id": "sg_MvW-611vg",
        "outputId": "90aa009d-5b46-4a15-9c4b-acda1d8b0f84"
      },
      "outputs": [
        {
          "name": "stdout",
          "output_type": "stream",
          "text": [
            "<class 'pandas.core.frame.DataFrame'>\n",
            "RangeIndex: 53940 entries, 0 to 53939\n",
            "Data columns (total 9 columns):\n",
            " #   Column     Non-Null Count  Dtype  \n",
            "---  ------     --------------  -----  \n",
            " 0   carat      53841 non-null  float64\n",
            " 1   cut        53940 non-null  object \n",
            " 2   color      53884 non-null  object \n",
            " 3   clarity    53940 non-null  object \n",
            " 4   table      53877 non-null  float64\n",
            " 5   x          53940 non-null  float64\n",
            " 6   y          53940 non-null  float64\n",
            " 7   z          53940 non-null  float64\n",
            " 8   price_new  53940 non-null  float64\n",
            "dtypes: float64(6), object(3)\n",
            "memory usage: 3.7+ MB\n"
          ]
        }
      ],
      "source": [
        "df.info()"
      ]
    },
    {
      "cell_type": "code",
      "execution_count": 5,
      "metadata": {
        "colab": {
          "base_uri": "https://localhost:8080/"
        },
        "id": "JiB67XR13MKP",
        "outputId": "95268fee-f9e0-4894-f6a7-cd56ea1ae2b9"
      },
      "outputs": [
        {
          "data": {
            "text/plain": [
              "carat        99\n",
              "cut           0\n",
              "color        56\n",
              "clarity       0\n",
              "table        63\n",
              "x             0\n",
              "y             0\n",
              "z             0\n",
              "price_new     0\n",
              "dtype: int64"
            ]
          },
          "execution_count": 5,
          "metadata": {},
          "output_type": "execute_result"
        }
      ],
      "source": [
        "df.isna().sum()"
      ]
    },
    {
      "cell_type": "code",
      "execution_count": 8,
      "metadata": {
        "colab": {
          "base_uri": "https://localhost:8080/",
          "height": 265
        },
        "id": "gseHov533azw",
        "outputId": "b6a5ce1c-6e22-4c66-bb29-af35bcb23e78"
      },
      "outputs": [
        {
          "data": {
            "text/plain": [
              "<Axes: >"
            ]
          },
          "execution_count": 8,
          "metadata": {},
          "output_type": "execute_result"
        },
        {
          "data": {
            "image/png": "[encoded data removed]",
            "text/plain": [
              "<Figure size 640x480 with 1 Axes>"
            ]
          },
          "metadata": {},
          "output_type": "display_data"
        }
      ],
      "source": [
        "df['carat'].hist()"
      ]
    },
    {
      "cell_type": "code",
      "execution_count": 9,
      "metadata": {
        "colab": {
          "base_uri": "https://localhost:8080/",
          "height": 265
        },
        "id": "F1tB9pa-3e2D",
        "outputId": "212cde73-672e-446f-ff4e-15003ebe8fc2"
      },
      "outputs": [
        {
          "data": {
            "text/plain": [
              "<Axes: >"
            ]
          },
          "execution_count": 9,
          "metadata": {},
          "output_type": "execute_result"
        },
        {
          "data": {
            "image/png": "[encoded data removed]",
            "text/plain": [
              "<Figure size 640x480 with 1 Axes>"
            ]
          },
          "metadata": {},
          "output_type": "display_data"
        }
      ],
      "source": [
        "df['table'].hist()"
      ]
    },
    {
      "cell_type": "code",
      "execution_count": 10,
      "metadata": {
        "colab": {
          "base_uri": "https://localhost:8080/",
          "height": 300
        },
        "id": "L1BAK_W53kag",
        "outputId": "204f15b8-f8ac-41a2-8df9-086b1727d524"
      },
      "outputs": [
        {
          "data": {
            "text/html": [
              "<div>\n",
              "<style scoped>\n",
              "    .dataframe tbody tr th:only-of-type {\n",
              "        vertical-align: middle;\n",
              "    }\n",
              "\n",
              "    .dataframe tbody tr th {\n",
              "        vertical-align: top;\n",
              "    }\n",
              "\n",
              "    .dataframe thead th {\n",
              "        text-align: right;\n",
              "    }\n",
              "</style>\n",
              "<table border=\"1\" class=\"dataframe\">\n",
              "  <thead>\n",
              "    <tr style=\"text-align: right;\">\n",
              "      <th></th>\n",
              "      <th>carat</th>\n",
              "      <th>table</th>\n",
              "      <th>x</th>\n",
              "      <th>y</th>\n",
              "      <th>z</th>\n",
              "      <th>price_new</th>\n",
              "    </tr>\n",
              "  </thead>\n",
              "  <tbody>\n",
              "    <tr>\n",
              "      <th>count</th>\n",
              "      <td>53841.000000</td>\n",
              "      <td>53877.000000</td>\n",
              "      <td>53940.000000</td>\n",
              "      <td>53940.000000</td>\n",
              "      <td>53940.000000</td>\n",
              "      <td>53940.000000</td>\n",
              "    </tr>\n",
              "    <tr>\n",
              "      <th>mean</th>\n",
              "      <td>0.798120</td>\n",
              "      <td>57.457719</td>\n",
              "      <td>5.731157</td>\n",
              "      <td>5.734526</td>\n",
              "      <td>3.539635</td>\n",
              "      <td>1966.399861</td>\n",
              "    </tr>\n",
              "    <tr>\n",
              "      <th>std</th>\n",
              "      <td>0.474428</td>\n",
              "      <td>2.235742</td>\n",
              "      <td>1.121761</td>\n",
              "      <td>1.142135</td>\n",
              "      <td>0.703869</td>\n",
              "      <td>1994.719869</td>\n",
              "    </tr>\n",
              "    <tr>\n",
              "      <th>min</th>\n",
              "      <td>0.200000</td>\n",
              "      <td>43.000000</td>\n",
              "      <td>0.000000</td>\n",
              "      <td>0.000000</td>\n",
              "      <td>0.000000</td>\n",
              "      <td>163.000000</td>\n",
              "    </tr>\n",
              "    <tr>\n",
              "      <th>25%</th>\n",
              "      <td>0.400000</td>\n",
              "      <td>56.000000</td>\n",
              "      <td>4.710000</td>\n",
              "      <td>4.720000</td>\n",
              "      <td>2.910000</td>\n",
              "      <td>475.000000</td>\n",
              "    </tr>\n",
              "    <tr>\n",
              "      <th>50%</th>\n",
              "      <td>0.700000</td>\n",
              "      <td>57.000000</td>\n",
              "      <td>5.700000</td>\n",
              "      <td>5.710000</td>\n",
              "      <td>3.530000</td>\n",
              "      <td>1200.500000</td>\n",
              "    </tr>\n",
              "    <tr>\n",
              "      <th>75%</th>\n",
              "      <td>1.040000</td>\n",
              "      <td>59.000000</td>\n",
              "      <td>6.540000</td>\n",
              "      <td>6.540000</td>\n",
              "      <td>4.040000</td>\n",
              "      <td>2662.125000</td>\n",
              "    </tr>\n",
              "    <tr>\n",
              "      <th>max</th>\n",
              "      <td>5.010000</td>\n",
              "      <td>95.000000</td>\n",
              "      <td>10.740000</td>\n",
              "      <td>58.900000</td>\n",
              "      <td>31.800000</td>\n",
              "      <td>9411.500000</td>\n",
              "    </tr>\n",
              "  </tbody>\n",
              "</table>\n",
              "</div>"
            ],
            "text/plain": [
              "              carat         table             x             y             z  \\\n",
              "count  53841.000000  53877.000000  53940.000000  53940.000000  53940.000000   \n",
              "mean       0.798120     57.457719      5.731157      5.734526      3.539635   \n",
              "std        0.474428      2.235742      1.121761      1.142135      0.703869   \n",
              "min        0.200000     43.000000      0.000000      0.000000      0.000000   \n",
              "25%        0.400000     56.000000      4.710000      4.720000      2.910000   \n",
              "50%        0.700000     57.000000      5.700000      5.710000      3.530000   \n",
              "75%        1.040000     59.000000      6.540000      6.540000      4.040000   \n",
              "max        5.010000     95.000000     10.740000     58.900000     31.800000   \n",
              "\n",
              "          price_new  \n",
              "count  53940.000000  \n",
              "mean    1966.399861  \n",
              "std     1994.719869  \n",
              "min      163.000000  \n",
              "25%      475.000000  \n",
              "50%     1200.500000  \n",
              "75%     2662.125000  \n",
              "max     9411.500000  "
            ]
          },
          "execution_count": 10,
          "metadata": {},
          "output_type": "execute_result"
        }
      ],
      "source": [
        "df.describe()"
      ]
    },
    {
      "cell_type": "code",
      "execution_count": 11,
      "metadata": {
        "colab": {
          "base_uri": "https://localhost:8080/"
        },
        "id": "XW1SjMRn3q84",
        "outputId": "fd9fb60e-8cfc-46f1-eaeb-d5d117347e51"
      },
      "outputs": [
        {
          "data": {
            "text/plain": [
              "Int64Index([11182, 11963, 15951, 24520, 26243, 27429, 49556, 49557], dtype='int64')"
            ]
          },
          "execution_count": 11,
          "metadata": {},
          "output_type": "execute_result"
        }
      ],
      "source": [
        "df[(df['x']==0) | (df['y']==0) | (df['z']==0)].index"
      ]
    },
    {
      "cell_type": "code",
      "execution_count": 12,
      "metadata": {
        "id": "W15ZK9DV4HAa"
      },
      "outputs": [],
      "source": [
        "df2 = df.drop([11182, 11963, 15951, 24520, 26243, 27429, 49556, 49557])"
      ]
    },
    {
      "cell_type": "code",
      "execution_count": 13,
      "metadata": {
        "colab": {
          "base_uri": "https://localhost:8080/",
          "height": 265
        },
        "id": "m0dp8Jiw4ZGa",
        "outputId": "5110b964-e6fe-4c3c-a766-bfea4cfa7dc4"
      },
      "outputs": [
        {
          "data": {
            "image/png": "[encoded data removed]",
            "text/plain": [
              "<Figure size 640x480 with 1 Axes>"
            ]
          },
          "metadata": {},
          "output_type": "display_data"
        }
      ],
      "source": [
        "plt.scatter(df2['y'], df2['z'])\n",
        "plt.show()"
      ]
    },
    {
      "cell_type": "code",
      "execution_count": 15,
      "metadata": {
        "colab": {
          "base_uri": "https://localhost:8080/",
          "height": 265
        },
        "id": "uvGq9Vlo4m2C",
        "outputId": "a88202a8-ec43-4d0a-c864-d9d5d1825dae"
      },
      "outputs": [
        {
          "data": {
            "image/png": "[encoded data removed]",
            "text/plain": [
              "<Figure size 640x480 with 1 Axes>"
            ]
          },
          "metadata": {},
          "output_type": "display_data"
        }
      ],
      "source": [
        "plt.boxplot(df2['z'])\n",
        "plt.show()"
      ]
    },
    {
      "cell_type": "code",
      "execution_count": 16,
      "metadata": {
        "colab": {
          "base_uri": "https://localhost:8080/"
        },
        "id": "gyvdXDG14z9A",
        "outputId": "0540de87-55ef-4082-eb9b-5b7871825215"
      },
      "outputs": [
        {
          "data": {
            "text/plain": [
              "Int64Index([24067, 48410, 49189], dtype='int64')"
            ]
          },
          "execution_count": 16,
          "metadata": {},
          "output_type": "execute_result"
        }
      ],
      "source": [
        "df2[(df2['y'] > 15) | (df2['z'] > 15)].index"
      ]
    },
    {
      "cell_type": "code",
      "execution_count": 17,
      "metadata": {
        "id": "3ps3qguq5DH6"
      },
      "outputs": [],
      "source": [
        "df3 = df2.drop([24067, 48410, 49189])"
      ]
    },
    {
      "cell_type": "code",
      "execution_count": 18,
      "metadata": {
        "colab": {
          "base_uri": "https://localhost:8080/"
        },
        "id": "yTGh05NW5iL0",
        "outputId": "9b971954-5b36-40a9-c6a1-99b2021f4998"
      },
      "outputs": [
        {
          "data": {
            "text/plain": [
              "carat        99\n",
              "cut           0\n",
              "color        56\n",
              "clarity       0\n",
              "table        63\n",
              "x             0\n",
              "y             0\n",
              "z             0\n",
              "price_new     0\n",
              "dtype: int64"
            ]
          },
          "execution_count": 18,
          "metadata": {},
          "output_type": "execute_result"
        }
      ],
      "source": [
        "df3.isna().sum()"
      ]
    },
    {
      "cell_type": "code",
      "execution_count": 26,
      "metadata": {
        "id": "2evRR_0E5l2F"
      },
      "outputs": [],
      "source": [
        "df3['carat'].fillna(df3['carat'].median(), inplace=True)\n",
        "df3['table'].fillna(df3['table'].median(), inplace=True)\n",
        "df3['color'].fillna(\"G\", inplace=True)"
      ]
    },
    {
      "cell_type": "code",
      "execution_count": 27,
      "metadata": {
        "colab": {
          "base_uri": "https://localhost:8080/"
        },
        "id": "WgmnvdD76Ngg",
        "outputId": "dd02e8a6-9a89-4b4d-8c36-a7edefc6394f"
      },
      "outputs": [
        {
          "data": {
            "text/plain": [
              "carat        0\n",
              "cut          0\n",
              "color        0\n",
              "clarity      0\n",
              "table        0\n",
              "x            0\n",
              "y            0\n",
              "z            0\n",
              "price_new    0\n",
              "dtype: int64"
            ]
          },
          "execution_count": 27,
          "metadata": {},
          "output_type": "execute_result"
        }
      ],
      "source": [
        "df3.isna().sum()"
      ]
    },
    {
      "cell_type": "code",
      "execution_count": 28,
      "metadata": {
        "colab": {
          "base_uri": "https://localhost:8080/"
        },
        "id": "uMi7oaoM6TTh",
        "outputId": "80aa63a0-28a0-4702-a1fd-c06f88d68848"
      },
      "outputs": [
        {
          "data": {
            "text/plain": [
              "Index(['carat', 'cut', 'color', 'clarity', 'table', 'x', 'y', 'z',\n",
              "       'price_new'],\n",
              "      dtype='object')"
            ]
          },
          "execution_count": 28,
          "metadata": {},
          "output_type": "execute_result"
        }
      ],
      "source": [
        "df3.columns"
      ]
    },
    {
      "cell_type": "code",
      "execution_count": 29,
      "metadata": {
        "id": "vGE22FBh6Wzp"
      },
      "outputs": [],
      "source": [
        "y = df3['price_new']\n",
        "x = df3.drop(\"price_new\", axis=1)"
      ]
    },
    {
      "cell_type": "code",
      "execution_count": 30,
      "metadata": {
        "id": "gzofqLBC6gBP"
      },
      "outputs": [],
      "source": [
        "x = pd.get_dummies(x)"
      ]
    },
    {
      "cell_type": "code",
      "execution_count": 33,
      "metadata": {
        "id": "dNUwZsR77a-K"
      },
      "outputs": [],
      "source": [
        "from sklearn.preprocessing import MinMaxScaler\n",
        "from sklearn.model_selection import train_test_split\n"
      ]
    },
    {
      "cell_type": "code",
      "execution_count": 32,
      "metadata": {
        "id": "0aNOtjE87o2H"
      },
      "outputs": [],
      "source": [
        "mn = MinMaxScaler()\n",
        "x = mn.fit_transform(x)"
      ]
    },
    {
      "cell_type": "code",
      "execution_count": 34,
      "metadata": {
        "id": "5hImoCfO6_sF"
      },
      "outputs": [],
      "source": [
        "x_train, x_test, y_train , y_test = train_test_split(x, y, test_size=0.2, random_state= 134)"
      ]
    },
    {
      "cell_type": "code",
      "execution_count": 55,
      "metadata": {
        "id": "WShjGTVA77lF"
      },
      "outputs": [],
      "source": [
        "from tensorflow.keras.models import Sequential\n",
        "from tensorflow.keras.layers import Dense, Dropout"
      ]
    },
    {
      "cell_type": "code",
      "execution_count": 36,
      "metadata": {
        "colab": {
          "base_uri": "https://localhost:8080/"
        },
        "id": "hu9hfjpK8TUT",
        "outputId": "208a78a5-4e42-4db8-aceb-b05f38981e0a"
      },
      "outputs": [
        {
          "data": {
            "text/plain": [
              "(53929, 25)"
            ]
          },
          "execution_count": 36,
          "metadata": {},
          "output_type": "execute_result"
        }
      ],
      "source": [
        "x.shape"
      ]
    },
    {
      "cell_type": "code",
      "execution_count": 51,
      "metadata": {
        "id": "faFZJo9d8ICB"
      },
      "outputs": [],
      "source": [
        "### input = 25, hidden1 = 32, hidden2 = 16, hidden3 = 8, output = 1"
      ]
    },
    {
      "cell_type": "code",
      "execution_count": 44,
      "metadata": {
        "colab": {
          "base_uri": "https://localhost:8080/"
        },
        "id": "3C6v_62I8cGT",
        "outputId": "a7e25f34-d965-49e0-bad4-3dda12cda1f2"
      },
      "outputs": [
        {
          "name": "stdout",
          "output_type": "stream",
          "text": [
            "Model: \"sequential_2\"\n",
            "_________________________________________________________________\n",
            " Layer (type)                Output Shape              Param #   \n",
            "=================================================================\n",
            " dense_8 (Dense)             (None, 32)                832       \n",
            "                                                                 \n",
            " dense_9 (Dense)             (None, 16)                528       \n",
            "                                                                 \n",
            " dense_10 (Dense)            (None, 8)                 136       \n",
            "                                                                 \n",
            " dense_11 (Dense)            (None, 1)                 9         \n",
            "                                                                 \n",
            "=================================================================\n",
            "Total params: 1,505\n",
            "Trainable params: 1,505\n",
            "Non-trainable params: 0\n",
            "_________________________________________________________________\n"
          ]
        }
      ],
      "source": [
        "model1 = Sequential()\n",
        "model1.add(Dense(32, activation = \"relu\", input_shape = (25,)))\n",
        "model1.add(Dense(16, activation = \"relu\"))\n",
        "model1.add(Dense(8, activation = \"relu\"))\n",
        "model1.add(Dense(1, activation = None))\n",
        "model1.summary()"
      ]
    },
    {
      "cell_type": "code",
      "execution_count": 45,
      "metadata": {
        "id": "1fsivmra9CDJ"
      },
      "outputs": [],
      "source": [
        "model1.compile(optimizer = \"sgd\", loss = \"mean_squared_error\", metrics = [\"mean_squared_error\"])"
      ]
    },
    {
      "cell_type": "code",
      "execution_count": 46,
      "metadata": {
        "colab": {
          "base_uri": "https://localhost:8080/"
        },
        "id": "bI-Nx4x09NrR",
        "outputId": "cceb74ef-37df-4dea-d703-f4866a68587a"
      },
      "outputs": [
        {
          "name": "stdout",
          "output_type": "stream",
          "text": [
            "Epoch 1/10\n",
            "338/338 [==============================] - 1s 2ms/step - loss: 6928083.0000 - mean_squared_error: 6928083.0000\n",
            "Epoch 2/10\n",
            "338/338 [==============================] - 1s 2ms/step - loss: 3997926.5000 - mean_squared_error: 3997926.5000\n",
            "Epoch 3/10\n",
            "338/338 [==============================] - 0s 1ms/step - loss: 3997847.5000 - mean_squared_error: 3997847.5000\n",
            "Epoch 4/10\n",
            "338/338 [==============================] - 0s 1ms/step - loss: 3998057.5000 - mean_squared_error: 3998057.5000\n",
            "Epoch 5/10\n",
            "338/338 [==============================] - 1s 1ms/step - loss: 3998105.5000 - mean_squared_error: 3998105.5000\n",
            "Epoch 6/10\n",
            "338/338 [==============================] - 0s 1ms/step - loss: 3998069.0000 - mean_squared_error: 3998069.0000\n",
            "Epoch 7/10\n",
            "338/338 [==============================] - 0s 1ms/step - loss: 3998076.2500 - mean_squared_error: 3998076.2500\n",
            "Epoch 8/10\n",
            "338/338 [==============================] - 0s 1ms/step - loss: 3998290.7500 - mean_squared_error: 3998290.7500\n",
            "Epoch 9/10\n",
            "338/338 [==============================] - 0s 1ms/step - loss: 3997911.2500 - mean_squared_error: 3997911.2500\n",
            "Epoch 10/10\n",
            "338/338 [==============================] - 0s 1ms/step - loss: 3998010.7500 - mean_squared_error: 3998010.7500\n"
          ]
        },
        {
          "data": {
            "text/plain": [
              "<keras.callbacks.History at 0x7f5f9850a230>"
            ]
          },
          "execution_count": 46,
          "metadata": {},
          "output_type": "execute_result"
        }
      ],
      "source": [
        "model1.fit(x_train, y_train, epochs = 10, batch_size = 128)"
      ]
    },
    {
      "cell_type": "code",
      "execution_count": 47,
      "metadata": {
        "colab": {
          "base_uri": "https://localhost:8080/"
        },
        "id": "DWZw9Gtr9V-9",
        "outputId": "75a77d74-a4a2-4722-f73c-af34cce82d6b"
      },
      "outputs": [
        {
          "name": "stdout",
          "output_type": "stream",
          "text": [
            "338/338 [==============================] - 1s 2ms/step - loss: 3896237.0000 - mean_squared_error: 3896237.0000\n"
          ]
        },
        {
          "data": {
            "text/plain": [
              "[3896237.0, 3896237.0]"
            ]
          },
          "execution_count": 47,
          "metadata": {},
          "output_type": "execute_result"
        }
      ],
      "source": [
        "model1.evaluate(x_test, y_test)"
      ]
    },
    {
      "cell_type": "markdown",
      "metadata": {
        "id": "vT8hg_ZR9u3Y"
      },
      "source": [
        "model2 "
      ]
    },
    {
      "cell_type": "code",
      "execution_count": 53,
      "metadata": {
        "id": "3H6-DPxf9i7j"
      },
      "outputs": [],
      "source": [
        "model2 = Sequential()\n",
        "model2.add(Dense(64, input_shape = (25,), activation = \"relu\"))\n",
        "model2.add(Dense(64, activation = \"relu\"))\n",
        "model2.add(Dense(64, activation = \"relu\"))\n",
        "model2.add(Dense(64, activation = \"relu\"))\n",
        "model2.add(Dense(64, activation = \"relu\"))\n",
        "model2.add(Dense(64, activation = \"relu\"))\n",
        "model2.add(Dense(64, activation = \"relu\"))\n",
        "model2.add(Dense(1, activation = None))"
      ]
    },
    {
      "cell_type": "code",
      "execution_count": 54,
      "metadata": {
        "id": "WQKPJ5t1-LRs"
      },
      "outputs": [
        {
          "name": "stdout",
          "output_type": "stream",
          "text": [
            "Epoch 1/30\n",
            "338/338 [==============================] - 2s 3ms/step - loss: nan - mean_squared_error: nan\n",
            "Epoch 2/30\n",
            "338/338 [==============================] - 1s 2ms/step - loss: nan - mean_squared_error: nan\n",
            "Epoch 3/30\n",
            "338/338 [==============================] - 1s 2ms/step - loss: nan - mean_squared_error: nan\n",
            "Epoch 4/30\n",
            "338/338 [==============================] - 1s 2ms/step - loss: nan - mean_squared_error: nan\n",
            "Epoch 5/30\n",
            "338/338 [==============================] - 1s 2ms/step - loss: nan - mean_squared_error: nan\n",
            "Epoch 6/30\n",
            "338/338 [==============================] - 1s 2ms/step - loss: nan - mean_squared_error: nan\n",
            "Epoch 7/30\n",
            "338/338 [==============================] - 1s 2ms/step - loss: nan - mean_squared_error: nan\n",
            "Epoch 8/30\n",
            "338/338 [==============================] - 1s 2ms/step - loss: nan - mean_squared_error: nan\n",
            "Epoch 9/30\n",
            "338/338 [==============================] - 1s 2ms/step - loss: nan - mean_squared_error: nan\n",
            "Epoch 10/30\n",
            "338/338 [==============================] - 1s 2ms/step - loss: nan - mean_squared_error: nan\n",
            "Epoch 11/30\n",
            "338/338 [==============================] - 1s 2ms/step - loss: nan - mean_squared_error: nan\n",
            "Epoch 12/30\n",
            "338/338 [==============================] - 1s 2ms/step - loss: nan - mean_squared_error: nan\n",
            "Epoch 13/30\n",
            "338/338 [==============================] - 1s 2ms/step - loss: nan - mean_squared_error: nan\n",
            "Epoch 14/30\n",
            "338/338 [==============================] - 1s 2ms/step - loss: nan - mean_squared_error: nan\n",
            "Epoch 15/30\n",
            "338/338 [==============================] - 1s 2ms/step - loss: nan - mean_squared_error: nan\n",
            "Epoch 16/30\n",
            "338/338 [==============================] - 1s 2ms/step - loss: nan - mean_squared_error: nan\n",
            "Epoch 17/30\n",
            "338/338 [==============================] - 1s 2ms/step - loss: nan - mean_squared_error: nan\n",
            "Epoch 18/30\n",
            "338/338 [==============================] - 1s 2ms/step - loss: nan - mean_squared_error: nan\n",
            "Epoch 19/30\n",
            "338/338 [==============================] - 1s 2ms/step - loss: nan - mean_squared_error: nan\n",
            "Epoch 20/30\n",
            "338/338 [==============================] - 1s 2ms/step - loss: nan - mean_squared_error: nan\n",
            "Epoch 21/30\n",
            "338/338 [==============================] - 1s 2ms/step - loss: nan - mean_squared_error: nan\n",
            "Epoch 22/30\n",
            "338/338 [==============================] - 1s 2ms/step - loss: nan - mean_squared_error: nan\n",
            "Epoch 23/30\n",
            "338/338 [==============================] - 1s 2ms/step - loss: nan - mean_squared_error: nan\n",
            "Epoch 24/30\n",
            "338/338 [==============================] - 1s 2ms/step - loss: nan - mean_squared_error: nan\n",
            "Epoch 25/30\n",
            "338/338 [==============================] - 1s 2ms/step - loss: nan - mean_squared_error: nan\n",
            "Epoch 26/30\n",
            "338/338 [==============================] - 1s 2ms/step - loss: nan - mean_squared_error: nan\n",
            "Epoch 27/30\n",
            "338/338 [==============================] - 1s 2ms/step - loss: nan - mean_squared_error: nan\n",
            "Epoch 28/30\n",
            "338/338 [==============================] - 1s 2ms/step - loss: nan - mean_squared_error: nan\n",
            "Epoch 29/30\n",
            "338/338 [==============================] - 1s 2ms/step - loss: nan - mean_squared_error: nan\n",
            "Epoch 30/30\n",
            "338/338 [==============================] - 1s 2ms/step - loss: nan - mean_squared_error: nan\n"
          ]
        },
        {
          "data": {
            "text/plain": [
              "<keras.callbacks.History at 0x7f5f74768b80>"
            ]
          },
          "execution_count": 54,
          "metadata": {},
          "output_type": "execute_result"
        }
      ],
      "source": [
        "model2.compile(optimizer = \"sgd\", loss = \"mean_squared_error\", metrics = [\"mean_squared_error\"])\n",
        "model2.fit(x_train, y_train, epochs = 30, batch_size = 128)"
      ]
    },
    {
      "attachments": {},
      "cell_type": "markdown",
      "metadata": {},
      "source": [
        "Model 3"
      ]
    },
    {
      "cell_type": "code",
      "execution_count": 56,
      "metadata": {
        "id": "E9e_uHa3-mJ0"
      },
      "outputs": [],
      "source": [
        "model3 = Sequential()\n",
        "model3.add(Dense(128, input_shape = (25,), activation = \"relu\"))\n",
        "model3.add(Dense(128, activation = \"relu\"))\n",
        "model3.add(Dropout(0.15))\n",
        "model3.add(Dense(128, activation = \"relu\"))\n",
        "model3.add(Dropout(0.15))\n",
        "model3.add(Dense(64, activation = \"relu\"))\n",
        "model3.add(Dropout(0.15))\n",
        "model3.add(Dense(64, activation = \"relu\"))\n",
        "model3.add(Dropout(0.15))\n",
        "model3.add(Dense(32, activation = \"relu\"))\n",
        "model3.add(Dense(16, activation = \"relu\"))\n",
        "model3.add(Dense(1, activation = None))"
      ]
    },
    {
      "cell_type": "code",
      "execution_count": 57,
      "metadata": {
        "id": "BycHT5Qg_s0f"
      },
      "outputs": [
        {
          "name": "stdout",
          "output_type": "stream",
          "text": [
            "Epoch 1/30\n",
            "338/338 [==============================] - 2s 4ms/step - loss: 1961572.0000 - mean_squared_error: 1961572.0000\n",
            "Epoch 2/30\n",
            "338/338 [==============================] - 1s 4ms/step - loss: 224062.7188 - mean_squared_error: 224062.7188\n",
            "Epoch 3/30\n",
            "338/338 [==============================] - 1s 3ms/step - loss: 201713.5625 - mean_squared_error: 201713.5625\n",
            "Epoch 4/30\n",
            "338/338 [==============================] - 1s 3ms/step - loss: 196894.2969 - mean_squared_error: 196894.2969\n",
            "Epoch 5/30\n",
            "338/338 [==============================] - 1s 3ms/step - loss: 188862.1406 - mean_squared_error: 188862.1406\n",
            "Epoch 6/30\n",
            "338/338 [==============================] - 1s 3ms/step - loss: 189540.8125 - mean_squared_error: 189540.8125\n",
            "Epoch 7/30\n",
            "338/338 [==============================] - 1s 4ms/step - loss: 186781.4062 - mean_squared_error: 186781.4062\n",
            "Epoch 8/30\n",
            "338/338 [==============================] - 1s 4ms/step - loss: 182298.6719 - mean_squared_error: 182298.6719\n",
            "Epoch 9/30\n",
            "338/338 [==============================] - 1s 4ms/step - loss: 182601.4062 - mean_squared_error: 182601.4062\n",
            "Epoch 10/30\n",
            "338/338 [==============================] - 1s 3ms/step - loss: 174120.9688 - mean_squared_error: 174120.9688\n",
            "Epoch 11/30\n",
            "338/338 [==============================] - 1s 3ms/step - loss: 180378.3750 - mean_squared_error: 180378.3750\n",
            "Epoch 12/30\n",
            "338/338 [==============================] - 1s 3ms/step - loss: 170106.7500 - mean_squared_error: 170106.7500\n",
            "Epoch 13/30\n",
            "338/338 [==============================] - 1s 3ms/step - loss: 169452.3281 - mean_squared_error: 169452.3281\n",
            "Epoch 14/30\n",
            "338/338 [==============================] - 1s 3ms/step - loss: 161549.8125 - mean_squared_error: 161549.8125\n",
            "Epoch 15/30\n",
            "338/338 [==============================] - 1s 3ms/step - loss: 160850.1875 - mean_squared_error: 160850.1875\n",
            "Epoch 16/30\n",
            "338/338 [==============================] - 1s 3ms/step - loss: 161040.7500 - mean_squared_error: 161040.7500\n",
            "Epoch 17/30\n",
            "338/338 [==============================] - 1s 3ms/step - loss: 159773.5781 - mean_squared_error: 159773.5781\n",
            "Epoch 18/30\n",
            "338/338 [==============================] - 1s 4ms/step - loss: 159825.1094 - mean_squared_error: 159825.1094\n",
            "Epoch 19/30\n",
            "338/338 [==============================] - 1s 3ms/step - loss: 154408.5625 - mean_squared_error: 154408.5625\n",
            "Epoch 20/30\n",
            "338/338 [==============================] - 1s 3ms/step - loss: 155488.4844 - mean_squared_error: 155488.4844\n",
            "Epoch 21/30\n",
            "338/338 [==============================] - 1s 4ms/step - loss: 159862.5312 - mean_squared_error: 159862.5312\n",
            "Epoch 22/30\n",
            "338/338 [==============================] - 1s 3ms/step - loss: 150800.1406 - mean_squared_error: 150800.1406\n",
            "Epoch 23/30\n",
            "338/338 [==============================] - 1s 3ms/step - loss: 149305.2500 - mean_squared_error: 149305.2500\n",
            "Epoch 24/30\n",
            "338/338 [==============================] - 1s 3ms/step - loss: 144963.6875 - mean_squared_error: 144963.6875\n",
            "Epoch 25/30\n",
            "338/338 [==============================] - 1s 3ms/step - loss: 146457.3906 - mean_squared_error: 146457.3906\n",
            "Epoch 26/30\n",
            "338/338 [==============================] - 1s 3ms/step - loss: 144609.7969 - mean_squared_error: 144609.7969\n",
            "Epoch 27/30\n",
            "338/338 [==============================] - 1s 3ms/step - loss: 142298.2656 - mean_squared_error: 142298.2656\n",
            "Epoch 28/30\n",
            "338/338 [==============================] - 1s 3ms/step - loss: 140588.9375 - mean_squared_error: 140588.9375\n",
            "Epoch 29/30\n",
            "338/338 [==============================] - 1s 3ms/step - loss: 138646.9531 - mean_squared_error: 138646.9531\n",
            "Epoch 30/30\n",
            "338/338 [==============================] - 1s 3ms/step - loss: 139298.5625 - mean_squared_error: 139298.5625\n"
          ]
        },
        {
          "data": {
            "text/plain": [
              "<keras.callbacks.History at 0x7f5f746763b0>"
            ]
          },
          "execution_count": 57,
          "metadata": {},
          "output_type": "execute_result"
        }
      ],
      "source": [
        "model3.compile(optimizer = \"adam\", loss = \"mean_squared_error\", metrics = [\"mean_squared_error\"])\n",
        "model3.fit(x_train, y_train, epochs = 30, batch_size = 128)"
      ]
    },
    {
      "cell_type": "code",
      "execution_count": 65,
      "metadata": {
        "colab": {
          "base_uri": "https://localhost:8080/"
        },
        "id": "2NhvGvFmAHvl",
        "outputId": "937c34a6-1985-4731-d066-60411d531afb"
      },
      "outputs": [
        {
          "name": "stdout",
          "output_type": "stream",
          "text": [
            "338/338 [==============================] - 1s 2ms/step - loss: 365414.7500 - mean_squared_error: 365414.7500\n"
          ]
        },
        {
          "data": {
            "text/plain": [
              "[365414.75, 365414.75]"
            ]
          },
          "execution_count": 65,
          "metadata": {},
          "output_type": "execute_result"
        }
      ],
      "source": [
        "model3.evaluate(x_test, y_test)"
      ]
    },
    {
      "cell_type": "code",
      "execution_count": 51,
      "metadata": {
        "id": "8yddVjY1AtN8"
      },
      "outputs": [],
      "source": [
        "from sklearn.linear_model import LinearRegression\n",
        "from sklearn.metrics import mean_squared_error"
      ]
    },
    {
      "cell_type": "code",
      "execution_count": 49,
      "metadata": {
        "id": "zxcusg0qA3Wi"
      },
      "outputs": [
        {
          "data": {
            "text/html": [
              "<style>#sk-container-id-1 {color: black;background-color: white;}#sk-container-id-1 pre{padding: 0;}#sk-container-id-1 div.sk-toggleable {background-color: white;}#sk-container-id-1 label.sk-toggleable__label {cursor: pointer;display: block;width: 100%;margin-bottom: 0;padding: 0.3em;box-sizing: border-box;text-align: center;}#sk-container-id-1 label.sk-toggleable__label-arrow:before {content: \"▸\";float: left;margin-right: 0.25em;color: #696969;}#sk-container-id-1 label.sk-toggleable__label-arrow:hover:before {color: black;}#sk-container-id-1 div.sk-estimator:hover label.sk-toggleable__label-arrow:before {color: black;}#sk-container-id-1 div.sk-toggleable__content {max-height: 0;max-width: 0;overflow: hidden;text-align: left;background-color: #f0f8ff;}#sk-container-id-1 div.sk-toggleable__content pre {margin: 0.2em;color: black;border-radius: 0.25em;background-color: #f0f8ff;}#sk-container-id-1 input.sk-toggleable__control:checked~div.sk-toggleable__content {max-height: 200px;max-width: 100%;overflow: auto;}#sk-container-id-1 input.sk-toggleable__control:checked~label.sk-toggleable__label-arrow:before {content: \"▾\";}#sk-container-id-1 div.sk-estimator input.sk-toggleable__control:checked~label.sk-toggleable__label {background-color: #d4ebff;}#sk-container-id-1 div.sk-label input.sk-toggleable__control:checked~label.sk-toggleable__label {background-color: #d4ebff;}#sk-container-id-1 input.sk-hidden--visually {border: 0;clip: rect(1px 1px 1px 1px);clip: rect(1px, 1px, 1px, 1px);height: 1px;margin: -1px;overflow: hidden;padding: 0;position: absolute;width: 1px;}#sk-container-id-1 div.sk-estimator {font-family: monospace;background-color: #f0f8ff;border: 1px dotted black;border-radius: 0.25em;box-sizing: border-box;margin-bottom: 0.5em;}#sk-container-id-1 div.sk-estimator:hover {background-color: #d4ebff;}#sk-container-id-1 div.sk-parallel-item::after {content: \"\";width: 100%;border-bottom: 1px solid gray;flex-grow: 1;}#sk-container-id-1 div.sk-label:hover label.sk-toggleable__label {background-color: #d4ebff;}#sk-container-id-1 div.sk-serial::before {content: \"\";position: absolute;border-left: 1px solid gray;box-sizing: border-box;top: 0;bottom: 0;left: 50%;z-index: 0;}#sk-container-id-1 div.sk-serial {display: flex;flex-direction: column;align-items: center;background-color: white;padding-right: 0.2em;padding-left: 0.2em;position: relative;}#sk-container-id-1 div.sk-item {position: relative;z-index: 1;}#sk-container-id-1 div.sk-parallel {display: flex;align-items: stretch;justify-content: center;background-color: white;position: relative;}#sk-container-id-1 div.sk-item::before, #sk-container-id-1 div.sk-parallel-item::before {content: \"\";position: absolute;border-left: 1px solid gray;box-sizing: border-box;top: 0;bottom: 0;left: 50%;z-index: -1;}#sk-container-id-1 div.sk-parallel-item {display: flex;flex-direction: column;z-index: 1;position: relative;background-color: white;}#sk-container-id-1 div.sk-parallel-item:first-child::after {align-self: flex-end;width: 50%;}#sk-container-id-1 div.sk-parallel-item:last-child::after {align-self: flex-start;width: 50%;}#sk-container-id-1 div.sk-parallel-item:only-child::after {width: 0;}#sk-container-id-1 div.sk-dashed-wrapped {border: 1px dashed gray;margin: 0 0.4em 0.5em 0.4em;box-sizing: border-box;padding-bottom: 0.4em;background-color: white;}#sk-container-id-1 div.sk-label label {font-family: monospace;font-weight: bold;display: inline-block;line-height: 1.2em;}#sk-container-id-1 div.sk-label-container {text-align: center;}#sk-container-id-1 div.sk-container {/* jupyter's `normalize.less` sets `[hidden] { display: none; }` but bootstrap.min.css set `[hidden] { display: none !important; }` so we also need the `!important` here to be able to override the default hidden behavior on the sphinx rendered scikit-learn.org. See: https://github.com/scikit-learn/scikit-learn/issues/21755 */display: inline-block !important;position: relative;}#sk-container-id-1 div.sk-text-repr-fallback {display: none;}</style><div id=\"sk-container-id-1\" class=\"sk-top-container\"><div class=\"sk-text-repr-fallback\"><pre>LinearRegression()</pre><b>In a Jupyter environment, please rerun this cell to show the HTML representation or trust the notebook. <br />On GitHub, the HTML representation is unable to render, please try loading this page with nbviewer.org.</b></div><div class=\"sk-container\" hidden><div class=\"sk-item\"><div class=\"sk-estimator sk-toggleable\"><input class=\"sk-toggleable__control sk-hidden--visually\" id=\"sk-estimator-id-1\" type=\"checkbox\" checked><label for=\"sk-estimator-id-1\" class=\"sk-toggleable__label sk-toggleable__label-arrow\">LinearRegression</label><div class=\"sk-toggleable__content\"><pre>LinearRegression()</pre></div></div></div></div></div>"
            ],
            "text/plain": [
              "LinearRegression()"
            ]
          },
          "execution_count": 49,
          "metadata": {},
          "output_type": "execute_result"
        }
      ],
      "source": [
        "lr = LinearRegression()\n",
        "lr.fit(x_train, y_train)"
      ]
    },
    {
      "cell_type": "code",
      "execution_count": 59,
      "metadata": {
        "id": "PpQXuHgqA8Gw"
      },
      "outputs": [
        {
          "data": {
            "text/plain": [
              "310612.43175525905"
            ]
          },
          "execution_count": 59,
          "metadata": {},
          "output_type": "execute_result"
        }
      ],
      "source": [
        "y_pred = lr.predict(x_test)\n",
        "mean_squared_error(y_test, y_pred)"
      ]
    },
    {
      "attachments": {},
      "cell_type": "markdown",
      "metadata": {},
      "source": [
        "### Assignment starts"
      ]
    },
    {
      "cell_type": "code",
      "execution_count": 60,
      "metadata": {},
      "outputs": [],
      "source": [
        "from tensorflow.keras.regularizers import l2"
      ]
    },
    {
      "attachments": {},
      "cell_type": "markdown",
      "metadata": {},
      "source": [
        "Model 4"
      ]
    },
    {
      "cell_type": "code",
      "execution_count": 75,
      "metadata": {},
      "outputs": [],
      "source": [
        "model4 = Sequential()\n",
        "model4.add(Dense(128, input_shape = (25,), activation = \"relu\", kernel_regularizer=l2(0.01)))\n",
        "model4.add(Dense(128, activation = \"relu\", kernel_regularizer=l2(0.01)))\n",
        "model4.add(Dropout(0.15))\n",
        "model4.add(Dense(128, activation = \"relu\", kernel_regularizer=l2(0.01)))\n",
        "model4.add(Dropout(0.15))\n",
        "model4.add(Dense(64, activation = \"relu\", kernel_regularizer=l2(0.01)))\n",
        "model4.add(Dropout(0.15))\n",
        "model4.add(Dense(64, activation = \"relu\", kernel_regularizer=l2(0.01)))\n",
        "model4.add(Dropout(0.15))\n",
        "model4.add(Dense(32, activation = \"relu\", kernel_regularizer=l2(0.01)))\n",
        "model4.add(Dropout(0.15))\n",
        "model4.add(Dense(16, activation = \"relu\", kernel_regularizer=l2(0.01)))\n",
        "model4.add(Dropout(0.15))\n",
        "model4.add(Dense(8, activation = \"relu\", kernel_regularizer=l2(0.01)))\n",
        "model4.add(Dropout(0.15))\n",
        "model4.add(Dense(1, activation = None))"
      ]
    },
    {
      "cell_type": "code",
      "execution_count": 76,
      "metadata": {},
      "outputs": [
        {
          "name": "stdout",
          "output_type": "stream",
          "text": [
            "Epoch 1/40\n",
            "338/338 [==============================] - 3s 4ms/step - loss: 2593237.0000 - mean_squared_error: 2593230.0000\n",
            "Epoch 2/40\n",
            "338/338 [==============================] - 1s 4ms/step - loss: 740962.3750 - mean_squared_error: 740955.8125\n",
            "Epoch 3/40\n",
            "338/338 [==============================] - 1s 4ms/step - loss: 653989.3125 - mean_squared_error: 653982.5625\n",
            "Epoch 4/40\n",
            "338/338 [==============================] - 1s 4ms/step - loss: 617622.6250 - mean_squared_error: 617615.7500\n",
            "Epoch 5/40\n",
            "338/338 [==============================] - 1s 4ms/step - loss: 601133.0000 - mean_squared_error: 601125.8750\n",
            "Epoch 6/40\n",
            "338/338 [==============================] - 1s 4ms/step - loss: 591350.1875 - mean_squared_error: 591343.4375\n",
            "Epoch 7/40\n",
            "338/338 [==============================] - 1s 4ms/step - loss: 592676.0000 - mean_squared_error: 592669.1250\n",
            "Epoch 8/40\n",
            "338/338 [==============================] - 1s 4ms/step - loss: 587990.8750 - mean_squared_error: 587984.0625\n",
            "Epoch 9/40\n",
            "338/338 [==============================] - 1s 4ms/step - loss: 578186.1250 - mean_squared_error: 578178.8750\n",
            "Epoch 10/40\n",
            "338/338 [==============================] - 1s 4ms/step - loss: 586174.4375 - mean_squared_error: 586167.7500\n",
            "Epoch 11/40\n",
            "338/338 [==============================] - 1s 4ms/step - loss: 579799.5625 - mean_squared_error: 579792.5625\n",
            "Epoch 12/40\n",
            "338/338 [==============================] - 1s 4ms/step - loss: 561765.6875 - mean_squared_error: 561758.9375\n",
            "Epoch 13/40\n",
            "338/338 [==============================] - 1s 4ms/step - loss: 576296.1875 - mean_squared_error: 576289.1250\n",
            "Epoch 14/40\n",
            "338/338 [==============================] - 1s 4ms/step - loss: 565319.4375 - mean_squared_error: 565312.8125\n",
            "Epoch 15/40\n",
            "338/338 [==============================] - 1s 4ms/step - loss: 572892.5000 - mean_squared_error: 572885.5000\n",
            "Epoch 16/40\n",
            "338/338 [==============================] - 1s 4ms/step - loss: 560417.0625 - mean_squared_error: 560410.1250\n",
            "Epoch 17/40\n",
            "338/338 [==============================] - 1s 4ms/step - loss: 561800.3750 - mean_squared_error: 561793.8125\n",
            "Epoch 18/40\n",
            "338/338 [==============================] - 1s 4ms/step - loss: 570017.0000 - mean_squared_error: 570010.1250\n",
            "Epoch 19/40\n",
            "338/338 [==============================] - 1s 4ms/step - loss: 585163.5625 - mean_squared_error: 585156.6250\n",
            "Epoch 20/40\n",
            "338/338 [==============================] - 1s 4ms/step - loss: 563322.4375 - mean_squared_error: 563315.0000\n",
            "Epoch 21/40\n",
            "338/338 [==============================] - 1s 4ms/step - loss: 579425.1875 - mean_squared_error: 579418.3125\n",
            "Epoch 22/40\n",
            "338/338 [==============================] - 1s 4ms/step - loss: 556163.1250 - mean_squared_error: 556156.2500\n",
            "Epoch 23/40\n",
            "338/338 [==============================] - 1s 4ms/step - loss: 554741.8125 - mean_squared_error: 554734.5000\n",
            "Epoch 24/40\n",
            "338/338 [==============================] - 1s 4ms/step - loss: 576694.1875 - mean_squared_error: 576687.1875\n",
            "Epoch 25/40\n",
            "338/338 [==============================] - 1s 4ms/step - loss: 554369.0000 - mean_squared_error: 554361.6250\n",
            "Epoch 26/40\n",
            "338/338 [==============================] - 1s 4ms/step - loss: 558433.6250 - mean_squared_error: 558426.2500\n",
            "Epoch 27/40\n",
            "338/338 [==============================] - 1s 4ms/step - loss: 562215.3750 - mean_squared_error: 562207.3750\n",
            "Epoch 28/40\n",
            "338/338 [==============================] - 1s 4ms/step - loss: 577776.5625 - mean_squared_error: 577768.8125\n",
            "Epoch 29/40\n",
            "338/338 [==============================] - 1s 4ms/step - loss: 558200.9375 - mean_squared_error: 558193.1250\n",
            "Epoch 30/40\n",
            "338/338 [==============================] - 1s 4ms/step - loss: 558926.4375 - mean_squared_error: 558918.7500\n",
            "Epoch 31/40\n",
            "338/338 [==============================] - 1s 4ms/step - loss: 552818.3125 - mean_squared_error: 552810.2500\n",
            "Epoch 32/40\n",
            "338/338 [==============================] - 1s 4ms/step - loss: 543654.2500 - mean_squared_error: 543646.1875\n",
            "Epoch 33/40\n",
            "338/338 [==============================] - 1s 4ms/step - loss: 543732.0000 - mean_squared_error: 543724.0000\n",
            "Epoch 34/40\n",
            "338/338 [==============================] - 1s 4ms/step - loss: 558204.8125 - mean_squared_error: 558196.2500\n",
            "Epoch 35/40\n",
            "338/338 [==============================] - 1s 4ms/step - loss: 557936.1250 - mean_squared_error: 557927.6250\n",
            "Epoch 36/40\n",
            "338/338 [==============================] - 1s 4ms/step - loss: 557689.7500 - mean_squared_error: 557680.4375\n",
            "Epoch 37/40\n",
            "338/338 [==============================] - 1s 4ms/step - loss: 545369.0625 - mean_squared_error: 545359.9375\n",
            "Epoch 38/40\n",
            "338/338 [==============================] - 1s 4ms/step - loss: 540261.1250 - mean_squared_error: 540251.7500\n",
            "Epoch 39/40\n",
            "338/338 [==============================] - 1s 4ms/step - loss: 541802.1875 - mean_squared_error: 541792.7500\n",
            "Epoch 40/40\n",
            "338/338 [==============================] - 1s 4ms/step - loss: 533093.1875 - mean_squared_error: 533083.1875\n"
          ]
        },
        {
          "data": {
            "text/plain": [
              "<keras.callbacks.History at 0x7f5f307c9f90>"
            ]
          },
          "execution_count": 76,
          "metadata": {},
          "output_type": "execute_result"
        }
      ],
      "source": [
        "model4.compile(optimizer = \"adam\", loss = \"mean_squared_error\", metrics = [\"mean_squared_error\"])\n",
        "model4.fit(x_train, y_train, epochs = 40, batch_size = 128)"
      ]
    },
    {
      "cell_type": "code",
      "execution_count": 77,
      "metadata": {},
      "outputs": [
        {
          "name": "stdout",
          "output_type": "stream",
          "text": [
            "338/338 [==============================] - 1s 2ms/step - loss: 145180.0625 - mean_squared_error: 145170.3438\n"
          ]
        },
        {
          "data": {
            "text/plain": [
              "[145180.0625, 145170.34375]"
            ]
          },
          "execution_count": 77,
          "metadata": {},
          "output_type": "execute_result"
        }
      ],
      "source": [
        "model4.evaluate(x_test, y_test)"
      ]
    }
  ],
  "metadata": {
    "accelerator": "GPU",
    "colab": {
      "provenance": []
    },
    "gpuClass": "standard",
    "kernelspec": {
      "display_name": "Python 3",
      "name": "python3"
    },
    "language_info": {
      "codemirror_mode": {
        "name": "ipython",
        "version": 3
      },
      "file_extension": ".py",
      "mimetype": "text/x-python",
      "name": "python",
      "nbconvert_exporter": "python",
      "pygments_lexer": "ipython3",
      "version": "3.10.6"
    }
  },
  "nbformat": 4,
  "nbformat_minor": 0
}
