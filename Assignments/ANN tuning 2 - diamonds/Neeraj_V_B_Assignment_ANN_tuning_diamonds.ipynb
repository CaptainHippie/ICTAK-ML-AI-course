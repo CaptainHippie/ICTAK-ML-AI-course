{
  "cells": [
    {
      "cell_type": "code",
      "execution_count": 45,
      "metadata": {
        "id": "NBIDZr3v1Nvv"
      },
      "outputs": [],
      "source": [
        "import pandas as pd\n",
        "import numpy as np\n",
        "import matplotlib.pyplot as plt"
      ]
    },
    {
      "cell_type": "code",
      "execution_count": 46,
      "metadata": {
        "id": "CcBi5z4n1t80"
      },
      "outputs": [
        {
          "data": {
            "text/html": [
              "<div>\n",
              "<style scoped>\n",
              "    .dataframe tbody tr th:only-of-type {\n",
              "        vertical-align: middle;\n",
              "    }\n",
              "\n",
              "    .dataframe tbody tr th {\n",
              "        vertical-align: top;\n",
              "    }\n",
              "\n",
              "    .dataframe thead th {\n",
              "        text-align: right;\n",
              "    }\n",
              "</style>\n",
              "<table border=\"1\" class=\"dataframe\">\n",
              "  <thead>\n",
              "    <tr style=\"text-align: right;\">\n",
              "      <th></th>\n",
              "      <th>carat</th>\n",
              "      <th>cut</th>\n",
              "      <th>color</th>\n",
              "      <th>clarity</th>\n",
              "      <th>table</th>\n",
              "      <th>x</th>\n",
              "      <th>y</th>\n",
              "      <th>z</th>\n",
              "      <th>price_new</th>\n",
              "    </tr>\n",
              "  </thead>\n",
              "  <tbody>\n",
              "    <tr>\n",
              "      <th>0</th>\n",
              "      <td>0.23</td>\n",
              "      <td>Ideal</td>\n",
              "      <td>E</td>\n",
              "      <td>SI2</td>\n",
              "      <td>55.0</td>\n",
              "      <td>3.95</td>\n",
              "      <td>3.98</td>\n",
              "      <td>2.43</td>\n",
              "      <td>163.0</td>\n",
              "    </tr>\n",
              "    <tr>\n",
              "      <th>1</th>\n",
              "      <td>0.21</td>\n",
              "      <td>Premium</td>\n",
              "      <td>E</td>\n",
              "      <td>SI1</td>\n",
              "      <td>61.0</td>\n",
              "      <td>3.89</td>\n",
              "      <td>3.84</td>\n",
              "      <td>2.31</td>\n",
              "      <td>163.0</td>\n",
              "    </tr>\n",
              "    <tr>\n",
              "      <th>2</th>\n",
              "      <td>0.23</td>\n",
              "      <td>Good</td>\n",
              "      <td>E</td>\n",
              "      <td>VS1</td>\n",
              "      <td>65.0</td>\n",
              "      <td>4.05</td>\n",
              "      <td>4.07</td>\n",
              "      <td>2.31</td>\n",
              "      <td>163.5</td>\n",
              "    </tr>\n",
              "    <tr>\n",
              "      <th>3</th>\n",
              "      <td>0.29</td>\n",
              "      <td>Premium</td>\n",
              "      <td>I</td>\n",
              "      <td>VS2</td>\n",
              "      <td>58.0</td>\n",
              "      <td>4.20</td>\n",
              "      <td>4.23</td>\n",
              "      <td>2.63</td>\n",
              "      <td>167.0</td>\n",
              "    </tr>\n",
              "    <tr>\n",
              "      <th>4</th>\n",
              "      <td>0.31</td>\n",
              "      <td>Good</td>\n",
              "      <td>J</td>\n",
              "      <td>SI2</td>\n",
              "      <td>58.0</td>\n",
              "      <td>4.34</td>\n",
              "      <td>4.35</td>\n",
              "      <td>2.75</td>\n",
              "      <td>167.5</td>\n",
              "    </tr>\n",
              "    <tr>\n",
              "      <th>5</th>\n",
              "      <td>0.24</td>\n",
              "      <td>Very Good</td>\n",
              "      <td>J</td>\n",
              "      <td>VVS2</td>\n",
              "      <td>57.0</td>\n",
              "      <td>3.94</td>\n",
              "      <td>3.96</td>\n",
              "      <td>2.48</td>\n",
              "      <td>168.0</td>\n",
              "    </tr>\n",
              "    <tr>\n",
              "      <th>6</th>\n",
              "      <td>0.24</td>\n",
              "      <td>Very Good</td>\n",
              "      <td>I</td>\n",
              "      <td>VVS1</td>\n",
              "      <td>57.0</td>\n",
              "      <td>3.95</td>\n",
              "      <td>3.98</td>\n",
              "      <td>2.47</td>\n",
              "      <td>168.0</td>\n",
              "    </tr>\n",
              "    <tr>\n",
              "      <th>7</th>\n",
              "      <td>0.26</td>\n",
              "      <td>Very Good</td>\n",
              "      <td>H</td>\n",
              "      <td>SI1</td>\n",
              "      <td>55.0</td>\n",
              "      <td>4.07</td>\n",
              "      <td>4.11</td>\n",
              "      <td>2.53</td>\n",
              "      <td>168.5</td>\n",
              "    </tr>\n",
              "    <tr>\n",
              "      <th>8</th>\n",
              "      <td>0.22</td>\n",
              "      <td>Fair</td>\n",
              "      <td>E</td>\n",
              "      <td>VS2</td>\n",
              "      <td>61.0</td>\n",
              "      <td>3.87</td>\n",
              "      <td>3.78</td>\n",
              "      <td>2.49</td>\n",
              "      <td>168.5</td>\n",
              "    </tr>\n",
              "    <tr>\n",
              "      <th>9</th>\n",
              "      <td>0.23</td>\n",
              "      <td>Very Good</td>\n",
              "      <td>H</td>\n",
              "      <td>VS1</td>\n",
              "      <td>61.0</td>\n",
              "      <td>4.00</td>\n",
              "      <td>4.05</td>\n",
              "      <td>2.39</td>\n",
              "      <td>169.0</td>\n",
              "    </tr>\n",
              "    <tr>\n",
              "      <th>10</th>\n",
              "      <td>0.30</td>\n",
              "      <td>Good</td>\n",
              "      <td>J</td>\n",
              "      <td>SI1</td>\n",
              "      <td>55.0</td>\n",
              "      <td>4.25</td>\n",
              "      <td>4.28</td>\n",
              "      <td>2.73</td>\n",
              "      <td>169.5</td>\n",
              "    </tr>\n",
              "    <tr>\n",
              "      <th>11</th>\n",
              "      <td>0.23</td>\n",
              "      <td>Ideal</td>\n",
              "      <td>J</td>\n",
              "      <td>VS1</td>\n",
              "      <td>56.0</td>\n",
              "      <td>3.93</td>\n",
              "      <td>3.90</td>\n",
              "      <td>2.46</td>\n",
              "      <td>170.0</td>\n",
              "    </tr>\n",
              "    <tr>\n",
              "      <th>12</th>\n",
              "      <td>0.22</td>\n",
              "      <td>Premium</td>\n",
              "      <td>F</td>\n",
              "      <td>SI1</td>\n",
              "      <td>61.0</td>\n",
              "      <td>3.88</td>\n",
              "      <td>3.84</td>\n",
              "      <td>2.33</td>\n",
              "      <td>171.0</td>\n",
              "    </tr>\n",
              "    <tr>\n",
              "      <th>13</th>\n",
              "      <td>0.31</td>\n",
              "      <td>Ideal</td>\n",
              "      <td>J</td>\n",
              "      <td>SI2</td>\n",
              "      <td>54.0</td>\n",
              "      <td>4.35</td>\n",
              "      <td>4.37</td>\n",
              "      <td>2.71</td>\n",
              "      <td>172.0</td>\n",
              "    </tr>\n",
              "    <tr>\n",
              "      <th>14</th>\n",
              "      <td>0.20</td>\n",
              "      <td>Premium</td>\n",
              "      <td>E</td>\n",
              "      <td>SI2</td>\n",
              "      <td>62.0</td>\n",
              "      <td>3.79</td>\n",
              "      <td>3.75</td>\n",
              "      <td>2.27</td>\n",
              "      <td>172.5</td>\n",
              "    </tr>\n",
              "    <tr>\n",
              "      <th>15</th>\n",
              "      <td>0.32</td>\n",
              "      <td>Premium</td>\n",
              "      <td>E</td>\n",
              "      <td>I1</td>\n",
              "      <td>58.0</td>\n",
              "      <td>4.38</td>\n",
              "      <td>4.42</td>\n",
              "      <td>2.68</td>\n",
              "      <td>172.5</td>\n",
              "    </tr>\n",
              "    <tr>\n",
              "      <th>16</th>\n",
              "      <td>0.30</td>\n",
              "      <td>Ideal</td>\n",
              "      <td>I</td>\n",
              "      <td>SI2</td>\n",
              "      <td>54.0</td>\n",
              "      <td>4.31</td>\n",
              "      <td>4.34</td>\n",
              "      <td>2.68</td>\n",
              "      <td>174.0</td>\n",
              "    </tr>\n",
              "    <tr>\n",
              "      <th>17</th>\n",
              "      <td>0.30</td>\n",
              "      <td>Good</td>\n",
              "      <td>J</td>\n",
              "      <td>SI1</td>\n",
              "      <td>54.0</td>\n",
              "      <td>4.23</td>\n",
              "      <td>4.29</td>\n",
              "      <td>2.70</td>\n",
              "      <td>175.5</td>\n",
              "    </tr>\n",
              "    <tr>\n",
              "      <th>18</th>\n",
              "      <td>0.30</td>\n",
              "      <td>Good</td>\n",
              "      <td>J</td>\n",
              "      <td>SI1</td>\n",
              "      <td>56.0</td>\n",
              "      <td>4.23</td>\n",
              "      <td>4.26</td>\n",
              "      <td>2.71</td>\n",
              "      <td>175.5</td>\n",
              "    </tr>\n",
              "  </tbody>\n",
              "</table>\n",
              "</div>"
            ],
            "text/plain": [
              "    carat        cut color clarity  table     x     y     z  price_new\n",
              "0    0.23      Ideal     E     SI2   55.0  3.95  3.98  2.43      163.0\n",
              "1    0.21    Premium     E     SI1   61.0  3.89  3.84  2.31      163.0\n",
              "2    0.23       Good     E     VS1   65.0  4.05  4.07  2.31      163.5\n",
              "3    0.29    Premium     I     VS2   58.0  4.20  4.23  2.63      167.0\n",
              "4    0.31       Good     J     SI2   58.0  4.34  4.35  2.75      167.5\n",
              "5    0.24  Very Good     J    VVS2   57.0  3.94  3.96  2.48      168.0\n",
              "6    0.24  Very Good     I    VVS1   57.0  3.95  3.98  2.47      168.0\n",
              "7    0.26  Very Good     H     SI1   55.0  4.07  4.11  2.53      168.5\n",
              "8    0.22       Fair     E     VS2   61.0  3.87  3.78  2.49      168.5\n",
              "9    0.23  Very Good     H     VS1   61.0  4.00  4.05  2.39      169.0\n",
              "10   0.30       Good     J     SI1   55.0  4.25  4.28  2.73      169.5\n",
              "11   0.23      Ideal     J     VS1   56.0  3.93  3.90  2.46      170.0\n",
              "12   0.22    Premium     F     SI1   61.0  3.88  3.84  2.33      171.0\n",
              "13   0.31      Ideal     J     SI2   54.0  4.35  4.37  2.71      172.0\n",
              "14   0.20    Premium     E     SI2   62.0  3.79  3.75  2.27      172.5\n",
              "15   0.32    Premium     E      I1   58.0  4.38  4.42  2.68      172.5\n",
              "16   0.30      Ideal     I     SI2   54.0  4.31  4.34  2.68      174.0\n",
              "17   0.30       Good     J     SI1   54.0  4.23  4.29  2.70      175.5\n",
              "18   0.30       Good     J     SI1   56.0  4.23  4.26  2.71      175.5"
            ]
          },
          "execution_count": 46,
          "metadata": {},
          "output_type": "execute_result"
        }
      ],
      "source": [
        "df = pd.read_csv(\"diamonds_new.csv\")\n",
        "df.head(19)"
      ]
    },
    {
      "cell_type": "code",
      "execution_count": 47,
      "metadata": {
        "colab": {
          "base_uri": "https://localhost:8080/"
        },
        "id": "sg_MvW-611vg",
        "outputId": "90aa009d-5b46-4a15-9c4b-acda1d8b0f84"
      },
      "outputs": [
        {
          "name": "stdout",
          "output_type": "stream",
          "text": [
            "<class 'pandas.core.frame.DataFrame'>\n",
            "RangeIndex: 53940 entries, 0 to 53939\n",
            "Data columns (total 9 columns):\n",
            " #   Column     Non-Null Count  Dtype  \n",
            "---  ------     --------------  -----  \n",
            " 0   carat      53841 non-null  float64\n",
            " 1   cut        53940 non-null  object \n",
            " 2   color      53884 non-null  object \n",
            " 3   clarity    53940 non-null  object \n",
            " 4   table      53877 non-null  float64\n",
            " 5   x          53940 non-null  float64\n",
            " 6   y          53940 non-null  float64\n",
            " 7   z          53940 non-null  float64\n",
            " 8   price_new  53940 non-null  float64\n",
            "dtypes: float64(6), object(3)\n",
            "memory usage: 3.7+ MB\n"
          ]
        }
      ],
      "source": [
        "df.info()"
      ]
    },
    {
      "cell_type": "code",
      "execution_count": 48,
      "metadata": {
        "colab": {
          "base_uri": "https://localhost:8080/"
        },
        "id": "JiB67XR13MKP",
        "outputId": "95268fee-f9e0-4894-f6a7-cd56ea1ae2b9"
      },
      "outputs": [
        {
          "data": {
            "text/plain": [
              "carat        99\n",
              "cut           0\n",
              "color        56\n",
              "clarity       0\n",
              "table        63\n",
              "x             0\n",
              "y             0\n",
              "z             0\n",
              "price_new     0\n",
              "dtype: int64"
            ]
          },
          "execution_count": 48,
          "metadata": {},
          "output_type": "execute_result"
        }
      ],
      "source": [
        "df.isna().sum()"
      ]
    },
    {
      "cell_type": "code",
      "execution_count": 49,
      "metadata": {
        "colab": {
          "base_uri": "https://localhost:8080/",
          "height": 265
        },
        "id": "gseHov533azw",
        "outputId": "b6a5ce1c-6e22-4c66-bb29-af35bcb23e78"
      },
      "outputs": [
        {
          "data": {
            "text/plain": [
              "<Axes: >"
            ]
          },
          "execution_count": 49,
          "metadata": {},
          "output_type": "execute_result"
        },
        {
          "data": {
            "image/png": "[encoded data removed]",
            "text/plain": [
              "<Figure size 640x480 with 1 Axes>"
            ]
          },
          "metadata": {},
          "output_type": "display_data"
        }
      ],
      "source": [
        "df['carat'].hist()"
      ]
    },
    {
      "cell_type": "code",
      "execution_count": 50,
      "metadata": {
        "colab": {
          "base_uri": "https://localhost:8080/",
          "height": 265
        },
        "id": "F1tB9pa-3e2D",
        "outputId": "212cde73-672e-446f-ff4e-15003ebe8fc2"
      },
      "outputs": [
        {
          "data": {
            "text/plain": [
              "<Axes: >"
            ]
          },
          "execution_count": 50,
          "metadata": {},
          "output_type": "execute_result"
        },
        {
          "data": {
            "image/png": "[encoded data removed]",
            "text/plain": [
              "<Figure size 640x480 with 1 Axes>"
            ]
          },
          "metadata": {},
          "output_type": "display_data"
        }
      ],
      "source": [
        "df['table'].hist()"
      ]
    },
    {
      "cell_type": "code",
      "execution_count": 51,
      "metadata": {
        "colab": {
          "base_uri": "https://localhost:8080/",
          "height": 300
        },
        "id": "L1BAK_W53kag",
        "outputId": "204f15b8-f8ac-41a2-8df9-086b1727d524"
      },
      "outputs": [
        {
          "data": {
            "text/html": [
              "<div>\n",
              "<style scoped>\n",
              "    .dataframe tbody tr th:only-of-type {\n",
              "        vertical-align: middle;\n",
              "    }\n",
              "\n",
              "    .dataframe tbody tr th {\n",
              "        vertical-align: top;\n",
              "    }\n",
              "\n",
              "    .dataframe thead th {\n",
              "        text-align: right;\n",
              "    }\n",
              "</style>\n",
              "<table border=\"1\" class=\"dataframe\">\n",
              "  <thead>\n",
              "    <tr style=\"text-align: right;\">\n",
              "      <th></th>\n",
              "      <th>carat</th>\n",
              "      <th>table</th>\n",
              "      <th>x</th>\n",
              "      <th>y</th>\n",
              "      <th>z</th>\n",
              "      <th>price_new</th>\n",
              "    </tr>\n",
              "  </thead>\n",
              "  <tbody>\n",
              "    <tr>\n",
              "      <th>count</th>\n",
              "      <td>53841.000000</td>\n",
              "      <td>53877.000000</td>\n",
              "      <td>53940.000000</td>\n",
              "      <td>53940.000000</td>\n",
              "      <td>53940.000000</td>\n",
              "      <td>53940.000000</td>\n",
              "    </tr>\n",
              "    <tr>\n",
              "      <th>mean</th>\n",
              "      <td>0.798120</td>\n",
              "      <td>57.457719</td>\n",
              "      <td>5.731157</td>\n",
              "      <td>5.734526</td>\n",
              "      <td>3.539635</td>\n",
              "      <td>1966.399861</td>\n",
              "    </tr>\n",
              "    <tr>\n",
              "      <th>std</th>\n",
              "      <td>0.474428</td>\n",
              "      <td>2.235742</td>\n",
              "      <td>1.121761</td>\n",
              "      <td>1.142135</td>\n",
              "      <td>0.703869</td>\n",
              "      <td>1994.719869</td>\n",
              "    </tr>\n",
              "    <tr>\n",
              "      <th>min</th>\n",
              "      <td>0.200000</td>\n",
              "      <td>43.000000</td>\n",
              "      <td>0.000000</td>\n",
              "      <td>0.000000</td>\n",
              "      <td>0.000000</td>\n",
              "      <td>163.000000</td>\n",
              "    </tr>\n",
              "    <tr>\n",
              "      <th>25%</th>\n",
              "      <td>0.400000</td>\n",
              "      <td>56.000000</td>\n",
              "      <td>4.710000</td>\n",
              "      <td>4.720000</td>\n",
              "      <td>2.910000</td>\n",
              "      <td>475.000000</td>\n",
              "    </tr>\n",
              "    <tr>\n",
              "      <th>50%</th>\n",
              "      <td>0.700000</td>\n",
              "      <td>57.000000</td>\n",
              "      <td>5.700000</td>\n",
              "      <td>5.710000</td>\n",
              "      <td>3.530000</td>\n",
              "      <td>1200.500000</td>\n",
              "    </tr>\n",
              "    <tr>\n",
              "      <th>75%</th>\n",
              "      <td>1.040000</td>\n",
              "      <td>59.000000</td>\n",
              "      <td>6.540000</td>\n",
              "      <td>6.540000</td>\n",
              "      <td>4.040000</td>\n",
              "      <td>2662.125000</td>\n",
              "    </tr>\n",
              "    <tr>\n",
              "      <th>max</th>\n",
              "      <td>5.010000</td>\n",
              "      <td>95.000000</td>\n",
              "      <td>10.740000</td>\n",
              "      <td>58.900000</td>\n",
              "      <td>31.800000</td>\n",
              "      <td>9411.500000</td>\n",
              "    </tr>\n",
              "  </tbody>\n",
              "</table>\n",
              "</div>"
            ],
            "text/plain": [
              "              carat         table             x             y             z   \n",
              "count  53841.000000  53877.000000  53940.000000  53940.000000  53940.000000  \\\n",
              "mean       0.798120     57.457719      5.731157      5.734526      3.539635   \n",
              "std        0.474428      2.235742      1.121761      1.142135      0.703869   \n",
              "min        0.200000     43.000000      0.000000      0.000000      0.000000   \n",
              "25%        0.400000     56.000000      4.710000      4.720000      2.910000   \n",
              "50%        0.700000     57.000000      5.700000      5.710000      3.530000   \n",
              "75%        1.040000     59.000000      6.540000      6.540000      4.040000   \n",
              "max        5.010000     95.000000     10.740000     58.900000     31.800000   \n",
              "\n",
              "          price_new  \n",
              "count  53940.000000  \n",
              "mean    1966.399861  \n",
              "std     1994.719869  \n",
              "min      163.000000  \n",
              "25%      475.000000  \n",
              "50%     1200.500000  \n",
              "75%     2662.125000  \n",
              "max     9411.500000  "
            ]
          },
          "execution_count": 51,
          "metadata": {},
          "output_type": "execute_result"
        }
      ],
      "source": [
        "df.describe()"
      ]
    },
    {
      "cell_type": "code",
      "execution_count": 52,
      "metadata": {
        "colab": {
          "base_uri": "https://localhost:8080/"
        },
        "id": "XW1SjMRn3q84",
        "outputId": "fd9fb60e-8cfc-46f1-eaeb-d5d117347e51"
      },
      "outputs": [
        {
          "data": {
            "text/plain": [
              "Index([11182, 11963, 15951, 24520, 26243, 27429, 49556, 49557], dtype='int64')"
            ]
          },
          "execution_count": 52,
          "metadata": {},
          "output_type": "execute_result"
        }
      ],
      "source": [
        "df[(df['x']==0) | (df['y']==0) | (df['z']==0)].index"
      ]
    },
    {
      "cell_type": "code",
      "execution_count": 53,
      "metadata": {
        "id": "W15ZK9DV4HAa"
      },
      "outputs": [],
      "source": [
        "df2 = df.drop([11182, 11963, 15951, 24520, 26243, 27429, 49556, 49557])"
      ]
    },
    {
      "cell_type": "code",
      "execution_count": 54,
      "metadata": {
        "colab": {
          "base_uri": "https://localhost:8080/",
          "height": 265
        },
        "id": "m0dp8Jiw4ZGa",
        "outputId": "5110b964-e6fe-4c3c-a766-bfea4cfa7dc4"
      },
      "outputs": [
        {
          "data": {
            "image/png": "[encoded data removed]",
            "text/plain": [
              "<Figure size 640x480 with 1 Axes>"
            ]
          },
          "metadata": {},
          "output_type": "display_data"
        }
      ],
      "source": [
        "plt.scatter(df2['y'], df2['z'])\n",
        "plt.show()"
      ]
    },
    {
      "cell_type": "code",
      "execution_count": 55,
      "metadata": {
        "colab": {
          "base_uri": "https://localhost:8080/",
          "height": 265
        },
        "id": "uvGq9Vlo4m2C",
        "outputId": "a88202a8-ec43-4d0a-c864-d9d5d1825dae"
      },
      "outputs": [
        {
          "data": {
            "image/png": "[encoded data removed]",
            "text/plain": [
              "<Figure size 640x480 with 1 Axes>"
            ]
          },
          "metadata": {},
          "output_type": "display_data"
        }
      ],
      "source": [
        "plt.boxplot(df2['z'])\n",
        "plt.show()"
      ]
    },
    {
      "cell_type": "code",
      "execution_count": 56,
      "metadata": {
        "colab": {
          "base_uri": "https://localhost:8080/"
        },
        "id": "gyvdXDG14z9A",
        "outputId": "0540de87-55ef-4082-eb9b-5b7871825215"
      },
      "outputs": [
        {
          "data": {
            "text/plain": [
              "Index([24067, 48410, 49189], dtype='int64')"
            ]
          },
          "execution_count": 56,
          "metadata": {},
          "output_type": "execute_result"
        }
      ],
      "source": [
        "df2[(df2['y'] > 15) | (df2['z'] > 15)].index"
      ]
    },
    {
      "cell_type": "code",
      "execution_count": 57,
      "metadata": {
        "id": "3ps3qguq5DH6"
      },
      "outputs": [],
      "source": [
        "df3 = df2.drop([24067, 48410, 49189])"
      ]
    },
    {
      "cell_type": "code",
      "execution_count": 58,
      "metadata": {
        "colab": {
          "base_uri": "https://localhost:8080/"
        },
        "id": "yTGh05NW5iL0",
        "outputId": "9b971954-5b36-40a9-c6a1-99b2021f4998"
      },
      "outputs": [
        {
          "data": {
            "text/plain": [
              "carat        99\n",
              "cut           0\n",
              "color        56\n",
              "clarity       0\n",
              "table        63\n",
              "x             0\n",
              "y             0\n",
              "z             0\n",
              "price_new     0\n",
              "dtype: int64"
            ]
          },
          "execution_count": 58,
          "metadata": {},
          "output_type": "execute_result"
        }
      ],
      "source": [
        "df3.isna().sum()"
      ]
    },
    {
      "cell_type": "code",
      "execution_count": 59,
      "metadata": {
        "id": "2evRR_0E5l2F"
      },
      "outputs": [],
      "source": [
        "df3['carat'].fillna(df3['carat'].median(), inplace=True)\n",
        "df3['table'].fillna(df3['table'].median(), inplace=True)\n",
        "df3['color'].fillna(\"G\", inplace=True)"
      ]
    },
    {
      "cell_type": "code",
      "execution_count": 60,
      "metadata": {
        "colab": {
          "base_uri": "https://localhost:8080/"
        },
        "id": "WgmnvdD76Ngg",
        "outputId": "dd02e8a6-9a89-4b4d-8c36-a7edefc6394f"
      },
      "outputs": [
        {
          "data": {
            "text/plain": [
              "carat        0\n",
              "cut          0\n",
              "color        0\n",
              "clarity      0\n",
              "table        0\n",
              "x            0\n",
              "y            0\n",
              "z            0\n",
              "price_new    0\n",
              "dtype: int64"
            ]
          },
          "execution_count": 60,
          "metadata": {},
          "output_type": "execute_result"
        }
      ],
      "source": [
        "df3.isna().sum()"
      ]
    },
    {
      "cell_type": "code",
      "execution_count": 61,
      "metadata": {
        "colab": {
          "base_uri": "https://localhost:8080/"
        },
        "id": "uMi7oaoM6TTh",
        "outputId": "80aa63a0-28a0-4702-a1fd-c06f88d68848"
      },
      "outputs": [
        {
          "data": {
            "text/plain": [
              "Index(['carat', 'cut', 'color', 'clarity', 'table', 'x', 'y', 'z',\n",
              "       'price_new'],\n",
              "      dtype='object')"
            ]
          },
          "execution_count": 61,
          "metadata": {},
          "output_type": "execute_result"
        }
      ],
      "source": [
        "df3.columns"
      ]
    },
    {
      "cell_type": "code",
      "execution_count": 62,
      "metadata": {
        "id": "vGE22FBh6Wzp"
      },
      "outputs": [],
      "source": [
        "y = df3['price_new']\n",
        "x = df3.drop(\"price_new\", axis=1)"
      ]
    },
    {
      "cell_type": "code",
      "execution_count": 63,
      "metadata": {
        "id": "gzofqLBC6gBP"
      },
      "outputs": [],
      "source": [
        "x = pd.get_dummies(x)"
      ]
    },
    {
      "cell_type": "code",
      "execution_count": 64,
      "metadata": {
        "id": "dNUwZsR77a-K"
      },
      "outputs": [],
      "source": [
        "from sklearn.preprocessing import MinMaxScaler\n",
        "from sklearn.model_selection import train_test_split\n"
      ]
    },
    {
      "cell_type": "code",
      "execution_count": 65,
      "metadata": {
        "id": "0aNOtjE87o2H"
      },
      "outputs": [],
      "source": [
        "mn = MinMaxScaler()\n",
        "x = mn.fit_transform(x)"
      ]
    },
    {
      "cell_type": "code",
      "execution_count": 66,
      "metadata": {
        "id": "5hImoCfO6_sF"
      },
      "outputs": [],
      "source": [
        "x_train, x_test, y_train , y_test = train_test_split(x, y, test_size=0.2, random_state= 134)"
      ]
    },
    {
      "cell_type": "code",
      "execution_count": 67,
      "metadata": {
        "id": "WShjGTVA77lF"
      },
      "outputs": [],
      "source": [
        "from tensorflow.keras.models import Sequential\n",
        "from tensorflow.keras.layers import Dense, Dropout"
      ]
    },
    {
      "cell_type": "code",
      "execution_count": 68,
      "metadata": {
        "colab": {
          "base_uri": "https://localhost:8080/"
        },
        "id": "hu9hfjpK8TUT",
        "outputId": "208a78a5-4e42-4db8-aceb-b05f38981e0a"
      },
      "outputs": [
        {
          "data": {
            "text/plain": [
              "(53929, 25)"
            ]
          },
          "execution_count": 68,
          "metadata": {},
          "output_type": "execute_result"
        }
      ],
      "source": [
        "x.shape"
      ]
    },
    {
      "cell_type": "code",
      "execution_count": 70,
      "metadata": {
        "id": "faFZJo9d8ICB"
      },
      "outputs": [],
      "source": [
        "### input = 25, hidden1 = 32, hidden2 = 16, hidden3 = 8, output = 1"
      ]
    },
    {
      "cell_type": "code",
      "execution_count": 71,
      "metadata": {
        "colab": {
          "base_uri": "https://localhost:8080/"
        },
        "id": "3C6v_62I8cGT",
        "outputId": "a7e25f34-d965-49e0-bad4-3dda12cda1f2"
      },
      "outputs": [
        {
          "name": "stdout",
          "output_type": "stream",
          "text": [
            "Model: \"sequential_4\"\n",
            "_________________________________________________________________\n",
            " Layer (type)                Output Shape              Param #   \n",
            "=================================================================\n",
            " dense_24 (Dense)            (None, 32)                832       \n",
            "                                                                 \n",
            " dense_25 (Dense)            (None, 16)                528       \n",
            "                                                                 \n",
            " dense_26 (Dense)            (None, 8)                 136       \n",
            "                                                                 \n",
            " dense_27 (Dense)            (None, 1)                 9         \n",
            "                                                                 \n",
            "=================================================================\n",
            "Total params: 1,505\n",
            "Trainable params: 1,505\n",
            "Non-trainable params: 0\n",
            "_________________________________________________________________\n"
          ]
        }
      ],
      "source": [
        "model1 = Sequential()\n",
        "model1.add(Dense(32, activation = \"relu\", input_shape = (25,)))\n",
        "model1.add(Dense(16, activation = \"relu\"))\n",
        "model1.add(Dense(8, activation = \"relu\"))\n",
        "model1.add(Dense(1, activation = None))\n",
        "model1.summary()"
      ]
    },
    {
      "cell_type": "code",
      "execution_count": 72,
      "metadata": {
        "id": "1fsivmra9CDJ"
      },
      "outputs": [],
      "source": [
        "model1.compile(optimizer = \"sgd\", loss = \"mean_squared_error\", metrics = [\"mean_squared_error\"])"
      ]
    },
    {
      "cell_type": "code",
      "execution_count": 73,
      "metadata": {
        "colab": {
          "base_uri": "https://localhost:8080/"
        },
        "id": "bI-Nx4x09NrR",
        "outputId": "cceb74ef-37df-4dea-d703-f4866a68587a"
      },
      "outputs": [
        {
          "name": "stdout",
          "output_type": "stream",
          "text": [
            "Epoch 1/10\n",
            "338/338 [==============================] - 1s 2ms/step - loss: 1406556309285009138647040.0000 - mean_squared_error: 1406556309285009138647040.0000\n",
            "Epoch 2/10\n",
            "338/338 [==============================] - 0s 1ms/step - loss: 18260890977566720.0000 - mean_squared_error: 18260890977566720.0000\n",
            "Epoch 3/10\n",
            "338/338 [==============================] - 0s 1ms/step - loss: 21400383488.0000 - mean_squared_error: 21400383488.0000\n",
            "Epoch 4/10\n",
            "338/338 [==============================] - 0s 1ms/step - loss: 4023167.2500 - mean_squared_error: 4023167.2500\n",
            "Epoch 5/10\n",
            "338/338 [==============================] - 0s 1ms/step - loss: 3998242.5000 - mean_squared_error: 3998242.5000\n",
            "Epoch 6/10\n",
            "338/338 [==============================] - 0s 1ms/step - loss: 3998219.7500 - mean_squared_error: 3998219.7500\n",
            "Epoch 7/10\n",
            "338/338 [==============================] - 0s 1ms/step - loss: 3997850.5000 - mean_squared_error: 3997850.5000\n",
            "Epoch 8/10\n",
            "338/338 [==============================] - 0s 1ms/step - loss: 3998243.5000 - mean_squared_error: 3998243.5000\n",
            "Epoch 9/10\n",
            "338/338 [==============================] - 0s 1ms/step - loss: 3998069.0000 - mean_squared_error: 3998069.0000\n",
            "Epoch 10/10\n",
            "338/338 [==============================] - 0s 1ms/step - loss: 3997983.7500 - mean_squared_error: 3997983.7500\n"
          ]
        },
        {
          "data": {
            "text/plain": [
              "<keras.callbacks.History at 0x7f53246d9b70>"
            ]
          },
          "execution_count": 73,
          "metadata": {},
          "output_type": "execute_result"
        }
      ],
      "source": [
        "model1.fit(x_train, y_train, epochs = 10, batch_size = 128)"
      ]
    },
    {
      "cell_type": "code",
      "execution_count": 74,
      "metadata": {
        "colab": {
          "base_uri": "https://localhost:8080/"
        },
        "id": "DWZw9Gtr9V-9",
        "outputId": "75a77d74-a4a2-4722-f73c-af34cce82d6b"
      },
      "outputs": [
        {
          "name": "stdout",
          "output_type": "stream",
          "text": [
            "338/338 [==============================] - 1s 1ms/step - loss: 3895393.2500 - mean_squared_error: 3895393.2500\n"
          ]
        },
        {
          "data": {
            "text/plain": [
              "[3895393.25, 3895393.25]"
            ]
          },
          "execution_count": 74,
          "metadata": {},
          "output_type": "execute_result"
        }
      ],
      "source": [
        "model1.evaluate(x_test, y_test)"
      ]
    },
    {
      "attachments": {},
      "cell_type": "markdown",
      "metadata": {
        "id": "vT8hg_ZR9u3Y"
      },
      "source": [
        "model2 "
      ]
    },
    {
      "cell_type": "code",
      "execution_count": 76,
      "metadata": {
        "id": "3H6-DPxf9i7j"
      },
      "outputs": [],
      "source": [
        "model2 = Sequential()\n",
        "model2.add(Dense(64, input_shape = (25,), activation = \"relu\"))\n",
        "model2.add(Dense(64, activation = \"relu\"))\n",
        "model2.add(Dense(64, activation = \"relu\"))\n",
        "model2.add(Dense(64, activation = \"relu\"))\n",
        "model2.add(Dense(64, activation = \"relu\"))\n",
        "model2.add(Dense(64, activation = \"relu\"))\n",
        "model2.add(Dense(64, activation = \"relu\"))\n",
        "model2.add(Dense(1, activation = None))"
      ]
    },
    {
      "cell_type": "code",
      "execution_count": 77,
      "metadata": {
        "id": "WQKPJ5t1-LRs"
      },
      "outputs": [
        {
          "name": "stdout",
          "output_type": "stream",
          "text": [
            "Epoch 1/30\n",
            "338/338 [==============================] - 2s 3ms/step - loss: nan - mean_squared_error: nan\n",
            "Epoch 2/30\n",
            "338/338 [==============================] - 1s 2ms/step - loss: nan - mean_squared_error: nan\n",
            "Epoch 3/30\n",
            "338/338 [==============================] - 1s 2ms/step - loss: nan - mean_squared_error: nan\n",
            "Epoch 4/30\n",
            "338/338 [==============================] - 1s 2ms/step - loss: nan - mean_squared_error: nan\n",
            "Epoch 5/30\n",
            "338/338 [==============================] - 1s 2ms/step - loss: nan - mean_squared_error: nan\n",
            "Epoch 6/30\n",
            "338/338 [==============================] - 1s 2ms/step - loss: nan - mean_squared_error: nan\n",
            "Epoch 7/30\n",
            "338/338 [==============================] - 1s 2ms/step - loss: nan - mean_squared_error: nan\n",
            "Epoch 8/30\n",
            "338/338 [==============================] - 1s 2ms/step - loss: nan - mean_squared_error: nan\n",
            "Epoch 9/30\n",
            "338/338 [==============================] - 1s 2ms/step - loss: nan - mean_squared_error: nan\n",
            "Epoch 10/30\n",
            "338/338 [==============================] - 1s 2ms/step - loss: nan - mean_squared_error: nan\n",
            "Epoch 11/30\n",
            "338/338 [==============================] - 1s 2ms/step - loss: nan - mean_squared_error: nan\n",
            "Epoch 12/30\n",
            "338/338 [==============================] - 1s 2ms/step - loss: nan - mean_squared_error: nan\n",
            "Epoch 13/30\n",
            "338/338 [==============================] - 1s 2ms/step - loss: nan - mean_squared_error: nan\n",
            "Epoch 14/30\n",
            "338/338 [==============================] - 1s 2ms/step - loss: nan - mean_squared_error: nan\n",
            "Epoch 15/30\n",
            "338/338 [==============================] - 1s 2ms/step - loss: nan - mean_squared_error: nan\n",
            "Epoch 16/30\n",
            "338/338 [==============================] - 1s 2ms/step - loss: nan - mean_squared_error: nan\n",
            "Epoch 17/30\n",
            "338/338 [==============================] - 1s 2ms/step - loss: nan - mean_squared_error: nan\n",
            "Epoch 18/30\n",
            "338/338 [==============================] - 1s 2ms/step - loss: nan - mean_squared_error: nan\n",
            "Epoch 19/30\n",
            "338/338 [==============================] - 1s 2ms/step - loss: nan - mean_squared_error: nan\n",
            "Epoch 20/30\n",
            "338/338 [==============================] - 1s 2ms/step - loss: nan - mean_squared_error: nan\n",
            "Epoch 21/30\n",
            "338/338 [==============================] - 1s 2ms/step - loss: nan - mean_squared_error: nan\n",
            "Epoch 22/30\n",
            "338/338 [==============================] - 1s 2ms/step - loss: nan - mean_squared_error: nan\n",
            "Epoch 23/30\n",
            "338/338 [==============================] - 1s 2ms/step - loss: nan - mean_squared_error: nan\n",
            "Epoch 24/30\n",
            "338/338 [==============================] - 1s 2ms/step - loss: nan - mean_squared_error: nan\n",
            "Epoch 25/30\n",
            "338/338 [==============================] - 1s 2ms/step - loss: nan - mean_squared_error: nan\n",
            "Epoch 26/30\n",
            "338/338 [==============================] - 1s 2ms/step - loss: nan - mean_squared_error: nan\n",
            "Epoch 27/30\n",
            "338/338 [==============================] - 1s 2ms/step - loss: nan - mean_squared_error: nan\n",
            "Epoch 28/30\n",
            "338/338 [==============================] - 1s 2ms/step - loss: nan - mean_squared_error: nan\n",
            "Epoch 29/30\n",
            "338/338 [==============================] - 1s 2ms/step - loss: nan - mean_squared_error: nan\n",
            "Epoch 30/30\n",
            "338/338 [==============================] - 1s 2ms/step - loss: nan - mean_squared_error: nan\n"
          ]
        },
        {
          "data": {
            "text/plain": [
              "<keras.callbacks.History at 0x7f53245571c0>"
            ]
          },
          "execution_count": 77,
          "metadata": {},
          "output_type": "execute_result"
        }
      ],
      "source": [
        "model2.compile(optimizer = \"sgd\", loss = \"mean_squared_error\", metrics = [\"mean_squared_error\"])\n",
        "model2.fit(x_train, y_train, epochs = 30, batch_size = 128)"
      ]
    },
    {
      "attachments": {},
      "cell_type": "markdown",
      "metadata": {},
      "source": [
        "Model 3"
      ]
    },
    {
      "cell_type": "code",
      "execution_count": 78,
      "metadata": {
        "id": "E9e_uHa3-mJ0"
      },
      "outputs": [],
      "source": [
        "model3 = Sequential()\n",
        "model3.add(Dense(128, input_shape = (25,), activation = \"relu\"))\n",
        "model3.add(Dense(128, activation = \"relu\"))\n",
        "model3.add(Dropout(0.15))\n",
        "model3.add(Dense(128, activation = \"relu\"))\n",
        "model3.add(Dropout(0.15))\n",
        "model3.add(Dense(64, activation = \"relu\"))\n",
        "model3.add(Dropout(0.15))\n",
        "model3.add(Dense(64, activation = \"relu\"))\n",
        "model3.add(Dropout(0.15))\n",
        "model3.add(Dense(32, activation = \"relu\"))\n",
        "model3.add(Dense(16, activation = \"relu\"))\n",
        "model3.add(Dense(1, activation = None))"
      ]
    },
    {
      "cell_type": "code",
      "execution_count": 79,
      "metadata": {
        "id": "BycHT5Qg_s0f"
      },
      "outputs": [
        {
          "name": "stdout",
          "output_type": "stream",
          "text": [
            "Epoch 1/30\n",
            "338/338 [==============================] - 3s 5ms/step - loss: 2536666.0000 - mean_squared_error: 2536666.0000\n",
            "Epoch 2/30\n",
            "338/338 [==============================] - 1s 3ms/step - loss: 227813.1719 - mean_squared_error: 227813.1719\n",
            "Epoch 3/30\n",
            "338/338 [==============================] - 1s 3ms/step - loss: 208016.6719 - mean_squared_error: 208016.6719\n",
            "Epoch 4/30\n",
            "338/338 [==============================] - 1s 3ms/step - loss: 196001.7188 - mean_squared_error: 196001.7188\n",
            "Epoch 5/30\n",
            "338/338 [==============================] - 1s 3ms/step - loss: 190584.9062 - mean_squared_error: 190584.9062\n",
            "Epoch 6/30\n",
            "338/338 [==============================] - 1s 3ms/step - loss: 189123.5312 - mean_squared_error: 189123.5312\n",
            "Epoch 7/30\n",
            "338/338 [==============================] - 1s 3ms/step - loss: 190394.3125 - mean_squared_error: 190394.3125\n",
            "Epoch 8/30\n",
            "338/338 [==============================] - 1s 4ms/step - loss: 180359.5625 - mean_squared_error: 180359.5625\n",
            "Epoch 9/30\n",
            "338/338 [==============================] - 1s 3ms/step - loss: 182941.4844 - mean_squared_error: 182941.4844\n",
            "Epoch 10/30\n",
            "338/338 [==============================] - 1s 3ms/step - loss: 183868.1250 - mean_squared_error: 183868.1250\n",
            "Epoch 11/30\n",
            "338/338 [==============================] - 1s 3ms/step - loss: 182024.2500 - mean_squared_error: 182024.2500\n",
            "Epoch 12/30\n",
            "338/338 [==============================] - 1s 4ms/step - loss: 175677.3594 - mean_squared_error: 175677.3594\n",
            "Epoch 13/30\n",
            "338/338 [==============================] - 1s 3ms/step - loss: 176947.3281 - mean_squared_error: 176947.3281\n",
            "Epoch 14/30\n",
            "338/338 [==============================] - 1s 3ms/step - loss: 175572.0469 - mean_squared_error: 175572.0469\n",
            "Epoch 15/30\n",
            "338/338 [==============================] - 1s 4ms/step - loss: 176571.2344 - mean_squared_error: 176571.2344\n",
            "Epoch 16/30\n",
            "338/338 [==============================] - 1s 3ms/step - loss: 171691.3281 - mean_squared_error: 171691.3281\n",
            "Epoch 17/30\n",
            "338/338 [==============================] - 1s 3ms/step - loss: 174111.7344 - mean_squared_error: 174111.7344\n",
            "Epoch 18/30\n",
            "338/338 [==============================] - 1s 3ms/step - loss: 172084.6406 - mean_squared_error: 172084.6406\n",
            "Epoch 19/30\n",
            "338/338 [==============================] - 1s 4ms/step - loss: 172675.3438 - mean_squared_error: 172675.3438\n",
            "Epoch 20/30\n",
            "338/338 [==============================] - 1s 3ms/step - loss: 172956.4375 - mean_squared_error: 172956.4375\n",
            "Epoch 21/30\n",
            "338/338 [==============================] - 1s 4ms/step - loss: 175000.2500 - mean_squared_error: 175000.2500\n",
            "Epoch 22/30\n",
            "338/338 [==============================] - 1s 3ms/step - loss: 167298.3750 - mean_squared_error: 167298.3750\n",
            "Epoch 23/30\n",
            "338/338 [==============================] - 1s 3ms/step - loss: 164625.5938 - mean_squared_error: 164625.5938\n",
            "Epoch 24/30\n",
            "338/338 [==============================] - 1s 4ms/step - loss: 165128.1250 - mean_squared_error: 165128.1250\n",
            "Epoch 25/30\n",
            "338/338 [==============================] - 1s 3ms/step - loss: 161874.3906 - mean_squared_error: 161874.3906\n",
            "Epoch 26/30\n",
            "338/338 [==============================] - 1s 4ms/step - loss: 156333.6094 - mean_squared_error: 156333.6094\n",
            "Epoch 27/30\n",
            "338/338 [==============================] - 1s 3ms/step - loss: 159233.0625 - mean_squared_error: 159233.0625\n",
            "Epoch 28/30\n",
            "338/338 [==============================] - 1s 3ms/step - loss: 161281.2344 - mean_squared_error: 161281.2344\n",
            "Epoch 29/30\n",
            "338/338 [==============================] - 1s 3ms/step - loss: 153852.4531 - mean_squared_error: 153852.4531\n",
            "Epoch 30/30\n",
            "338/338 [==============================] - 1s 3ms/step - loss: 148845.4062 - mean_squared_error: 148845.4062\n"
          ]
        },
        {
          "data": {
            "text/plain": [
              "<keras.callbacks.History at 0x7f5324329960>"
            ]
          },
          "execution_count": 79,
          "metadata": {},
          "output_type": "execute_result"
        }
      ],
      "source": [
        "model3.compile(optimizer = \"adam\", loss = \"mean_squared_error\", metrics = [\"mean_squared_error\"])\n",
        "model3.fit(x_train, y_train, epochs = 30, batch_size = 128)"
      ]
    },
    {
      "cell_type": "code",
      "execution_count": 80,
      "metadata": {
        "colab": {
          "base_uri": "https://localhost:8080/"
        },
        "id": "2NhvGvFmAHvl",
        "outputId": "937c34a6-1985-4731-d066-60411d531afb"
      },
      "outputs": [
        {
          "name": "stdout",
          "output_type": "stream",
          "text": [
            "338/338 [==============================] - 1s 1ms/step - loss: 180751.6875 - mean_squared_error: 180751.6875\n"
          ]
        },
        {
          "data": {
            "text/plain": [
              "[180751.6875, 180751.6875]"
            ]
          },
          "execution_count": 80,
          "metadata": {},
          "output_type": "execute_result"
        }
      ],
      "source": [
        "model3.evaluate(x_test, y_test)"
      ]
    },
    {
      "cell_type": "code",
      "execution_count": 84,
      "metadata": {
        "id": "8yddVjY1AtN8"
      },
      "outputs": [],
      "source": [
        "from sklearn.linear_model import LinearRegression\n",
        "from sklearn.metrics import mean_squared_error"
      ]
    },
    {
      "cell_type": "code",
      "execution_count": 85,
      "metadata": {
        "id": "zxcusg0qA3Wi"
      },
      "outputs": [
        {
          "data": {
            "text/html": [
              "<style>#sk-container-id-3 {color: black;background-color: white;}#sk-container-id-3 pre{padding: 0;}#sk-container-id-3 div.sk-toggleable {background-color: white;}#sk-container-id-3 label.sk-toggleable__label {cursor: pointer;display: block;width: 100%;margin-bottom: 0;padding: 0.3em;box-sizing: border-box;text-align: center;}#sk-container-id-3 label.sk-toggleable__label-arrow:before {content: \"▸\";float: left;margin-right: 0.25em;color: #696969;}#sk-container-id-3 label.sk-toggleable__label-arrow:hover:before {color: black;}#sk-container-id-3 div.sk-estimator:hover label.sk-toggleable__label-arrow:before {color: black;}#sk-container-id-3 div.sk-toggleable__content {max-height: 0;max-width: 0;overflow: hidden;text-align: left;background-color: #f0f8ff;}#sk-container-id-3 div.sk-toggleable__content pre {margin: 0.2em;color: black;border-radius: 0.25em;background-color: #f0f8ff;}#sk-container-id-3 input.sk-toggleable__control:checked~div.sk-toggleable__content {max-height: 200px;max-width: 100%;overflow: auto;}#sk-container-id-3 input.sk-toggleable__control:checked~label.sk-toggleable__label-arrow:before {content: \"▾\";}#sk-container-id-3 div.sk-estimator input.sk-toggleable__control:checked~label.sk-toggleable__label {background-color: #d4ebff;}#sk-container-id-3 div.sk-label input.sk-toggleable__control:checked~label.sk-toggleable__label {background-color: #d4ebff;}#sk-container-id-3 input.sk-hidden--visually {border: 0;clip: rect(1px 1px 1px 1px);clip: rect(1px, 1px, 1px, 1px);height: 1px;margin: -1px;overflow: hidden;padding: 0;position: absolute;width: 1px;}#sk-container-id-3 div.sk-estimator {font-family: monospace;background-color: #f0f8ff;border: 1px dotted black;border-radius: 0.25em;box-sizing: border-box;margin-bottom: 0.5em;}#sk-container-id-3 div.sk-estimator:hover {background-color: #d4ebff;}#sk-container-id-3 div.sk-parallel-item::after {content: \"\";width: 100%;border-bottom: 1px solid gray;flex-grow: 1;}#sk-container-id-3 div.sk-label:hover label.sk-toggleable__label {background-color: #d4ebff;}#sk-container-id-3 div.sk-serial::before {content: \"\";position: absolute;border-left: 1px solid gray;box-sizing: border-box;top: 0;bottom: 0;left: 50%;z-index: 0;}#sk-container-id-3 div.sk-serial {display: flex;flex-direction: column;align-items: center;background-color: white;padding-right: 0.2em;padding-left: 0.2em;position: relative;}#sk-container-id-3 div.sk-item {position: relative;z-index: 1;}#sk-container-id-3 div.sk-parallel {display: flex;align-items: stretch;justify-content: center;background-color: white;position: relative;}#sk-container-id-3 div.sk-item::before, #sk-container-id-3 div.sk-parallel-item::before {content: \"\";position: absolute;border-left: 1px solid gray;box-sizing: border-box;top: 0;bottom: 0;left: 50%;z-index: -1;}#sk-container-id-3 div.sk-parallel-item {display: flex;flex-direction: column;z-index: 1;position: relative;background-color: white;}#sk-container-id-3 div.sk-parallel-item:first-child::after {align-self: flex-end;width: 50%;}#sk-container-id-3 div.sk-parallel-item:last-child::after {align-self: flex-start;width: 50%;}#sk-container-id-3 div.sk-parallel-item:only-child::after {width: 0;}#sk-container-id-3 div.sk-dashed-wrapped {border: 1px dashed gray;margin: 0 0.4em 0.5em 0.4em;box-sizing: border-box;padding-bottom: 0.4em;background-color: white;}#sk-container-id-3 div.sk-label label {font-family: monospace;font-weight: bold;display: inline-block;line-height: 1.2em;}#sk-container-id-3 div.sk-label-container {text-align: center;}#sk-container-id-3 div.sk-container {/* jupyter's `normalize.less` sets `[hidden] { display: none; }` but bootstrap.min.css set `[hidden] { display: none !important; }` so we also need the `!important` here to be able to override the default hidden behavior on the sphinx rendered scikit-learn.org. See: https://github.com/scikit-learn/scikit-learn/issues/21755 */display: inline-block !important;position: relative;}#sk-container-id-3 div.sk-text-repr-fallback {display: none;}</style><div id=\"sk-container-id-3\" class=\"sk-top-container\"><div class=\"sk-text-repr-fallback\"><pre>LinearRegression()</pre><b>In a Jupyter environment, please rerun this cell to show the HTML representation or trust the notebook. <br />On GitHub, the HTML representation is unable to render, please try loading this page with nbviewer.org.</b></div><div class=\"sk-container\" hidden><div class=\"sk-item\"><div class=\"sk-estimator sk-toggleable\"><input class=\"sk-toggleable__control sk-hidden--visually\" id=\"sk-estimator-id-3\" type=\"checkbox\" checked><label for=\"sk-estimator-id-3\" class=\"sk-toggleable__label sk-toggleable__label-arrow\">LinearRegression</label><div class=\"sk-toggleable__content\"><pre>LinearRegression()</pre></div></div></div></div></div>"
            ],
            "text/plain": [
              "LinearRegression()"
            ]
          },
          "execution_count": 85,
          "metadata": {},
          "output_type": "execute_result"
        }
      ],
      "source": [
        "lr = LinearRegression()\n",
        "lr.fit(x_train, y_train)"
      ]
    },
    {
      "cell_type": "code",
      "execution_count": 86,
      "metadata": {
        "id": "PpQXuHgqA8Gw"
      },
      "outputs": [
        {
          "data": {
            "text/plain": [
              "310612.43175525905"
            ]
          },
          "execution_count": 86,
          "metadata": {},
          "output_type": "execute_result"
        }
      ],
      "source": [
        "y_pred = lr.predict(x_test)\n",
        "mean_squared_error(y_test, y_pred)"
      ]
    },
    {
      "attachments": {},
      "cell_type": "markdown",
      "metadata": {},
      "source": [
        "# Assignment Begins"
      ]
    },
    {
      "cell_type": "code",
      "execution_count": 87,
      "metadata": {},
      "outputs": [],
      "source": [
        "df4 = df3.copy()"
      ]
    },
    {
      "attachments": {},
      "cell_type": "markdown",
      "metadata": {},
      "source": [
        "Label Encoding features based on their quality"
      ]
    },
    {
      "cell_type": "code",
      "execution_count": 88,
      "metadata": {},
      "outputs": [],
      "source": [
        "cut_worst_to_best = ['Fair', 'Good', 'Very Good', 'Premium', 'Ideal']\n",
        "clarity_worst_to_best = ['I1', 'SI2', 'SI1', 'VS2', 'VS1', 'VVS2', 'VVS1', 'IF']\n",
        "color_worst_to_best = ['J','I','H','G','F','E','D']"
      ]
    },
    {
      "cell_type": "code",
      "execution_count": 89,
      "metadata": {},
      "outputs": [],
      "source": [
        "def manual_label_encode(x, list_):\n",
        "    if x in list_:\n",
        "        return list_.index(x)"
      ]
    },
    {
      "cell_type": "code",
      "execution_count": 90,
      "metadata": {},
      "outputs": [],
      "source": [
        "df4['cut'] = df4['cut'].apply(lambda x: manual_label_encode(x, cut_worst_to_best))\n",
        "df4['clarity'] = df4['clarity'].apply(lambda x: manual_label_encode(x, clarity_worst_to_best))\n",
        "df4['color'] = df4['color'].apply(lambda x: manual_label_encode(x, color_worst_to_best))"
      ]
    },
    {
      "cell_type": "code",
      "execution_count": 91,
      "metadata": {},
      "outputs": [
        {
          "data": {
            "text/html": [
              "<div>\n",
              "<style scoped>\n",
              "    .dataframe tbody tr th:only-of-type {\n",
              "        vertical-align: middle;\n",
              "    }\n",
              "\n",
              "    .dataframe tbody tr th {\n",
              "        vertical-align: top;\n",
              "    }\n",
              "\n",
              "    .dataframe thead th {\n",
              "        text-align: right;\n",
              "    }\n",
              "</style>\n",
              "<table border=\"1\" class=\"dataframe\">\n",
              "  <thead>\n",
              "    <tr style=\"text-align: right;\">\n",
              "      <th></th>\n",
              "      <th>carat</th>\n",
              "      <th>cut</th>\n",
              "      <th>color</th>\n",
              "      <th>clarity</th>\n",
              "      <th>table</th>\n",
              "      <th>x</th>\n",
              "      <th>y</th>\n",
              "      <th>z</th>\n",
              "      <th>price_new</th>\n",
              "    </tr>\n",
              "  </thead>\n",
              "  <tbody>\n",
              "    <tr>\n",
              "      <th>0</th>\n",
              "      <td>0.23</td>\n",
              "      <td>4</td>\n",
              "      <td>5</td>\n",
              "      <td>1</td>\n",
              "      <td>55.0</td>\n",
              "      <td>3.95</td>\n",
              "      <td>3.98</td>\n",
              "      <td>2.43</td>\n",
              "      <td>163.0</td>\n",
              "    </tr>\n",
              "    <tr>\n",
              "      <th>1</th>\n",
              "      <td>0.21</td>\n",
              "      <td>3</td>\n",
              "      <td>5</td>\n",
              "      <td>2</td>\n",
              "      <td>61.0</td>\n",
              "      <td>3.89</td>\n",
              "      <td>3.84</td>\n",
              "      <td>2.31</td>\n",
              "      <td>163.0</td>\n",
              "    </tr>\n",
              "    <tr>\n",
              "      <th>2</th>\n",
              "      <td>0.23</td>\n",
              "      <td>1</td>\n",
              "      <td>5</td>\n",
              "      <td>4</td>\n",
              "      <td>65.0</td>\n",
              "      <td>4.05</td>\n",
              "      <td>4.07</td>\n",
              "      <td>2.31</td>\n",
              "      <td>163.5</td>\n",
              "    </tr>\n",
              "    <tr>\n",
              "      <th>3</th>\n",
              "      <td>0.29</td>\n",
              "      <td>3</td>\n",
              "      <td>1</td>\n",
              "      <td>3</td>\n",
              "      <td>58.0</td>\n",
              "      <td>4.20</td>\n",
              "      <td>4.23</td>\n",
              "      <td>2.63</td>\n",
              "      <td>167.0</td>\n",
              "    </tr>\n",
              "    <tr>\n",
              "      <th>4</th>\n",
              "      <td>0.31</td>\n",
              "      <td>1</td>\n",
              "      <td>0</td>\n",
              "      <td>1</td>\n",
              "      <td>58.0</td>\n",
              "      <td>4.34</td>\n",
              "      <td>4.35</td>\n",
              "      <td>2.75</td>\n",
              "      <td>167.5</td>\n",
              "    </tr>\n",
              "    <tr>\n",
              "      <th>...</th>\n",
              "      <td>...</td>\n",
              "      <td>...</td>\n",
              "      <td>...</td>\n",
              "      <td>...</td>\n",
              "      <td>...</td>\n",
              "      <td>...</td>\n",
              "      <td>...</td>\n",
              "      <td>...</td>\n",
              "      <td>...</td>\n",
              "    </tr>\n",
              "    <tr>\n",
              "      <th>53935</th>\n",
              "      <td>0.72</td>\n",
              "      <td>4</td>\n",
              "      <td>6</td>\n",
              "      <td>2</td>\n",
              "      <td>57.0</td>\n",
              "      <td>5.75</td>\n",
              "      <td>5.76</td>\n",
              "      <td>3.50</td>\n",
              "      <td>1378.5</td>\n",
              "    </tr>\n",
              "    <tr>\n",
              "      <th>53936</th>\n",
              "      <td>0.72</td>\n",
              "      <td>1</td>\n",
              "      <td>6</td>\n",
              "      <td>2</td>\n",
              "      <td>55.0</td>\n",
              "      <td>5.69</td>\n",
              "      <td>5.75</td>\n",
              "      <td>3.61</td>\n",
              "      <td>1378.5</td>\n",
              "    </tr>\n",
              "    <tr>\n",
              "      <th>53937</th>\n",
              "      <td>0.70</td>\n",
              "      <td>2</td>\n",
              "      <td>6</td>\n",
              "      <td>2</td>\n",
              "      <td>60.0</td>\n",
              "      <td>5.66</td>\n",
              "      <td>5.68</td>\n",
              "      <td>3.56</td>\n",
              "      <td>1378.5</td>\n",
              "    </tr>\n",
              "    <tr>\n",
              "      <th>53938</th>\n",
              "      <td>0.86</td>\n",
              "      <td>3</td>\n",
              "      <td>2</td>\n",
              "      <td>1</td>\n",
              "      <td>58.0</td>\n",
              "      <td>6.15</td>\n",
              "      <td>6.12</td>\n",
              "      <td>3.74</td>\n",
              "      <td>1378.5</td>\n",
              "    </tr>\n",
              "    <tr>\n",
              "      <th>53939</th>\n",
              "      <td>0.75</td>\n",
              "      <td>4</td>\n",
              "      <td>6</td>\n",
              "      <td>1</td>\n",
              "      <td>55.0</td>\n",
              "      <td>5.83</td>\n",
              "      <td>5.87</td>\n",
              "      <td>3.64</td>\n",
              "      <td>1378.5</td>\n",
              "    </tr>\n",
              "  </tbody>\n",
              "</table>\n",
              "<p>53929 rows × 9 columns</p>\n",
              "</div>"
            ],
            "text/plain": [
              "       carat  cut  color  clarity  table     x     y     z  price_new\n",
              "0       0.23    4      5        1   55.0  3.95  3.98  2.43      163.0\n",
              "1       0.21    3      5        2   61.0  3.89  3.84  2.31      163.0\n",
              "2       0.23    1      5        4   65.0  4.05  4.07  2.31      163.5\n",
              "3       0.29    3      1        3   58.0  4.20  4.23  2.63      167.0\n",
              "4       0.31    1      0        1   58.0  4.34  4.35  2.75      167.5\n",
              "...      ...  ...    ...      ...    ...   ...   ...   ...        ...\n",
              "53935   0.72    4      6        2   57.0  5.75  5.76  3.50     1378.5\n",
              "53936   0.72    1      6        2   55.0  5.69  5.75  3.61     1378.5\n",
              "53937   0.70    2      6        2   60.0  5.66  5.68  3.56     1378.5\n",
              "53938   0.86    3      2        1   58.0  6.15  6.12  3.74     1378.5\n",
              "53939   0.75    4      6        1   55.0  5.83  5.87  3.64     1378.5\n",
              "\n",
              "[53929 rows x 9 columns]"
            ]
          },
          "execution_count": 91,
          "metadata": {},
          "output_type": "execute_result"
        }
      ],
      "source": [
        "df4"
      ]
    },
    {
      "cell_type": "code",
      "execution_count": 92,
      "metadata": {},
      "outputs": [
        {
          "data": {
            "text/html": [
              "<div>\n",
              "<style scoped>\n",
              "    .dataframe tbody tr th:only-of-type {\n",
              "        vertical-align: middle;\n",
              "    }\n",
              "\n",
              "    .dataframe tbody tr th {\n",
              "        vertical-align: top;\n",
              "    }\n",
              "\n",
              "    .dataframe thead th {\n",
              "        text-align: right;\n",
              "    }\n",
              "</style>\n",
              "<table border=\"1\" class=\"dataframe\">\n",
              "  <thead>\n",
              "    <tr style=\"text-align: right;\">\n",
              "      <th></th>\n",
              "      <th>carat</th>\n",
              "      <th>cut</th>\n",
              "      <th>color</th>\n",
              "      <th>clarity</th>\n",
              "      <th>table</th>\n",
              "      <th>x</th>\n",
              "      <th>y</th>\n",
              "      <th>z</th>\n",
              "      <th>price_new</th>\n",
              "    </tr>\n",
              "  </thead>\n",
              "  <tbody>\n",
              "    <tr>\n",
              "      <th>carat</th>\n",
              "      <td>1.000000</td>\n",
              "      <td>-0.135033</td>\n",
              "      <td>-0.291413</td>\n",
              "      <td>-0.352836</td>\n",
              "      <td>0.181658</td>\n",
              "      <td>0.977764</td>\n",
              "      <td>0.976844</td>\n",
              "      <td>0.976031</td>\n",
              "      <td>0.921604</td>\n",
              "    </tr>\n",
              "    <tr>\n",
              "      <th>cut</th>\n",
              "      <td>-0.135033</td>\n",
              "      <td>1.000000</td>\n",
              "      <td>0.020516</td>\n",
              "      <td>0.189196</td>\n",
              "      <td>-0.433310</td>\n",
              "      <td>-0.126281</td>\n",
              "      <td>-0.125909</td>\n",
              "      <td>-0.152495</td>\n",
              "      <td>-0.053567</td>\n",
              "    </tr>\n",
              "    <tr>\n",
              "      <th>color</th>\n",
              "      <td>-0.291413</td>\n",
              "      <td>0.020516</td>\n",
              "      <td>1.000000</td>\n",
              "      <td>-0.025718</td>\n",
              "      <td>-0.026475</td>\n",
              "      <td>-0.270748</td>\n",
              "      <td>-0.270555</td>\n",
              "      <td>-0.274892</td>\n",
              "      <td>-0.172532</td>\n",
              "    </tr>\n",
              "    <tr>\n",
              "      <th>clarity</th>\n",
              "      <td>-0.352836</td>\n",
              "      <td>0.189196</td>\n",
              "      <td>-0.025718</td>\n",
              "      <td>1.000000</td>\n",
              "      <td>-0.160388</td>\n",
              "      <td>-0.372973</td>\n",
              "      <td>-0.367635</td>\n",
              "      <td>-0.376446</td>\n",
              "      <td>-0.146838</td>\n",
              "    </tr>\n",
              "    <tr>\n",
              "      <th>table</th>\n",
              "      <td>0.181658</td>\n",
              "      <td>-0.433310</td>\n",
              "      <td>-0.026475</td>\n",
              "      <td>-0.160388</td>\n",
              "      <td>1.000000</td>\n",
              "      <td>0.196129</td>\n",
              "      <td>0.189976</td>\n",
              "      <td>0.155850</td>\n",
              "      <td>0.127161</td>\n",
              "    </tr>\n",
              "    <tr>\n",
              "      <th>x</th>\n",
              "      <td>0.977764</td>\n",
              "      <td>-0.126281</td>\n",
              "      <td>-0.270748</td>\n",
              "      <td>-0.372973</td>\n",
              "      <td>0.196129</td>\n",
              "      <td>1.000000</td>\n",
              "      <td>0.998658</td>\n",
              "      <td>0.990758</td>\n",
              "      <td>0.887216</td>\n",
              "    </tr>\n",
              "    <tr>\n",
              "      <th>y</th>\n",
              "      <td>0.976844</td>\n",
              "      <td>-0.125909</td>\n",
              "      <td>-0.270555</td>\n",
              "      <td>-0.367635</td>\n",
              "      <td>0.189976</td>\n",
              "      <td>0.998658</td>\n",
              "      <td>1.000000</td>\n",
              "      <td>0.990420</td>\n",
              "      <td>0.888812</td>\n",
              "    </tr>\n",
              "    <tr>\n",
              "      <th>z</th>\n",
              "      <td>0.976031</td>\n",
              "      <td>-0.152495</td>\n",
              "      <td>-0.274892</td>\n",
              "      <td>-0.376446</td>\n",
              "      <td>0.155850</td>\n",
              "      <td>0.990758</td>\n",
              "      <td>0.990420</td>\n",
              "      <td>1.000000</td>\n",
              "      <td>0.881725</td>\n",
              "    </tr>\n",
              "    <tr>\n",
              "      <th>price_new</th>\n",
              "      <td>0.921604</td>\n",
              "      <td>-0.053567</td>\n",
              "      <td>-0.172532</td>\n",
              "      <td>-0.146838</td>\n",
              "      <td>0.127161</td>\n",
              "      <td>0.887216</td>\n",
              "      <td>0.888812</td>\n",
              "      <td>0.881725</td>\n",
              "      <td>1.000000</td>\n",
              "    </tr>\n",
              "  </tbody>\n",
              "</table>\n",
              "</div>"
            ],
            "text/plain": [
              "              carat       cut     color   clarity     table         x   \n",
              "carat      1.000000 -0.135033 -0.291413 -0.352836  0.181658  0.977764  \\\n",
              "cut       -0.135033  1.000000  0.020516  0.189196 -0.433310 -0.126281   \n",
              "color     -0.291413  0.020516  1.000000 -0.025718 -0.026475 -0.270748   \n",
              "clarity   -0.352836  0.189196 -0.025718  1.000000 -0.160388 -0.372973   \n",
              "table      0.181658 -0.433310 -0.026475 -0.160388  1.000000  0.196129   \n",
              "x          0.977764 -0.126281 -0.270748 -0.372973  0.196129  1.000000   \n",
              "y          0.976844 -0.125909 -0.270555 -0.367635  0.189976  0.998658   \n",
              "z          0.976031 -0.152495 -0.274892 -0.376446  0.155850  0.990758   \n",
              "price_new  0.921604 -0.053567 -0.172532 -0.146838  0.127161  0.887216   \n",
              "\n",
              "                  y         z  price_new  \n",
              "carat      0.976844  0.976031   0.921604  \n",
              "cut       -0.125909 -0.152495  -0.053567  \n",
              "color     -0.270555 -0.274892  -0.172532  \n",
              "clarity   -0.367635 -0.376446  -0.146838  \n",
              "table      0.189976  0.155850   0.127161  \n",
              "x          0.998658  0.990758   0.887216  \n",
              "y          1.000000  0.990420   0.888812  \n",
              "z          0.990420  1.000000   0.881725  \n",
              "price_new  0.888812  0.881725   1.000000  "
            ]
          },
          "execution_count": 92,
          "metadata": {},
          "output_type": "execute_result"
        }
      ],
      "source": [
        "df4.corr()"
      ]
    },
    {
      "attachments": {},
      "cell_type": "markdown",
      "metadata": {},
      "source": [
        "creating new training and testing sets"
      ]
    },
    {
      "cell_type": "code",
      "execution_count": 93,
      "metadata": {},
      "outputs": [],
      "source": [
        "y = df4['price_new']\n",
        "x = df4.drop(\"price_new\", axis=1)\n",
        "\n",
        "minmax = MinMaxScaler(feature_range=(0,1))\n",
        "x = minmax.fit_transform(x)\n",
        "x_train, x_test, y_train , y_test = train_test_split(x, y, test_size=0.2, random_state= 123)"
      ]
    },
    {
      "cell_type": "code",
      "execution_count": 110,
      "metadata": {},
      "outputs": [],
      "source": [
        "from tensorflow.keras.regularizers import l2, l1, l1_l2\n",
        "from tensorflow.keras.callbacks import EarlyStopping\n",
        "from tensorflow.keras.optimizers import RMSprop"
      ]
    },
    {
      "cell_type": "code",
      "execution_count": 95,
      "metadata": {},
      "outputs": [
        {
          "name": "stdout",
          "output_type": "stream",
          "text": [
            "Model: \"sequential_7\"\n",
            "_________________________________________________________________\n",
            " Layer (type)                Output Shape              Param #   \n",
            "=================================================================\n",
            " dense_44 (Dense)            (None, 128)               1152      \n",
            "                                                                 \n",
            " dense_45 (Dense)            (None, 128)               16512     \n",
            "                                                                 \n",
            " dropout_8 (Dropout)         (None, 128)               0         \n",
            "                                                                 \n",
            " dense_46 (Dense)            (None, 64)                8256      \n",
            "                                                                 \n",
            " dense_47 (Dense)            (None, 64)                4160      \n",
            "                                                                 \n",
            " dropout_9 (Dropout)         (None, 64)                0         \n",
            "                                                                 \n",
            " dense_48 (Dense)            (None, 32)                2080      \n",
            "                                                                 \n",
            " dropout_10 (Dropout)        (None, 32)                0         \n",
            "                                                                 \n",
            " dense_49 (Dense)            (None, 16)                528       \n",
            "                                                                 \n",
            " dropout_11 (Dropout)        (None, 16)                0         \n",
            "                                                                 \n",
            " dense_50 (Dense)            (None, 8)                 136       \n",
            "                                                                 \n",
            " dense_51 (Dense)            (None, 1)                 9         \n",
            "                                                                 \n",
            "=================================================================\n",
            "Total params: 32,833\n",
            "Trainable params: 32,833\n",
            "Non-trainable params: 0\n",
            "_________________________________________________________________\n"
          ]
        }
      ],
      "source": [
        "model4 = Sequential()\n",
        "model4.add(Dense(128, input_shape = (8,), activation = \"relu\", kernel_regularizer=l2(0.02)))\n",
        "model4.add(Dense(128, activation = \"relu\", kernel_regularizer=l2(0.02)))\n",
        "model4.add(Dropout(0.2))\n",
        "model4.add(Dense(64, activation = \"relu\", kernel_regularizer=l2(0.02)))\n",
        "model4.add(Dense(64, activation = \"relu\", kernel_regularizer=l2(0.02)))\n",
        "model4.add(Dropout(0.15))\n",
        "model4.add(Dense(32, activation = \"relu\", kernel_regularizer=l2(0.02)))\n",
        "model4.add(Dropout(0.1))\n",
        "model4.add(Dense(16, activation = \"relu\", kernel_regularizer=l2(0.01)))\n",
        "model4.add(Dropout(0.1))\n",
        "model4.add(Dense(8, activation = \"relu\", kernel_regularizer=l2(0.01)))\n",
        "model4.add(Dense(1, activation = 'linear'))\n",
        "model4.summary()"
      ]
    },
    {
      "cell_type": "code",
      "execution_count": 96,
      "metadata": {},
      "outputs": [
        {
          "name": "stdout",
          "output_type": "stream",
          "text": [
            "Epoch 1/50\n",
            "338/338 [==============================] - 3s 5ms/step - loss: 2158404.0000 - mean_squared_error: 2158395.7500 - val_loss: 261434.3906 - val_mean_squared_error: 261424.9844\n",
            "Epoch 2/50\n",
            "338/338 [==============================] - 1s 3ms/step - loss: 364880.5625 - mean_squared_error: 364870.9688 - val_loss: 210681.0625 - val_mean_squared_error: 210670.9844\n",
            "Epoch 3/50\n",
            "338/338 [==============================] - 1s 3ms/step - loss: 315590.0312 - mean_squared_error: 315579.4688 - val_loss: 166737.7969 - val_mean_squared_error: 166726.8906\n",
            "Epoch 4/50\n",
            "338/338 [==============================] - 1s 3ms/step - loss: 289890.2812 - mean_squared_error: 289878.9062 - val_loss: 205623.7500 - val_mean_squared_error: 205611.8125\n",
            "Epoch 5/50\n",
            "338/338 [==============================] - 1s 3ms/step - loss: 263969.6875 - mean_squared_error: 263957.2500 - val_loss: 167066.2812 - val_mean_squared_error: 167053.5469\n",
            "Epoch 6/50\n",
            "338/338 [==============================] - 1s 3ms/step - loss: 246183.9531 - mean_squared_error: 246171.0156 - val_loss: 148185.9844 - val_mean_squared_error: 148172.8594\n",
            "Epoch 7/50\n",
            "338/338 [==============================] - 1s 3ms/step - loss: 244706.8281 - mean_squared_error: 244693.5156 - val_loss: 143354.9844 - val_mean_squared_error: 143341.3125\n",
            "Epoch 8/50\n",
            "338/338 [==============================] - 1s 3ms/step - loss: 235339.6562 - mean_squared_error: 235325.7031 - val_loss: 155573.5312 - val_mean_squared_error: 155559.3125\n",
            "Epoch 9/50\n",
            "338/338 [==============================] - 1s 3ms/step - loss: 224851.9844 - mean_squared_error: 224837.6094 - val_loss: 114327.8281 - val_mean_squared_error: 114313.1250\n",
            "Epoch 10/50\n",
            "338/338 [==============================] - 1s 3ms/step - loss: 222310.7500 - mean_squared_error: 222295.7969 - val_loss: 165172.4844 - val_mean_squared_error: 165157.3125\n",
            "Epoch 11/50\n",
            "338/338 [==============================] - 1s 3ms/step - loss: 216388.2500 - mean_squared_error: 216372.7656 - val_loss: 115445.3906 - val_mean_squared_error: 115429.6406\n",
            "Epoch 12/50\n",
            "338/338 [==============================] - 1s 3ms/step - loss: 203169.3281 - mean_squared_error: 203153.3594 - val_loss: 254586.3281 - val_mean_squared_error: 254570.0938\n",
            "Epoch 13/50\n",
            "338/338 [==============================] - 1s 3ms/step - loss: 204479.3438 - mean_squared_error: 204463.0156 - val_loss: 179704.5156 - val_mean_squared_error: 179687.8594\n",
            "Epoch 14/50\n",
            "338/338 [==============================] - 1s 3ms/step - loss: 199702.2812 - mean_squared_error: 199685.3438 - val_loss: 145884.5312 - val_mean_squared_error: 145867.3906\n",
            "Epoch 15/50\n",
            "338/338 [==============================] - 1s 3ms/step - loss: 191384.0312 - mean_squared_error: 191366.7188 - val_loss: 328804.4062 - val_mean_squared_error: 328787.0312\n",
            "Epoch 16/50\n",
            "338/338 [==============================] - 1s 3ms/step - loss: 194190.2031 - mean_squared_error: 194172.4375 - val_loss: 388515.0312 - val_mean_squared_error: 388496.9375\n",
            "Epoch 17/50\n",
            "338/338 [==============================] - 1s 3ms/step - loss: 195870.2969 - mean_squared_error: 195851.9062 - val_loss: 272791.6250 - val_mean_squared_error: 272773.0938\n",
            "Epoch 18/50\n",
            "338/338 [==============================] - 1s 3ms/step - loss: 186613.4062 - mean_squared_error: 186594.8125 - val_loss: 142228.2031 - val_mean_squared_error: 142209.1250\n",
            "Epoch 19/50\n",
            "338/338 [==============================] - 1s 3ms/step - loss: 185611.9219 - mean_squared_error: 185592.6094 - val_loss: 227830.9062 - val_mean_squared_error: 227811.3594\n"
          ]
        },
        {
          "data": {
            "text/plain": [
              "<keras.callbacks.History at 0x7f536c207a30>"
            ]
          },
          "execution_count": 96,
          "metadata": {},
          "output_type": "execute_result"
        }
      ],
      "source": [
        "model4.compile(optimizer = \"adam\", loss = \"mean_squared_error\", metrics = [\"mean_squared_error\"])\n",
        "model4.fit(x_train, y_train, epochs = 50, batch_size = 128, validation_data=(x_test, y_test), callbacks=[EarlyStopping(monitor='val_mean_squared_error', patience=10, restore_best_weights=True)])"
      ]
    },
    {
      "attachments": {},
      "cell_type": "markdown",
      "metadata": {},
      "source": [
        "Model Evaluation"
      ]
    },
    {
      "cell_type": "code",
      "execution_count": 97,
      "metadata": {},
      "outputs": [
        {
          "name": "stdout",
          "output_type": "stream",
          "text": [
            "338/338 [==============================] - 1s 2ms/step\n",
            "338/338 [==============================] - 1s 2ms/step - loss: 114327.8047 - mean_squared_error: 114313.1250\n"
          ]
        },
        {
          "data": {
            "text/plain": [
              "[114327.8046875, 114313.125]"
            ]
          },
          "execution_count": 97,
          "metadata": {},
          "output_type": "execute_result"
        }
      ],
      "source": [
        "pred = model4.predict(x_test)\n",
        "model4.evaluate(x_test, y_test)"
      ]
    },
    {
      "cell_type": "code",
      "execution_count": 98,
      "metadata": {},
      "outputs": [],
      "source": [
        "from sklearn.metrics import mean_absolute_error, mean_squared_error"
      ]
    },
    {
      "cell_type": "code",
      "execution_count": 99,
      "metadata": {},
      "outputs": [
        {
          "name": "stdout",
          "output_type": "stream",
          "text": [
            "Mean Squared error is : 114313.12\n",
            "Mean Absolute error is : 188.22\n"
          ]
        }
      ],
      "source": [
        "print(\"Mean Squared error is :\", round(mean_squared_error(y_test, pred),2))\n",
        "print(\"Mean Absolute error is :\", round(mean_absolute_error(y_test, pred),2))"
      ]
    },
    {
      "cell_type": "code",
      "execution_count": 107,
      "metadata": {},
      "outputs": [
        {
          "name": "stdout",
          "output_type": "stream",
          "text": [
            "Model: \"sequential_10\"\n",
            "_________________________________________________________________\n",
            " Layer (type)                Output Shape              Param #   \n",
            "=================================================================\n",
            " dense_67 (Dense)            (None, 128)               1152      \n",
            "                                                                 \n",
            " dense_68 (Dense)            (None, 128)               16512     \n",
            "                                                                 \n",
            " dropout_18 (Dropout)        (None, 128)               0         \n",
            "                                                                 \n",
            " dense_69 (Dense)            (None, 64)                8256      \n",
            "                                                                 \n",
            " dropout_19 (Dropout)        (None, 64)                0         \n",
            "                                                                 \n",
            " dense_70 (Dense)            (None, 32)                2080      \n",
            "                                                                 \n",
            " dense_71 (Dense)            (None, 16)                528       \n",
            "                                                                 \n",
            " dropout_20 (Dropout)        (None, 16)                0         \n",
            "                                                                 \n",
            " dense_72 (Dense)            (None, 8)                 136       \n",
            "                                                                 \n",
            " dense_73 (Dense)            (None, 1)                 9         \n",
            "                                                                 \n",
            "=================================================================\n",
            "Total params: 28,673\n",
            "Trainable params: 28,673\n",
            "Non-trainable params: 0\n",
            "_________________________________________________________________\n"
          ]
        }
      ],
      "source": [
        "model5 = Sequential()\n",
        "model5.add(Dense(128, input_shape = (8,), activation = \"relu\", kernel_regularizer=l1_l2(0.05)))\n",
        "model5.add(Dense(128, activation = \"relu\", kernel_regularizer=l1_l2(0.04)))\n",
        "model5.add(Dropout(0.1))\n",
        "model5.add(Dense(64, activation = \"relu\", kernel_regularizer=l1_l2(0.04)))\n",
        "model5.add(Dropout(0.1))\n",
        "model5.add(Dense(32, activation = \"relu\", kernel_regularizer=l1_l2(0.04)))\n",
        "model5.add(Dense(16, activation = \"relu\", kernel_regularizer=l1_l2(0.02)))\n",
        "model5.add(Dropout(0.05))\n",
        "model5.add(Dense(8, activation = \"relu\", kernel_regularizer=l1_l2(0.02)))\n",
        "model5.add(Dense(1, activation = 'linear'))\n",
        "model5.summary()"
      ]
    },
    {
      "cell_type": "code",
      "execution_count": 108,
      "metadata": {},
      "outputs": [
        {
          "name": "stdout",
          "output_type": "stream",
          "text": [
            "Epoch 1/50\n",
            "338/338 [==============================] - 2s 4ms/step - loss: 1067213.6250 - mean_squared_error: 1067118.1250 - val_loss: 841478.4375 - val_mean_squared_error: 841373.6250\n",
            "Epoch 2/50\n",
            "338/338 [==============================] - 1s 3ms/step - loss: 539767.9375 - mean_squared_error: 539654.6875 - val_loss: 275639.8438 - val_mean_squared_error: 275521.7500\n",
            "Epoch 3/50\n",
            "338/338 [==============================] - 1s 3ms/step - loss: 457866.7812 - mean_squared_error: 457739.8438 - val_loss: 2262308.5000 - val_mean_squared_error: 2262171.0000\n",
            "Epoch 4/50\n",
            "338/338 [==============================] - 1s 3ms/step - loss: 389034.4375 - mean_squared_error: 388896.5000 - val_loss: 825687.6875 - val_mean_squared_error: 825549.6250\n",
            "Epoch 5/50\n",
            "338/338 [==============================] - 1s 3ms/step - loss: 356404.9062 - mean_squared_error: 356263.6875 - val_loss: 540858.5625 - val_mean_squared_error: 540715.7500\n",
            "Epoch 6/50\n",
            "338/338 [==============================] - 1s 3ms/step - loss: 317830.2500 - mean_squared_error: 317684.5312 - val_loss: 224519.3750 - val_mean_squared_error: 224370.5156\n",
            "Epoch 7/50\n",
            "338/338 [==============================] - 1s 3ms/step - loss: 300612.3750 - mean_squared_error: 300462.6875 - val_loss: 549237.7500 - val_mean_squared_error: 549088.7500\n",
            "Epoch 8/50\n",
            "338/338 [==============================] - 1s 3ms/step - loss: 291538.0938 - mean_squared_error: 291388.0000 - val_loss: 760498.8750 - val_mean_squared_error: 760350.3125\n",
            "Epoch 9/50\n",
            "338/338 [==============================] - 1s 3ms/step - loss: 272749.5312 - mean_squared_error: 272598.9062 - val_loss: 843131.1875 - val_mean_squared_error: 842976.0625\n",
            "Epoch 10/50\n",
            "338/338 [==============================] - 1s 3ms/step - loss: 265617.8438 - mean_squared_error: 265466.4688 - val_loss: 373518.6875 - val_mean_squared_error: 373368.6562\n",
            "Epoch 11/50\n",
            "338/338 [==============================] - 1s 3ms/step - loss: 258326.1719 - mean_squared_error: 258174.4531 - val_loss: 379713.8750 - val_mean_squared_error: 379562.3750\n",
            "Epoch 12/50\n",
            "338/338 [==============================] - 1s 3ms/step - loss: 253241.0938 - mean_squared_error: 253088.9531 - val_loss: 103684.5547 - val_mean_squared_error: 103532.1797\n",
            "Epoch 13/50\n",
            "338/338 [==============================] - 1s 3ms/step - loss: 239481.6094 - mean_squared_error: 239329.6094 - val_loss: 138966.7188 - val_mean_squared_error: 138814.6875\n",
            "Epoch 14/50\n",
            "338/338 [==============================] - 1s 3ms/step - loss: 235599.7969 - mean_squared_error: 235448.7031 - val_loss: 326605.0312 - val_mean_squared_error: 326456.4062\n",
            "Epoch 15/50\n",
            "338/338 [==============================] - 1s 3ms/step - loss: 237873.8438 - mean_squared_error: 237725.2500 - val_loss: 421889.5625 - val_mean_squared_error: 421744.2500\n",
            "Epoch 16/50\n",
            "338/338 [==============================] - 1s 3ms/step - loss: 229361.8125 - mean_squared_error: 229215.5469 - val_loss: 92278.3125 - val_mean_squared_error: 92132.4141\n",
            "Epoch 17/50\n",
            "338/338 [==============================] - 1s 3ms/step - loss: 227586.3125 - mean_squared_error: 227440.5781 - val_loss: 215359.0938 - val_mean_squared_error: 215213.0938\n",
            "Epoch 18/50\n",
            "338/338 [==============================] - 1s 3ms/step - loss: 217112.3594 - mean_squared_error: 216965.6406 - val_loss: 378406.8125 - val_mean_squared_error: 378260.0938\n",
            "Epoch 19/50\n",
            "338/338 [==============================] - 1s 3ms/step - loss: 216314.7656 - mean_squared_error: 216167.3438 - val_loss: 169954.2656 - val_mean_squared_error: 169806.5781\n",
            "Epoch 20/50\n",
            "338/338 [==============================] - 1s 3ms/step - loss: 215404.7188 - mean_squared_error: 215256.6250 - val_loss: 475401.0312 - val_mean_squared_error: 475254.7812\n",
            "Epoch 21/50\n",
            "338/338 [==============================] - 1s 3ms/step - loss: 206440.5469 - mean_squared_error: 206294.1719 - val_loss: 597649.0000 - val_mean_squared_error: 597505.1250\n",
            "Epoch 22/50\n",
            "338/338 [==============================] - 1s 3ms/step - loss: 205770.9219 - mean_squared_error: 205625.4062 - val_loss: 237270.8750 - val_mean_squared_error: 237126.4219\n",
            "Epoch 23/50\n",
            "338/338 [==============================] - 1s 3ms/step - loss: 201688.4062 - mean_squared_error: 201543.1094 - val_loss: 133858.5938 - val_mean_squared_error: 133712.9531\n",
            "Epoch 24/50\n",
            "338/338 [==============================] - 1s 3ms/step - loss: 199242.2969 - mean_squared_error: 199096.3750 - val_loss: 107264.4062 - val_mean_squared_error: 107118.1719\n",
            "Epoch 25/50\n",
            "338/338 [==============================] - 1s 3ms/step - loss: 194240.2812 - mean_squared_error: 194095.6406 - val_loss: 96676.3984 - val_mean_squared_error: 96532.4922\n",
            "Epoch 26/50\n",
            "338/338 [==============================] - 1s 3ms/step - loss: 191284.3281 - mean_squared_error: 191141.0469 - val_loss: 93115.3125 - val_mean_squared_error: 92971.5391\n",
            "Epoch 27/50\n",
            "338/338 [==============================] - 1s 3ms/step - loss: 186651.8281 - mean_squared_error: 186508.6562 - val_loss: 121231.1172 - val_mean_squared_error: 121087.5391\n",
            "Epoch 28/50\n",
            "338/338 [==============================] - 1s 3ms/step - loss: 182890.4844 - mean_squared_error: 182747.5625 - val_loss: 985251.5000 - val_mean_squared_error: 985111.9375\n"
          ]
        },
        {
          "data": {
            "text/plain": [
              "<keras.callbacks.History at 0x7f52fc5307f0>"
            ]
          },
          "execution_count": 108,
          "metadata": {},
          "output_type": "execute_result"
        }
      ],
      "source": [
        "model5.compile(optimizer = RMSprop(learning_rate=0.01), loss = \"mean_squared_error\", metrics = [\"mean_squared_error\"])\n",
        "model5.fit(x_train, y_train, epochs = 50, batch_size = 128, validation_data=(x_test, y_test), callbacks=[EarlyStopping(monitor='val_mean_squared_error', patience=12, restore_best_weights=True)])"
      ]
    },
    {
      "cell_type": "code",
      "execution_count": 113,
      "metadata": {},
      "outputs": [
        {
          "name": "stdout",
          "output_type": "stream",
          "text": [
            "338/338 [==============================] - 1s 2ms/step\n",
            "338/338 [==============================] - 1s 2ms/step - loss: 92278.3125 - mean_squared_error: 92132.4062\n"
          ]
        },
        {
          "data": {
            "text/plain": [
              "[92278.3125, 92132.40625]"
            ]
          },
          "execution_count": 113,
          "metadata": {},
          "output_type": "execute_result"
        }
      ],
      "source": [
        "pred = model5.predict(x_test)\n",
        "model5.evaluate(x_test, y_test)"
      ]
    },
    {
      "cell_type": "code",
      "execution_count": 114,
      "metadata": {},
      "outputs": [
        {
          "name": "stdout",
          "output_type": "stream",
          "text": [
            "Mean Squared error is : 92132.42\n",
            "Mean Absolute error is : 167.6\n"
          ]
        }
      ],
      "source": [
        "print(\"Mean Squared error is :\", round(mean_squared_error(y_test, pred),2))\n",
        "print(\"Mean Absolute error is :\", round(mean_absolute_error(y_test, pred),2))"
      ]
    }
  ],
  "metadata": {
    "accelerator": "GPU",
    "colab": {
      "provenance": []
    },
    "gpuClass": "standard",
    "kernelspec": {
      "display_name": "Python 3",
      "name": "python3"
    },
    "language_info": {
      "codemirror_mode": {
        "name": "ipython",
        "version": 3
      },
      "file_extension": ".py",
      "mimetype": "text/x-python",
      "name": "python",
      "nbconvert_exporter": "python",
      "pygments_lexer": "ipython3",
      "version": "3.10.6"
    }
  },
  "nbformat": 4,
  "nbformat_minor": 0
}
