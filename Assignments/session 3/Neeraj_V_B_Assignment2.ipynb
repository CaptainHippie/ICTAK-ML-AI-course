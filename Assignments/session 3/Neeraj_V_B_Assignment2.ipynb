{
 "cells": [
  {
   "cell_type": "markdown",
   "metadata": {},
   "source": [
    "# Assignment 1 NumPy\n",
    "\n"
   ]
  },
  {
   "cell_type": "code",
   "execution_count": null,
   "metadata": {
    "jupyter": {
     "outputs_hidden": false
    }
   },
   "outputs": [],
   "source": [
    "#Import the libraries \n",
    "import numpy as np"
   ]
  },
  {
   "cell_type": "markdown",
   "metadata": {},
   "source": [
    "# Problem 1 \n",
    "Matrix Manipulations\n",
    "\n",
    "Lets first create a matrix and perform some manipulations of it.\n",
    "\n",
    "Using numpy's matrix data structure, define the following matricies:\n",
    "\n",
    "$$A=\\left[ \\begin{array}{ccc} 3 & 5 & 9 \\\\ 3 & 3 & 4 \\\\ 5 & 9 & 17 \\end{array} \\right]$$\n",
    "\n",
    "$$B=\\left[ \\begin{array}{c} 2 \\\\ 1 \\\\ 4 \\end{array} \\right]$$\n",
    "\n",
    "After this solve the matrix equation:\n",
    "$$Ax = B$$"
   ]
  },
  {
   "cell_type": "markdown",
   "metadata": {
    "collapsed": true,
    "jupyter": {
     "outputs_hidden": true
    }
   },
   "source": [
    "# Problem 2\n",
    "Create a result array by adding the following two NumPy arrays. Next, modify the result array by calculating the square of each element\n",
    "Input: $$arrayOne = \\left[\\begin{array}{ccc} 5& 6& 9\\\\ 21 & 18 & 27\\end{array}\\right]$$\n",
    "       $$arrayTwo = \\left[\\begin{array}{ccc} 15 &33& 24\\\\ 4 &7& 1\\end{array}\\right]$$\n",
    "\n"
   ]
  },
  {
   "attachments": {},
   "cell_type": "markdown",
   "metadata": {},
   "source": [
    "# Problem 3\n",
    "Print max from axis 0 and min from axis 1 from the following 2-D array.\\\n",
    "$$sampleArray = \\left[\\begin{array}{ccc} 34&43&73 \\\\ 82&22&12 \\\\ 53&94&66 \\end{array}\\right]$$\n",
    "\n",
    "\n"
   ]
  },
  {
   "cell_type": "markdown",
   "metadata": {},
   "source": [
    "# Problem 4\n",
    "Get the positions where elements of a and b match\\\n",
    "Input:  a = np.array([1,2,3,2,3,4,3,4,5,6])\\\n",
    "b = np.array([7,2,10,2,7,4,9,4,9,8])\\\n",
    "Desired Output: array([1, 3, 5, 7])"
   ]
  },
  {
   "cell_type": "markdown",
   "metadata": {},
   "source": [
    "# Problem 5\n",
    "Given \n",
    "$$a= \\left[\\begin{array}{cc} 1&2\\\\ 3&4 \\end{array}\\right]$$\n",
    "$$b = \\left[\\begin{array}{cc} 5&6 \\\\ 7&8 \\end{array}\\right]$$\n",
    "Obtain c and d\n",
    "$$c = \\left[\\begin{array}{cc} 1&2\\\\ 3&4 \\\\ 5&6 \\\\ 7&8 \\end{array}\\right]$$\n",
    "$$d = \\left[\\begin{array}{cccc} 1&2&5&6\\\\ 3&4&7&8 \\end{array}\\right]$$"
   ]
  },
  {
   "cell_type": "code",
   "execution_count": null,
   "metadata": {},
   "outputs": [],
   "source": []
  }
 ],
 "metadata": {
  "kernelspec": {
   "display_name": "Python 3 (ipykernel)",
   "language": "python",
   "name": "python3"
  },
  "language_info": {
   "codemirror_mode": {
    "name": "ipython",
    "version": 3
   },
   "file_extension": ".py",
   "mimetype": "text/x-python",
   "name": "python",
   "nbconvert_exporter": "python",
   "pygments_lexer": "ipython3",
   "version": "3.9.13"
  }
 },
 "nbformat": 4,
 "nbformat_minor": 4
}
