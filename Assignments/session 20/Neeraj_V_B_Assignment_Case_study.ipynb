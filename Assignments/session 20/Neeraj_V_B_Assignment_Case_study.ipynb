{
 "cells": [
  {
   "cell_type": "code",
   "execution_count": 1,
   "metadata": {},
   "outputs": [],
   "source": [
    "import pandas as pd\n",
    "import numpy as np\n",
    "import matplotlib.pyplot as plt\n",
    "import seaborn as sns"
   ]
  },
  {
   "cell_type": "code",
   "execution_count": 2,
   "metadata": {},
   "outputs": [
    {
     "data": {
      "text/html": [
       "<div>\n",
       "<style scoped>\n",
       "    .dataframe tbody tr th:only-of-type {\n",
       "        vertical-align: middle;\n",
       "    }\n",
       "\n",
       "    .dataframe tbody tr th {\n",
       "        vertical-align: top;\n",
       "    }\n",
       "\n",
       "    .dataframe thead th {\n",
       "        text-align: right;\n",
       "    }\n",
       "</style>\n",
       "<table border=\"1\" class=\"dataframe\">\n",
       "  <thead>\n",
       "    <tr style=\"text-align: right;\">\n",
       "      <th></th>\n",
       "      <th>1</th>\n",
       "      <th>2</th>\n",
       "      <th>3</th>\n",
       "      <th>4</th>\n",
       "      <th>5</th>\n",
       "      <th>6</th>\n",
       "      <th>7</th>\n",
       "      <th>8</th>\n",
       "      <th>9</th>\n",
       "      <th>10</th>\n",
       "      <th>...</th>\n",
       "      <th>6821</th>\n",
       "      <th>6822</th>\n",
       "      <th>6823</th>\n",
       "      <th>6824</th>\n",
       "      <th>6825</th>\n",
       "      <th>6826</th>\n",
       "      <th>6827</th>\n",
       "      <th>6828</th>\n",
       "      <th>6829</th>\n",
       "      <th>6830</th>\n",
       "    </tr>\n",
       "  </thead>\n",
       "  <tbody>\n",
       "    <tr>\n",
       "      <th>V1</th>\n",
       "      <td>0.300000</td>\n",
       "      <td>1.180000</td>\n",
       "      <td>0.550000</td>\n",
       "      <td>1.140000</td>\n",
       "      <td>-0.265000</td>\n",
       "      <td>-7.000000e-02</td>\n",
       "      <td>0.350000</td>\n",
       "      <td>-0.315000</td>\n",
       "      <td>-0.450000</td>\n",
       "      <td>-0.654980</td>\n",
       "      <td>...</td>\n",
       "      <td>-0.990020</td>\n",
       "      <td>0.000000</td>\n",
       "      <td>0.030000</td>\n",
       "      <td>-0.175000</td>\n",
       "      <td>0.629981</td>\n",
       "      <td>-0.030000</td>\n",
       "      <td>0.000000</td>\n",
       "      <td>0.280000</td>\n",
       "      <td>-0.340000</td>\n",
       "      <td>-1.930000</td>\n",
       "    </tr>\n",
       "    <tr>\n",
       "      <th>V2</th>\n",
       "      <td>0.679961</td>\n",
       "      <td>1.289961</td>\n",
       "      <td>0.169961</td>\n",
       "      <td>0.379961</td>\n",
       "      <td>0.464961</td>\n",
       "      <td>5.799610e-01</td>\n",
       "      <td>0.699961</td>\n",
       "      <td>0.724961</td>\n",
       "      <td>-0.040039</td>\n",
       "      <td>-0.285019</td>\n",
       "      <td>...</td>\n",
       "      <td>-0.270058</td>\n",
       "      <td>-0.300039</td>\n",
       "      <td>-0.250039</td>\n",
       "      <td>-0.535039</td>\n",
       "      <td>0.109941</td>\n",
       "      <td>-0.860039</td>\n",
       "      <td>-1.250049</td>\n",
       "      <td>-0.770039</td>\n",
       "      <td>-0.390039</td>\n",
       "      <td>-2.000039</td>\n",
       "    </tr>\n",
       "    <tr>\n",
       "      <th>V3</th>\n",
       "      <td>0.940000</td>\n",
       "      <td>-0.040000</td>\n",
       "      <td>-0.170000</td>\n",
       "      <td>-0.040000</td>\n",
       "      <td>-0.605000</td>\n",
       "      <td>0.000000e+00</td>\n",
       "      <td>0.090000</td>\n",
       "      <td>0.645000</td>\n",
       "      <td>0.430000</td>\n",
       "      <td>0.475019</td>\n",
       "      <td>...</td>\n",
       "      <td>0.319981</td>\n",
       "      <td>0.120000</td>\n",
       "      <td>-0.740000</td>\n",
       "      <td>-0.595000</td>\n",
       "      <td>-0.270020</td>\n",
       "      <td>-0.150000</td>\n",
       "      <td>0.000000</td>\n",
       "      <td>-0.120000</td>\n",
       "      <td>-0.410000</td>\n",
       "      <td>0.000000</td>\n",
       "    </tr>\n",
       "    <tr>\n",
       "      <th>V4</th>\n",
       "      <td>0.280000</td>\n",
       "      <td>-0.310000</td>\n",
       "      <td>0.680000</td>\n",
       "      <td>-0.810000</td>\n",
       "      <td>0.625000</td>\n",
       "      <td>-1.387779e-17</td>\n",
       "      <td>0.170000</td>\n",
       "      <td>0.245000</td>\n",
       "      <td>0.020000</td>\n",
       "      <td>0.095019</td>\n",
       "      <td>...</td>\n",
       "      <td>-1.240020</td>\n",
       "      <td>-0.110000</td>\n",
       "      <td>-0.160000</td>\n",
       "      <td>0.095000</td>\n",
       "      <td>-0.350019</td>\n",
       "      <td>-0.300000</td>\n",
       "      <td>-1.150010</td>\n",
       "      <td>1.090000</td>\n",
       "      <td>-0.260000</td>\n",
       "      <td>-1.100000</td>\n",
       "    </tr>\n",
       "    <tr>\n",
       "      <th>V5</th>\n",
       "      <td>0.485000</td>\n",
       "      <td>-0.465000</td>\n",
       "      <td>0.395000</td>\n",
       "      <td>0.905000</td>\n",
       "      <td>0.200000</td>\n",
       "      <td>-5.000000e-03</td>\n",
       "      <td>0.085000</td>\n",
       "      <td>0.110000</td>\n",
       "      <td>0.235000</td>\n",
       "      <td>1.490019</td>\n",
       "      <td>...</td>\n",
       "      <td>0.554980</td>\n",
       "      <td>-0.775000</td>\n",
       "      <td>-0.515000</td>\n",
       "      <td>-0.320000</td>\n",
       "      <td>0.634980</td>\n",
       "      <td>0.605000</td>\n",
       "      <td>0.000000</td>\n",
       "      <td>0.745000</td>\n",
       "      <td>0.425000</td>\n",
       "      <td>0.145000</td>\n",
       "    </tr>\n",
       "    <tr>\n",
       "      <th>V6</th>\n",
       "      <td>0.310000</td>\n",
       "      <td>-0.030000</td>\n",
       "      <td>-0.100000</td>\n",
       "      <td>-0.460000</td>\n",
       "      <td>-0.205000</td>\n",
       "      <td>-5.400000e-01</td>\n",
       "      <td>-0.640000</td>\n",
       "      <td>-0.585000</td>\n",
       "      <td>-0.770000</td>\n",
       "      <td>-0.244980</td>\n",
       "      <td>...</td>\n",
       "      <td>-0.590020</td>\n",
       "      <td>0.000000</td>\n",
       "      <td>-0.740000</td>\n",
       "      <td>-2.095000</td>\n",
       "      <td>-1.390020</td>\n",
       "      <td>-0.400000</td>\n",
       "      <td>0.699990</td>\n",
       "      <td>0.290000</td>\n",
       "      <td>0.550000</td>\n",
       "      <td>0.000000</td>\n",
       "    </tr>\n",
       "    <tr>\n",
       "      <th>V7</th>\n",
       "      <td>-0.830000</td>\n",
       "      <td>0.000000</td>\n",
       "      <td>0.130000</td>\n",
       "      <td>-1.630000</td>\n",
       "      <td>0.075000</td>\n",
       "      <td>-3.600000e-01</td>\n",
       "      <td>0.100000</td>\n",
       "      <td>0.155000</td>\n",
       "      <td>-0.290000</td>\n",
       "      <td>-0.084981</td>\n",
       "      <td>...</td>\n",
       "      <td>0.189980</td>\n",
       "      <td>-0.220000</td>\n",
       "      <td>-0.030000</td>\n",
       "      <td>-0.495000</td>\n",
       "      <td>0.929980</td>\n",
       "      <td>0.470000</td>\n",
       "      <td>0.129990</td>\n",
       "      <td>-0.300000</td>\n",
       "      <td>0.570000</td>\n",
       "      <td>0.000000</td>\n",
       "    </tr>\n",
       "    <tr>\n",
       "      <th>V8</th>\n",
       "      <td>-0.190000</td>\n",
       "      <td>-0.870000</td>\n",
       "      <td>-0.450000</td>\n",
       "      <td>0.080000</td>\n",
       "      <td>0.005000</td>\n",
       "      <td>3.500000e-01</td>\n",
       "      <td>-0.040000</td>\n",
       "      <td>-0.265000</td>\n",
       "      <td>-0.310000</td>\n",
       "      <td>-0.244980</td>\n",
       "      <td>...</td>\n",
       "      <td>-0.210019</td>\n",
       "      <td>-0.170000</td>\n",
       "      <td>-0.420000</td>\n",
       "      <td>-0.395000</td>\n",
       "      <td>-0.570020</td>\n",
       "      <td>-0.090000</td>\n",
       "      <td>-0.700010</td>\n",
       "      <td>-0.540000</td>\n",
       "      <td>-0.450000</td>\n",
       "      <td>-2.090000</td>\n",
       "    </tr>\n",
       "    <tr>\n",
       "      <th>V9</th>\n",
       "      <td>0.460000</td>\n",
       "      <td>0.000000</td>\n",
       "      <td>1.150000</td>\n",
       "      <td>-1.400000</td>\n",
       "      <td>-0.005000</td>\n",
       "      <td>-7.000000e-01</td>\n",
       "      <td>-0.920000</td>\n",
       "      <td>-0.515000</td>\n",
       "      <td>-0.280000</td>\n",
       "      <td>-0.114980</td>\n",
       "      <td>...</td>\n",
       "      <td>0.089980</td>\n",
       "      <td>0.560000</td>\n",
       "      <td>0.410000</td>\n",
       "      <td>0.705000</td>\n",
       "      <td>-0.200019</td>\n",
       "      <td>-0.330000</td>\n",
       "      <td>-0.600010</td>\n",
       "      <td>0.830000</td>\n",
       "      <td>-0.030000</td>\n",
       "      <td>0.650000</td>\n",
       "    </tr>\n",
       "    <tr>\n",
       "      <th>V10</th>\n",
       "      <td>0.760000</td>\n",
       "      <td>1.490000</td>\n",
       "      <td>0.280000</td>\n",
       "      <td>0.100000</td>\n",
       "      <td>-0.525000</td>\n",
       "      <td>3.600000e-01</td>\n",
       "      <td>0.600000</td>\n",
       "      <td>0.175000</td>\n",
       "      <td>0.580000</td>\n",
       "      <td>1.145019</td>\n",
       "      <td>...</td>\n",
       "      <td>0.299980</td>\n",
       "      <td>-0.590000</td>\n",
       "      <td>-0.410000</td>\n",
       "      <td>-0.375000</td>\n",
       "      <td>-1.150020</td>\n",
       "      <td>-0.330000</td>\n",
       "      <td>-1.220010</td>\n",
       "      <td>-0.170000</td>\n",
       "      <td>-0.110000</td>\n",
       "      <td>-1.790000</td>\n",
       "    </tr>\n",
       "  </tbody>\n",
       "</table>\n",
       "<p>10 rows × 6830 columns</p>\n",
       "</div>"
      ],
      "text/plain": [
       "            1         2         3         4         5             6         7  \\\n",
       "V1   0.300000  1.180000  0.550000  1.140000 -0.265000 -7.000000e-02  0.350000   \n",
       "V2   0.679961  1.289961  0.169961  0.379961  0.464961  5.799610e-01  0.699961   \n",
       "V3   0.940000 -0.040000 -0.170000 -0.040000 -0.605000  0.000000e+00  0.090000   \n",
       "V4   0.280000 -0.310000  0.680000 -0.810000  0.625000 -1.387779e-17  0.170000   \n",
       "V5   0.485000 -0.465000  0.395000  0.905000  0.200000 -5.000000e-03  0.085000   \n",
       "V6   0.310000 -0.030000 -0.100000 -0.460000 -0.205000 -5.400000e-01 -0.640000   \n",
       "V7  -0.830000  0.000000  0.130000 -1.630000  0.075000 -3.600000e-01  0.100000   \n",
       "V8  -0.190000 -0.870000 -0.450000  0.080000  0.005000  3.500000e-01 -0.040000   \n",
       "V9   0.460000  0.000000  1.150000 -1.400000 -0.005000 -7.000000e-01 -0.920000   \n",
       "V10  0.760000  1.490000  0.280000  0.100000 -0.525000  3.600000e-01  0.600000   \n",
       "\n",
       "            8         9        10  ...      6821      6822      6823  \\\n",
       "V1  -0.315000 -0.450000 -0.654980  ... -0.990020  0.000000  0.030000   \n",
       "V2   0.724961 -0.040039 -0.285019  ... -0.270058 -0.300039 -0.250039   \n",
       "V3   0.645000  0.430000  0.475019  ...  0.319981  0.120000 -0.740000   \n",
       "V4   0.245000  0.020000  0.095019  ... -1.240020 -0.110000 -0.160000   \n",
       "V5   0.110000  0.235000  1.490019  ...  0.554980 -0.775000 -0.515000   \n",
       "V6  -0.585000 -0.770000 -0.244980  ... -0.590020  0.000000 -0.740000   \n",
       "V7   0.155000 -0.290000 -0.084981  ...  0.189980 -0.220000 -0.030000   \n",
       "V8  -0.265000 -0.310000 -0.244980  ... -0.210019 -0.170000 -0.420000   \n",
       "V9  -0.515000 -0.280000 -0.114980  ...  0.089980  0.560000  0.410000   \n",
       "V10  0.175000  0.580000  1.145019  ...  0.299980 -0.590000 -0.410000   \n",
       "\n",
       "         6824      6825      6826      6827      6828      6829      6830  \n",
       "V1  -0.175000  0.629981 -0.030000  0.000000  0.280000 -0.340000 -1.930000  \n",
       "V2  -0.535039  0.109941 -0.860039 -1.250049 -0.770039 -0.390039 -2.000039  \n",
       "V3  -0.595000 -0.270020 -0.150000  0.000000 -0.120000 -0.410000  0.000000  \n",
       "V4   0.095000 -0.350019 -0.300000 -1.150010  1.090000 -0.260000 -1.100000  \n",
       "V5  -0.320000  0.634980  0.605000  0.000000  0.745000  0.425000  0.145000  \n",
       "V6  -2.095000 -1.390020 -0.400000  0.699990  0.290000  0.550000  0.000000  \n",
       "V7  -0.495000  0.929980  0.470000  0.129990 -0.300000  0.570000  0.000000  \n",
       "V8  -0.395000 -0.570020 -0.090000 -0.700010 -0.540000 -0.450000 -2.090000  \n",
       "V9   0.705000 -0.200019 -0.330000 -0.600010  0.830000 -0.030000  0.650000  \n",
       "V10 -0.375000 -1.150020 -0.330000 -1.220010 -0.170000 -0.110000 -1.790000  \n",
       "\n",
       "[10 rows x 6830 columns]"
      ]
     },
     "execution_count": 2,
     "metadata": {},
     "output_type": "execute_result"
    }
   ],
   "source": [
    "df = pd.read_csv('data/NCI60_X.csv',index_col=0)\n",
    "df.head(10)"
   ]
  },
  {
   "cell_type": "code",
   "execution_count": 3,
   "metadata": {},
   "outputs": [
    {
     "name": "stdout",
     "output_type": "stream",
     "text": [
      "<class 'pandas.core.frame.DataFrame'>\n",
      "Index: 64 entries, V1 to V64\n",
      "Columns: 6830 entries, 1 to 6830\n",
      "dtypes: float64(6830)\n",
      "memory usage: 3.3+ MB\n"
     ]
    }
   ],
   "source": [
    "df.info()"
   ]
  },
  {
   "cell_type": "code",
   "execution_count": 4,
   "metadata": {},
   "outputs": [],
   "source": [
    "x_raw = df.copy()"
   ]
  },
  {
   "cell_type": "code",
   "execution_count": 5,
   "metadata": {},
   "outputs": [],
   "source": [
    "from sklearn.cluster import KMeans, AgglomerativeClustering\n",
    "from sklearn.preprocessing import StandardScaler\n",
    "from sklearn.metrics import silhouette_score"
   ]
  },
  {
   "attachments": {},
   "cell_type": "markdown",
   "metadata": {},
   "source": [
    "Standard scaling all columns"
   ]
  },
  {
   "cell_type": "code",
   "execution_count": 6,
   "metadata": {},
   "outputs": [],
   "source": [
    "scaler = StandardScaler()\n",
    "x_scaled = scaler.fit_transform(x_raw)"
   ]
  },
  {
   "attachments": {},
   "cell_type": "markdown",
   "metadata": {},
   "source": [
    "creating 4 kmeans clusters"
   ]
  },
  {
   "cell_type": "code",
   "execution_count": 7,
   "metadata": {},
   "outputs": [
    {
     "data": {
      "text/html": [
       "<style>#sk-container-id-1 {color: black;background-color: white;}#sk-container-id-1 pre{padding: 0;}#sk-container-id-1 div.sk-toggleable {background-color: white;}#sk-container-id-1 label.sk-toggleable__label {cursor: pointer;display: block;width: 100%;margin-bottom: 0;padding: 0.3em;box-sizing: border-box;text-align: center;}#sk-container-id-1 label.sk-toggleable__label-arrow:before {content: \"▸\";float: left;margin-right: 0.25em;color: #696969;}#sk-container-id-1 label.sk-toggleable__label-arrow:hover:before {color: black;}#sk-container-id-1 div.sk-estimator:hover label.sk-toggleable__label-arrow:before {color: black;}#sk-container-id-1 div.sk-toggleable__content {max-height: 0;max-width: 0;overflow: hidden;text-align: left;background-color: #f0f8ff;}#sk-container-id-1 div.sk-toggleable__content pre {margin: 0.2em;color: black;border-radius: 0.25em;background-color: #f0f8ff;}#sk-container-id-1 input.sk-toggleable__control:checked~div.sk-toggleable__content {max-height: 200px;max-width: 100%;overflow: auto;}#sk-container-id-1 input.sk-toggleable__control:checked~label.sk-toggleable__label-arrow:before {content: \"▾\";}#sk-container-id-1 div.sk-estimator input.sk-toggleable__control:checked~label.sk-toggleable__label {background-color: #d4ebff;}#sk-container-id-1 div.sk-label input.sk-toggleable__control:checked~label.sk-toggleable__label {background-color: #d4ebff;}#sk-container-id-1 input.sk-hidden--visually {border: 0;clip: rect(1px 1px 1px 1px);clip: rect(1px, 1px, 1px, 1px);height: 1px;margin: -1px;overflow: hidden;padding: 0;position: absolute;width: 1px;}#sk-container-id-1 div.sk-estimator {font-family: monospace;background-color: #f0f8ff;border: 1px dotted black;border-radius: 0.25em;box-sizing: border-box;margin-bottom: 0.5em;}#sk-container-id-1 div.sk-estimator:hover {background-color: #d4ebff;}#sk-container-id-1 div.sk-parallel-item::after {content: \"\";width: 100%;border-bottom: 1px solid gray;flex-grow: 1;}#sk-container-id-1 div.sk-label:hover label.sk-toggleable__label {background-color: #d4ebff;}#sk-container-id-1 div.sk-serial::before {content: \"\";position: absolute;border-left: 1px solid gray;box-sizing: border-box;top: 0;bottom: 0;left: 50%;z-index: 0;}#sk-container-id-1 div.sk-serial {display: flex;flex-direction: column;align-items: center;background-color: white;padding-right: 0.2em;padding-left: 0.2em;position: relative;}#sk-container-id-1 div.sk-item {position: relative;z-index: 1;}#sk-container-id-1 div.sk-parallel {display: flex;align-items: stretch;justify-content: center;background-color: white;position: relative;}#sk-container-id-1 div.sk-item::before, #sk-container-id-1 div.sk-parallel-item::before {content: \"\";position: absolute;border-left: 1px solid gray;box-sizing: border-box;top: 0;bottom: 0;left: 50%;z-index: -1;}#sk-container-id-1 div.sk-parallel-item {display: flex;flex-direction: column;z-index: 1;position: relative;background-color: white;}#sk-container-id-1 div.sk-parallel-item:first-child::after {align-self: flex-end;width: 50%;}#sk-container-id-1 div.sk-parallel-item:last-child::after {align-self: flex-start;width: 50%;}#sk-container-id-1 div.sk-parallel-item:only-child::after {width: 0;}#sk-container-id-1 div.sk-dashed-wrapped {border: 1px dashed gray;margin: 0 0.4em 0.5em 0.4em;box-sizing: border-box;padding-bottom: 0.4em;background-color: white;}#sk-container-id-1 div.sk-label label {font-family: monospace;font-weight: bold;display: inline-block;line-height: 1.2em;}#sk-container-id-1 div.sk-label-container {text-align: center;}#sk-container-id-1 div.sk-container {/* jupyter's `normalize.less` sets `[hidden] { display: none; }` but bootstrap.min.css set `[hidden] { display: none !important; }` so we also need the `!important` here to be able to override the default hidden behavior on the sphinx rendered scikit-learn.org. See: https://github.com/scikit-learn/scikit-learn/issues/21755 */display: inline-block !important;position: relative;}#sk-container-id-1 div.sk-text-repr-fallback {display: none;}</style><div id=\"sk-container-id-1\" class=\"sk-top-container\"><div class=\"sk-text-repr-fallback\"><pre>KMeans(n_clusters=4)</pre><b>In a Jupyter environment, please rerun this cell to show the HTML representation or trust the notebook. <br />On GitHub, the HTML representation is unable to render, please try loading this page with nbviewer.org.</b></div><div class=\"sk-container\" hidden><div class=\"sk-item\"><div class=\"sk-estimator sk-toggleable\"><input class=\"sk-toggleable__control sk-hidden--visually\" id=\"sk-estimator-id-1\" type=\"checkbox\" checked><label for=\"sk-estimator-id-1\" class=\"sk-toggleable__label sk-toggleable__label-arrow\">KMeans</label><div class=\"sk-toggleable__content\"><pre>KMeans(n_clusters=4)</pre></div></div></div></div></div>"
      ],
      "text/plain": [
       "KMeans(n_clusters=4)"
      ]
     },
     "execution_count": 7,
     "metadata": {},
     "output_type": "execute_result"
    }
   ],
   "source": [
    "kmc = KMeans(n_clusters=4)\n",
    "kmc.fit(x_scaled)"
   ]
  },
  {
   "attachments": {},
   "cell_type": "markdown",
   "metadata": {},
   "source": [
    "creating 4 agglomerative clusters"
   ]
  },
  {
   "cell_type": "code",
   "execution_count": 8,
   "metadata": {},
   "outputs": [
    {
     "data": {
      "text/html": [
       "<style>#sk-container-id-2 {color: black;background-color: white;}#sk-container-id-2 pre{padding: 0;}#sk-container-id-2 div.sk-toggleable {background-color: white;}#sk-container-id-2 label.sk-toggleable__label {cursor: pointer;display: block;width: 100%;margin-bottom: 0;padding: 0.3em;box-sizing: border-box;text-align: center;}#sk-container-id-2 label.sk-toggleable__label-arrow:before {content: \"▸\";float: left;margin-right: 0.25em;color: #696969;}#sk-container-id-2 label.sk-toggleable__label-arrow:hover:before {color: black;}#sk-container-id-2 div.sk-estimator:hover label.sk-toggleable__label-arrow:before {color: black;}#sk-container-id-2 div.sk-toggleable__content {max-height: 0;max-width: 0;overflow: hidden;text-align: left;background-color: #f0f8ff;}#sk-container-id-2 div.sk-toggleable__content pre {margin: 0.2em;color: black;border-radius: 0.25em;background-color: #f0f8ff;}#sk-container-id-2 input.sk-toggleable__control:checked~div.sk-toggleable__content {max-height: 200px;max-width: 100%;overflow: auto;}#sk-container-id-2 input.sk-toggleable__control:checked~label.sk-toggleable__label-arrow:before {content: \"▾\";}#sk-container-id-2 div.sk-estimator input.sk-toggleable__control:checked~label.sk-toggleable__label {background-color: #d4ebff;}#sk-container-id-2 div.sk-label input.sk-toggleable__control:checked~label.sk-toggleable__label {background-color: #d4ebff;}#sk-container-id-2 input.sk-hidden--visually {border: 0;clip: rect(1px 1px 1px 1px);clip: rect(1px, 1px, 1px, 1px);height: 1px;margin: -1px;overflow: hidden;padding: 0;position: absolute;width: 1px;}#sk-container-id-2 div.sk-estimator {font-family: monospace;background-color: #f0f8ff;border: 1px dotted black;border-radius: 0.25em;box-sizing: border-box;margin-bottom: 0.5em;}#sk-container-id-2 div.sk-estimator:hover {background-color: #d4ebff;}#sk-container-id-2 div.sk-parallel-item::after {content: \"\";width: 100%;border-bottom: 1px solid gray;flex-grow: 1;}#sk-container-id-2 div.sk-label:hover label.sk-toggleable__label {background-color: #d4ebff;}#sk-container-id-2 div.sk-serial::before {content: \"\";position: absolute;border-left: 1px solid gray;box-sizing: border-box;top: 0;bottom: 0;left: 50%;z-index: 0;}#sk-container-id-2 div.sk-serial {display: flex;flex-direction: column;align-items: center;background-color: white;padding-right: 0.2em;padding-left: 0.2em;position: relative;}#sk-container-id-2 div.sk-item {position: relative;z-index: 1;}#sk-container-id-2 div.sk-parallel {display: flex;align-items: stretch;justify-content: center;background-color: white;position: relative;}#sk-container-id-2 div.sk-item::before, #sk-container-id-2 div.sk-parallel-item::before {content: \"\";position: absolute;border-left: 1px solid gray;box-sizing: border-box;top: 0;bottom: 0;left: 50%;z-index: -1;}#sk-container-id-2 div.sk-parallel-item {display: flex;flex-direction: column;z-index: 1;position: relative;background-color: white;}#sk-container-id-2 div.sk-parallel-item:first-child::after {align-self: flex-end;width: 50%;}#sk-container-id-2 div.sk-parallel-item:last-child::after {align-self: flex-start;width: 50%;}#sk-container-id-2 div.sk-parallel-item:only-child::after {width: 0;}#sk-container-id-2 div.sk-dashed-wrapped {border: 1px dashed gray;margin: 0 0.4em 0.5em 0.4em;box-sizing: border-box;padding-bottom: 0.4em;background-color: white;}#sk-container-id-2 div.sk-label label {font-family: monospace;font-weight: bold;display: inline-block;line-height: 1.2em;}#sk-container-id-2 div.sk-label-container {text-align: center;}#sk-container-id-2 div.sk-container {/* jupyter's `normalize.less` sets `[hidden] { display: none; }` but bootstrap.min.css set `[hidden] { display: none !important; }` so we also need the `!important` here to be able to override the default hidden behavior on the sphinx rendered scikit-learn.org. See: https://github.com/scikit-learn/scikit-learn/issues/21755 */display: inline-block !important;position: relative;}#sk-container-id-2 div.sk-text-repr-fallback {display: none;}</style><div id=\"sk-container-id-2\" class=\"sk-top-container\"><div class=\"sk-text-repr-fallback\"><pre>AgglomerativeClustering(n_clusters=4)</pre><b>In a Jupyter environment, please rerun this cell to show the HTML representation or trust the notebook. <br />On GitHub, the HTML representation is unable to render, please try loading this page with nbviewer.org.</b></div><div class=\"sk-container\" hidden><div class=\"sk-item\"><div class=\"sk-estimator sk-toggleable\"><input class=\"sk-toggleable__control sk-hidden--visually\" id=\"sk-estimator-id-2\" type=\"checkbox\" checked><label for=\"sk-estimator-id-2\" class=\"sk-toggleable__label sk-toggleable__label-arrow\">AgglomerativeClustering</label><div class=\"sk-toggleable__content\"><pre>AgglomerativeClustering(n_clusters=4)</pre></div></div></div></div></div>"
      ],
      "text/plain": [
       "AgglomerativeClustering(n_clusters=4)"
      ]
     },
     "execution_count": 8,
     "metadata": {},
     "output_type": "execute_result"
    }
   ],
   "source": [
    "agg = AgglomerativeClustering(n_clusters=4)\n",
    "agg.fit(x_scaled)"
   ]
  },
  {
   "cell_type": "code",
   "execution_count": 9,
   "metadata": {},
   "outputs": [],
   "source": [
    "kmc_score = silhouette_score(x_scaled, kmc.labels_, metric = 'euclidean')\n",
    "agg_score = silhouette_score(x_scaled, agg.labels_, metric = 'euclidean')"
   ]
  },
  {
   "cell_type": "code",
   "execution_count": 10,
   "metadata": {},
   "outputs": [],
   "source": [
    "from sklearn.decomposition import PCA"
   ]
  },
  {
   "attachments": {},
   "cell_type": "markdown",
   "metadata": {},
   "source": [
    "Reducing features to 25 principal components"
   ]
  },
  {
   "cell_type": "code",
   "execution_count": 11,
   "metadata": {},
   "outputs": [],
   "source": [
    "pca = PCA(n_components=25)\n",
    "x_scaled_pca = pca.fit_transform(x_scaled)"
   ]
  },
  {
   "cell_type": "code",
   "execution_count": 12,
   "metadata": {},
   "outputs": [
    {
     "data": {
      "text/html": [
       "<div>\n",
       "<style scoped>\n",
       "    .dataframe tbody tr th:only-of-type {\n",
       "        vertical-align: middle;\n",
       "    }\n",
       "\n",
       "    .dataframe tbody tr th {\n",
       "        vertical-align: top;\n",
       "    }\n",
       "\n",
       "    .dataframe thead th {\n",
       "        text-align: right;\n",
       "    }\n",
       "</style>\n",
       "<table border=\"1\" class=\"dataframe\">\n",
       "  <thead>\n",
       "    <tr style=\"text-align: right;\">\n",
       "      <th></th>\n",
       "      <th>0</th>\n",
       "      <th>1</th>\n",
       "      <th>2</th>\n",
       "      <th>3</th>\n",
       "      <th>4</th>\n",
       "      <th>5</th>\n",
       "      <th>6</th>\n",
       "      <th>7</th>\n",
       "      <th>8</th>\n",
       "      <th>9</th>\n",
       "      <th>...</th>\n",
       "      <th>15</th>\n",
       "      <th>16</th>\n",
       "      <th>17</th>\n",
       "      <th>18</th>\n",
       "      <th>19</th>\n",
       "      <th>20</th>\n",
       "      <th>21</th>\n",
       "      <th>22</th>\n",
       "      <th>23</th>\n",
       "      <th>24</th>\n",
       "    </tr>\n",
       "  </thead>\n",
       "  <tbody>\n",
       "    <tr>\n",
       "      <th>0</th>\n",
       "      <td>-19.837922</td>\n",
       "      <td>-3.556709</td>\n",
       "      <td>-9.813077</td>\n",
       "      <td>-0.829050</td>\n",
       "      <td>12.603045</td>\n",
       "      <td>7.487612</td>\n",
       "      <td>14.184651</td>\n",
       "      <td>-3.187169</td>\n",
       "      <td>22.047830</td>\n",
       "      <td>-20.734430</td>\n",
       "      <td>...</td>\n",
       "      <td>-6.547890</td>\n",
       "      <td>19.478629</td>\n",
       "      <td>10.254629</td>\n",
       "      <td>8.420043</td>\n",
       "      <td>4.570476</td>\n",
       "      <td>-7.030686</td>\n",
       "      <td>-8.683078</td>\n",
       "      <td>-11.872395</td>\n",
       "      <td>12.781880</td>\n",
       "      <td>-9.188400</td>\n",
       "    </tr>\n",
       "    <tr>\n",
       "      <th>1</th>\n",
       "      <td>-23.089265</td>\n",
       "      <td>-6.440586</td>\n",
       "      <td>-13.479945</td>\n",
       "      <td>5.633946</td>\n",
       "      <td>8.039835</td>\n",
       "      <td>3.704302</td>\n",
       "      <td>10.110062</td>\n",
       "      <td>-7.357792</td>\n",
       "      <td>22.412886</td>\n",
       "      <td>-13.837204</td>\n",
       "      <td>...</td>\n",
       "      <td>5.249472</td>\n",
       "      <td>18.639120</td>\n",
       "      <td>6.333310</td>\n",
       "      <td>11.088491</td>\n",
       "      <td>16.290213</td>\n",
       "      <td>2.422432</td>\n",
       "      <td>-9.334830</td>\n",
       "      <td>-5.383187</td>\n",
       "      <td>10.759745</td>\n",
       "      <td>-4.855262</td>\n",
       "    </tr>\n",
       "    <tr>\n",
       "      <th>2</th>\n",
       "      <td>-27.456089</td>\n",
       "      <td>-2.465385</td>\n",
       "      <td>-3.532241</td>\n",
       "      <td>-1.357396</td>\n",
       "      <td>12.558320</td>\n",
       "      <td>17.350768</td>\n",
       "      <td>10.370434</td>\n",
       "      <td>-2.648433</td>\n",
       "      <td>-0.234753</td>\n",
       "      <td>-6.768361</td>\n",
       "      <td>...</td>\n",
       "      <td>-7.864411</td>\n",
       "      <td>12.211726</td>\n",
       "      <td>-1.140433</td>\n",
       "      <td>-2.529523</td>\n",
       "      <td>5.858554</td>\n",
       "      <td>-0.633083</td>\n",
       "      <td>7.693193</td>\n",
       "      <td>4.148859</td>\n",
       "      <td>0.709215</td>\n",
       "      <td>-2.544320</td>\n",
       "    </tr>\n",
       "    <tr>\n",
       "      <th>3</th>\n",
       "      <td>-42.816808</td>\n",
       "      <td>9.767721</td>\n",
       "      <td>-0.889045</td>\n",
       "      <td>3.442682</td>\n",
       "      <td>42.255995</td>\n",
       "      <td>27.235973</td>\n",
       "      <td>17.557540</td>\n",
       "      <td>-0.530678</td>\n",
       "      <td>14.211893</td>\n",
       "      <td>16.508761</td>\n",
       "      <td>...</td>\n",
       "      <td>-20.692524</td>\n",
       "      <td>-3.228257</td>\n",
       "      <td>0.788916</td>\n",
       "      <td>2.511039</td>\n",
       "      <td>-0.814866</td>\n",
       "      <td>8.269260</td>\n",
       "      <td>-17.192431</td>\n",
       "      <td>-6.276947</td>\n",
       "      <td>-16.952846</td>\n",
       "      <td>7.839527</td>\n",
       "    </tr>\n",
       "    <tr>\n",
       "      <th>4</th>\n",
       "      <td>-55.418670</td>\n",
       "      <td>5.200681</td>\n",
       "      <td>-21.096149</td>\n",
       "      <td>15.847014</td>\n",
       "      <td>10.467658</td>\n",
       "      <td>12.970534</td>\n",
       "      <td>12.552774</td>\n",
       "      <td>32.386505</td>\n",
       "      <td>-7.855514</td>\n",
       "      <td>-10.455047</td>\n",
       "      <td>...</td>\n",
       "      <td>-3.841573</td>\n",
       "      <td>-20.169211</td>\n",
       "      <td>-18.277404</td>\n",
       "      <td>-3.695341</td>\n",
       "      <td>4.138593</td>\n",
       "      <td>4.249357</td>\n",
       "      <td>8.709447</td>\n",
       "      <td>-6.531621</td>\n",
       "      <td>-11.041868</td>\n",
       "      <td>-16.132223</td>\n",
       "    </tr>\n",
       "    <tr>\n",
       "      <th>5</th>\n",
       "      <td>-27.178090</td>\n",
       "      <td>-6.779642</td>\n",
       "      <td>-21.816109</td>\n",
       "      <td>13.844911</td>\n",
       "      <td>-7.991001</td>\n",
       "      <td>0.707358</td>\n",
       "      <td>27.980747</td>\n",
       "      <td>31.244623</td>\n",
       "      <td>-10.915576</td>\n",
       "      <td>1.328298</td>\n",
       "      <td>...</td>\n",
       "      <td>-16.990854</td>\n",
       "      <td>-3.111948</td>\n",
       "      <td>9.526480</td>\n",
       "      <td>-6.144143</td>\n",
       "      <td>-29.210547</td>\n",
       "      <td>-5.883147</td>\n",
       "      <td>-7.908163</td>\n",
       "      <td>8.018439</td>\n",
       "      <td>2.873421</td>\n",
       "      <td>25.047959</td>\n",
       "    </tr>\n",
       "    <tr>\n",
       "      <th>6</th>\n",
       "      <td>-31.446156</td>\n",
       "      <td>-3.862969</td>\n",
       "      <td>-30.352621</td>\n",
       "      <td>41.688820</td>\n",
       "      <td>-10.412839</td>\n",
       "      <td>-17.011885</td>\n",
       "      <td>23.724993</td>\n",
       "      <td>-0.915725</td>\n",
       "      <td>14.063038</td>\n",
       "      <td>-8.255355</td>\n",
       "      <td>...</td>\n",
       "      <td>14.300186</td>\n",
       "      <td>-15.433822</td>\n",
       "      <td>-10.368090</td>\n",
       "      <td>13.548530</td>\n",
       "      <td>9.955911</td>\n",
       "      <td>-12.399419</td>\n",
       "      <td>-1.219155</td>\n",
       "      <td>-7.130827</td>\n",
       "      <td>7.811213</td>\n",
       "      <td>5.192214</td>\n",
       "    </tr>\n",
       "    <tr>\n",
       "      <th>7</th>\n",
       "      <td>-22.332538</td>\n",
       "      <td>-10.395151</td>\n",
       "      <td>-18.755855</td>\n",
       "      <td>6.974779</td>\n",
       "      <td>5.542044</td>\n",
       "      <td>11.705361</td>\n",
       "      <td>11.761207</td>\n",
       "      <td>22.794015</td>\n",
       "      <td>-3.752483</td>\n",
       "      <td>-5.006886</td>\n",
       "      <td>...</td>\n",
       "      <td>9.965470</td>\n",
       "      <td>17.680005</td>\n",
       "      <td>-2.896586</td>\n",
       "      <td>-5.838182</td>\n",
       "      <td>-8.784883</td>\n",
       "      <td>27.856169</td>\n",
       "      <td>1.367292</td>\n",
       "      <td>3.238011</td>\n",
       "      <td>-18.934644</td>\n",
       "      <td>-8.430080</td>\n",
       "    </tr>\n",
       "    <tr>\n",
       "      <th>8</th>\n",
       "      <td>-14.289788</td>\n",
       "      <td>-16.111027</td>\n",
       "      <td>-19.758178</td>\n",
       "      <td>6.576967</td>\n",
       "      <td>3.781135</td>\n",
       "      <td>-8.011857</td>\n",
       "      <td>-13.098951</td>\n",
       "      <td>7.209085</td>\n",
       "      <td>0.912752</td>\n",
       "      <td>-8.181110</td>\n",
       "      <td>...</td>\n",
       "      <td>-6.353896</td>\n",
       "      <td>2.188336</td>\n",
       "      <td>-7.653406</td>\n",
       "      <td>0.262557</td>\n",
       "      <td>-3.645477</td>\n",
       "      <td>-11.728830</td>\n",
       "      <td>14.968153</td>\n",
       "      <td>-1.365514</td>\n",
       "      <td>1.771626</td>\n",
       "      <td>-9.589869</td>\n",
       "    </tr>\n",
       "    <tr>\n",
       "      <th>9</th>\n",
       "      <td>-29.748111</td>\n",
       "      <td>-23.993437</td>\n",
       "      <td>-5.884051</td>\n",
       "      <td>-10.014191</td>\n",
       "      <td>-3.450814</td>\n",
       "      <td>11.706664</td>\n",
       "      <td>0.557858</td>\n",
       "      <td>8.059077</td>\n",
       "      <td>-20.051653</td>\n",
       "      <td>-27.663877</td>\n",
       "      <td>...</td>\n",
       "      <td>12.290105</td>\n",
       "      <td>-8.114928</td>\n",
       "      <td>38.784286</td>\n",
       "      <td>-13.979516</td>\n",
       "      <td>17.736099</td>\n",
       "      <td>9.456580</td>\n",
       "      <td>28.975614</td>\n",
       "      <td>5.694518</td>\n",
       "      <td>4.092431</td>\n",
       "      <td>14.522182</td>\n",
       "    </tr>\n",
       "  </tbody>\n",
       "</table>\n",
       "<p>10 rows × 25 columns</p>\n",
       "</div>"
      ],
      "text/plain": [
       "          0          1          2          3          4          5   \\\n",
       "0 -19.837922  -3.556709  -9.813077  -0.829050  12.603045   7.487612   \n",
       "1 -23.089265  -6.440586 -13.479945   5.633946   8.039835   3.704302   \n",
       "2 -27.456089  -2.465385  -3.532241  -1.357396  12.558320  17.350768   \n",
       "3 -42.816808   9.767721  -0.889045   3.442682  42.255995  27.235973   \n",
       "4 -55.418670   5.200681 -21.096149  15.847014  10.467658  12.970534   \n",
       "5 -27.178090  -6.779642 -21.816109  13.844911  -7.991001   0.707358   \n",
       "6 -31.446156  -3.862969 -30.352621  41.688820 -10.412839 -17.011885   \n",
       "7 -22.332538 -10.395151 -18.755855   6.974779   5.542044  11.705361   \n",
       "8 -14.289788 -16.111027 -19.758178   6.576967   3.781135  -8.011857   \n",
       "9 -29.748111 -23.993437  -5.884051 -10.014191  -3.450814  11.706664   \n",
       "\n",
       "          6          7          8          9   ...         15         16  \\\n",
       "0  14.184651  -3.187169  22.047830 -20.734430  ...  -6.547890  19.478629   \n",
       "1  10.110062  -7.357792  22.412886 -13.837204  ...   5.249472  18.639120   \n",
       "2  10.370434  -2.648433  -0.234753  -6.768361  ...  -7.864411  12.211726   \n",
       "3  17.557540  -0.530678  14.211893  16.508761  ... -20.692524  -3.228257   \n",
       "4  12.552774  32.386505  -7.855514 -10.455047  ...  -3.841573 -20.169211   \n",
       "5  27.980747  31.244623 -10.915576   1.328298  ... -16.990854  -3.111948   \n",
       "6  23.724993  -0.915725  14.063038  -8.255355  ...  14.300186 -15.433822   \n",
       "7  11.761207  22.794015  -3.752483  -5.006886  ...   9.965470  17.680005   \n",
       "8 -13.098951   7.209085   0.912752  -8.181110  ...  -6.353896   2.188336   \n",
       "9   0.557858   8.059077 -20.051653 -27.663877  ...  12.290105  -8.114928   \n",
       "\n",
       "          17         18         19         20         21         22  \\\n",
       "0  10.254629   8.420043   4.570476  -7.030686  -8.683078 -11.872395   \n",
       "1   6.333310  11.088491  16.290213   2.422432  -9.334830  -5.383187   \n",
       "2  -1.140433  -2.529523   5.858554  -0.633083   7.693193   4.148859   \n",
       "3   0.788916   2.511039  -0.814866   8.269260 -17.192431  -6.276947   \n",
       "4 -18.277404  -3.695341   4.138593   4.249357   8.709447  -6.531621   \n",
       "5   9.526480  -6.144143 -29.210547  -5.883147  -7.908163   8.018439   \n",
       "6 -10.368090  13.548530   9.955911 -12.399419  -1.219155  -7.130827   \n",
       "7  -2.896586  -5.838182  -8.784883  27.856169   1.367292   3.238011   \n",
       "8  -7.653406   0.262557  -3.645477 -11.728830  14.968153  -1.365514   \n",
       "9  38.784286 -13.979516  17.736099   9.456580  28.975614   5.694518   \n",
       "\n",
       "          23         24  \n",
       "0  12.781880  -9.188400  \n",
       "1  10.759745  -4.855262  \n",
       "2   0.709215  -2.544320  \n",
       "3 -16.952846   7.839527  \n",
       "4 -11.041868 -16.132223  \n",
       "5   2.873421  25.047959  \n",
       "6   7.811213   5.192214  \n",
       "7 -18.934644  -8.430080  \n",
       "8   1.771626  -9.589869  \n",
       "9   4.092431  14.522182  \n",
       "\n",
       "[10 rows x 25 columns]"
      ]
     },
     "execution_count": 12,
     "metadata": {},
     "output_type": "execute_result"
    }
   ],
   "source": [
    "scaled_pca_df = pd.DataFrame(x_scaled_pca)\n",
    "scaled_pca_df.head(10)"
   ]
  },
  {
   "cell_type": "code",
   "execution_count": 13,
   "metadata": {},
   "outputs": [
    {
     "name": "stdout",
     "output_type": "stream",
     "text": [
      "[0.11358942 0.06756202 0.05751842 0.04247547 0.03734964 0.03618621\n",
      " 0.03066211 0.02685837 0.0252933  0.02375098 0.0235542  0.02163616\n",
      " 0.02047736 0.01976946 0.01914633 0.01769217 0.01659276 0.01605762\n",
      " 0.01588125 0.01557134 0.01497665 0.01474998 0.01428692 0.01356469\n",
      " 0.01309162]\n",
      "0.7182944736449139\n"
     ]
    }
   ],
   "source": [
    "print(pca.explained_variance_ratio_)\n",
    "print(pca.explained_variance_ratio_.sum())"
   ]
  },
  {
   "cell_type": "code",
   "execution_count": 14,
   "metadata": {},
   "outputs": [
    {
     "data": {
      "image/png": "[encoded data removed]",
      "text/plain": [
       "<Figure size 432x288 with 1 Axes>"
      ]
     },
     "metadata": {
      "needs_background": "light"
     },
     "output_type": "display_data"
    }
   ],
   "source": [
    "ax = sns.lineplot(pca.explained_variance_)\n",
    "ax.set_title(\"Scree plot\")\n",
    "ax.set_xlabel(\"Index of principal components\")\n",
    "ax.set_ylabel(\"The explained variance\")\n",
    "plt.show()"
   ]
  },
  {
   "cell_type": "code",
   "execution_count": 15,
   "metadata": {},
   "outputs": [
    {
     "data": {
      "image/png": "[encoded data removed]",
      "text/plain": [
       "<Figure size 720x432 with 1 Axes>"
      ]
     },
     "metadata": {
      "needs_background": "light"
     },
     "output_type": "display_data"
    }
   ],
   "source": [
    "plt.figure(figsize=(10,6))\n",
    "plt.scatter(x_scaled_pca[:,0],x_scaled_pca[:,1],edgecolors='k',alpha=0.75,s=150)\n",
    "plt.grid(True)\n",
    "plt.title(\"Class separation using first two principal components\\n\",fontsize=20)\n",
    "plt.xlabel(\"Principal component-1\",fontsize=15)\n",
    "plt.ylabel(\"Principal component-2\",fontsize=15)\n",
    "plt.show()"
   ]
  },
  {
   "attachments": {},
   "cell_type": "markdown",
   "metadata": {},
   "source": [
    "creating 4 kmeans clusters on pca reduced dataset"
   ]
  },
  {
   "cell_type": "code",
   "execution_count": 16,
   "metadata": {},
   "outputs": [
    {
     "data": {
      "text/html": [
       "<style>#sk-container-id-3 {color: black;background-color: white;}#sk-container-id-3 pre{padding: 0;}#sk-container-id-3 div.sk-toggleable {background-color: white;}#sk-container-id-3 label.sk-toggleable__label {cursor: pointer;display: block;width: 100%;margin-bottom: 0;padding: 0.3em;box-sizing: border-box;text-align: center;}#sk-container-id-3 label.sk-toggleable__label-arrow:before {content: \"▸\";float: left;margin-right: 0.25em;color: #696969;}#sk-container-id-3 label.sk-toggleable__label-arrow:hover:before {color: black;}#sk-container-id-3 div.sk-estimator:hover label.sk-toggleable__label-arrow:before {color: black;}#sk-container-id-3 div.sk-toggleable__content {max-height: 0;max-width: 0;overflow: hidden;text-align: left;background-color: #f0f8ff;}#sk-container-id-3 div.sk-toggleable__content pre {margin: 0.2em;color: black;border-radius: 0.25em;background-color: #f0f8ff;}#sk-container-id-3 input.sk-toggleable__control:checked~div.sk-toggleable__content {max-height: 200px;max-width: 100%;overflow: auto;}#sk-container-id-3 input.sk-toggleable__control:checked~label.sk-toggleable__label-arrow:before {content: \"▾\";}#sk-container-id-3 div.sk-estimator input.sk-toggleable__control:checked~label.sk-toggleable__label {background-color: #d4ebff;}#sk-container-id-3 div.sk-label input.sk-toggleable__control:checked~label.sk-toggleable__label {background-color: #d4ebff;}#sk-container-id-3 input.sk-hidden--visually {border: 0;clip: rect(1px 1px 1px 1px);clip: rect(1px, 1px, 1px, 1px);height: 1px;margin: -1px;overflow: hidden;padding: 0;position: absolute;width: 1px;}#sk-container-id-3 div.sk-estimator {font-family: monospace;background-color: #f0f8ff;border: 1px dotted black;border-radius: 0.25em;box-sizing: border-box;margin-bottom: 0.5em;}#sk-container-id-3 div.sk-estimator:hover {background-color: #d4ebff;}#sk-container-id-3 div.sk-parallel-item::after {content: \"\";width: 100%;border-bottom: 1px solid gray;flex-grow: 1;}#sk-container-id-3 div.sk-label:hover label.sk-toggleable__label {background-color: #d4ebff;}#sk-container-id-3 div.sk-serial::before {content: \"\";position: absolute;border-left: 1px solid gray;box-sizing: border-box;top: 0;bottom: 0;left: 50%;z-index: 0;}#sk-container-id-3 div.sk-serial {display: flex;flex-direction: column;align-items: center;background-color: white;padding-right: 0.2em;padding-left: 0.2em;position: relative;}#sk-container-id-3 div.sk-item {position: relative;z-index: 1;}#sk-container-id-3 div.sk-parallel {display: flex;align-items: stretch;justify-content: center;background-color: white;position: relative;}#sk-container-id-3 div.sk-item::before, #sk-container-id-3 div.sk-parallel-item::before {content: \"\";position: absolute;border-left: 1px solid gray;box-sizing: border-box;top: 0;bottom: 0;left: 50%;z-index: -1;}#sk-container-id-3 div.sk-parallel-item {display: flex;flex-direction: column;z-index: 1;position: relative;background-color: white;}#sk-container-id-3 div.sk-parallel-item:first-child::after {align-self: flex-end;width: 50%;}#sk-container-id-3 div.sk-parallel-item:last-child::after {align-self: flex-start;width: 50%;}#sk-container-id-3 div.sk-parallel-item:only-child::after {width: 0;}#sk-container-id-3 div.sk-dashed-wrapped {border: 1px dashed gray;margin: 0 0.4em 0.5em 0.4em;box-sizing: border-box;padding-bottom: 0.4em;background-color: white;}#sk-container-id-3 div.sk-label label {font-family: monospace;font-weight: bold;display: inline-block;line-height: 1.2em;}#sk-container-id-3 div.sk-label-container {text-align: center;}#sk-container-id-3 div.sk-container {/* jupyter's `normalize.less` sets `[hidden] { display: none; }` but bootstrap.min.css set `[hidden] { display: none !important; }` so we also need the `!important` here to be able to override the default hidden behavior on the sphinx rendered scikit-learn.org. See: https://github.com/scikit-learn/scikit-learn/issues/21755 */display: inline-block !important;position: relative;}#sk-container-id-3 div.sk-text-repr-fallback {display: none;}</style><div id=\"sk-container-id-3\" class=\"sk-top-container\"><div class=\"sk-text-repr-fallback\"><pre>KMeans(n_clusters=4)</pre><b>In a Jupyter environment, please rerun this cell to show the HTML representation or trust the notebook. <br />On GitHub, the HTML representation is unable to render, please try loading this page with nbviewer.org.</b></div><div class=\"sk-container\" hidden><div class=\"sk-item\"><div class=\"sk-estimator sk-toggleable\"><input class=\"sk-toggleable__control sk-hidden--visually\" id=\"sk-estimator-id-3\" type=\"checkbox\" checked><label for=\"sk-estimator-id-3\" class=\"sk-toggleable__label sk-toggleable__label-arrow\">KMeans</label><div class=\"sk-toggleable__content\"><pre>KMeans(n_clusters=4)</pre></div></div></div></div></div>"
      ],
      "text/plain": [
       "KMeans(n_clusters=4)"
      ]
     },
     "execution_count": 16,
     "metadata": {},
     "output_type": "execute_result"
    }
   ],
   "source": [
    "kmc_pca = KMeans(n_clusters=4)\n",
    "kmc_pca.fit(x_scaled_pca)"
   ]
  },
  {
   "attachments": {},
   "cell_type": "markdown",
   "metadata": {},
   "source": [
    "creating 4 agglomerative clusters on pca reduced dataset"
   ]
  },
  {
   "cell_type": "code",
   "execution_count": 17,
   "metadata": {},
   "outputs": [
    {
     "data": {
      "text/html": [
       "<style>#sk-container-id-4 {color: black;background-color: white;}#sk-container-id-4 pre{padding: 0;}#sk-container-id-4 div.sk-toggleable {background-color: white;}#sk-container-id-4 label.sk-toggleable__label {cursor: pointer;display: block;width: 100%;margin-bottom: 0;padding: 0.3em;box-sizing: border-box;text-align: center;}#sk-container-id-4 label.sk-toggleable__label-arrow:before {content: \"▸\";float: left;margin-right: 0.25em;color: #696969;}#sk-container-id-4 label.sk-toggleable__label-arrow:hover:before {color: black;}#sk-container-id-4 div.sk-estimator:hover label.sk-toggleable__label-arrow:before {color: black;}#sk-container-id-4 div.sk-toggleable__content {max-height: 0;max-width: 0;overflow: hidden;text-align: left;background-color: #f0f8ff;}#sk-container-id-4 div.sk-toggleable__content pre {margin: 0.2em;color: black;border-radius: 0.25em;background-color: #f0f8ff;}#sk-container-id-4 input.sk-toggleable__control:checked~div.sk-toggleable__content {max-height: 200px;max-width: 100%;overflow: auto;}#sk-container-id-4 input.sk-toggleable__control:checked~label.sk-toggleable__label-arrow:before {content: \"▾\";}#sk-container-id-4 div.sk-estimator input.sk-toggleable__control:checked~label.sk-toggleable__label {background-color: #d4ebff;}#sk-container-id-4 div.sk-label input.sk-toggleable__control:checked~label.sk-toggleable__label {background-color: #d4ebff;}#sk-container-id-4 input.sk-hidden--visually {border: 0;clip: rect(1px 1px 1px 1px);clip: rect(1px, 1px, 1px, 1px);height: 1px;margin: -1px;overflow: hidden;padding: 0;position: absolute;width: 1px;}#sk-container-id-4 div.sk-estimator {font-family: monospace;background-color: #f0f8ff;border: 1px dotted black;border-radius: 0.25em;box-sizing: border-box;margin-bottom: 0.5em;}#sk-container-id-4 div.sk-estimator:hover {background-color: #d4ebff;}#sk-container-id-4 div.sk-parallel-item::after {content: \"\";width: 100%;border-bottom: 1px solid gray;flex-grow: 1;}#sk-container-id-4 div.sk-label:hover label.sk-toggleable__label {background-color: #d4ebff;}#sk-container-id-4 div.sk-serial::before {content: \"\";position: absolute;border-left: 1px solid gray;box-sizing: border-box;top: 0;bottom: 0;left: 50%;z-index: 0;}#sk-container-id-4 div.sk-serial {display: flex;flex-direction: column;align-items: center;background-color: white;padding-right: 0.2em;padding-left: 0.2em;position: relative;}#sk-container-id-4 div.sk-item {position: relative;z-index: 1;}#sk-container-id-4 div.sk-parallel {display: flex;align-items: stretch;justify-content: center;background-color: white;position: relative;}#sk-container-id-4 div.sk-item::before, #sk-container-id-4 div.sk-parallel-item::before {content: \"\";position: absolute;border-left: 1px solid gray;box-sizing: border-box;top: 0;bottom: 0;left: 50%;z-index: -1;}#sk-container-id-4 div.sk-parallel-item {display: flex;flex-direction: column;z-index: 1;position: relative;background-color: white;}#sk-container-id-4 div.sk-parallel-item:first-child::after {align-self: flex-end;width: 50%;}#sk-container-id-4 div.sk-parallel-item:last-child::after {align-self: flex-start;width: 50%;}#sk-container-id-4 div.sk-parallel-item:only-child::after {width: 0;}#sk-container-id-4 div.sk-dashed-wrapped {border: 1px dashed gray;margin: 0 0.4em 0.5em 0.4em;box-sizing: border-box;padding-bottom: 0.4em;background-color: white;}#sk-container-id-4 div.sk-label label {font-family: monospace;font-weight: bold;display: inline-block;line-height: 1.2em;}#sk-container-id-4 div.sk-label-container {text-align: center;}#sk-container-id-4 div.sk-container {/* jupyter's `normalize.less` sets `[hidden] { display: none; }` but bootstrap.min.css set `[hidden] { display: none !important; }` so we also need the `!important` here to be able to override the default hidden behavior on the sphinx rendered scikit-learn.org. See: https://github.com/scikit-learn/scikit-learn/issues/21755 */display: inline-block !important;position: relative;}#sk-container-id-4 div.sk-text-repr-fallback {display: none;}</style><div id=\"sk-container-id-4\" class=\"sk-top-container\"><div class=\"sk-text-repr-fallback\"><pre>AgglomerativeClustering(n_clusters=4)</pre><b>In a Jupyter environment, please rerun this cell to show the HTML representation or trust the notebook. <br />On GitHub, the HTML representation is unable to render, please try loading this page with nbviewer.org.</b></div><div class=\"sk-container\" hidden><div class=\"sk-item\"><div class=\"sk-estimator sk-toggleable\"><input class=\"sk-toggleable__control sk-hidden--visually\" id=\"sk-estimator-id-4\" type=\"checkbox\" checked><label for=\"sk-estimator-id-4\" class=\"sk-toggleable__label sk-toggleable__label-arrow\">AgglomerativeClustering</label><div class=\"sk-toggleable__content\"><pre>AgglomerativeClustering(n_clusters=4)</pre></div></div></div></div></div>"
      ],
      "text/plain": [
       "AgglomerativeClustering(n_clusters=4)"
      ]
     },
     "execution_count": 17,
     "metadata": {},
     "output_type": "execute_result"
    }
   ],
   "source": [
    "agg_pca = AgglomerativeClustering(n_clusters=4)\n",
    "agg_pca.fit(x_scaled_pca)"
   ]
  },
  {
   "cell_type": "code",
   "execution_count": 18,
   "metadata": {},
   "outputs": [],
   "source": [
    "kmc_score_pca = silhouette_score(x_scaled_pca, kmc_pca.labels_, metric = 'euclidean')\n",
    "agg_score_pca = silhouette_score(x_scaled_pca, agg_pca.labels_, metric = 'euclidean')"
   ]
  },
  {
   "attachments": {},
   "cell_type": "markdown",
   "metadata": {},
   "source": [
    "## Comparing scores"
   ]
  },
  {
   "cell_type": "code",
   "execution_count": 19,
   "metadata": {},
   "outputs": [],
   "source": [
    "comparison = (('Raw Data', kmc_score, agg_score),\n",
    "      ('PCA reduced', kmc_score_pca, agg_score_pca))"
   ]
  },
  {
   "cell_type": "code",
   "execution_count": 20,
   "metadata": {},
   "outputs": [
    {
     "data": {
      "text/html": [
       "<div>\n",
       "<style scoped>\n",
       "    .dataframe tbody tr th:only-of-type {\n",
       "        vertical-align: middle;\n",
       "    }\n",
       "\n",
       "    .dataframe tbody tr th {\n",
       "        vertical-align: top;\n",
       "    }\n",
       "\n",
       "    .dataframe thead th {\n",
       "        text-align: right;\n",
       "    }\n",
       "</style>\n",
       "<table border=\"1\" class=\"dataframe\">\n",
       "  <thead>\n",
       "    <tr style=\"text-align: right;\">\n",
       "      <th></th>\n",
       "      <th>KMeans</th>\n",
       "      <th>Agglomerative</th>\n",
       "    </tr>\n",
       "    <tr>\n",
       "      <th>Dataset</th>\n",
       "      <th></th>\n",
       "      <th></th>\n",
       "    </tr>\n",
       "  </thead>\n",
       "  <tbody>\n",
       "    <tr>\n",
       "      <th>Raw Data</th>\n",
       "      <td>0.072993</td>\n",
       "      <td>0.076382</td>\n",
       "    </tr>\n",
       "    <tr>\n",
       "      <th>PCA reduced</th>\n",
       "      <td>0.141810</td>\n",
       "      <td>0.127651</td>\n",
       "    </tr>\n",
       "  </tbody>\n",
       "</table>\n",
       "</div>"
      ],
      "text/plain": [
       "               KMeans  Agglomerative\n",
       "Dataset                             \n",
       "Raw Data     0.072993       0.076382\n",
       "PCA reduced  0.141810       0.127651"
      ]
     },
     "execution_count": 20,
     "metadata": {},
     "output_type": "execute_result"
    }
   ],
   "source": [
    "comparison_df = pd.DataFrame(comparison, columns = [\"Dataset\", \"KMeans\", \"Agglomerative\"])\n",
    "comparison_df.set_index('Dataset', inplace=True)\n",
    "comparison_df"
   ]
  },
  {
   "cell_type": "code",
   "execution_count": 21,
   "metadata": {},
   "outputs": [
    {
     "data": {
      "image/png": "[encoded data removed]",
      "text/plain": [
       "<Figure size 432x288 with 2 Axes>"
      ]
     },
     "metadata": {
      "needs_background": "light"
     },
     "output_type": "display_data"
    }
   ],
   "source": [
    "sil_comparison = sns.heatmap(comparison_df,cmap='binary', annot=True)\n",
    "sil_comparison.set_title(\"Silhoutte Score comparison\",fontsize=15)\n",
    "plt.show()"
   ]
  },
  {
   "attachments": {},
   "cell_type": "markdown",
   "metadata": {},
   "source": [
    "Therefore K means clustering on PCA reduced dataset gives the best score"
   ]
  },
  {
   "attachments": {},
   "cell_type": "markdown",
   "metadata": {},
   "source": [
    "### Plotting Comparison"
   ]
  },
  {
   "cell_type": "code",
   "execution_count": 22,
   "metadata": {},
   "outputs": [
    {
     "data": {
      "image/png": "[encoded data removed]",
      "text/plain": [
       "<Figure size 432x288 with 1 Axes>"
      ]
     },
     "metadata": {
      "needs_background": "light"
     },
     "output_type": "display_data"
    }
   ],
   "source": [
    "y_kmc = kmc.fit_predict(x_scaled)\n",
    "plt.scatter(x_scaled[y_kmc==0, 0], x_scaled[y_kmc==0, 1], s=50, c='red', label ='KMC Cluster 1')\n",
    "plt.scatter(x_scaled[y_kmc==1, 0], x_scaled[y_kmc==1, 1], s=50, c='blue', label ='KMC Cluster 2')\n",
    "plt.scatter(x_scaled[y_kmc==2, 0], x_scaled[y_kmc==2, 1], s=50, c='green', label ='KMC Cluster 3')\n",
    "plt.scatter(x_scaled[y_kmc==3, 0], x_scaled[y_kmc==3, 1], s=50, c='cyan', label ='KMC Cluster 4')\n",
    "#Plot the centroid. This time we're going to use the cluster centres  #attribute that returns here the coordinates of the centroid.\n",
    "plt.scatter(kmc.cluster_centers_[:, 0], kmc.cluster_centers_[:, 1], s=100, c='yellow',edgecolors='k', label = 'Centroids KMC')\n",
    "plt.title('KMeans Clusters')\n",
    "plt.show()"
   ]
  },
  {
   "cell_type": "code",
   "execution_count": 23,
   "metadata": {},
   "outputs": [
    {
     "data": {
      "image/png": "[encoded data removed]",
      "text/plain": [
       "<Figure size 432x288 with 1 Axes>"
      ]
     },
     "metadata": {
      "needs_background": "light"
     },
     "output_type": "display_data"
    }
   ],
   "source": [
    "y_kmc_pca = kmc_pca.fit_predict(x_scaled_pca)\n",
    "plt.scatter(x_scaled_pca[y_kmc_pca==0, 0], x_scaled_pca[y_kmc_pca==0, 1], s=50, c='red', label ='KMC PCA Cluster 1')\n",
    "plt.scatter(x_scaled_pca[y_kmc_pca==1, 0], x_scaled_pca[y_kmc_pca==1, 1], s=50, c='blue', label ='KMC PCA Cluster 2')\n",
    "plt.scatter(x_scaled_pca[y_kmc_pca==2, 0], x_scaled_pca[y_kmc_pca==2, 1], s=50, c='green', label ='KMC PCA Cluster 3')\n",
    "plt.scatter(x_scaled_pca[y_kmc_pca==3, 0], x_scaled_pca[y_kmc_pca==3, 1], s=50, c='cyan', label ='KMC PCA Cluster 4')\n",
    "#Plot the centroid. This time we're going to use the cluster centres  #attribute that returns here the coordinates of the centroid.\n",
    "plt.scatter(kmc_pca.cluster_centers_[:, 0], kmc_pca.cluster_centers_[:, 1], s=100, c='yellow',edgecolors='k', label = 'Centroids KMC PCA')\n",
    "plt.title('KMeans Clusters after PCA reduction')\n",
    "plt.show()"
   ]
  },
  {
   "cell_type": "code",
   "execution_count": 24,
   "metadata": {},
   "outputs": [
    {
     "data": {
      "image/png": "[encoded data removed]",
      "text/plain": [
       "<Figure size 432x288 with 1 Axes>"
      ]
     },
     "metadata": {
      "needs_background": "light"
     },
     "output_type": "display_data"
    }
   ],
   "source": [
    "y_agg = agg.fit_predict(x_scaled)\n",
    "plt.scatter(x_scaled[y_agg==0, 0], x_scaled[y_agg==0, 1], s=50, c='red', label ='Agg Cluster 1')\n",
    "plt.scatter(x_scaled[y_agg==1, 0], x_scaled[y_agg==1, 1], s=50, c='blue', label ='Agg Cluster 2')\n",
    "plt.scatter(x_scaled[y_agg==2, 0], x_scaled[y_agg==2, 1], s=50, c='green', label ='Agg Cluster 3')\n",
    "plt.scatter(x_scaled[y_agg==3, 0], x_scaled[y_agg==3, 1], s=50, c='cyan', label ='Agg Cluster 4')\n",
    "#Plot the centroid. This time we're going to use the cluster centres  #attribute that returns here the coordinates of the centroid.\n",
    "#plt.scatter(agg.cluster_centers_[:, 0], agg.cluster_centers_[:, 1], s=100, c='yellow',edgecolors='k', label = 'Centroids Agg')\n",
    "plt.title('Agglomerative Clusters')\n",
    "plt.show()"
   ]
  },
  {
   "cell_type": "code",
   "execution_count": 25,
   "metadata": {},
   "outputs": [
    {
     "data": {
      "image/png": "[encoded data removed]",
      "text/plain": [
       "<Figure size 432x288 with 1 Axes>"
      ]
     },
     "metadata": {
      "needs_background": "light"
     },
     "output_type": "display_data"
    }
   ],
   "source": [
    "y_agg_pca = agg_pca.fit_predict(x_scaled_pca)\n",
    "plt.scatter(x_scaled_pca[y_agg_pca==0, 0], x_scaled_pca[y_agg_pca==0, 1], s=50, c='red', label ='Agg PCA Cluster 1')\n",
    "plt.scatter(x_scaled_pca[y_agg_pca==1, 0], x_scaled_pca[y_agg_pca==1, 1], s=50, c='blue', label ='Agg PCA Cluster 2')\n",
    "plt.scatter(x_scaled_pca[y_agg_pca==2, 0], x_scaled_pca[y_agg_pca==2, 1], s=50, c='green', label ='Agg PCA Cluster 3')\n",
    "plt.scatter(x_scaled_pca[y_agg_pca==3, 0], x_scaled_pca[y_agg_pca==3, 1], s=50, c='cyan', label ='Agg PCA Cluster 4')\n",
    "#Plot the centroid. This time we're going to use the cluster centres  #attribute that returns here the coordinates of the centroid.\n",
    "#plt.scatter(agg_pca.cluster_centers_[:, 0], agg_pca.cluster_centers_[:, 1], s=100, c='yellow',edgecolors='k', label = 'Centroids Agg PCA')\n",
    "plt.title('Agglomerative Clusters after PCA reduction')\n",
    "plt.show()"
   ]
  }
 ],
 "metadata": {
  "kernelspec": {
   "display_name": "Python 3",
   "language": "python",
   "name": "python3"
  },
  "language_info": {
   "codemirror_mode": {
    "name": "ipython",
    "version": 3
   },
   "file_extension": ".py",
   "mimetype": "text/x-python",
   "name": "python",
   "nbconvert_exporter": "python",
   "pygments_lexer": "ipython3",
   "version": "3.10.6"
  },
  "orig_nbformat": 4
 },
 "nbformat": 4,
 "nbformat_minor": 2
}
