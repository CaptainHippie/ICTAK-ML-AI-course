{
  "cells": [
    {
      "cell_type": "code",
      "execution_count": 28,
      "id": "eaeaf68d",
      "metadata": {
        "id": "eaeaf68d"
      },
      "outputs": [],
      "source": [
        "import pandas as pd"
      ]
    },
    {
      "cell_type": "code",
      "execution_count": 29,
      "id": "1d317693",
      "metadata": {
        "id": "1d317693"
      },
      "outputs": [
        {
          "data": {
            "text/html": [
              "<div>\n",
              "<style scoped>\n",
              "    .dataframe tbody tr th:only-of-type {\n",
              "        vertical-align: middle;\n",
              "    }\n",
              "\n",
              "    .dataframe tbody tr th {\n",
              "        vertical-align: top;\n",
              "    }\n",
              "\n",
              "    .dataframe thead th {\n",
              "        text-align: right;\n",
              "    }\n",
              "</style>\n",
              "<table border=\"1\" class=\"dataframe\">\n",
              "  <thead>\n",
              "    <tr style=\"text-align: right;\">\n",
              "      <th></th>\n",
              "      <th>id</th>\n",
              "      <th>user_id</th>\n",
              "      <th>joke_id</th>\n",
              "      <th>Rating</th>\n",
              "    </tr>\n",
              "  </thead>\n",
              "  <tbody>\n",
              "    <tr>\n",
              "      <th>0</th>\n",
              "      <td>31030_110</td>\n",
              "      <td>31030</td>\n",
              "      <td>110</td>\n",
              "      <td>2.750</td>\n",
              "    </tr>\n",
              "    <tr>\n",
              "      <th>1</th>\n",
              "      <td>16144_109</td>\n",
              "      <td>16144</td>\n",
              "      <td>109</td>\n",
              "      <td>5.094</td>\n",
              "    </tr>\n",
              "    <tr>\n",
              "      <th>2</th>\n",
              "      <td>23098_6</td>\n",
              "      <td>23098</td>\n",
              "      <td>6</td>\n",
              "      <td>-6.438</td>\n",
              "    </tr>\n",
              "    <tr>\n",
              "      <th>3</th>\n",
              "      <td>14273_86</td>\n",
              "      <td>14273</td>\n",
              "      <td>86</td>\n",
              "      <td>4.406</td>\n",
              "    </tr>\n",
              "    <tr>\n",
              "      <th>4</th>\n",
              "      <td>18419_134</td>\n",
              "      <td>18419</td>\n",
              "      <td>134</td>\n",
              "      <td>9.375</td>\n",
              "    </tr>\n",
              "  </tbody>\n",
              "</table>\n",
              "</div>"
            ],
            "text/plain": [
              "          id  user_id  joke_id  Rating\n",
              "0  31030_110    31030      110   2.750\n",
              "1  16144_109    16144      109   5.094\n",
              "2    23098_6    23098        6  -6.438\n",
              "3   14273_86    14273       86   4.406\n",
              "4  18419_134    18419      134   9.375"
            ]
          },
          "execution_count": 29,
          "metadata": {},
          "output_type": "execute_result"
        }
      ],
      "source": [
        "df = pd.read_csv('jokes-ratings.csv')\n",
        "df.head()"
      ]
    },
    {
      "cell_type": "code",
      "execution_count": 30,
      "id": "c3757dd9",
      "metadata": {},
      "outputs": [
        {
          "name": "stdout",
          "output_type": "stream",
          "text": [
            "<class 'pandas.core.frame.DataFrame'>\n",
            "RangeIndex: 1092059 entries, 0 to 1092058\n",
            "Data columns (total 4 columns):\n",
            " #   Column   Non-Null Count    Dtype  \n",
            "---  ------   --------------    -----  \n",
            " 0   id       1092059 non-null  object \n",
            " 1   user_id  1092059 non-null  int64  \n",
            " 2   joke_id  1092059 non-null  int64  \n",
            " 3   Rating   1092059 non-null  float64\n",
            "dtypes: float64(1), int64(2), object(1)\n",
            "memory usage: 33.3+ MB\n"
          ]
        }
      ],
      "source": [
        "df.info()"
      ]
    },
    {
      "cell_type": "code",
      "execution_count": 31,
      "id": "5aca493e",
      "metadata": {
        "colab": {
          "base_uri": "https://localhost:8080/"
        },
        "id": "5aca493e",
        "outputId": "ec5eee90-3ee8-4545-dc6a-ad66158d5027"
      },
      "outputs": [
        {
          "data": {
            "text/plain": [
              "40863"
            ]
          },
          "execution_count": 31,
          "metadata": {},
          "output_type": "execute_result"
        }
      ],
      "source": [
        "df['user_id'].nunique()"
      ]
    },
    {
      "cell_type": "code",
      "execution_count": 33,
      "id": "d90c85ae",
      "metadata": {
        "colab": {
          "base_uri": "https://localhost:8080/"
        },
        "id": "d90c85ae",
        "outputId": "6b640ff9-67b6-4464-9c16-acec3aafb597"
      },
      "outputs": [
        {
          "data": {
            "text/plain": [
              "139"
            ]
          },
          "execution_count": 33,
          "metadata": {},
          "output_type": "execute_result"
        }
      ],
      "source": [
        "df['joke_id'].nunique()"
      ]
    },
    {
      "attachments": {},
      "cell_type": "markdown",
      "id": "d6d20269",
      "metadata": {},
      "source": [
        "40863 people rated 139 movies and the total number of ratings given are 1092059"
      ]
    },
    {
      "cell_type": "code",
      "execution_count": 34,
      "id": "N9NS7AV2EQp8",
      "metadata": {
        "id": "N9NS7AV2EQp8"
      },
      "outputs": [],
      "source": [
        "df.drop(\"id\",axis=1, inplace=True)"
      ]
    },
    {
      "cell_type": "code",
      "execution_count": 35,
      "id": "iSUSnP61E25T",
      "metadata": {
        "id": "iSUSnP61E25T"
      },
      "outputs": [],
      "source": [
        "from surprise import Reader, Dataset"
      ]
    },
    {
      "cell_type": "code",
      "execution_count": 36,
      "id": "s8HhRzvhE9m1",
      "metadata": {
        "id": "s8HhRzvhE9m1"
      },
      "outputs": [],
      "source": []
    },
    {
      "cell_type": "code",
      "execution_count": 38,
      "id": "Hv7oBb2OFBVW",
      "metadata": {
        "id": "Hv7oBb2OFBVW"
      },
      "outputs": [],
      "source": [
        "reader = Reader()\n",
        "data = Dataset.load_from_df(df, reader)"
      ]
    },
    {
      "cell_type": "code",
      "execution_count": 20,
      "id": "z8MI-smXFP50",
      "metadata": {
        "colab": {
          "base_uri": "https://localhost:8080/"
        },
        "id": "z8MI-smXFP50",
        "outputId": "9a0d0999-0ff6-48d0-a977-4f8e7feaa633"
      },
      "outputs": [
        {
          "data": {
            "text/plain": [
              "<surprise.dataset.DatasetAutoFolds at 0x7f76e00e1060>"
            ]
          },
          "execution_count": 20,
          "metadata": {},
          "output_type": "execute_result"
        }
      ],
      "source": [
        "data"
      ]
    },
    {
      "cell_type": "markdown",
      "id": "yBmW_IQiFsKo",
      "metadata": {
        "id": "yBmW_IQiFsKo"
      },
      "source": [
        "SVD"
      ]
    },
    {
      "cell_type": "code",
      "execution_count": 39,
      "id": "61l97PF9Fs4L",
      "metadata": {
        "id": "61l97PF9Fs4L"
      },
      "outputs": [],
      "source": [
        "from surprise import SVD, KNNBasic"
      ]
    },
    {
      "cell_type": "code",
      "execution_count": 40,
      "id": "_y5Kh2TbFwi-",
      "metadata": {
        "id": "_y5Kh2TbFwi-"
      },
      "outputs": [],
      "source": [
        "algo = SVD()"
      ]
    },
    {
      "cell_type": "code",
      "execution_count": 41,
      "id": "mfYhR8FTFyn4",
      "metadata": {
        "id": "mfYhR8FTFyn4"
      },
      "outputs": [],
      "source": [
        "from surprise.model_selection import cross_validate"
      ]
    },
    {
      "cell_type": "code",
      "execution_count": 42,
      "id": "SFA75xtmF9LA",
      "metadata": {
        "colab": {
          "base_uri": "https://localhost:8080/"
        },
        "id": "SFA75xtmF9LA",
        "outputId": "66939d7a-a24d-4bf9-f5a4-a98ff3078e5c"
      },
      "outputs": [
        {
          "name": "stdout",
          "output_type": "stream",
          "text": [
            "Evaluating RMSE of algorithm SVD on 5 split(s).\n",
            "\n",
            "                  Fold 1  Fold 2  Fold 3  Fold 4  Fold 5  Mean    Std     \n",
            "RMSE (testset)    4.6634  4.6617  4.6712  4.6519  4.6573  4.6611  0.0064  \n",
            "Fit time          10.59   11.04   10.73   10.71   10.32   10.68   0.23    \n",
            "Test time         1.63    1.54    1.70    1.50    2.12    1.70    0.22    \n"
          ]
        },
        {
          "data": {
            "text/plain": [
              "{'test_rmse': array([4.66336046, 4.66167693, 4.67118054, 4.65194181, 4.65733519]),\n",
              " 'fit_time': (10.591786861419678,\n",
              "  11.04238224029541,\n",
              "  10.731384992599487,\n",
              "  10.713992834091187,\n",
              "  10.32496190071106),\n",
              " 'test_time': (1.6294724941253662,\n",
              "  1.54060697555542,\n",
              "  1.7026870250701904,\n",
              "  1.4966235160827637,\n",
              "  2.115797758102417)}"
            ]
          },
          "execution_count": 42,
          "metadata": {},
          "output_type": "execute_result"
        }
      ],
      "source": [
        "cross_validate(algo, data, measures= [\"RMSE\"], cv = 5 , verbose = True)"
      ]
    },
    {
      "cell_type": "code",
      "execution_count": 43,
      "id": "1cVYjSc1GJ2K",
      "metadata": {
        "id": "1cVYjSc1GJ2K"
      },
      "outputs": [],
      "source": [
        "from surprise import KNNBasic"
      ]
    },
    {
      "cell_type": "code",
      "execution_count": 44,
      "id": "Yz1m3XwzIZcX",
      "metadata": {
        "id": "Yz1m3XwzIZcX"
      },
      "outputs": [],
      "source": [
        "knn_algo = KNNBasic()"
      ]
    },
    {
      "cell_type": "code",
      "execution_count": 45,
      "id": "3SvMLqCyIdbU",
      "metadata": {
        "colab": {
          "base_uri": "https://localhost:8080/"
        },
        "id": "3SvMLqCyIdbU",
        "outputId": "f3178218-9369-4157-98ce-03992db9cc83"
      },
      "outputs": [],
      "source": [
        "#cross_validate(knn_algo, data, measures= [\"RMSE\"], cv = 5 , verbose = True)"
      ]
    },
    {
      "cell_type": "code",
      "execution_count": 46,
      "id": "JXbUmOdcIk_H",
      "metadata": {
        "id": "JXbUmOdcIk_H"
      },
      "outputs": [
        {
          "data": {
            "text/html": [
              "<div>\n",
              "<style scoped>\n",
              "    .dataframe tbody tr th:only-of-type {\n",
              "        vertical-align: middle;\n",
              "    }\n",
              "\n",
              "    .dataframe tbody tr th {\n",
              "        vertical-align: top;\n",
              "    }\n",
              "\n",
              "    .dataframe thead th {\n",
              "        text-align: right;\n",
              "    }\n",
              "</style>\n",
              "<table border=\"1\" class=\"dataframe\">\n",
              "  <thead>\n",
              "    <tr style=\"text-align: right;\">\n",
              "      <th></th>\n",
              "      <th>id</th>\n",
              "      <th>user_id</th>\n",
              "      <th>joke_id</th>\n",
              "    </tr>\n",
              "  </thead>\n",
              "  <tbody>\n",
              "    <tr>\n",
              "      <th>0</th>\n",
              "      <td>6194_11</td>\n",
              "      <td>6194</td>\n",
              "      <td>11</td>\n",
              "    </tr>\n",
              "    <tr>\n",
              "      <th>1</th>\n",
              "      <td>19356_3</td>\n",
              "      <td>19356</td>\n",
              "      <td>3</td>\n",
              "    </tr>\n",
              "    <tr>\n",
              "      <th>2</th>\n",
              "      <td>23426_79</td>\n",
              "      <td>23426</td>\n",
              "      <td>79</td>\n",
              "    </tr>\n",
              "    <tr>\n",
              "      <th>3</th>\n",
              "      <td>40030_3</td>\n",
              "      <td>40030</td>\n",
              "      <td>3</td>\n",
              "    </tr>\n",
              "    <tr>\n",
              "      <th>4</th>\n",
              "      <td>19806_115</td>\n",
              "      <td>19806</td>\n",
              "      <td>115</td>\n",
              "    </tr>\n",
              "    <tr>\n",
              "      <th>5</th>\n",
              "      <td>10487_45</td>\n",
              "      <td>10487</td>\n",
              "      <td>45</td>\n",
              "    </tr>\n",
              "    <tr>\n",
              "      <th>6</th>\n",
              "      <td>19959_8</td>\n",
              "      <td>19959</td>\n",
              "      <td>8</td>\n",
              "    </tr>\n",
              "    <tr>\n",
              "      <th>7</th>\n",
              "      <td>10979_66</td>\n",
              "      <td>10979</td>\n",
              "      <td>66</td>\n",
              "    </tr>\n",
              "    <tr>\n",
              "      <th>8</th>\n",
              "      <td>34886_6</td>\n",
              "      <td>34886</td>\n",
              "      <td>6</td>\n",
              "    </tr>\n",
              "    <tr>\n",
              "      <th>9</th>\n",
              "      <td>4729_103</td>\n",
              "      <td>4729</td>\n",
              "      <td>103</td>\n",
              "    </tr>\n",
              "  </tbody>\n",
              "</table>\n",
              "</div>"
            ],
            "text/plain": [
              "          id  user_id  joke_id\n",
              "0    6194_11     6194       11\n",
              "1    19356_3    19356        3\n",
              "2   23426_79    23426       79\n",
              "3    40030_3    40030        3\n",
              "4  19806_115    19806      115\n",
              "5   10487_45    10487       45\n",
              "6    19959_8    19959        8\n",
              "7   10979_66    10979       66\n",
              "8    34886_6    34886        6\n",
              "9   4729_103     4729      103"
            ]
          },
          "execution_count": 46,
          "metadata": {},
          "output_type": "execute_result"
        }
      ],
      "source": [
        "df_test = pd.read_csv('jokes-test.csv')\n",
        "df_test.head(10)"
      ]
    },
    {
      "cell_type": "code",
      "execution_count": 47,
      "id": "0ffdd0c4",
      "metadata": {},
      "outputs": [
        {
          "name": "stdout",
          "output_type": "stream",
          "text": [
            "<class 'pandas.core.frame.DataFrame'>\n",
            "RangeIndex: 537880 entries, 0 to 537879\n",
            "Data columns (total 3 columns):\n",
            " #   Column   Non-Null Count   Dtype \n",
            "---  ------   --------------   ----- \n",
            " 0   id       537880 non-null  object\n",
            " 1   user_id  537880 non-null  int64 \n",
            " 2   joke_id  537880 non-null  int64 \n",
            "dtypes: int64(2), object(1)\n",
            "memory usage: 12.3+ MB\n"
          ]
        }
      ],
      "source": [
        "df_test.info()"
      ]
    },
    {
      "cell_type": "code",
      "execution_count": 48,
      "id": "e487217f",
      "metadata": {},
      "outputs": [
        {
          "data": {
            "text/plain": [
              "id         537880\n",
              "user_id     40863\n",
              "joke_id       139\n",
              "dtype: int64"
            ]
          },
          "execution_count": 48,
          "metadata": {},
          "output_type": "execute_result"
        }
      ],
      "source": [
        "df_test.nunique()"
      ]
    },
    {
      "attachments": {},
      "cell_type": "markdown",
      "id": "dda571b6",
      "metadata": {},
      "source": [
        "40863 users voted for 139 jokes. Total of 537880 votes"
      ]
    },
    {
      "cell_type": "code",
      "execution_count": 49,
      "id": "34559b29",
      "metadata": {},
      "outputs": [],
      "source": [
        "df_test.drop('id', axis=1, inplace=True)"
      ]
    },
    {
      "cell_type": "code",
      "execution_count": 51,
      "id": "43822b15",
      "metadata": {},
      "outputs": [
        {
          "ename": "ValueError",
          "evalue": "not enough values to unpack (expected 3, got 2)",
          "output_type": "error",
          "traceback": [
            "\u001b[0;31m---------------------------------------------------------------------------\u001b[0m",
            "\u001b[0;31mValueError\u001b[0m                                Traceback (most recent call last)",
            "\u001b[1;32m/home/neeraj/Desktop/ICTAK/ICTAK-ML-AI-course/bootcamp/recommendation system bootcamp/colloborative_filtering-movies_jokes.ipynb Cell 25\u001b[0m in \u001b[0;36m<cell line: 2>\u001b[0;34m()\u001b[0m\n\u001b[1;32m      <a href='vscode-notebook-cell:/home/neeraj/Desktop/ICTAK/ICTAK-ML-AI-course/bootcamp/recommendation%20system%20bootcamp/colloborative_filtering-movies_jokes.ipynb#X61sZmlsZQ%3D%3D?line=0'>1</a>\u001b[0m test_reader \u001b[39m=\u001b[39m Reader()\n\u001b[0;32m----> <a href='vscode-notebook-cell:/home/neeraj/Desktop/ICTAK/ICTAK-ML-AI-course/bootcamp/recommendation%20system%20bootcamp/colloborative_filtering-movies_jokes.ipynb#X61sZmlsZQ%3D%3D?line=1'>2</a>\u001b[0m test_data \u001b[39m=\u001b[39m Dataset\u001b[39m.\u001b[39;49mload_from_df(df_test, test_reader)\n",
            "File \u001b[0;32m~/.local/lib/python3.10/site-packages/surprise/dataset.py:167\u001b[0m, in \u001b[0;36mDataset.load_from_df\u001b[0;34m(cls, df, reader)\u001b[0m\n\u001b[1;32m    150\u001b[0m \u001b[39m@classmethod\u001b[39m\n\u001b[1;32m    151\u001b[0m \u001b[39mdef\u001b[39;00m \u001b[39mload_from_df\u001b[39m(\u001b[39mcls\u001b[39m, df, reader):\n\u001b[1;32m    152\u001b[0m     \u001b[39m\"\"\"Load a dataset from a pandas dataframe.\u001b[39;00m\n\u001b[1;32m    153\u001b[0m \n\u001b[1;32m    154\u001b[0m \u001b[39m    Use this if you want to use a custom dataset that is stored in a pandas\u001b[39;00m\n\u001b[0;32m   (...)\u001b[0m\n\u001b[1;32m    164\u001b[0m \u001b[39m            specified.\u001b[39;00m\n\u001b[1;32m    165\u001b[0m \u001b[39m    \"\"\"\u001b[39;00m\n\u001b[0;32m--> 167\u001b[0m     \u001b[39mreturn\u001b[39;00m DatasetAutoFolds(reader\u001b[39m=\u001b[39;49mreader, df\u001b[39m=\u001b[39;49mdf)\n",
            "File \u001b[0;32m~/.local/lib/python3.10/site-packages/surprise/dataset.py:262\u001b[0m, in \u001b[0;36mDatasetAutoFolds.__init__\u001b[0;34m(self, ratings_file, reader, df)\u001b[0m\n\u001b[1;32m    260\u001b[0m \u001b[39melif\u001b[39;00m df \u001b[39mis\u001b[39;00m \u001b[39mnot\u001b[39;00m \u001b[39mNone\u001b[39;00m:\n\u001b[1;32m    261\u001b[0m     \u001b[39mself\u001b[39m\u001b[39m.\u001b[39mdf \u001b[39m=\u001b[39m df\n\u001b[0;32m--> 262\u001b[0m     \u001b[39mself\u001b[39m\u001b[39m.\u001b[39mraw_ratings \u001b[39m=\u001b[39m [\n\u001b[1;32m    263\u001b[0m         (uid, iid, \u001b[39mfloat\u001b[39m(r), \u001b[39mNone\u001b[39;00m)\n\u001b[1;32m    264\u001b[0m         \u001b[39mfor\u001b[39;00m (uid, iid, r) \u001b[39min\u001b[39;00m \u001b[39mself\u001b[39m\u001b[39m.\u001b[39mdf\u001b[39m.\u001b[39mitertuples(index\u001b[39m=\u001b[39m\u001b[39mFalse\u001b[39;00m)\n\u001b[1;32m    265\u001b[0m     ]\n\u001b[1;32m    266\u001b[0m \u001b[39melse\u001b[39;00m:\n\u001b[1;32m    267\u001b[0m     \u001b[39mraise\u001b[39;00m \u001b[39mValueError\u001b[39;00m(\u001b[39m\"\u001b[39m\u001b[39mMust specify ratings file or dataframe.\u001b[39m\u001b[39m\"\u001b[39m)\n",
            "File \u001b[0;32m~/.local/lib/python3.10/site-packages/surprise/dataset.py:264\u001b[0m, in \u001b[0;36m<listcomp>\u001b[0;34m(.0)\u001b[0m\n\u001b[1;32m    260\u001b[0m \u001b[39melif\u001b[39;00m df \u001b[39mis\u001b[39;00m \u001b[39mnot\u001b[39;00m \u001b[39mNone\u001b[39;00m:\n\u001b[1;32m    261\u001b[0m     \u001b[39mself\u001b[39m\u001b[39m.\u001b[39mdf \u001b[39m=\u001b[39m df\n\u001b[1;32m    262\u001b[0m     \u001b[39mself\u001b[39m\u001b[39m.\u001b[39mraw_ratings \u001b[39m=\u001b[39m [\n\u001b[1;32m    263\u001b[0m         (uid, iid, \u001b[39mfloat\u001b[39m(r), \u001b[39mNone\u001b[39;00m)\n\u001b[0;32m--> 264\u001b[0m         \u001b[39mfor\u001b[39;00m (uid, iid, r) \u001b[39min\u001b[39;00m \u001b[39mself\u001b[39m\u001b[39m.\u001b[39mdf\u001b[39m.\u001b[39mitertuples(index\u001b[39m=\u001b[39m\u001b[39mFalse\u001b[39;00m)\n\u001b[1;32m    265\u001b[0m     ]\n\u001b[1;32m    266\u001b[0m \u001b[39melse\u001b[39;00m:\n\u001b[1;32m    267\u001b[0m     \u001b[39mraise\u001b[39;00m \u001b[39mValueError\u001b[39;00m(\u001b[39m\"\u001b[39m\u001b[39mMust specify ratings file or dataframe.\u001b[39m\u001b[39m\"\u001b[39m)\n",
            "\u001b[0;31mValueError\u001b[0m: not enough values to unpack (expected 3, got 2)"
          ]
        }
      ],
      "source": [
        "test_reader = Reader()\n",
        "test_data = Dataset.load_from_df(df_test, test_reader)"
      ]
    },
    {
      "cell_type": "code",
      "execution_count": null,
      "id": "3342f293",
      "metadata": {},
      "outputs": [],
      "source": []
    }
  ],
  "metadata": {
    "colab": {
      "provenance": []
    },
    "kernelspec": {
      "display_name": "Python 3 (ipykernel)",
      "language": "python",
      "name": "python3"
    },
    "language_info": {
      "codemirror_mode": {
        "name": "ipython",
        "version": 3
      },
      "file_extension": ".py",
      "mimetype": "text/x-python",
      "name": "python",
      "nbconvert_exporter": "python",
      "pygments_lexer": "ipython3",
      "version": "3.10.6"
    }
  },
  "nbformat": 4,
  "nbformat_minor": 5
}
