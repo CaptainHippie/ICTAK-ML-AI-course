{
 "cells": [
  {
   "cell_type": "code",
   "execution_count": 1,
   "id": "48319205",
   "metadata": {},
   "outputs": [],
   "source": [
    "import pandas as pd"
   ]
  },
  {
   "cell_type": "code",
   "execution_count": 2,
   "id": "3046a1cf",
   "metadata": {},
   "outputs": [],
   "source": [
    "data = pd.read_csv(\"meta-data-movies.csv\")"
   ]
  },
  {
   "cell_type": "code",
   "execution_count": 3,
   "id": "def6d031",
   "metadata": {},
   "outputs": [
    {
     "data": {
      "text/plain": [
       "Index(['title', 'genres', 'runtime', 'vote_average', 'vote_count', 'year',\n",
       "       'overview', 'id', 'cast', 'crew', 'keywords', 'director', 'soup'],\n",
       "      dtype='object')"
      ]
     },
     "execution_count": 3,
     "metadata": {},
     "output_type": "execute_result"
    }
   ],
   "source": [
    "data.columns"
   ]
  },
  {
   "cell_type": "code",
   "execution_count": 4,
   "id": "766521b4",
   "metadata": {},
   "outputs": [],
   "source": [
    "# data['title']"
   ]
  },
  {
   "cell_type": "code",
   "execution_count": 5,
   "id": "7c97d546",
   "metadata": {},
   "outputs": [
    {
     "data": {
      "text/plain": [
       "\"['animation', 'comedy', 'family']\""
      ]
     },
     "execution_count": 5,
     "metadata": {},
     "output_type": "execute_result"
    }
   ],
   "source": [
    "data['genres'][0]"
   ]
  },
  {
   "cell_type": "code",
   "execution_count": 6,
   "id": "a7bc8853",
   "metadata": {},
   "outputs": [
    {
     "data": {
      "text/plain": [
       "\"['tomhanks', 'timallen', 'donrickles']\""
      ]
     },
     "execution_count": 6,
     "metadata": {},
     "output_type": "execute_result"
    }
   ],
   "source": [
    "data['cast'][0]"
   ]
  },
  {
   "cell_type": "code",
   "execution_count": 7,
   "id": "38f2f493",
   "metadata": {},
   "outputs": [],
   "source": [
    "# data['crew'][0]"
   ]
  },
  {
   "cell_type": "code",
   "execution_count": 8,
   "id": "e8a0c5f8",
   "metadata": {},
   "outputs": [
    {
     "data": {
      "text/plain": [
       "\"['jealousy', 'toy', 'boy']\""
      ]
     },
     "execution_count": 8,
     "metadata": {},
     "output_type": "execute_result"
    }
   ],
   "source": [
    "data['keywords'][0]"
   ]
  },
  {
   "cell_type": "code",
   "execution_count": 9,
   "id": "acf451bd",
   "metadata": {},
   "outputs": [
    {
     "data": {
      "text/plain": [
       "0          johnlasseter\n",
       "1           joejohnston\n",
       "2          howarddeutch\n",
       "3        forestwhitaker\n",
       "4          charlesshyer\n",
       "              ...      \n",
       "22131          johngray\n",
       "22132         davidleaf\n",
       "22133     alexanderhall\n",
       "22134      márciogarcia\n",
       "22135      carlcolpaert\n",
       "Name: director, Length: 22136, dtype: object"
      ]
     },
     "execution_count": 9,
     "metadata": {},
     "output_type": "execute_result"
    }
   ],
   "source": [
    "data['director']"
   ]
  },
  {
   "cell_type": "code",
   "execution_count": 10,
   "id": "1c4b5125",
   "metadata": {},
   "outputs": [
    {
     "data": {
      "text/plain": [
       "'jealousy toy boy tomhanks timallen donrickles johnlasseter animation comedy family'"
      ]
     },
     "execution_count": 10,
     "metadata": {},
     "output_type": "execute_result"
    }
   ],
   "source": [
    "data['soup'][0]"
   ]
  },
  {
   "cell_type": "code",
   "execution_count": 11,
   "id": "bb0d5017",
   "metadata": {},
   "outputs": [
    {
     "data": {
      "text/plain": [
       "(22136, 13)"
      ]
     },
     "execution_count": 11,
     "metadata": {},
     "output_type": "execute_result"
    }
   ],
   "source": [
    "data.shape"
   ]
  },
  {
   "cell_type": "code",
   "execution_count": 12,
   "id": "87506c02",
   "metadata": {},
   "outputs": [],
   "source": [
    "data = data.drop_duplicates(\"title\")"
   ]
  },
  {
   "cell_type": "code",
   "execution_count": 13,
   "id": "0eb6f767",
   "metadata": {},
   "outputs": [
    {
     "data": {
      "text/plain": [
       "title             1\n",
       "genres            0\n",
       "runtime          36\n",
       "vote_average      1\n",
       "vote_count        1\n",
       "year              0\n",
       "overview        165\n",
       "id                0\n",
       "cast              0\n",
       "crew              0\n",
       "keywords          0\n",
       "director        229\n",
       "soup              0\n",
       "dtype: int64"
      ]
     },
     "execution_count": 13,
     "metadata": {},
     "output_type": "execute_result"
    }
   ],
   "source": [
    "data.isna().sum()"
   ]
  },
  {
   "cell_type": "code",
   "execution_count": 14,
   "id": "b6305c4f",
   "metadata": {},
   "outputs": [],
   "source": [
    "data3 = data[['title', \"overview\"]]"
   ]
  },
  {
   "cell_type": "code",
   "execution_count": 15,
   "id": "aa39b06a",
   "metadata": {},
   "outputs": [
    {
     "data": {
      "text/plain": [
       "\"Led by Woody, Andy's toys live happily in his room until Andy's birthday brings Buzz Lightyear onto the scene. Afraid of losing his place in Andy's heart, Woody plots against Buzz. But when circumstances separate Buzz and Woody from their owner, the duo eventually learns to put aside their differences.\""
      ]
     },
     "execution_count": 15,
     "metadata": {},
     "output_type": "execute_result"
    }
   ],
   "source": [
    "data3['overview'][0]    ### review has written by user (user based content)"
   ]
  },
  {
   "cell_type": "code",
   "execution_count": 16,
   "id": "ecf69de5",
   "metadata": {},
   "outputs": [
    {
     "data": {
      "text/plain": [
       "title         1\n",
       "overview    165\n",
       "dtype: int64"
      ]
     },
     "execution_count": 16,
     "metadata": {},
     "output_type": "execute_result"
    }
   ],
   "source": [
    "data3.isna().sum()"
   ]
  },
  {
   "cell_type": "code",
   "execution_count": 17,
   "id": "eb826073",
   "metadata": {},
   "outputs": [
    {
     "name": "stderr",
     "output_type": "stream",
     "text": [
      "/tmp/ipykernel_34791/2183515760.py:1: SettingWithCopyWarning: \n",
      "A value is trying to be set on a copy of a slice from a DataFrame.\n",
      "Try using .loc[row_indexer,col_indexer] = value instead\n",
      "\n",
      "See the caveats in the documentation: https://pandas.pydata.org/pandas-docs/stable/user_guide/indexing.html#returning-a-view-versus-a-copy\n",
      "  data3[\"overview\"] = data3['overview'].fillna(\"\")\n"
     ]
    }
   ],
   "source": [
    "data3[\"overview\"] = data3['overview'].fillna(\"\")"
   ]
  },
  {
   "cell_type": "code",
   "execution_count": 18,
   "id": "21287e6e",
   "metadata": {},
   "outputs": [
    {
     "data": {
      "text/plain": [
       "title       1\n",
       "overview    0\n",
       "dtype: int64"
      ]
     },
     "execution_count": 18,
     "metadata": {},
     "output_type": "execute_result"
    }
   ],
   "source": [
    "data3.isna().sum()"
   ]
  },
  {
   "cell_type": "code",
   "execution_count": 19,
   "id": "37ba55e5",
   "metadata": {},
   "outputs": [],
   "source": [
    "data3 = data3.dropna()"
   ]
  },
  {
   "cell_type": "code",
   "execution_count": 20,
   "id": "6a423788",
   "metadata": {},
   "outputs": [
    {
     "data": {
      "text/plain": [
       "title       0\n",
       "overview    0\n",
       "dtype: int64"
      ]
     },
     "execution_count": 20,
     "metadata": {},
     "output_type": "execute_result"
    }
   ],
   "source": [
    "data3.isna().sum()"
   ]
  },
  {
   "cell_type": "code",
   "execution_count": null,
   "id": "13282d11",
   "metadata": {},
   "outputs": [],
   "source": []
  },
  {
   "cell_type": "code",
   "execution_count": null,
   "id": "b9032358",
   "metadata": {},
   "outputs": [],
   "source": []
  },
  {
   "cell_type": "code",
   "execution_count": 21,
   "id": "eb3dd53f",
   "metadata": {},
   "outputs": [],
   "source": [
    "data2 = data[['title', \"soup\"]]"
   ]
  },
  {
   "cell_type": "code",
   "execution_count": 22,
   "id": "f857fac8",
   "metadata": {},
   "outputs": [
    {
     "data": {
      "text/plain": [
       "title    1\n",
       "soup     0\n",
       "dtype: int64"
      ]
     },
     "execution_count": 22,
     "metadata": {},
     "output_type": "execute_result"
    }
   ],
   "source": [
    "data2.isna().sum()"
   ]
  },
  {
   "cell_type": "code",
   "execution_count": 23,
   "id": "7d3492ff",
   "metadata": {},
   "outputs": [],
   "source": [
    "data2 = data2.dropna()"
   ]
  },
  {
   "cell_type": "code",
   "execution_count": 24,
   "id": "8e4e853a",
   "metadata": {},
   "outputs": [
    {
     "data": {
      "text/plain": [
       "'jealousy toy boy tomhanks timallen donrickles johnlasseter animation comedy family'"
      ]
     },
     "execution_count": 24,
     "metadata": {},
     "output_type": "execute_result"
    }
   ],
   "source": [
    "data2['soup'][0]     ### related to movie (item)"
   ]
  },
  {
   "cell_type": "code",
   "execution_count": 25,
   "id": "f333a91e",
   "metadata": {},
   "outputs": [
    {
     "data": {
      "text/plain": [
       "title    0\n",
       "soup     0\n",
       "dtype: int64"
      ]
     },
     "execution_count": 25,
     "metadata": {},
     "output_type": "execute_result"
    }
   ],
   "source": [
    "data2.isna().sum()"
   ]
  },
  {
   "cell_type": "code",
   "execution_count": 26,
   "id": "20a7377a",
   "metadata": {},
   "outputs": [],
   "source": [
    "indices = pd.Series(data2.index, index = data2['title'])"
   ]
  },
  {
   "cell_type": "code",
   "execution_count": 27,
   "id": "81ae101d",
   "metadata": {},
   "outputs": [
    {
     "data": {
      "text/plain": [
       "5"
      ]
     },
     "execution_count": 27,
     "metadata": {},
     "output_type": "execute_result"
    }
   ],
   "source": [
    "indices['Heat']"
   ]
  },
  {
   "cell_type": "code",
   "execution_count": 28,
   "id": "c44b19ee",
   "metadata": {},
   "outputs": [
    {
     "data": {
      "text/html": [
       "<div>\n",
       "<style scoped>\n",
       "    .dataframe tbody tr th:only-of-type {\n",
       "        vertical-align: middle;\n",
       "    }\n",
       "\n",
       "    .dataframe tbody tr th {\n",
       "        vertical-align: top;\n",
       "    }\n",
       "\n",
       "    .dataframe thead th {\n",
       "        text-align: right;\n",
       "    }\n",
       "</style>\n",
       "<table border=\"1\" class=\"dataframe\">\n",
       "  <thead>\n",
       "    <tr style=\"text-align: right;\">\n",
       "      <th></th>\n",
       "      <th>title</th>\n",
       "      <th>soup</th>\n",
       "    </tr>\n",
       "  </thead>\n",
       "  <tbody>\n",
       "    <tr>\n",
       "      <th>0</th>\n",
       "      <td>Toy Story</td>\n",
       "      <td>jealousy toy boy tomhanks timallen donrickles ...</td>\n",
       "    </tr>\n",
       "    <tr>\n",
       "      <th>1</th>\n",
       "      <td>Jumanji</td>\n",
       "      <td>boardgame disappearance basedonchildren'sbook ...</td>\n",
       "    </tr>\n",
       "    <tr>\n",
       "      <th>2</th>\n",
       "      <td>Grumpier Old Men</td>\n",
       "      <td>fishing bestfriend duringcreditsstinger walter...</td>\n",
       "    </tr>\n",
       "    <tr>\n",
       "      <th>3</th>\n",
       "      <td>Waiting to Exhale</td>\n",
       "      <td>basedonnovel interracialrelationship singlemot...</td>\n",
       "    </tr>\n",
       "    <tr>\n",
       "      <th>4</th>\n",
       "      <td>Father of the Bride Part II</td>\n",
       "      <td>baby midlifecrisis confidence stevemartin dian...</td>\n",
       "    </tr>\n",
       "    <tr>\n",
       "      <th>...</th>\n",
       "      <td>...</td>\n",
       "      <td>...</td>\n",
       "    </tr>\n",
       "    <tr>\n",
       "      <th>22130</th>\n",
       "      <td>Boy Wonder</td>\n",
       "      <td>jamesrusso tracymiddendorf zulayhenao michael...</td>\n",
       "    </tr>\n",
       "    <tr>\n",
       "      <th>22131</th>\n",
       "      <td>The Day Lincoln Was Shot</td>\n",
       "      <td>abrahamlincoln robmorrow lancehenriksen donnam...</td>\n",
       "    </tr>\n",
       "    <tr>\n",
       "      <th>22132</th>\n",
       "      <td>Beautiful Dreamer: Brian Wilson and the Story ...</td>\n",
       "      <td>brianwilson davidanderle halblaine davidleaf</td>\n",
       "    </tr>\n",
       "    <tr>\n",
       "      <th>22133</th>\n",
       "      <td>Because You're Mine</td>\n",
       "      <td>opera bootcamp operasinger mariolanza dorettam...</td>\n",
       "    </tr>\n",
       "    <tr>\n",
       "      <th>22134</th>\n",
       "      <td>Bed &amp; Breakfast</td>\n",
       "      <td>deancain julianapaes billengvall márciogarcia...</td>\n",
       "    </tr>\n",
       "  </tbody>\n",
       "</table>\n",
       "<p>20951 rows × 2 columns</p>\n",
       "</div>"
      ],
      "text/plain": [
       "                                                   title   \n",
       "0                                              Toy Story  \\\n",
       "1                                                Jumanji   \n",
       "2                                       Grumpier Old Men   \n",
       "3                                      Waiting to Exhale   \n",
       "4                            Father of the Bride Part II   \n",
       "...                                                  ...   \n",
       "22130                                         Boy Wonder   \n",
       "22131                           The Day Lincoln Was Shot   \n",
       "22132  Beautiful Dreamer: Brian Wilson and the Story ...   \n",
       "22133                                Because You're Mine   \n",
       "22134                                    Bed & Breakfast   \n",
       "\n",
       "                                                    soup  \n",
       "0      jealousy toy boy tomhanks timallen donrickles ...  \n",
       "1      boardgame disappearance basedonchildren'sbook ...  \n",
       "2      fishing bestfriend duringcreditsstinger walter...  \n",
       "3      basedonnovel interracialrelationship singlemot...  \n",
       "4      baby midlifecrisis confidence stevemartin dian...  \n",
       "...                                                  ...  \n",
       "22130   jamesrusso tracymiddendorf zulayhenao michael...  \n",
       "22131  abrahamlincoln robmorrow lancehenriksen donnam...  \n",
       "22132      brianwilson davidanderle halblaine davidleaf   \n",
       "22133  opera bootcamp operasinger mariolanza dorettam...  \n",
       "22134   deancain julianapaes billengvall márciogarcia...  \n",
       "\n",
       "[20951 rows x 2 columns]"
      ]
     },
     "execution_count": 28,
     "metadata": {},
     "output_type": "execute_result"
    }
   ],
   "source": [
    "data2"
   ]
  },
  {
   "cell_type": "code",
   "execution_count": 29,
   "id": "7f0edf35",
   "metadata": {},
   "outputs": [],
   "source": [
    "features = data2['soup'].tolist()"
   ]
  },
  {
   "cell_type": "code",
   "execution_count": 30,
   "id": "7cc4f138",
   "metadata": {},
   "outputs": [
    {
     "data": {
      "text/plain": [
       "'jealousy toy boy tomhanks timallen donrickles johnlasseter animation comedy family'"
      ]
     },
     "execution_count": 30,
     "metadata": {},
     "output_type": "execute_result"
    }
   ],
   "source": [
    "features[0]"
   ]
  },
  {
   "cell_type": "code",
   "execution_count": 31,
   "id": "810eab24",
   "metadata": {},
   "outputs": [],
   "source": [
    "from sklearn.feature_extraction.text import TfidfVectorizer"
   ]
  },
  {
   "cell_type": "code",
   "execution_count": 32,
   "id": "0160a4ec",
   "metadata": {},
   "outputs": [],
   "source": [
    "tfidf = TfidfVectorizer(stop_words = \"english\")"
   ]
  },
  {
   "cell_type": "code",
   "execution_count": 33,
   "id": "0ca4536c",
   "metadata": {},
   "outputs": [],
   "source": [
    "tfidf_matrix = tfidf.fit_transform(features)"
   ]
  },
  {
   "cell_type": "code",
   "execution_count": 34,
   "id": "77995d8b",
   "metadata": {},
   "outputs": [
    {
     "data": {
      "text/plain": [
       "(20951, 38999)"
      ]
     },
     "execution_count": 34,
     "metadata": {},
     "output_type": "execute_result"
    }
   ],
   "source": [
    "tfidf_matrix.shape"
   ]
  },
  {
   "cell_type": "code",
   "execution_count": 35,
   "id": "08389a62",
   "metadata": {},
   "outputs": [
    {
     "data": {
      "text/plain": [
       "<20951x38999 sparse matrix of type '<class 'numpy.float64'>'\n",
       "\twith 169103 stored elements in Compressed Sparse Row format>"
      ]
     },
     "execution_count": 35,
     "metadata": {},
     "output_type": "execute_result"
    }
   ],
   "source": [
    "tfidf_matrix"
   ]
  },
  {
   "cell_type": "code",
   "execution_count": 36,
   "id": "9d88325a",
   "metadata": {},
   "outputs": [],
   "source": [
    "### item - item "
   ]
  },
  {
   "cell_type": "code",
   "execution_count": 37,
   "id": "d66cdecd",
   "metadata": {},
   "outputs": [],
   "source": [
    "from sklearn.metrics.pairwise import cosine_similarity"
   ]
  },
  {
   "cell_type": "code",
   "execution_count": 38,
   "id": "8ef0a890",
   "metadata": {},
   "outputs": [],
   "source": [
    "similarity = cosine_similarity(tfidf_matrix, tfidf_matrix)"
   ]
  },
  {
   "cell_type": "code",
   "execution_count": 39,
   "id": "0a6f8c8f",
   "metadata": {},
   "outputs": [],
   "source": [
    "def movie_rec_sys(name, similarity = similarity):\n",
    "    index = indices[name]\n",
    "    similarity_scores = list(enumerate(similarity[index]))\n",
    "    similarity_scores = sorted(similarity_scores, key = lambda x: x[1],reverse = True)\n",
    "    similarity_scores = similarity_scores[:11]\n",
    "    res_indices = [i[0] for i in similarity_scores]\n",
    "    return data2['title'].iloc[res_indices]"
   ]
  },
  {
   "cell_type": "code",
   "execution_count": 40,
   "id": "2fe9e4d6",
   "metadata": {},
   "outputs": [
    {
     "data": {
      "text/plain": [
       "5                       Heat\n",
       "7118            No Good Deed\n",
       "2913             The Insider\n",
       "3267       Dog Day Afternoon\n",
       "7368               Dobermann\n",
       "14621                Armored\n",
       "2110       Shadow of a Doubt\n",
       "4736                Cruising\n",
       "10473    Kiss Kiss Bang Bang\n",
       "1080     Glengarry Glen Ross\n",
       "13440         Chinese Coffee\n",
       "Name: title, dtype: object"
      ]
     },
     "execution_count": 40,
     "metadata": {},
     "output_type": "execute_result"
    }
   ],
   "source": [
    "movie_rec_sys(\"Heat\")"
   ]
  },
  {
   "cell_type": "code",
   "execution_count": 41,
   "id": "98eeea63",
   "metadata": {},
   "outputs": [
    {
     "data": {
      "text/plain": [
       "0                                       Toy Story\n",
       "15469                                 Toy Story 3\n",
       "3020                                  Toy Story 2\n",
       "19239                                     Tin Toy\n",
       "19293                                 Red's Dream\n",
       "22064                        Toy Story of Terror!\n",
       "16286                        Crazy on the Outside\n",
       "17489                                      Cars 2\n",
       "15159    Spiderman: The Ultimate Villain Showdown\n",
       "11181                               Monster House\n",
       "19343                                 Knick Knack\n",
       "Name: title, dtype: object"
      ]
     },
     "execution_count": 41,
     "metadata": {},
     "output_type": "execute_result"
    }
   ],
   "source": [
    "movie_rec_sys(\"Toy Story\")"
   ]
  },
  {
   "cell_type": "code",
   "execution_count": 42,
   "id": "739d3172",
   "metadata": {},
   "outputs": [
    {
     "data": {
      "text/plain": [
       "0                          Toy Story\n",
       "1                            Jumanji\n",
       "2                   Grumpier Old Men\n",
       "3                  Waiting to Exhale\n",
       "4        Father of the Bride Part II\n",
       "5                               Heat\n",
       "6                            Sabrina\n",
       "7                       Tom and Huck\n",
       "8                       Sudden Death\n",
       "9                          GoldenEye\n",
       "10            The American President\n",
       "11       Dracula: Dead and Loving It\n",
       "12                             Balto\n",
       "13                             Nixon\n",
       "14                  Cutthroat Island\n",
       "15                            Casino\n",
       "16             Sense and Sensibility\n",
       "17                        Four Rooms\n",
       "18    Ace Ventura: When Nature Calls\n",
       "19                       Money Train\n",
       "Name: title, dtype: object"
      ]
     },
     "execution_count": 42,
     "metadata": {},
     "output_type": "execute_result"
    }
   ],
   "source": [
    "data['title'].head(20)"
   ]
  },
  {
   "cell_type": "code",
   "execution_count": 43,
   "id": "d844688d",
   "metadata": {},
   "outputs": [
    {
     "data": {
      "text/plain": [
       "6                             Sabrina\n",
       "2813                    Random Hearts\n",
       "11306         Sketches of Frank Gehry\n",
       "1573               A Smile Like Yours\n",
       "6234     A Decade Under the Influence\n",
       "13128                      Resistance\n",
       "12166                   Feast of Love\n",
       "1869               Driving Miss Daisy\n",
       "11537                Red-Headed Woman\n",
       "646                             Eddie\n",
       "4259                          Tootsie\n",
       "Name: title, dtype: object"
      ]
     },
     "execution_count": 43,
     "metadata": {},
     "output_type": "execute_result"
    }
   ],
   "source": [
    "movie_rec_sys(\"Sabrina\")"
   ]
  },
  {
   "cell_type": "code",
   "execution_count": null,
   "id": "6d7cbbc1",
   "metadata": {},
   "outputs": [],
   "source": []
  },
  {
   "cell_type": "code",
   "execution_count": null,
   "id": "aebb4833",
   "metadata": {},
   "outputs": [],
   "source": []
  },
  {
   "cell_type": "code",
   "execution_count": 44,
   "id": "ad3f5ef5",
   "metadata": {},
   "outputs": [
    {
     "data": {
      "text/html": [
       "<div>\n",
       "<style scoped>\n",
       "    .dataframe tbody tr th:only-of-type {\n",
       "        vertical-align: middle;\n",
       "    }\n",
       "\n",
       "    .dataframe tbody tr th {\n",
       "        vertical-align: top;\n",
       "    }\n",
       "\n",
       "    .dataframe thead th {\n",
       "        text-align: right;\n",
       "    }\n",
       "</style>\n",
       "<table border=\"1\" class=\"dataframe\">\n",
       "  <thead>\n",
       "    <tr style=\"text-align: right;\">\n",
       "      <th></th>\n",
       "      <th>title</th>\n",
       "      <th>overview</th>\n",
       "    </tr>\n",
       "  </thead>\n",
       "  <tbody>\n",
       "    <tr>\n",
       "      <th>0</th>\n",
       "      <td>Toy Story</td>\n",
       "      <td>Led by Woody, Andy's toys live happily in his ...</td>\n",
       "    </tr>\n",
       "    <tr>\n",
       "      <th>1</th>\n",
       "      <td>Jumanji</td>\n",
       "      <td>When siblings Judy and Peter discover an encha...</td>\n",
       "    </tr>\n",
       "    <tr>\n",
       "      <th>2</th>\n",
       "      <td>Grumpier Old Men</td>\n",
       "      <td>A family wedding reignites the ancient feud be...</td>\n",
       "    </tr>\n",
       "    <tr>\n",
       "      <th>3</th>\n",
       "      <td>Waiting to Exhale</td>\n",
       "      <td>Cheated on, mistreated and stepped on, the wom...</td>\n",
       "    </tr>\n",
       "    <tr>\n",
       "      <th>4</th>\n",
       "      <td>Father of the Bride Part II</td>\n",
       "      <td>Just when George Banks has recovered from his ...</td>\n",
       "    </tr>\n",
       "    <tr>\n",
       "      <th>...</th>\n",
       "      <td>...</td>\n",
       "      <td>...</td>\n",
       "    </tr>\n",
       "    <tr>\n",
       "      <th>22130</th>\n",
       "      <td>Boy Wonder</td>\n",
       "      <td>A young Brooklyn boy witnesses the brutal murd...</td>\n",
       "    </tr>\n",
       "    <tr>\n",
       "      <th>22131</th>\n",
       "      <td>The Day Lincoln Was Shot</td>\n",
       "      <td>A dramatization of the assassination of Abraha...</td>\n",
       "    </tr>\n",
       "    <tr>\n",
       "      <th>22132</th>\n",
       "      <td>Beautiful Dreamer: Brian Wilson and the Story ...</td>\n",
       "      <td>This film tells (using modern day interviews a...</td>\n",
       "    </tr>\n",
       "    <tr>\n",
       "      <th>22133</th>\n",
       "      <td>Because You're Mine</td>\n",
       "      <td>A famous opera singer (Mario Lanza) falls for ...</td>\n",
       "    </tr>\n",
       "    <tr>\n",
       "      <th>22134</th>\n",
       "      <td>Bed &amp; Breakfast</td>\n",
       "      <td>Bed and Breakfast is a romantic comedy about a...</td>\n",
       "    </tr>\n",
       "  </tbody>\n",
       "</table>\n",
       "<p>20951 rows × 2 columns</p>\n",
       "</div>"
      ],
      "text/plain": [
       "                                                   title   \n",
       "0                                              Toy Story  \\\n",
       "1                                                Jumanji   \n",
       "2                                       Grumpier Old Men   \n",
       "3                                      Waiting to Exhale   \n",
       "4                            Father of the Bride Part II   \n",
       "...                                                  ...   \n",
       "22130                                         Boy Wonder   \n",
       "22131                           The Day Lincoln Was Shot   \n",
       "22132  Beautiful Dreamer: Brian Wilson and the Story ...   \n",
       "22133                                Because You're Mine   \n",
       "22134                                    Bed & Breakfast   \n",
       "\n",
       "                                                overview  \n",
       "0      Led by Woody, Andy's toys live happily in his ...  \n",
       "1      When siblings Judy and Peter discover an encha...  \n",
       "2      A family wedding reignites the ancient feud be...  \n",
       "3      Cheated on, mistreated and stepped on, the wom...  \n",
       "4      Just when George Banks has recovered from his ...  \n",
       "...                                                  ...  \n",
       "22130  A young Brooklyn boy witnesses the brutal murd...  \n",
       "22131  A dramatization of the assassination of Abraha...  \n",
       "22132  This film tells (using modern day interviews a...  \n",
       "22133  A famous opera singer (Mario Lanza) falls for ...  \n",
       "22134  Bed and Breakfast is a romantic comedy about a...  \n",
       "\n",
       "[20951 rows x 2 columns]"
      ]
     },
     "execution_count": 44,
     "metadata": {},
     "output_type": "execute_result"
    }
   ],
   "source": [
    "data3"
   ]
  },
  {
   "cell_type": "code",
   "execution_count": null,
   "id": "ee19440f",
   "metadata": {},
   "outputs": [],
   "source": []
  },
  {
   "cell_type": "code",
   "execution_count": 45,
   "id": "f9314ddf",
   "metadata": {},
   "outputs": [],
   "source": [
    "indices3 = pd.Series(data3.index, index = data3['title'])"
   ]
  },
  {
   "cell_type": "code",
   "execution_count": 46,
   "id": "83bf18e8",
   "metadata": {},
   "outputs": [],
   "source": [
    "features3 = data3['overview'].tolist()"
   ]
  },
  {
   "cell_type": "code",
   "execution_count": 47,
   "id": "00f2f702",
   "metadata": {},
   "outputs": [],
   "source": [
    "tfidf = TfidfVectorizer(stop_words=\"english\")"
   ]
  },
  {
   "cell_type": "code",
   "execution_count": 48,
   "id": "4b55301c",
   "metadata": {},
   "outputs": [],
   "source": [
    "tfidf_matrix3 = tfidf.fit_transform(features3)"
   ]
  },
  {
   "cell_type": "code",
   "execution_count": 49,
   "id": "8326f065",
   "metadata": {},
   "outputs": [],
   "source": [
    "similarity = cosine_similarity(tfidf_matrix3, tfidf_matrix3)"
   ]
  },
  {
   "cell_type": "code",
   "execution_count": null,
   "id": "ac91fdf1",
   "metadata": {},
   "outputs": [],
   "source": [
    "def movie_rec_sys(name, similarity = similarity):\n",
    "    index = indices3[name]\n",
    "    similarity_scores = list(enumerate(similarity[index]))\n",
    "    similarity_scores = sorted(similarity_scores, key = lambda x: x[1],reverse = True)\n",
    "    similarity_scores = similarity_scores[:11]\n",
    "    res_indices = [i[0] for i in similarity_scores]\n",
    "    return data3['title'].iloc[res_indices]"
   ]
  },
  {
   "cell_type": "code",
   "execution_count": null,
   "id": "5a86046f",
   "metadata": {},
   "outputs": [
    {
     "data": {
      "text/plain": [
       "0                       Toy Story\n",
       "15469                 Toy Story 3\n",
       "3020                  Toy Story 2\n",
       "10361      The 40 Year Old Virgin\n",
       "1088        Rebel Without a Cause\n",
       "11480      For Your Consideration\n",
       "1948                    Condorman\n",
       "21496    Andy Hardy's Double Life\n",
       "3080              Man on the Moon\n",
       "485                        Malice\n",
       "11687                Factory Girl\n",
       "Name: title, dtype: object"
      ]
     },
     "execution_count": 71,
     "metadata": {},
     "output_type": "execute_result"
    }
   ],
   "source": [
    "movie_rec_sys(\"Toy Story\")"
   ]
  },
  {
   "cell_type": "code",
   "execution_count": null,
   "id": "3288e4c9",
   "metadata": {},
   "outputs": [],
   "source": []
  }
 ],
 "metadata": {
  "kernelspec": {
   "display_name": "Python 3 (ipykernel)",
   "language": "python",
   "name": "python3"
  },
  "language_info": {
   "codemirror_mode": {
    "name": "ipython",
    "version": 3
   },
   "file_extension": ".py",
   "mimetype": "text/x-python",
   "name": "python",
   "nbconvert_exporter": "python",
   "pygments_lexer": "ipython3",
   "version": "3.10.6"
  }
 },
 "nbformat": 4,
 "nbformat_minor": 5
}
