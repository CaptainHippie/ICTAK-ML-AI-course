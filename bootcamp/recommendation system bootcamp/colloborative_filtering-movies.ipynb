{
  "cells": [
    {
      "cell_type": "code",
      "execution_count": 4,
      "id": "eaeaf68d",
      "metadata": {
        "id": "eaeaf68d"
      },
      "outputs": [],
      "source": [
        "import pandas as pd"
      ]
    },
    {
      "cell_type": "code",
      "execution_count": 5,
      "id": "4b14b05a",
      "metadata": {
        "id": "4b14b05a"
      },
      "outputs": [],
      "source": [
        "r_cols = ['user_id', 'movie_id','rating', 'timestamp']"
      ]
    },
    {
      "cell_type": "code",
      "execution_count": 6,
      "id": "1d317693",
      "metadata": {
        "id": "1d317693"
      },
      "outputs": [],
      "source": [
        "ratings = pd.read_csv(\"u.data\", sep = \"\\t\", names = r_cols)"
      ]
    },
    {
      "cell_type": "code",
      "execution_count": 7,
      "id": "9050be93",
      "metadata": {
        "colab": {
          "base_uri": "https://localhost:8080/",
          "height": 206
        },
        "id": "9050be93",
        "outputId": "0e7af8cb-e958-47b7-a3d7-5b8fe8ff0382"
      },
      "outputs": [
        {
          "data": {
            "text/html": [
              "<div>\n",
              "<style scoped>\n",
              "    .dataframe tbody tr th:only-of-type {\n",
              "        vertical-align: middle;\n",
              "    }\n",
              "\n",
              "    .dataframe tbody tr th {\n",
              "        vertical-align: top;\n",
              "    }\n",
              "\n",
              "    .dataframe thead th {\n",
              "        text-align: right;\n",
              "    }\n",
              "</style>\n",
              "<table border=\"1\" class=\"dataframe\">\n",
              "  <thead>\n",
              "    <tr style=\"text-align: right;\">\n",
              "      <th></th>\n",
              "      <th>user_id</th>\n",
              "      <th>movie_id</th>\n",
              "      <th>rating</th>\n",
              "      <th>timestamp</th>\n",
              "    </tr>\n",
              "  </thead>\n",
              "  <tbody>\n",
              "    <tr>\n",
              "      <th>0</th>\n",
              "      <td>196</td>\n",
              "      <td>242</td>\n",
              "      <td>3</td>\n",
              "      <td>881250949</td>\n",
              "    </tr>\n",
              "    <tr>\n",
              "      <th>1</th>\n",
              "      <td>186</td>\n",
              "      <td>302</td>\n",
              "      <td>3</td>\n",
              "      <td>891717742</td>\n",
              "    </tr>\n",
              "    <tr>\n",
              "      <th>2</th>\n",
              "      <td>22</td>\n",
              "      <td>377</td>\n",
              "      <td>1</td>\n",
              "      <td>878887116</td>\n",
              "    </tr>\n",
              "    <tr>\n",
              "      <th>3</th>\n",
              "      <td>244</td>\n",
              "      <td>51</td>\n",
              "      <td>2</td>\n",
              "      <td>880606923</td>\n",
              "    </tr>\n",
              "    <tr>\n",
              "      <th>4</th>\n",
              "      <td>166</td>\n",
              "      <td>346</td>\n",
              "      <td>1</td>\n",
              "      <td>886397596</td>\n",
              "    </tr>\n",
              "  </tbody>\n",
              "</table>\n",
              "</div>"
            ],
            "text/plain": [
              "   user_id  movie_id  rating  timestamp\n",
              "0      196       242       3  881250949\n",
              "1      186       302       3  891717742\n",
              "2       22       377       1  878887116\n",
              "3      244        51       2  880606923\n",
              "4      166       346       1  886397596"
            ]
          },
          "execution_count": 7,
          "metadata": {},
          "output_type": "execute_result"
        }
      ],
      "source": [
        "ratings.head()"
      ]
    },
    {
      "cell_type": "code",
      "execution_count": 8,
      "id": "3e6a0fdb",
      "metadata": {
        "colab": {
          "base_uri": "https://localhost:8080/",
          "height": 1000
        },
        "id": "3e6a0fdb",
        "outputId": "44232bbb-91cc-4eb3-a70c-b91e71109be7"
      },
      "outputs": [
        {
          "data": {
            "text/html": [
              "<div>\n",
              "<style scoped>\n",
              "    .dataframe tbody tr th:only-of-type {\n",
              "        vertical-align: middle;\n",
              "    }\n",
              "\n",
              "    .dataframe tbody tr th {\n",
              "        vertical-align: top;\n",
              "    }\n",
              "\n",
              "    .dataframe thead th {\n",
              "        text-align: right;\n",
              "    }\n",
              "</style>\n",
              "<table border=\"1\" class=\"dataframe\">\n",
              "  <thead>\n",
              "    <tr style=\"text-align: right;\">\n",
              "      <th></th>\n",
              "      <th>user_id</th>\n",
              "      <th>movie_id</th>\n",
              "      <th>rating</th>\n",
              "      <th>timestamp</th>\n",
              "    </tr>\n",
              "  </thead>\n",
              "  <tbody>\n",
              "    <tr>\n",
              "      <th>0</th>\n",
              "      <td>196</td>\n",
              "      <td>242</td>\n",
              "      <td>3</td>\n",
              "      <td>881250949</td>\n",
              "    </tr>\n",
              "    <tr>\n",
              "      <th>940</th>\n",
              "      <td>196</td>\n",
              "      <td>393</td>\n",
              "      <td>4</td>\n",
              "      <td>881251863</td>\n",
              "    </tr>\n",
              "    <tr>\n",
              "      <th>1133</th>\n",
              "      <td>196</td>\n",
              "      <td>381</td>\n",
              "      <td>4</td>\n",
              "      <td>881251728</td>\n",
              "    </tr>\n",
              "    <tr>\n",
              "      <th>1812</th>\n",
              "      <td>196</td>\n",
              "      <td>251</td>\n",
              "      <td>3</td>\n",
              "      <td>881251274</td>\n",
              "    </tr>\n",
              "    <tr>\n",
              "      <th>1896</th>\n",
              "      <td>196</td>\n",
              "      <td>655</td>\n",
              "      <td>5</td>\n",
              "      <td>881251793</td>\n",
              "    </tr>\n",
              "    <tr>\n",
              "      <th>2374</th>\n",
              "      <td>196</td>\n",
              "      <td>67</td>\n",
              "      <td>5</td>\n",
              "      <td>881252017</td>\n",
              "    </tr>\n",
              "    <tr>\n",
              "      <th>6910</th>\n",
              "      <td>196</td>\n",
              "      <td>306</td>\n",
              "      <td>4</td>\n",
              "      <td>881251021</td>\n",
              "    </tr>\n",
              "    <tr>\n",
              "      <th>7517</th>\n",
              "      <td>196</td>\n",
              "      <td>238</td>\n",
              "      <td>4</td>\n",
              "      <td>881251820</td>\n",
              "    </tr>\n",
              "    <tr>\n",
              "      <th>7842</th>\n",
              "      <td>196</td>\n",
              "      <td>663</td>\n",
              "      <td>5</td>\n",
              "      <td>881251911</td>\n",
              "    </tr>\n",
              "    <tr>\n",
              "      <th>10017</th>\n",
              "      <td>196</td>\n",
              "      <td>111</td>\n",
              "      <td>4</td>\n",
              "      <td>881251793</td>\n",
              "    </tr>\n",
              "    <tr>\n",
              "      <th>10254</th>\n",
              "      <td>196</td>\n",
              "      <td>580</td>\n",
              "      <td>2</td>\n",
              "      <td>881252056</td>\n",
              "    </tr>\n",
              "    <tr>\n",
              "      <th>10981</th>\n",
              "      <td>196</td>\n",
              "      <td>25</td>\n",
              "      <td>4</td>\n",
              "      <td>881251955</td>\n",
              "    </tr>\n",
              "    <tr>\n",
              "      <th>13733</th>\n",
              "      <td>196</td>\n",
              "      <td>286</td>\n",
              "      <td>5</td>\n",
              "      <td>881250949</td>\n",
              "    </tr>\n",
              "    <tr>\n",
              "      <th>14606</th>\n",
              "      <td>196</td>\n",
              "      <td>94</td>\n",
              "      <td>3</td>\n",
              "      <td>881252172</td>\n",
              "    </tr>\n",
              "    <tr>\n",
              "      <th>16834</th>\n",
              "      <td>196</td>\n",
              "      <td>692</td>\n",
              "      <td>5</td>\n",
              "      <td>881252017</td>\n",
              "    </tr>\n",
              "    <tr>\n",
              "      <th>17102</th>\n",
              "      <td>196</td>\n",
              "      <td>8</td>\n",
              "      <td>5</td>\n",
              "      <td>881251753</td>\n",
              "    </tr>\n",
              "    <tr>\n",
              "      <th>17830</th>\n",
              "      <td>196</td>\n",
              "      <td>428</td>\n",
              "      <td>4</td>\n",
              "      <td>881251702</td>\n",
              "    </tr>\n",
              "    <tr>\n",
              "      <th>18853</th>\n",
              "      <td>196</td>\n",
              "      <td>1118</td>\n",
              "      <td>4</td>\n",
              "      <td>881252128</td>\n",
              "    </tr>\n",
              "    <tr>\n",
              "      <th>21605</th>\n",
              "      <td>196</td>\n",
              "      <td>70</td>\n",
              "      <td>3</td>\n",
              "      <td>881251842</td>\n",
              "    </tr>\n",
              "    <tr>\n",
              "      <th>22271</th>\n",
              "      <td>196</td>\n",
              "      <td>66</td>\n",
              "      <td>3</td>\n",
              "      <td>881251911</td>\n",
              "    </tr>\n",
              "    <tr>\n",
              "      <th>22773</th>\n",
              "      <td>196</td>\n",
              "      <td>257</td>\n",
              "      <td>2</td>\n",
              "      <td>881251577</td>\n",
              "    </tr>\n",
              "    <tr>\n",
              "      <th>23189</th>\n",
              "      <td>196</td>\n",
              "      <td>108</td>\n",
              "      <td>4</td>\n",
              "      <td>881252110</td>\n",
              "    </tr>\n",
              "    <tr>\n",
              "      <th>24030</th>\n",
              "      <td>196</td>\n",
              "      <td>202</td>\n",
              "      <td>3</td>\n",
              "      <td>881251728</td>\n",
              "    </tr>\n",
              "    <tr>\n",
              "      <th>25726</th>\n",
              "      <td>196</td>\n",
              "      <td>340</td>\n",
              "      <td>3</td>\n",
              "      <td>881251045</td>\n",
              "    </tr>\n",
              "    <tr>\n",
              "      <th>32721</th>\n",
              "      <td>196</td>\n",
              "      <td>287</td>\n",
              "      <td>3</td>\n",
              "      <td>881251884</td>\n",
              "    </tr>\n",
              "    <tr>\n",
              "      <th>33536</th>\n",
              "      <td>196</td>\n",
              "      <td>116</td>\n",
              "      <td>3</td>\n",
              "      <td>881251753</td>\n",
              "    </tr>\n",
              "    <tr>\n",
              "      <th>35197</th>\n",
              "      <td>196</td>\n",
              "      <td>382</td>\n",
              "      <td>4</td>\n",
              "      <td>881251843</td>\n",
              "    </tr>\n",
              "    <tr>\n",
              "      <th>36281</th>\n",
              "      <td>196</td>\n",
              "      <td>285</td>\n",
              "      <td>5</td>\n",
              "      <td>881251753</td>\n",
              "    </tr>\n",
              "    <tr>\n",
              "      <th>41539</th>\n",
              "      <td>196</td>\n",
              "      <td>1241</td>\n",
              "      <td>3</td>\n",
              "      <td>881251642</td>\n",
              "    </tr>\n",
              "    <tr>\n",
              "      <th>42384</th>\n",
              "      <td>196</td>\n",
              "      <td>1007</td>\n",
              "      <td>4</td>\n",
              "      <td>881251601</td>\n",
              "    </tr>\n",
              "    <tr>\n",
              "      <th>50147</th>\n",
              "      <td>196</td>\n",
              "      <td>411</td>\n",
              "      <td>4</td>\n",
              "      <td>881252090</td>\n",
              "    </tr>\n",
              "    <tr>\n",
              "      <th>52726</th>\n",
              "      <td>196</td>\n",
              "      <td>153</td>\n",
              "      <td>5</td>\n",
              "      <td>881251820</td>\n",
              "    </tr>\n",
              "    <tr>\n",
              "      <th>56628</th>\n",
              "      <td>196</td>\n",
              "      <td>13</td>\n",
              "      <td>2</td>\n",
              "      <td>881251955</td>\n",
              "    </tr>\n",
              "    <tr>\n",
              "      <th>59165</th>\n",
              "      <td>196</td>\n",
              "      <td>762</td>\n",
              "      <td>3</td>\n",
              "      <td>881251955</td>\n",
              "    </tr>\n",
              "    <tr>\n",
              "      <th>59607</th>\n",
              "      <td>196</td>\n",
              "      <td>173</td>\n",
              "      <td>2</td>\n",
              "      <td>881251820</td>\n",
              "    </tr>\n",
              "    <tr>\n",
              "      <th>60199</th>\n",
              "      <td>196</td>\n",
              "      <td>1022</td>\n",
              "      <td>4</td>\n",
              "      <td>881251143</td>\n",
              "    </tr>\n",
              "    <tr>\n",
              "      <th>60706</th>\n",
              "      <td>196</td>\n",
              "      <td>845</td>\n",
              "      <td>4</td>\n",
              "      <td>881251954</td>\n",
              "    </tr>\n",
              "    <tr>\n",
              "      <th>78787</th>\n",
              "      <td>196</td>\n",
              "      <td>269</td>\n",
              "      <td>3</td>\n",
              "      <td>881250949</td>\n",
              "    </tr>\n",
              "    <tr>\n",
              "      <th>87863</th>\n",
              "      <td>196</td>\n",
              "      <td>110</td>\n",
              "      <td>1</td>\n",
              "      <td>881252305</td>\n",
              "    </tr>\n",
              "  </tbody>\n",
              "</table>\n",
              "</div>"
            ],
            "text/plain": [
              "       user_id  movie_id  rating  timestamp\n",
              "0          196       242       3  881250949\n",
              "940        196       393       4  881251863\n",
              "1133       196       381       4  881251728\n",
              "1812       196       251       3  881251274\n",
              "1896       196       655       5  881251793\n",
              "2374       196        67       5  881252017\n",
              "6910       196       306       4  881251021\n",
              "7517       196       238       4  881251820\n",
              "7842       196       663       5  881251911\n",
              "10017      196       111       4  881251793\n",
              "10254      196       580       2  881252056\n",
              "10981      196        25       4  881251955\n",
              "13733      196       286       5  881250949\n",
              "14606      196        94       3  881252172\n",
              "16834      196       692       5  881252017\n",
              "17102      196         8       5  881251753\n",
              "17830      196       428       4  881251702\n",
              "18853      196      1118       4  881252128\n",
              "21605      196        70       3  881251842\n",
              "22271      196        66       3  881251911\n",
              "22773      196       257       2  881251577\n",
              "23189      196       108       4  881252110\n",
              "24030      196       202       3  881251728\n",
              "25726      196       340       3  881251045\n",
              "32721      196       287       3  881251884\n",
              "33536      196       116       3  881251753\n",
              "35197      196       382       4  881251843\n",
              "36281      196       285       5  881251753\n",
              "41539      196      1241       3  881251642\n",
              "42384      196      1007       4  881251601\n",
              "50147      196       411       4  881252090\n",
              "52726      196       153       5  881251820\n",
              "56628      196        13       2  881251955\n",
              "59165      196       762       3  881251955\n",
              "59607      196       173       2  881251820\n",
              "60199      196      1022       4  881251143\n",
              "60706      196       845       4  881251954\n",
              "78787      196       269       3  881250949\n",
              "87863      196       110       1  881252305"
            ]
          },
          "execution_count": 8,
          "metadata": {},
          "output_type": "execute_result"
        }
      ],
      "source": [
        "ratings[ratings['user_id']==196]"
      ]
    },
    {
      "cell_type": "code",
      "execution_count": 9,
      "id": "5e45af65",
      "metadata": {
        "id": "5e45af65"
      },
      "outputs": [],
      "source": [
        "### 196 user rated 39 movies"
      ]
    },
    {
      "cell_type": "code",
      "execution_count": 10,
      "id": "e6c91945",
      "metadata": {
        "colab": {
          "base_uri": "https://localhost:8080/",
          "height": 423
        },
        "id": "e6c91945",
        "outputId": "ab0017fa-2ea5-4a1a-c18a-a2d9641820d6"
      },
      "outputs": [
        {
          "data": {
            "text/html": [
              "<div>\n",
              "<style scoped>\n",
              "    .dataframe tbody tr th:only-of-type {\n",
              "        vertical-align: middle;\n",
              "    }\n",
              "\n",
              "    .dataframe tbody tr th {\n",
              "        vertical-align: top;\n",
              "    }\n",
              "\n",
              "    .dataframe thead th {\n",
              "        text-align: right;\n",
              "    }\n",
              "</style>\n",
              "<table border=\"1\" class=\"dataframe\">\n",
              "  <thead>\n",
              "    <tr style=\"text-align: right;\">\n",
              "      <th></th>\n",
              "      <th>user_id</th>\n",
              "      <th>movie_id</th>\n",
              "      <th>rating</th>\n",
              "      <th>timestamp</th>\n",
              "    </tr>\n",
              "  </thead>\n",
              "  <tbody>\n",
              "    <tr>\n",
              "      <th>0</th>\n",
              "      <td>196</td>\n",
              "      <td>242</td>\n",
              "      <td>3</td>\n",
              "      <td>881250949</td>\n",
              "    </tr>\n",
              "    <tr>\n",
              "      <th>253</th>\n",
              "      <td>63</td>\n",
              "      <td>242</td>\n",
              "      <td>3</td>\n",
              "      <td>875747190</td>\n",
              "    </tr>\n",
              "    <tr>\n",
              "      <th>629</th>\n",
              "      <td>226</td>\n",
              "      <td>242</td>\n",
              "      <td>5</td>\n",
              "      <td>883888671</td>\n",
              "    </tr>\n",
              "    <tr>\n",
              "      <th>1232</th>\n",
              "      <td>154</td>\n",
              "      <td>242</td>\n",
              "      <td>3</td>\n",
              "      <td>879138235</td>\n",
              "    </tr>\n",
              "    <tr>\n",
              "      <th>2159</th>\n",
              "      <td>306</td>\n",
              "      <td>242</td>\n",
              "      <td>5</td>\n",
              "      <td>876503793</td>\n",
              "    </tr>\n",
              "    <tr>\n",
              "      <th>...</th>\n",
              "      <td>...</td>\n",
              "      <td>...</td>\n",
              "      <td>...</td>\n",
              "      <td>...</td>\n",
              "    </tr>\n",
              "    <tr>\n",
              "      <th>95720</th>\n",
              "      <td>305</td>\n",
              "      <td>242</td>\n",
              "      <td>5</td>\n",
              "      <td>886307828</td>\n",
              "    </tr>\n",
              "    <tr>\n",
              "      <th>96237</th>\n",
              "      <td>845</td>\n",
              "      <td>242</td>\n",
              "      <td>4</td>\n",
              "      <td>885409493</td>\n",
              "    </tr>\n",
              "    <tr>\n",
              "      <th>97046</th>\n",
              "      <td>500</td>\n",
              "      <td>242</td>\n",
              "      <td>3</td>\n",
              "      <td>891916883</td>\n",
              "    </tr>\n",
              "    <tr>\n",
              "      <th>99260</th>\n",
              "      <td>720</td>\n",
              "      <td>242</td>\n",
              "      <td>4</td>\n",
              "      <td>891262608</td>\n",
              "    </tr>\n",
              "    <tr>\n",
              "      <th>99759</th>\n",
              "      <td>721</td>\n",
              "      <td>242</td>\n",
              "      <td>3</td>\n",
              "      <td>877137597</td>\n",
              "    </tr>\n",
              "  </tbody>\n",
              "</table>\n",
              "<p>117 rows × 4 columns</p>\n",
              "</div>"
            ],
            "text/plain": [
              "       user_id  movie_id  rating  timestamp\n",
              "0          196       242       3  881250949\n",
              "253         63       242       3  875747190\n",
              "629        226       242       5  883888671\n",
              "1232       154       242       3  879138235\n",
              "2159       306       242       5  876503793\n",
              "...        ...       ...     ...        ...\n",
              "95720      305       242       5  886307828\n",
              "96237      845       242       4  885409493\n",
              "97046      500       242       3  891916883\n",
              "99260      720       242       4  891262608\n",
              "99759      721       242       3  877137597\n",
              "\n",
              "[117 rows x 4 columns]"
            ]
          },
          "execution_count": 10,
          "metadata": {},
          "output_type": "execute_result"
        }
      ],
      "source": [
        "ratings[ratings['movie_id']==242]"
      ]
    },
    {
      "cell_type": "code",
      "execution_count": 11,
      "id": "60093da6",
      "metadata": {
        "id": "60093da6"
      },
      "outputs": [],
      "source": [
        "## 117 people given the rating for movie 242"
      ]
    },
    {
      "cell_type": "code",
      "execution_count": 12,
      "id": "5aca493e",
      "metadata": {
        "colab": {
          "base_uri": "https://localhost:8080/"
        },
        "id": "5aca493e",
        "outputId": "ec5eee90-3ee8-4545-dc6a-ad66158d5027"
      },
      "outputs": [
        {
          "data": {
            "text/plain": [
              "943"
            ]
          },
          "execution_count": 12,
          "metadata": {},
          "output_type": "execute_result"
        }
      ],
      "source": [
        "ratings['user_id'].nunique()"
      ]
    },
    {
      "cell_type": "code",
      "execution_count": 13,
      "id": "d90c85ae",
      "metadata": {
        "colab": {
          "base_uri": "https://localhost:8080/"
        },
        "id": "d90c85ae",
        "outputId": "6b640ff9-67b6-4464-9c16-acec3aafb597"
      },
      "outputs": [
        {
          "data": {
            "text/plain": [
              "1682"
            ]
          },
          "execution_count": 13,
          "metadata": {},
          "output_type": "execute_result"
        }
      ],
      "source": [
        "ratings['movie_id'].nunique()"
      ]
    },
    {
      "cell_type": "code",
      "execution_count": 14,
      "id": "95f6aa87",
      "metadata": {
        "colab": {
          "base_uri": "https://localhost:8080/"
        },
        "id": "95f6aa87",
        "outputId": "fa21acd2-06e4-4c7a-abb8-90e260715a85"
      },
      "outputs": [
        {
          "data": {
            "text/plain": [
              "(100000, 4)"
            ]
          },
          "execution_count": 14,
          "metadata": {},
          "output_type": "execute_result"
        }
      ],
      "source": [
        "ratings.shape"
      ]
    },
    {
      "cell_type": "code",
      "execution_count": 15,
      "id": "92fd2488",
      "metadata": {
        "id": "92fd2488"
      },
      "outputs": [],
      "source": [
        "# 943 people rated 1682 movies and the total number of ratings given are 100000"
      ]
    },
    {
      "cell_type": "code",
      "execution_count": 16,
      "id": "5b9c004f",
      "metadata": {
        "id": "5b9c004f"
      },
      "outputs": [],
      "source": [
        "### knn basic and another one SVD (singular value decomposition)"
      ]
    },
    {
      "cell_type": "code",
      "execution_count": 17,
      "id": "fbd9a28b",
      "metadata": {
        "id": "fbd9a28b"
      },
      "outputs": [],
      "source": [
        "### surprise library"
      ]
    },
    {
      "cell_type": "code",
      "execution_count": 18,
      "id": "0c289bf4",
      "metadata": {
        "id": "0c289bf4"
      },
      "outputs": [],
      "source": [
        "import surprise"
      ]
    },
    {
      "cell_type": "code",
      "execution_count": 19,
      "id": "TubYinXQDhG-",
      "metadata": {
        "id": "TubYinXQDhG-"
      },
      "outputs": [],
      "source": [
        "## user_id, movie_id and rating"
      ]
    },
    {
      "cell_type": "code",
      "execution_count": 20,
      "id": "N9NS7AV2EQp8",
      "metadata": {
        "id": "N9NS7AV2EQp8"
      },
      "outputs": [],
      "source": [
        "ratings = ratings.drop(\"timestamp\",axis=1)"
      ]
    },
    {
      "cell_type": "code",
      "execution_count": 21,
      "id": "QiKVEqPZEV0V",
      "metadata": {
        "colab": {
          "base_uri": "https://localhost:8080/",
          "height": 423
        },
        "id": "QiKVEqPZEV0V",
        "outputId": "cd4cd013-5492-44df-adcf-da4110c7dc4f"
      },
      "outputs": [
        {
          "data": {
            "text/html": [
              "<div>\n",
              "<style scoped>\n",
              "    .dataframe tbody tr th:only-of-type {\n",
              "        vertical-align: middle;\n",
              "    }\n",
              "\n",
              "    .dataframe tbody tr th {\n",
              "        vertical-align: top;\n",
              "    }\n",
              "\n",
              "    .dataframe thead th {\n",
              "        text-align: right;\n",
              "    }\n",
              "</style>\n",
              "<table border=\"1\" class=\"dataframe\">\n",
              "  <thead>\n",
              "    <tr style=\"text-align: right;\">\n",
              "      <th></th>\n",
              "      <th>user_id</th>\n",
              "      <th>movie_id</th>\n",
              "      <th>rating</th>\n",
              "    </tr>\n",
              "  </thead>\n",
              "  <tbody>\n",
              "    <tr>\n",
              "      <th>0</th>\n",
              "      <td>196</td>\n",
              "      <td>242</td>\n",
              "      <td>3</td>\n",
              "    </tr>\n",
              "    <tr>\n",
              "      <th>1</th>\n",
              "      <td>186</td>\n",
              "      <td>302</td>\n",
              "      <td>3</td>\n",
              "    </tr>\n",
              "    <tr>\n",
              "      <th>2</th>\n",
              "      <td>22</td>\n",
              "      <td>377</td>\n",
              "      <td>1</td>\n",
              "    </tr>\n",
              "    <tr>\n",
              "      <th>3</th>\n",
              "      <td>244</td>\n",
              "      <td>51</td>\n",
              "      <td>2</td>\n",
              "    </tr>\n",
              "    <tr>\n",
              "      <th>4</th>\n",
              "      <td>166</td>\n",
              "      <td>346</td>\n",
              "      <td>1</td>\n",
              "    </tr>\n",
              "    <tr>\n",
              "      <th>...</th>\n",
              "      <td>...</td>\n",
              "      <td>...</td>\n",
              "      <td>...</td>\n",
              "    </tr>\n",
              "    <tr>\n",
              "      <th>99995</th>\n",
              "      <td>880</td>\n",
              "      <td>476</td>\n",
              "      <td>3</td>\n",
              "    </tr>\n",
              "    <tr>\n",
              "      <th>99996</th>\n",
              "      <td>716</td>\n",
              "      <td>204</td>\n",
              "      <td>5</td>\n",
              "    </tr>\n",
              "    <tr>\n",
              "      <th>99997</th>\n",
              "      <td>276</td>\n",
              "      <td>1090</td>\n",
              "      <td>1</td>\n",
              "    </tr>\n",
              "    <tr>\n",
              "      <th>99998</th>\n",
              "      <td>13</td>\n",
              "      <td>225</td>\n",
              "      <td>2</td>\n",
              "    </tr>\n",
              "    <tr>\n",
              "      <th>99999</th>\n",
              "      <td>12</td>\n",
              "      <td>203</td>\n",
              "      <td>3</td>\n",
              "    </tr>\n",
              "  </tbody>\n",
              "</table>\n",
              "<p>100000 rows × 3 columns</p>\n",
              "</div>"
            ],
            "text/plain": [
              "       user_id  movie_id  rating\n",
              "0          196       242       3\n",
              "1          186       302       3\n",
              "2           22       377       1\n",
              "3          244        51       2\n",
              "4          166       346       1\n",
              "...        ...       ...     ...\n",
              "99995      880       476       3\n",
              "99996      716       204       5\n",
              "99997      276      1090       1\n",
              "99998       13       225       2\n",
              "99999       12       203       3\n",
              "\n",
              "[100000 rows x 3 columns]"
            ]
          },
          "execution_count": 21,
          "metadata": {},
          "output_type": "execute_result"
        }
      ],
      "source": [
        "ratings"
      ]
    },
    {
      "cell_type": "code",
      "execution_count": 22,
      "id": "0XcorpQ8EcUp",
      "metadata": {
        "id": "0XcorpQ8EcUp"
      },
      "outputs": [],
      "source": [
        "### reader object \n",
        "## reader object hepls in parsing the dataframe for ratings\n"
      ]
    },
    {
      "cell_type": "code",
      "execution_count": 23,
      "id": "iSUSnP61E25T",
      "metadata": {
        "id": "iSUSnP61E25T"
      },
      "outputs": [],
      "source": [
        "from surprise import Reader, Dataset"
      ]
    },
    {
      "cell_type": "code",
      "execution_count": 24,
      "id": "s8HhRzvhE9m1",
      "metadata": {
        "id": "s8HhRzvhE9m1"
      },
      "outputs": [],
      "source": [
        "reader = Reader()"
      ]
    },
    {
      "cell_type": "code",
      "execution_count": 25,
      "id": "Hv7oBb2OFBVW",
      "metadata": {
        "id": "Hv7oBb2OFBVW"
      },
      "outputs": [],
      "source": [
        "data = Dataset.load_from_df(ratings, reader)"
      ]
    },
    {
      "cell_type": "code",
      "execution_count": 34,
      "id": "z8MI-smXFP50",
      "metadata": {
        "colab": {
          "base_uri": "https://localhost:8080/"
        },
        "id": "z8MI-smXFP50",
        "outputId": "9a0d0999-0ff6-48d0-a977-4f8e7feaa633"
      },
      "outputs": [
        {
          "name": "stdout",
          "output_type": "stream",
          "text": [
            "<surprise.dataset.DatasetAutoFolds object at 0x7f7b4fc495a0>\n"
          ]
        }
      ],
      "source": [
        "data"
      ]
    },
    {
      "cell_type": "code",
      "execution_count": null,
      "id": "tgyOP0zZFkKp",
      "metadata": {
        "id": "tgyOP0zZFkKp"
      },
      "outputs": [],
      "source": []
    },
    {
      "cell_type": "markdown",
      "id": "yBmW_IQiFsKo",
      "metadata": {
        "id": "yBmW_IQiFsKo"
      },
      "source": [
        "SVD"
      ]
    },
    {
      "cell_type": "code",
      "execution_count": 27,
      "id": "61l97PF9Fs4L",
      "metadata": {
        "id": "61l97PF9Fs4L"
      },
      "outputs": [],
      "source": [
        "from surprise import SVD"
      ]
    },
    {
      "cell_type": "code",
      "execution_count": 28,
      "id": "_y5Kh2TbFwi-",
      "metadata": {
        "id": "_y5Kh2TbFwi-"
      },
      "outputs": [],
      "source": [
        "algo = SVD()"
      ]
    },
    {
      "cell_type": "code",
      "execution_count": 29,
      "id": "mfYhR8FTFyn4",
      "metadata": {
        "id": "mfYhR8FTFyn4"
      },
      "outputs": [],
      "source": [
        "from surprise.model_selection import cross_validate"
      ]
    },
    {
      "cell_type": "code",
      "execution_count": 30,
      "id": "SFA75xtmF9LA",
      "metadata": {
        "colab": {
          "base_uri": "https://localhost:8080/"
        },
        "id": "SFA75xtmF9LA",
        "outputId": "66939d7a-a24d-4bf9-f5a4-a98ff3078e5c"
      },
      "outputs": [
        {
          "name": "stdout",
          "output_type": "stream",
          "text": [
            "Evaluating RMSE of algorithm SVD on 5 split(s).\n",
            "\n",
            "                  Fold 1  Fold 2  Fold 3  Fold 4  Fold 5  Mean    Std     \n",
            "RMSE (testset)    0.9298  0.9416  0.9382  0.9337  0.9374  0.9362  0.0040  \n",
            "Fit time          0.86    0.89    0.88    0.88    0.89    0.88    0.01    \n",
            "Test time         0.09    0.14    0.08    0.10    0.15    0.11    0.03    \n"
          ]
        },
        {
          "data": {
            "text/plain": [
              "{'test_rmse': array([0.92984004, 0.94158785, 0.93824638, 0.93371382, 0.93741084]),\n",
              " 'fit_time': (0.8585453033447266,\n",
              "  0.8856973648071289,\n",
              "  0.8843989372253418,\n",
              "  0.8790328502655029,\n",
              "  0.8877849578857422),\n",
              " 'test_time': (0.08730173110961914,\n",
              "  0.1383988857269287,\n",
              "  0.08232903480529785,\n",
              "  0.09793806076049805,\n",
              "  0.1487720012664795)}"
            ]
          },
          "execution_count": 30,
          "metadata": {},
          "output_type": "execute_result"
        }
      ],
      "source": [
        "cross_validate(algo, data, measures= [\"RMSE\"], cv = 5 , verbose = True)"
      ]
    },
    {
      "cell_type": "code",
      "execution_count": 31,
      "id": "1cVYjSc1GJ2K",
      "metadata": {
        "id": "1cVYjSc1GJ2K"
      },
      "outputs": [],
      "source": [
        "from surprise import KNNBasic"
      ]
    },
    {
      "cell_type": "code",
      "execution_count": 32,
      "id": "Yz1m3XwzIZcX",
      "metadata": {
        "id": "Yz1m3XwzIZcX"
      },
      "outputs": [],
      "source": [
        "knn_algo = KNNBasic()"
      ]
    },
    {
      "cell_type": "code",
      "execution_count": 33,
      "id": "3SvMLqCyIdbU",
      "metadata": {
        "colab": {
          "base_uri": "https://localhost:8080/"
        },
        "id": "3SvMLqCyIdbU",
        "outputId": "f3178218-9369-4157-98ce-03992db9cc83"
      },
      "outputs": [
        {
          "name": "stdout",
          "output_type": "stream",
          "text": [
            "Computing the msd similarity matrix...\n",
            "Done computing similarity matrix.\n",
            "Computing the msd similarity matrix...\n",
            "Done computing similarity matrix.\n",
            "Computing the msd similarity matrix...\n",
            "Done computing similarity matrix.\n",
            "Computing the msd similarity matrix...\n",
            "Done computing similarity matrix.\n",
            "Computing the msd similarity matrix...\n",
            "Done computing similarity matrix.\n",
            "Evaluating RMSE of algorithm KNNBasic on 5 split(s).\n",
            "\n",
            "                  Fold 1  Fold 2  Fold 3  Fold 4  Fold 5  Mean    Std     \n",
            "RMSE (testset)    0.9756  0.9804  0.9789  0.9811  0.9787  0.9789  0.0019  \n",
            "Fit time          0.36    0.40    0.41    0.38    0.40    0.39    0.02    \n",
            "Test time         2.10    2.25    2.13    2.12    2.18    2.16    0.05    \n"
          ]
        },
        {
          "data": {
            "text/plain": [
              "{'test_rmse': array([0.97560906, 0.98038506, 0.97888279, 0.98112435, 0.978659  ]),\n",
              " 'fit_time': (0.36403512954711914,\n",
              "  0.4029068946838379,\n",
              "  0.40651535987854004,\n",
              "  0.37821197509765625,\n",
              "  0.39577674865722656),\n",
              " 'test_time': (2.101593494415283,\n",
              "  2.2494847774505615,\n",
              "  2.132540464401245,\n",
              "  2.115827798843384,\n",
              "  2.180576801300049)}"
            ]
          },
          "execution_count": 33,
          "metadata": {},
          "output_type": "execute_result"
        }
      ],
      "source": [
        "cross_validate(knn_algo, data, measures= [\"RMSE\"], cv = 5 , verbose = True)"
      ]
    },
    {
      "cell_type": "code",
      "execution_count": null,
      "id": "JXbUmOdcIk_H",
      "metadata": {
        "id": "JXbUmOdcIk_H"
      },
      "outputs": [],
      "source": []
    }
  ],
  "metadata": {
    "colab": {
      "provenance": []
    },
    "kernelspec": {
      "display_name": "Python 3 (ipykernel)",
      "language": "python",
      "name": "python3"
    },
    "language_info": {
      "codemirror_mode": {
        "name": "ipython",
        "version": 3
      },
      "file_extension": ".py",
      "mimetype": "text/x-python",
      "name": "python",
      "nbconvert_exporter": "python",
      "pygments_lexer": "ipython3",
      "version": "3.10.6"
    }
  },
  "nbformat": 4,
  "nbformat_minor": 5
}
