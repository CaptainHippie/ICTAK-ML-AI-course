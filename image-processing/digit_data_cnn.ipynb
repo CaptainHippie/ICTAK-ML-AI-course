{
  "cells": [
    {
      "cell_type": "code",
      "execution_count": 9,
      "metadata": {
        "id": "oeGszLGxjPs-"
      },
      "outputs": [],
      "source": [
        "import pandas as pd\n",
        "import numpy as np\n",
        "import matplotlib.pyplot as plt"
      ]
    },
    {
      "cell_type": "code",
      "execution_count": 2,
      "metadata": {
        "colab": {
          "base_uri": "https://localhost:8080/"
        },
        "id": "RavuLVMIkAGB",
        "outputId": "f5f5849c-e045-47c3-d5c3-8305dfb86b9a"
      },
      "outputs": [
        {
          "name": "stdout",
          "output_type": "stream",
          "text": [
            "'convolusional neural network introduction.ipynb'   \u001b[0m\u001b[01;34mimages\u001b[0m/      main.ipynb\n",
            " \u001b[01;34mdatasets\u001b[0m/                                          imutils.py   test.py\n",
            " digit_data_cnn.ipynb                               logical.py   train.csv\n"
          ]
        }
      ],
      "source": [
        "ls"
      ]
    },
    {
      "cell_type": "code",
      "execution_count": 3,
      "metadata": {
        "id": "fl1oTv8TkHJB"
      },
      "outputs": [
        {
          "data": {
            "text/html": [
              "<div>\n",
              "<style scoped>\n",
              "    .dataframe tbody tr th:only-of-type {\n",
              "        vertical-align: middle;\n",
              "    }\n",
              "\n",
              "    .dataframe tbody tr th {\n",
              "        vertical-align: top;\n",
              "    }\n",
              "\n",
              "    .dataframe thead th {\n",
              "        text-align: right;\n",
              "    }\n",
              "</style>\n",
              "<table border=\"1\" class=\"dataframe\">\n",
              "  <thead>\n",
              "    <tr style=\"text-align: right;\">\n",
              "      <th></th>\n",
              "      <th>filename</th>\n",
              "      <th>label</th>\n",
              "    </tr>\n",
              "  </thead>\n",
              "  <tbody>\n",
              "    <tr>\n",
              "      <th>0</th>\n",
              "      <td>0.png</td>\n",
              "      <td>4</td>\n",
              "    </tr>\n",
              "    <tr>\n",
              "      <th>1</th>\n",
              "      <td>1.png</td>\n",
              "      <td>9</td>\n",
              "    </tr>\n",
              "    <tr>\n",
              "      <th>2</th>\n",
              "      <td>2.png</td>\n",
              "      <td>1</td>\n",
              "    </tr>\n",
              "    <tr>\n",
              "      <th>3</th>\n",
              "      <td>3.png</td>\n",
              "      <td>7</td>\n",
              "    </tr>\n",
              "    <tr>\n",
              "      <th>4</th>\n",
              "      <td>4.png</td>\n",
              "      <td>3</td>\n",
              "    </tr>\n",
              "    <tr>\n",
              "      <th>5</th>\n",
              "      <td>5.png</td>\n",
              "      <td>9</td>\n",
              "    </tr>\n",
              "    <tr>\n",
              "      <th>6</th>\n",
              "      <td>6.png</td>\n",
              "      <td>4</td>\n",
              "    </tr>\n",
              "    <tr>\n",
              "      <th>7</th>\n",
              "      <td>7.png</td>\n",
              "      <td>9</td>\n",
              "    </tr>\n",
              "    <tr>\n",
              "      <th>8</th>\n",
              "      <td>8.png</td>\n",
              "      <td>3</td>\n",
              "    </tr>\n",
              "    <tr>\n",
              "      <th>9</th>\n",
              "      <td>9.png</td>\n",
              "      <td>4</td>\n",
              "    </tr>\n",
              "  </tbody>\n",
              "</table>\n",
              "</div>"
            ],
            "text/plain": [
              "  filename  label\n",
              "0    0.png      4\n",
              "1    1.png      9\n",
              "2    2.png      1\n",
              "3    3.png      7\n",
              "4    4.png      3\n",
              "5    5.png      9\n",
              "6    6.png      4\n",
              "7    7.png      9\n",
              "8    8.png      3\n",
              "9    9.png      4"
            ]
          },
          "execution_count": 3,
          "metadata": {},
          "output_type": "execute_result"
        }
      ],
      "source": [
        "train = pd.read_csv(\"datasets/cnn-train.csv\")\n",
        "train.head(10)"
      ]
    },
    {
      "cell_type": "code",
      "execution_count": 5,
      "metadata": {
        "id": "xmIhuP_8kp7u"
      },
      "outputs": [],
      "source": [
        "img_1 = plt.imread(\"images/cnn-images/train/968.png\")"
      ]
    },
    {
      "cell_type": "code",
      "execution_count": 6,
      "metadata": {
        "colab": {
          "base_uri": "https://localhost:8080/"
        },
        "id": "R0ISwNRMkwTs",
        "outputId": "80a10a0b-b007-478b-d324-4b6b1a14b57c"
      },
      "outputs": [
        {
          "data": {
            "text/plain": [
              "(28, 28, 4)"
            ]
          },
          "execution_count": 6,
          "metadata": {},
          "output_type": "execute_result"
        }
      ],
      "source": [
        "img_1.shape"
      ]
    },
    {
      "cell_type": "code",
      "execution_count": 7,
      "metadata": {
        "id": "cJoIWa9nlYUi"
      },
      "outputs": [],
      "source": [
        "l = []\n",
        "for img in train['filename']:\n",
        "  image = plt.imread(\"images/cnn-images/train/\" + img)\n",
        "  l.append(image)"
      ]
    },
    {
      "cell_type": "code",
      "execution_count": 8,
      "metadata": {
        "colab": {
          "base_uri": "https://localhost:8080/"
        },
        "id": "GejVnobUlcg0",
        "outputId": "6897cad6-cf24-4224-c953-643f1a9c7d2d"
      },
      "outputs": [
        {
          "data": {
            "text/plain": [
              "49000"
            ]
          },
          "execution_count": 8,
          "metadata": {},
          "output_type": "execute_result"
        }
      ],
      "source": [
        "len(l)"
      ]
    },
    {
      "cell_type": "code",
      "execution_count": 11,
      "metadata": {
        "id": "PiMxtYIqlkI5"
      },
      "outputs": [],
      "source": [
        "X = np.array(l)\n",
        "y = train['label']"
      ]
    },
    {
      "cell_type": "code",
      "execution_count": 13,
      "metadata": {
        "id": "ltX7CuytmYDp"
      },
      "outputs": [],
      "source": [
        "from sklearn.model_selection import train_test_split"
      ]
    },
    {
      "cell_type": "code",
      "execution_count": 14,
      "metadata": {
        "id": "Kqwm589emh4B"
      },
      "outputs": [],
      "source": [
        "x_train, x_test, y_train, y_test = train_test_split(X, y, test_size = 0.25, random_state = 134)"
      ]
    },
    {
      "cell_type": "code",
      "execution_count": 17,
      "metadata": {
        "id": "Vtb8SKK1msRA"
      },
      "outputs": [],
      "source": [
        "from tensorflow.keras.models import Sequential\n",
        "from tensorflow.keras.layers import Dense, Conv2D, Dropout, MaxPool2D, Flatten\n",
        "from tensorflow.keras.utils import to_categorical"
      ]
    },
    {
      "cell_type": "code",
      "execution_count": 16,
      "metadata": {
        "id": "wAql_oOsnZwZ"
      },
      "outputs": [
        {
          "name": "stdout",
          "output_type": "stream",
          "text": [
            "Model: \"sequential\"\n",
            "_________________________________________________________________\n",
            " Layer (type)                Output Shape              Param #   \n",
            "=================================================================\n",
            " conv2d (Conv2D)             (None, 28, 28, 32)        1184      \n",
            "                                                                 \n",
            " max_pooling2d (MaxPooling2D  (None, 14, 14, 32)       0         \n",
            " )                                                               \n",
            "                                                                 \n",
            " dropout (Dropout)           (None, 14, 14, 32)        0         \n",
            "                                                                 \n",
            " conv2d_1 (Conv2D)           (None, 12, 12, 64)        18496     \n",
            "                                                                 \n",
            " max_pooling2d_1 (MaxPooling  (None, 6, 6, 64)         0         \n",
            " 2D)                                                             \n",
            "                                                                 \n",
            " dropout_1 (Dropout)         (None, 6, 6, 64)          0         \n",
            "                                                                 \n",
            " conv2d_2 (Conv2D)           (None, 4, 4, 64)          36928     \n",
            "                                                                 \n",
            " max_pooling2d_2 (MaxPooling  (None, 2, 2, 64)         0         \n",
            " 2D)                                                             \n",
            "                                                                 \n",
            " dropout_2 (Dropout)         (None, 2, 2, 64)          0         \n",
            "                                                                 \n",
            " flatten (Flatten)           (None, 256)               0         \n",
            "                                                                 \n",
            " dense (Dense)               (None, 128)               32896     \n",
            "                                                                 \n",
            " dense_1 (Dense)             (None, 10)                1290      \n",
            "                                                                 \n",
            "=================================================================\n",
            "Total params: 90,794\n",
            "Trainable params: 90,794\n",
            "Non-trainable params: 0\n",
            "_________________________________________________________________\n"
          ]
        },
        {
          "name": "stderr",
          "output_type": "stream",
          "text": [
            "2023-04-04 21:26:31.864852: W tensorflow/compiler/xla/stream_executor/platform/default/dso_loader.cc:64] Could not load dynamic library 'libcuda.so.1'; dlerror: libcuda.so.1: cannot open shared object file: No such file or directory\n",
            "2023-04-04 21:26:31.865477: W tensorflow/compiler/xla/stream_executor/cuda/cuda_driver.cc:265] failed call to cuInit: UNKNOWN ERROR (303)\n",
            "2023-04-04 21:26:31.865748: I tensorflow/compiler/xla/stream_executor/cuda/cuda_diagnostics.cc:156] kernel driver does not appear to be running on this host (neeraj-HP-Laptop): /proc/driver/nvidia/version does not exist\n",
            "2023-04-04 21:26:31.868771: I tensorflow/core/platform/cpu_feature_guard.cc:193] This TensorFlow binary is optimized with oneAPI Deep Neural Network Library (oneDNN) to use the following CPU instructions in performance-critical operations:  AVX2 FMA\n",
            "To enable them in other operations, rebuild TensorFlow with the appropriate compiler flags.\n"
          ]
        }
      ],
      "source": [
        "model = Sequential()\n",
        "model.add(Conv2D(32,kernel_size = (3,3), activation = \"relu\", padding = \"same\", input_shape=(28,28,4)))\n",
        "model.add(MaxPool2D(2,2))\n",
        "model.add(Dropout(0.2))\n",
        "model.add(Conv2D(64, kernel_size= (3,3), activation = \"relu\"))\n",
        "model.add(MaxPool2D(2,2))\n",
        "model.add(Dropout(0.2))\n",
        "model.add(Conv2D(64, kernel_size= (3,3), activation = \"relu\"))\n",
        "model.add(MaxPool2D(2,2))\n",
        "model.add(Dropout(0.2))\n",
        "model.add(Flatten())\n",
        "model.add(Dense(128, activation = \"relu\"))\n",
        "model.add(Dense(10, activation = \"softmax\"))\n",
        "model.summary()"
      ]
    },
    {
      "cell_type": "code",
      "execution_count": 18,
      "metadata": {
        "colab": {
          "base_uri": "https://localhost:8080/"
        },
        "id": "2lwYBP1kqMX2",
        "outputId": "a2276ac6-6ed3-4e22-9849-820a8a5123d2"
      },
      "outputs": [
        {
          "data": {
            "text/plain": [
              "((36750,), (12250,))"
            ]
          },
          "execution_count": 18,
          "metadata": {},
          "output_type": "execute_result"
        }
      ],
      "source": [
        "y_train.shape, y_test.shape"
      ]
    },
    {
      "cell_type": "code",
      "execution_count": 19,
      "metadata": {
        "id": "tZ4STA16qNsb"
      },
      "outputs": [],
      "source": [
        "y_train = to_categorical(y_train)\n",
        "y_test = to_categorical(y_test)"
      ]
    },
    {
      "cell_type": "code",
      "execution_count": 20,
      "metadata": {
        "id": "vT72vRq2qYI2"
      },
      "outputs": [],
      "source": [
        "model.compile(loss = \"categorical_crossentropy\", optimizer = \"adam\", metrics = [\"accuracy\"])"
      ]
    },
    {
      "cell_type": "code",
      "execution_count": 21,
      "metadata": {
        "colab": {
          "base_uri": "https://localhost:8080/"
        },
        "id": "ReCGpq17qxHH",
        "outputId": "37d674c8-1608-4f05-ff66-2a4d783a4735"
      },
      "outputs": [
        {
          "name": "stderr",
          "output_type": "stream",
          "text": [
            "2023-04-04 21:27:03.828458: W tensorflow/tsl/framework/cpu_allocator_impl.cc:82] Allocation of 460992000 exceeds 10% of free system memory.\n"
          ]
        },
        {
          "name": "stdout",
          "output_type": "stream",
          "text": [
            "Epoch 1/20\n",
            "  1/144 [..............................] - ETA: 6:20:01 - loss: 2.3302 - accuracy: 0.0898"
          ]
        },
        {
          "name": "stderr",
          "output_type": "stream",
          "text": [
            "2023-04-04 21:35:13.749057: W tensorflow/tsl/framework/cpu_allocator_impl.cc:82] Allocation of 25690112 exceeds 10% of free system memory.\n",
            "2023-04-04 21:35:13.853626: W tensorflow/tsl/framework/cpu_allocator_impl.cc:82] Allocation of 18911232 exceeds 10% of free system memory.\n",
            "2023-04-04 21:35:13.855186: W tensorflow/tsl/framework/cpu_allocator_impl.cc:82] Allocation of 18911232 exceeds 10% of free system memory.\n",
            "2023-04-04 21:35:13.883153: W tensorflow/tsl/framework/cpu_allocator_impl.cc:82] Allocation of 25690112 exceeds 10% of free system memory.\n"
          ]
        },
        {
          "name": "stdout",
          "output_type": "stream",
          "text": [
            "144/144 [==============================] - 180s 146ms/step - loss: 0.6992 - accuracy: 0.7707 - val_loss: 0.1391 - val_accuracy: 0.9554\n",
            "Epoch 2/20\n",
            "144/144 [==============================] - 23s 159ms/step - loss: 0.1512 - accuracy: 0.9531 - val_loss: 0.0771 - val_accuracy: 0.9758\n",
            "Epoch 3/20\n",
            "144/144 [==============================] - 21s 143ms/step - loss: 0.1021 - accuracy: 0.9680 - val_loss: 0.0583 - val_accuracy: 0.9826\n",
            "Epoch 4/20\n",
            "144/144 [==============================] - 20s 138ms/step - loss: 0.0755 - accuracy: 0.9759 - val_loss: 0.0491 - val_accuracy: 0.9841\n",
            "Epoch 5/20\n",
            "144/144 [==============================] - 20s 140ms/step - loss: 0.0647 - accuracy: 0.9795 - val_loss: 0.0430 - val_accuracy: 0.9872\n",
            "Epoch 6/20\n",
            "144/144 [==============================] - 20s 139ms/step - loss: 0.0581 - accuracy: 0.9821 - val_loss: 0.0412 - val_accuracy: 0.9869\n",
            "Epoch 7/20\n",
            "144/144 [==============================] - 20s 140ms/step - loss: 0.0515 - accuracy: 0.9837 - val_loss: 0.0403 - val_accuracy: 0.9880\n",
            "Epoch 8/20\n",
            "144/144 [==============================] - 20s 140ms/step - loss: 0.0442 - accuracy: 0.9851 - val_loss: 0.0361 - val_accuracy: 0.9895\n",
            "Epoch 9/20\n",
            "144/144 [==============================] - 20s 140ms/step - loss: 0.0434 - accuracy: 0.9859 - val_loss: 0.0344 - val_accuracy: 0.9900\n",
            "Epoch 10/20\n",
            "144/144 [==============================] - 20s 141ms/step - loss: 0.0408 - accuracy: 0.9864 - val_loss: 0.0334 - val_accuracy: 0.9903\n",
            "Epoch 11/20\n",
            "144/144 [==============================] - 20s 141ms/step - loss: 0.0364 - accuracy: 0.9879 - val_loss: 0.0310 - val_accuracy: 0.9900\n",
            "Epoch 12/20\n",
            "144/144 [==============================] - 20s 142ms/step - loss: 0.0336 - accuracy: 0.9890 - val_loss: 0.0405 - val_accuracy: 0.9882\n",
            "Epoch 13/20\n",
            "144/144 [==============================] - 21s 145ms/step - loss: 0.0326 - accuracy: 0.9893 - val_loss: 0.0338 - val_accuracy: 0.9899\n",
            "Epoch 14/20\n",
            "144/144 [==============================] - 21s 145ms/step - loss: 0.0316 - accuracy: 0.9898 - val_loss: 0.0319 - val_accuracy: 0.9902\n",
            "Epoch 15/20\n",
            "144/144 [==============================] - 25s 176ms/step - loss: 0.0302 - accuracy: 0.9894 - val_loss: 0.0334 - val_accuracy: 0.9901\n",
            "Epoch 16/20\n",
            "144/144 [==============================] - 23s 159ms/step - loss: 0.0272 - accuracy: 0.9913 - val_loss: 0.0305 - val_accuracy: 0.9909\n",
            "Epoch 17/20\n",
            "144/144 [==============================] - 22s 155ms/step - loss: 0.0252 - accuracy: 0.9913 - val_loss: 0.0313 - val_accuracy: 0.9903\n",
            "Epoch 18/20\n",
            "144/144 [==============================] - 81s 566ms/step - loss: 0.0234 - accuracy: 0.9921 - val_loss: 0.0303 - val_accuracy: 0.9909\n",
            "Epoch 19/20\n",
            "144/144 [==============================] - 73s 509ms/step - loss: 0.0236 - accuracy: 0.9921 - val_loss: 0.0348 - val_accuracy: 0.9904\n",
            "Epoch 20/20\n",
            "144/144 [==============================] - 23s 163ms/step - loss: 0.0229 - accuracy: 0.9929 - val_loss: 0.0314 - val_accuracy: 0.9912\n"
          ]
        },
        {
          "data": {
            "text/plain": [
              "<keras.callbacks.History at 0x7fb6ec10e800>"
            ]
          },
          "execution_count": 21,
          "metadata": {},
          "output_type": "execute_result"
        }
      ],
      "source": [
        "model.fit(x_train , y_train, epochs = 20, batch_size = 256, validation_data=(x_test, y_test))"
      ]
    },
    {
      "cell_type": "code",
      "execution_count": null,
      "metadata": {
        "id": "lGS6pB5dq9M_"
      },
      "outputs": [],
      "source": [
        "y_pred = model.predict(x_test, y_test)"
      ]
    }
  ],
  "metadata": {
    "accelerator": "GPU",
    "colab": {
      "provenance": []
    },
    "gpuClass": "standard",
    "kernelspec": {
      "display_name": "Python 3",
      "name": "python3"
    },
    "language_info": {
      "codemirror_mode": {
        "name": "ipython",
        "version": 3
      },
      "file_extension": ".py",
      "mimetype": "text/x-python",
      "name": "python",
      "nbconvert_exporter": "python",
      "pygments_lexer": "ipython3",
      "version": "3.10.6"
    }
  },
  "nbformat": 4,
  "nbformat_minor": 0
}
