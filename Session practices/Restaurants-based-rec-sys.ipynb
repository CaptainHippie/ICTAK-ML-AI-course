{
 "cells": [
  {
   "cell_type": "code",
   "execution_count": 1,
   "id": "665b9ea4",
   "metadata": {},
   "outputs": [],
   "source": [
    "import pandas as pd"
   ]
  },
  {
   "cell_type": "code",
   "execution_count": 2,
   "id": "b6c681fd",
   "metadata": {},
   "outputs": [],
   "source": [
    "df = pd.read_csv(\"data/TripAdvisor_RestauarantRecommendation.csv\")"
   ]
  },
  {
   "cell_type": "code",
   "execution_count": 3,
   "id": "3c82adc3",
   "metadata": {},
   "outputs": [
    {
     "data": {
      "text/html": [
       "<div>\n",
       "<style scoped>\n",
       "    .dataframe tbody tr th:only-of-type {\n",
       "        vertical-align: middle;\n",
       "    }\n",
       "\n",
       "    .dataframe tbody tr th {\n",
       "        vertical-align: top;\n",
       "    }\n",
       "\n",
       "    .dataframe thead th {\n",
       "        text-align: right;\n",
       "    }\n",
       "</style>\n",
       "<table border=\"1\" class=\"dataframe\">\n",
       "  <thead>\n",
       "    <tr style=\"text-align: right;\">\n",
       "      <th></th>\n",
       "      <th>Name</th>\n",
       "      <th>Street Address</th>\n",
       "      <th>Location</th>\n",
       "      <th>Type</th>\n",
       "      <th>Reviews</th>\n",
       "      <th>No of Reviews</th>\n",
       "      <th>Comments</th>\n",
       "      <th>Contact Number</th>\n",
       "      <th>Trip_advisor Url</th>\n",
       "      <th>Menu</th>\n",
       "      <th>Price_Range</th>\n",
       "    </tr>\n",
       "  </thead>\n",
       "  <tbody>\n",
       "    <tr>\n",
       "      <th>0</th>\n",
       "      <td>Betty Lou's Seafood and Grill</td>\n",
       "      <td>318 Columbus Ave</td>\n",
       "      <td>San Francisco, CA 94133-3908</td>\n",
       "      <td>Seafood, Vegetarian Friendly, Vegan Options</td>\n",
       "      <td>4.5 of 5 bubbles</td>\n",
       "      <td>243 reviews</td>\n",
       "      <td>NaN</td>\n",
       "      <td>+1 415-757-0569</td>\n",
       "      <td>https://www.tripadvisor.com//Restaurant_Review...</td>\n",
       "      <td>Check The Website for a Menu</td>\n",
       "      <td>$$ - $$$</td>\n",
       "    </tr>\n",
       "    <tr>\n",
       "      <th>1</th>\n",
       "      <td>Coach House Diner</td>\n",
       "      <td>55 State Rt 4</td>\n",
       "      <td>Hackensack, NJ 07601-6337</td>\n",
       "      <td>Diner, American, Vegetarian Friendly</td>\n",
       "      <td>4 of 5 bubbles</td>\n",
       "      <td>84 reviews</td>\n",
       "      <td>Both times we were there very late, after 11 P...</td>\n",
       "      <td>+1 201-488-4999</td>\n",
       "      <td>https://www.tripadvisor.com//Restaurant_Review...</td>\n",
       "      <td>Check The Website for a Menu</td>\n",
       "      <td>$$ - $$$</td>\n",
       "    </tr>\n",
       "    <tr>\n",
       "      <th>2</th>\n",
       "      <td>Table Talk Diner</td>\n",
       "      <td>2521 South Rd Ste C</td>\n",
       "      <td>Poughkeepsie, NY 12601-5476</td>\n",
       "      <td>American, Diner, Vegetarian Friendly</td>\n",
       "      <td>4 of 5 bubbles</td>\n",
       "      <td>256 reviews</td>\n",
       "      <td>Waitress was very friendly but a little pricey...</td>\n",
       "      <td>+1 845-849-2839</td>\n",
       "      <td>https://www.tripadvisor.com//Restaurant_Review...</td>\n",
       "      <td>http://tabletalkdiner.com/menu/breakfast/</td>\n",
       "      <td>$$ - $$$</td>\n",
       "    </tr>\n",
       "    <tr>\n",
       "      <th>3</th>\n",
       "      <td>Sixty Vines</td>\n",
       "      <td>3701 Dallas Pkwy</td>\n",
       "      <td>Plano, TX 75093-7777</td>\n",
       "      <td>American, Wine Bar, Vegetarian Friendly</td>\n",
       "      <td>4.5 of 5 bubbles</td>\n",
       "      <td>235 reviews</td>\n",
       "      <td>Not sure why I went there for the second time....</td>\n",
       "      <td>+1 469-620-8463</td>\n",
       "      <td>https://www.tripadvisor.com//Restaurant_Review...</td>\n",
       "      <td>https://sixtyvines.com/menu/plano-tx/</td>\n",
       "      <td>$$ - $$$</td>\n",
       "    </tr>\n",
       "    <tr>\n",
       "      <th>4</th>\n",
       "      <td>The Clam Bar</td>\n",
       "      <td>3914 Brewerton Rd</td>\n",
       "      <td>Syracuse, NY 13212</td>\n",
       "      <td>American, Bar, Seafood</td>\n",
       "      <td>4 of 5 bubbles</td>\n",
       "      <td>285 reviews</td>\n",
       "      <td>Doesn't look like much from the outside but wa...</td>\n",
       "      <td>+1 315-458-1662</td>\n",
       "      <td>https://www.tripadvisor.com//Restaurant_Review...</td>\n",
       "      <td>Check The Website for a Menu</td>\n",
       "      <td>$$ - $$$</td>\n",
       "    </tr>\n",
       "    <tr>\n",
       "      <th>...</th>\n",
       "      <td>...</td>\n",
       "      <td>...</td>\n",
       "      <td>...</td>\n",
       "      <td>...</td>\n",
       "      <td>...</td>\n",
       "      <td>...</td>\n",
       "      <td>...</td>\n",
       "      <td>...</td>\n",
       "      <td>...</td>\n",
       "      <td>...</td>\n",
       "      <td>...</td>\n",
       "    </tr>\n",
       "    <tr>\n",
       "      <th>3057</th>\n",
       "      <td>Indigo Kitchen &amp; Ale House</td>\n",
       "      <td>2902 164th St SW</td>\n",
       "      <td>Lynnwood, WA 98087-3201</td>\n",
       "      <td>American, Bar, Vegetarian Friendly</td>\n",
       "      <td>4.5 of 5 bubbles</td>\n",
       "      <td>198 reviews</td>\n",
       "      <td>We had to wait a few minutes to get it but it ...</td>\n",
       "      <td>+1 425-741-8770</td>\n",
       "      <td>https://www.tripadvisor.com//Restaurant_Review...</td>\n",
       "      <td>Check The Website for a Menu</td>\n",
       "      <td>$$ - $$$</td>\n",
       "    </tr>\n",
       "    <tr>\n",
       "      <th>3058</th>\n",
       "      <td>City Vineyard</td>\n",
       "      <td>233 West Street</td>\n",
       "      <td>New York City, NY 10013</td>\n",
       "      <td>American, Bar, Seafood</td>\n",
       "      <td>4.5 of 5 bubbles</td>\n",
       "      <td>374 reviews</td>\n",
       "      <td>Came here to see Andrea Gibson perform, we wer...</td>\n",
       "      <td>+1 646-677-8350</td>\n",
       "      <td>https://www.tripadvisor.com//Restaurant_Review...</td>\n",
       "      <td>Check The Website for a Menu</td>\n",
       "      <td>$$ - $$$</td>\n",
       "    </tr>\n",
       "    <tr>\n",
       "      <th>3059</th>\n",
       "      <td>BRIO Tuscan Grille</td>\n",
       "      <td>3710 US Highway 9</td>\n",
       "      <td>Freehold, NJ 07728-4801</td>\n",
       "      <td>Steakhouse, Italian, Bar</td>\n",
       "      <td>4 of 5 bubbles</td>\n",
       "      <td>211 reviews</td>\n",
       "      <td>We come to Brio once a month. They are good fo...</td>\n",
       "      <td>+1 732-683-1045</td>\n",
       "      <td>https://www.tripadvisor.com//Restaurant_Review...</td>\n",
       "      <td>http://www.brioitalian.com/menus.html</td>\n",
       "      <td>$$ - $$$</td>\n",
       "    </tr>\n",
       "    <tr>\n",
       "      <th>3060</th>\n",
       "      <td>Maywood Pancake house</td>\n",
       "      <td>92 W Pleasant Ave</td>\n",
       "      <td>Maywood, NJ 07607-1336</td>\n",
       "      <td>American, Vegan Options, Gluten Free Options</td>\n",
       "      <td>4 of 5 bubbles</td>\n",
       "      <td>87 reviews</td>\n",
       "      <td>Stopped in yesterday for Breakfast. When in Je...</td>\n",
       "      <td>+1 201-880-7842</td>\n",
       "      <td>https://www.tripadvisor.com//Restaurant_Review...</td>\n",
       "      <td>http://www.maywoodpancakehouse.com/menu.html</td>\n",
       "      <td>$$ - $$$</td>\n",
       "    </tr>\n",
       "    <tr>\n",
       "      <th>3061</th>\n",
       "      <td>Porto Leggero</td>\n",
       "      <td>Harborside Financial Center - Plaza 5</td>\n",
       "      <td>Jersey City, NJ 07311</td>\n",
       "      <td>Italian, Vegetarian Friendly, Vegan Options</td>\n",
       "      <td>4.5 of 5 bubbles</td>\n",
       "      <td>183 reviews</td>\n",
       "      <td>First time for dinner. 2 couples. Delicious mu...</td>\n",
       "      <td>+1 201-434-3200</td>\n",
       "      <td>https://www.tripadvisor.com//Restaurant_Review...</td>\n",
       "      <td>Check The Website for a Menu</td>\n",
       "      <td>$$$$</td>\n",
       "    </tr>\n",
       "  </tbody>\n",
       "</table>\n",
       "<p>3062 rows × 11 columns</p>\n",
       "</div>"
      ],
      "text/plain": [
       "                               Name                         Street Address  \\\n",
       "0     Betty Lou's Seafood and Grill                       318 Columbus Ave   \n",
       "1                 Coach House Diner                          55 State Rt 4   \n",
       "2                  Table Talk Diner                    2521 South Rd Ste C   \n",
       "3                       Sixty Vines                       3701 Dallas Pkwy   \n",
       "4                      The Clam Bar                      3914 Brewerton Rd   \n",
       "...                             ...                                    ...   \n",
       "3057     Indigo Kitchen & Ale House                       2902 164th St SW   \n",
       "3058                  City Vineyard                        233 West Street   \n",
       "3059             BRIO Tuscan Grille                      3710 US Highway 9   \n",
       "3060          Maywood Pancake house                      92 W Pleasant Ave   \n",
       "3061                  Porto Leggero  Harborside Financial Center - Plaza 5   \n",
       "\n",
       "                          Location  \\\n",
       "0     San Francisco, CA 94133-3908   \n",
       "1        Hackensack, NJ 07601-6337   \n",
       "2      Poughkeepsie, NY 12601-5476   \n",
       "3             Plano, TX 75093-7777   \n",
       "4               Syracuse, NY 13212   \n",
       "...                            ...   \n",
       "3057       Lynnwood, WA 98087-3201   \n",
       "3058       New York City, NY 10013   \n",
       "3059       Freehold, NJ 07728-4801   \n",
       "3060        Maywood, NJ 07607-1336   \n",
       "3061         Jersey City, NJ 07311   \n",
       "\n",
       "                                               Type           Reviews  \\\n",
       "0       Seafood, Vegetarian Friendly, Vegan Options  4.5 of 5 bubbles   \n",
       "1              Diner, American, Vegetarian Friendly    4 of 5 bubbles   \n",
       "2              American, Diner, Vegetarian Friendly    4 of 5 bubbles   \n",
       "3           American, Wine Bar, Vegetarian Friendly  4.5 of 5 bubbles   \n",
       "4                            American, Bar, Seafood    4 of 5 bubbles   \n",
       "...                                             ...               ...   \n",
       "3057             American, Bar, Vegetarian Friendly  4.5 of 5 bubbles   \n",
       "3058                         American, Bar, Seafood  4.5 of 5 bubbles   \n",
       "3059                       Steakhouse, Italian, Bar    4 of 5 bubbles   \n",
       "3060   American, Vegan Options, Gluten Free Options    4 of 5 bubbles   \n",
       "3061    Italian, Vegetarian Friendly, Vegan Options  4.5 of 5 bubbles   \n",
       "\n",
       "     No of Reviews                                           Comments  \\\n",
       "0      243 reviews                                                NaN   \n",
       "1       84 reviews  Both times we were there very late, after 11 P...   \n",
       "2      256 reviews  Waitress was very friendly but a little pricey...   \n",
       "3      235 reviews  Not sure why I went there for the second time....   \n",
       "4      285 reviews  Doesn't look like much from the outside but wa...   \n",
       "...            ...                                                ...   \n",
       "3057   198 reviews  We had to wait a few minutes to get it but it ...   \n",
       "3058   374 reviews  Came here to see Andrea Gibson perform, we wer...   \n",
       "3059   211 reviews  We come to Brio once a month. They are good fo...   \n",
       "3060    87 reviews  Stopped in yesterday for Breakfast. When in Je...   \n",
       "3061   183 reviews  First time for dinner. 2 couples. Delicious mu...   \n",
       "\n",
       "       Contact Number                                   Trip_advisor Url  \\\n",
       "0     +1 415-757-0569  https://www.tripadvisor.com//Restaurant_Review...   \n",
       "1     +1 201-488-4999  https://www.tripadvisor.com//Restaurant_Review...   \n",
       "2     +1 845-849-2839  https://www.tripadvisor.com//Restaurant_Review...   \n",
       "3     +1 469-620-8463  https://www.tripadvisor.com//Restaurant_Review...   \n",
       "4     +1 315-458-1662  https://www.tripadvisor.com//Restaurant_Review...   \n",
       "...               ...                                                ...   \n",
       "3057  +1 425-741-8770  https://www.tripadvisor.com//Restaurant_Review...   \n",
       "3058  +1 646-677-8350  https://www.tripadvisor.com//Restaurant_Review...   \n",
       "3059  +1 732-683-1045  https://www.tripadvisor.com//Restaurant_Review...   \n",
       "3060  +1 201-880-7842  https://www.tripadvisor.com//Restaurant_Review...   \n",
       "3061  +1 201-434-3200  https://www.tripadvisor.com//Restaurant_Review...   \n",
       "\n",
       "                                              Menu Price_Range  \n",
       "0                     Check The Website for a Menu    $$ - $$$  \n",
       "1                     Check The Website for a Menu    $$ - $$$  \n",
       "2        http://tabletalkdiner.com/menu/breakfast/    $$ - $$$  \n",
       "3            https://sixtyvines.com/menu/plano-tx/    $$ - $$$  \n",
       "4                     Check The Website for a Menu    $$ - $$$  \n",
       "...                                            ...         ...  \n",
       "3057                  Check The Website for a Menu    $$ - $$$  \n",
       "3058                  Check The Website for a Menu    $$ - $$$  \n",
       "3059         http://www.brioitalian.com/menus.html    $$ - $$$  \n",
       "3060  http://www.maywoodpancakehouse.com/menu.html    $$ - $$$  \n",
       "3061                  Check The Website for a Menu        $$$$  \n",
       "\n",
       "[3062 rows x 11 columns]"
      ]
     },
     "execution_count": 3,
     "metadata": {},
     "output_type": "execute_result"
    }
   ],
   "source": [
    "df"
   ]
  },
  {
   "cell_type": "code",
   "execution_count": 4,
   "id": "952c63fc",
   "metadata": {},
   "outputs": [
    {
     "data": {
      "text/plain": [
       "Index(['Name', 'Street Address', 'Location', 'Type', 'Reviews',\n",
       "       'No of Reviews', 'Comments', 'Contact Number', 'Trip_advisor Url',\n",
       "       'Menu', 'Price_Range'],\n",
       "      dtype='object')"
      ]
     },
     "execution_count": 4,
     "metadata": {},
     "output_type": "execute_result"
    }
   ],
   "source": [
    "df.columns"
   ]
  },
  {
   "cell_type": "code",
   "execution_count": 5,
   "id": "e4ecf92b",
   "metadata": {},
   "outputs": [],
   "source": [
    "### type column"
   ]
  },
  {
   "cell_type": "code",
   "execution_count": 6,
   "id": "98138146",
   "metadata": {},
   "outputs": [
    {
     "data": {
      "text/plain": [
       "' Italian, Pizza, Vegetarian Friendly'"
      ]
     },
     "execution_count": 6,
     "metadata": {},
     "output_type": "execute_result"
    }
   ],
   "source": [
    "df['Type'][800]   # type column for generating our meta data   ## BOW, ## TFIDF"
   ]
  },
  {
   "cell_type": "code",
   "execution_count": 7,
   "id": "18d17584",
   "metadata": {},
   "outputs": [
    {
     "data": {
      "text/plain": [
       "'4.5 of 5 bubbles'"
      ]
     },
     "execution_count": 7,
     "metadata": {},
     "output_type": "execute_result"
    }
   ],
   "source": [
    "df['Reviews'][0]   ## preprocessing is needed"
   ]
  },
  {
   "cell_type": "code",
   "execution_count": 8,
   "id": "bbe7bd2a",
   "metadata": {},
   "outputs": [
    {
     "data": {
      "text/plain": [
       "0       243 reviews\n",
       "1        84 reviews\n",
       "2       256 reviews\n",
       "3       235 reviews\n",
       "4       285 reviews\n",
       "           ...     \n",
       "3057    198 reviews\n",
       "3058    374 reviews\n",
       "3059    211 reviews\n",
       "3060     87 reviews\n",
       "3061    183 reviews\n",
       "Name: No of Reviews, Length: 3062, dtype: object"
      ]
     },
     "execution_count": 8,
     "metadata": {},
     "output_type": "execute_result"
    }
   ],
   "source": [
    "df['No of Reviews']    ### preprocessing needed"
   ]
  },
  {
   "cell_type": "code",
   "execution_count": 9,
   "id": "b32c2af6",
   "metadata": {},
   "outputs": [
    {
     "data": {
      "text/plain": [
       "0       San Francisco, CA 94133-3908\n",
       "1          Hackensack, NJ 07601-6337\n",
       "2        Poughkeepsie, NY 12601-5476\n",
       "3               Plano, TX 75093-7777\n",
       "4                 Syracuse, NY 13212\n",
       "                    ...             \n",
       "3057         Lynnwood, WA 98087-3201\n",
       "3058         New York City, NY 10013\n",
       "3059         Freehold, NJ 07728-4801\n",
       "3060          Maywood, NJ 07607-1336\n",
       "3061           Jersey City, NJ 07311\n",
       "Name: Location, Length: 3062, dtype: object"
      ]
     },
     "execution_count": 9,
     "metadata": {},
     "output_type": "execute_result"
    }
   ],
   "source": [
    "df['Location']     ### based on the location you can generate features"
   ]
  },
  {
   "cell_type": "code",
   "execution_count": 10,
   "id": "431bcd76",
   "metadata": {},
   "outputs": [
    {
     "data": {
      "text/plain": [
       "\"Both times we were there very late, after 11 PM.  At that time in many diners (forget restaurants!) you get warmed-over food and lousy service.  Not so here - food was uniformly very good and the service quite good.  There weren't many people but it...More\""
      ]
     },
     "execution_count": 10,
     "metadata": {},
     "output_type": "execute_result"
    }
   ],
   "source": [
    "df['Comments'][1]"
   ]
  },
  {
   "cell_type": "code",
   "execution_count": 11,
   "id": "4dabd8af",
   "metadata": {},
   "outputs": [
    {
     "data": {
      "text/plain": [
       "'Top-notch food, best-in-class cocktails, and a really delightful staff!  Ashley & Maddie were simply wonderful and the owners are just so welcoming!  Definitely a spot to which I’ll return!'"
      ]
     },
     "execution_count": 11,
     "metadata": {},
     "output_type": "execute_result"
    }
   ],
   "source": [
    "df['Comments'][500]      ### Generate the features using TFIDF, BOW"
   ]
  },
  {
   "cell_type": "markdown",
   "id": "164efc10",
   "metadata": {},
   "source": [
    "### preprocessing"
   ]
  },
  {
   "cell_type": "code",
   "execution_count": 12,
   "id": "c6c76901",
   "metadata": {},
   "outputs": [],
   "source": [
    "### any null values present or not"
   ]
  },
  {
   "cell_type": "code",
   "execution_count": 13,
   "id": "c54ff24d",
   "metadata": {},
   "outputs": [
    {
     "data": {
      "text/plain": [
       "Name                  0\n",
       "Street Address        0\n",
       "Location              0\n",
       "Type                 13\n",
       "Reviews               0\n",
       "No of Reviews         0\n",
       "Comments            615\n",
       "Contact Number        0\n",
       "Trip_advisor Url      0\n",
       "Menu                  0\n",
       "Price_Range           0\n",
       "dtype: int64"
      ]
     },
     "execution_count": 13,
     "metadata": {},
     "output_type": "execute_result"
    }
   ],
   "source": [
    "df.isna().sum()"
   ]
  },
  {
   "cell_type": "code",
   "execution_count": 14,
   "id": "5d9323b1",
   "metadata": {},
   "outputs": [
    {
     "data": {
      "text/plain": [
       "array(['4.5 of 5 bubbles', '4 of 5 bubbles', '5 of 5 bubbles',\n",
       "       '3.5 of 5 bubbles', '3 of 5 bubbles', 'No review'], dtype=object)"
      ]
     },
     "execution_count": 14,
     "metadata": {},
     "output_type": "execute_result"
    }
   ],
   "source": [
    "df['Reviews'].unique()"
   ]
  },
  {
   "cell_type": "code",
   "execution_count": 15,
   "id": "346ed66e",
   "metadata": {},
   "outputs": [],
   "source": [
    "# df['No of Reviews'].unique()"
   ]
  },
  {
   "cell_type": "code",
   "execution_count": 16,
   "id": "82c13c91",
   "metadata": {},
   "outputs": [
    {
     "data": {
      "text/html": [
       "<div>\n",
       "<style scoped>\n",
       "    .dataframe tbody tr th:only-of-type {\n",
       "        vertical-align: middle;\n",
       "    }\n",
       "\n",
       "    .dataframe tbody tr th {\n",
       "        vertical-align: top;\n",
       "    }\n",
       "\n",
       "    .dataframe thead th {\n",
       "        text-align: right;\n",
       "    }\n",
       "</style>\n",
       "<table border=\"1\" class=\"dataframe\">\n",
       "  <thead>\n",
       "    <tr style=\"text-align: right;\">\n",
       "      <th></th>\n",
       "      <th>Name</th>\n",
       "      <th>Street Address</th>\n",
       "      <th>Location</th>\n",
       "      <th>Type</th>\n",
       "      <th>Reviews</th>\n",
       "      <th>No of Reviews</th>\n",
       "      <th>Comments</th>\n",
       "      <th>Contact Number</th>\n",
       "      <th>Trip_advisor Url</th>\n",
       "      <th>Menu</th>\n",
       "      <th>Price_Range</th>\n",
       "    </tr>\n",
       "  </thead>\n",
       "  <tbody>\n",
       "    <tr>\n",
       "      <th>1744</th>\n",
       "      <td>Wavershak's Deli</td>\n",
       "      <td>1800 Route 9</td>\n",
       "      <td>Toms River, NJ 08755-1284</td>\n",
       "      <td>NaN</td>\n",
       "      <td>No review</td>\n",
       "      <td>Undefined Number</td>\n",
       "      <td>No Comments</td>\n",
       "      <td>+1 732-286-3250</td>\n",
       "      <td>https://www.tripadvisor.com//Restaurant_Review...</td>\n",
       "      <td>Check The Website for a Menu</td>\n",
       "      <td>Not Specified</td>\n",
       "    </tr>\n",
       "    <tr>\n",
       "      <th>2866</th>\n",
       "      <td>Wavershak's Deli</td>\n",
       "      <td>1800 Route 9</td>\n",
       "      <td>Toms River, NJ 08755-1284</td>\n",
       "      <td>NaN</td>\n",
       "      <td>No review</td>\n",
       "      <td>Undefined Number</td>\n",
       "      <td>No Comments</td>\n",
       "      <td>+1 732-286-3250</td>\n",
       "      <td>https://www.tripadvisor.com//Restaurant_Review...</td>\n",
       "      <td>Check The Website for a Menu</td>\n",
       "      <td>Not Specified</td>\n",
       "    </tr>\n",
       "  </tbody>\n",
       "</table>\n",
       "</div>"
      ],
      "text/plain": [
       "                  Name Street Address                   Location Type  \\\n",
       "1744  Wavershak's Deli   1800 Route 9  Toms River, NJ 08755-1284  NaN   \n",
       "2866  Wavershak's Deli   1800 Route 9  Toms River, NJ 08755-1284  NaN   \n",
       "\n",
       "        Reviews     No of Reviews     Comments   Contact Number  \\\n",
       "1744  No review  Undefined Number  No Comments  +1 732-286-3250   \n",
       "2866  No review  Undefined Number  No Comments  +1 732-286-3250   \n",
       "\n",
       "                                       Trip_advisor Url  \\\n",
       "1744  https://www.tripadvisor.com//Restaurant_Review...   \n",
       "2866  https://www.tripadvisor.com//Restaurant_Review...   \n",
       "\n",
       "                              Menu    Price_Range  \n",
       "1744  Check The Website for a Menu  Not Specified  \n",
       "2866  Check The Website for a Menu  Not Specified  "
      ]
     },
     "execution_count": 16,
     "metadata": {},
     "output_type": "execute_result"
    }
   ],
   "source": [
    "df[df['Reviews']==\"No review\"]"
   ]
  },
  {
   "cell_type": "code",
   "execution_count": 17,
   "id": "a8a02314",
   "metadata": {},
   "outputs": [
    {
     "data": {
      "text/html": [
       "<div>\n",
       "<style scoped>\n",
       "    .dataframe tbody tr th:only-of-type {\n",
       "        vertical-align: middle;\n",
       "    }\n",
       "\n",
       "    .dataframe tbody tr th {\n",
       "        vertical-align: top;\n",
       "    }\n",
       "\n",
       "    .dataframe thead th {\n",
       "        text-align: right;\n",
       "    }\n",
       "</style>\n",
       "<table border=\"1\" class=\"dataframe\">\n",
       "  <thead>\n",
       "    <tr style=\"text-align: right;\">\n",
       "      <th></th>\n",
       "      <th>Name</th>\n",
       "      <th>Street Address</th>\n",
       "      <th>Location</th>\n",
       "      <th>Type</th>\n",
       "      <th>Reviews</th>\n",
       "      <th>No of Reviews</th>\n",
       "      <th>Comments</th>\n",
       "      <th>Contact Number</th>\n",
       "      <th>Trip_advisor Url</th>\n",
       "      <th>Menu</th>\n",
       "      <th>Price_Range</th>\n",
       "    </tr>\n",
       "  </thead>\n",
       "  <tbody>\n",
       "    <tr>\n",
       "      <th>1744</th>\n",
       "      <td>Wavershak's Deli</td>\n",
       "      <td>1800 Route 9</td>\n",
       "      <td>Toms River, NJ 08755-1284</td>\n",
       "      <td>NaN</td>\n",
       "      <td>No review</td>\n",
       "      <td>Undefined Number</td>\n",
       "      <td>No Comments</td>\n",
       "      <td>+1 732-286-3250</td>\n",
       "      <td>https://www.tripadvisor.com//Restaurant_Review...</td>\n",
       "      <td>Check The Website for a Menu</td>\n",
       "      <td>Not Specified</td>\n",
       "    </tr>\n",
       "    <tr>\n",
       "      <th>2866</th>\n",
       "      <td>Wavershak's Deli</td>\n",
       "      <td>1800 Route 9</td>\n",
       "      <td>Toms River, NJ 08755-1284</td>\n",
       "      <td>NaN</td>\n",
       "      <td>No review</td>\n",
       "      <td>Undefined Number</td>\n",
       "      <td>No Comments</td>\n",
       "      <td>+1 732-286-3250</td>\n",
       "      <td>https://www.tripadvisor.com//Restaurant_Review...</td>\n",
       "      <td>Check The Website for a Menu</td>\n",
       "      <td>Not Specified</td>\n",
       "    </tr>\n",
       "  </tbody>\n",
       "</table>\n",
       "</div>"
      ],
      "text/plain": [
       "                  Name Street Address                   Location Type  \\\n",
       "1744  Wavershak's Deli   1800 Route 9  Toms River, NJ 08755-1284  NaN   \n",
       "2866  Wavershak's Deli   1800 Route 9  Toms River, NJ 08755-1284  NaN   \n",
       "\n",
       "        Reviews     No of Reviews     Comments   Contact Number  \\\n",
       "1744  No review  Undefined Number  No Comments  +1 732-286-3250   \n",
       "2866  No review  Undefined Number  No Comments  +1 732-286-3250   \n",
       "\n",
       "                                       Trip_advisor Url  \\\n",
       "1744  https://www.tripadvisor.com//Restaurant_Review...   \n",
       "2866  https://www.tripadvisor.com//Restaurant_Review...   \n",
       "\n",
       "                              Menu    Price_Range  \n",
       "1744  Check The Website for a Menu  Not Specified  \n",
       "2866  Check The Website for a Menu  Not Specified  "
      ]
     },
     "execution_count": 17,
     "metadata": {},
     "output_type": "execute_result"
    }
   ],
   "source": [
    "df[df['No of Reviews']==\"Undefined Number\"]"
   ]
  },
  {
   "cell_type": "code",
   "execution_count": 18,
   "id": "99646cbb",
   "metadata": {},
   "outputs": [],
   "source": [
    "df = df.drop([1744,2866])"
   ]
  },
  {
   "cell_type": "code",
   "execution_count": 19,
   "id": "8bc05f51",
   "metadata": {},
   "outputs": [
    {
     "data": {
      "text/html": [
       "<div>\n",
       "<style scoped>\n",
       "    .dataframe tbody tr th:only-of-type {\n",
       "        vertical-align: middle;\n",
       "    }\n",
       "\n",
       "    .dataframe tbody tr th {\n",
       "        vertical-align: top;\n",
       "    }\n",
       "\n",
       "    .dataframe thead th {\n",
       "        text-align: right;\n",
       "    }\n",
       "</style>\n",
       "<table border=\"1\" class=\"dataframe\">\n",
       "  <thead>\n",
       "    <tr style=\"text-align: right;\">\n",
       "      <th></th>\n",
       "      <th>Name</th>\n",
       "      <th>Street Address</th>\n",
       "      <th>Location</th>\n",
       "      <th>Type</th>\n",
       "      <th>Reviews</th>\n",
       "      <th>No of Reviews</th>\n",
       "      <th>Comments</th>\n",
       "      <th>Contact Number</th>\n",
       "      <th>Trip_advisor Url</th>\n",
       "      <th>Menu</th>\n",
       "      <th>Price_Range</th>\n",
       "    </tr>\n",
       "  </thead>\n",
       "  <tbody>\n",
       "  </tbody>\n",
       "</table>\n",
       "</div>"
      ],
      "text/plain": [
       "Empty DataFrame\n",
       "Columns: [Name, Street Address, Location, Type, Reviews, No of Reviews, Comments, Contact Number, Trip_advisor Url, Menu, Price_Range]\n",
       "Index: []"
      ]
     },
     "execution_count": 19,
     "metadata": {},
     "output_type": "execute_result"
    }
   ],
   "source": [
    "df[df['No of Reviews']==\"Undefined Number\"]"
   ]
  },
  {
   "cell_type": "code",
   "execution_count": 20,
   "id": "0c12cef1",
   "metadata": {},
   "outputs": [],
   "source": [
    "# once dropped your index will change"
   ]
  },
  {
   "cell_type": "code",
   "execution_count": 21,
   "id": "9ecb362d",
   "metadata": {},
   "outputs": [],
   "source": [
    "df = df.reset_index(drop=True)"
   ]
  },
  {
   "cell_type": "code",
   "execution_count": null,
   "id": "913f78b1",
   "metadata": {},
   "outputs": [],
   "source": []
  },
  {
   "cell_type": "markdown",
   "id": "ef0ef136",
   "metadata": {},
   "source": [
    "#### filling the missing values for \"comments\""
   ]
  },
  {
   "cell_type": "code",
   "execution_count": null,
   "id": "3e2805a4",
   "metadata": {},
   "outputs": [],
   "source": []
  },
  {
   "cell_type": "code",
   "execution_count": 22,
   "id": "ca642e50",
   "metadata": {},
   "outputs": [
    {
     "data": {
      "text/plain": [
       "nan"
      ]
     },
     "execution_count": 22,
     "metadata": {},
     "output_type": "execute_result"
    }
   ],
   "source": [
    "df['Comments'][0]"
   ]
  },
  {
   "cell_type": "code",
   "execution_count": 23,
   "id": "a82b13ea",
   "metadata": {},
   "outputs": [],
   "source": [
    "df['Comments'] = df['Comments'].fillna(\"\")"
   ]
  },
  {
   "cell_type": "code",
   "execution_count": null,
   "id": "1e4b374b",
   "metadata": {},
   "outputs": [],
   "source": []
  },
  {
   "cell_type": "markdown",
   "id": "60259cdf",
   "metadata": {},
   "source": [
    "#### filling of missing data \"Type\""
   ]
  },
  {
   "cell_type": "code",
   "execution_count": 24,
   "id": "ccc0e94c",
   "metadata": {},
   "outputs": [
    {
     "data": {
      "text/plain": [
       "' Italian, Vegetarian Friendly, Vegan Options'"
      ]
     },
     "execution_count": 24,
     "metadata": {},
     "output_type": "execute_result"
    }
   ],
   "source": [
    "df['Type'].value_counts().index[0]"
   ]
  },
  {
   "cell_type": "code",
   "execution_count": 25,
   "id": "43a2ffe9",
   "metadata": {},
   "outputs": [],
   "source": [
    "df[\"Type\"] = df['Type'].fillna(df['Type'].value_counts().index[0])"
   ]
  },
  {
   "cell_type": "code",
   "execution_count": 26,
   "id": "e7af3136",
   "metadata": {},
   "outputs": [
    {
     "data": {
      "text/plain": [
       "Name                0\n",
       "Street Address      0\n",
       "Location            0\n",
       "Type                0\n",
       "Reviews             0\n",
       "No of Reviews       0\n",
       "Comments            0\n",
       "Contact Number      0\n",
       "Trip_advisor Url    0\n",
       "Menu                0\n",
       "Price_Range         0\n",
       "dtype: int64"
      ]
     },
     "execution_count": 26,
     "metadata": {},
     "output_type": "execute_result"
    }
   ],
   "source": [
    "df.isna().sum()"
   ]
  },
  {
   "cell_type": "markdown",
   "id": "18f9cecb",
   "metadata": {},
   "source": [
    "### exploratory data analysis"
   ]
  },
  {
   "cell_type": "markdown",
   "id": "9312034f",
   "metadata": {},
   "source": [
    "#### 10 most common type of restaurants"
   ]
  },
  {
   "cell_type": "code",
   "execution_count": 27,
   "id": "505019d6",
   "metadata": {},
   "outputs": [],
   "source": [
    "types = []\n",
    "for i in range(len(df)):\n",
    "    if type(df.Type[i])== str:\n",
    "        types.append(df.Type[i].split(','))"
   ]
  },
  {
   "cell_type": "code",
   "execution_count": 30,
   "id": "38808e79",
   "metadata": {},
   "outputs": [],
   "source": [
    "import itertools "
   ]
  },
  {
   "cell_type": "code",
   "execution_count": 31,
   "id": "62c5655a",
   "metadata": {},
   "outputs": [],
   "source": [
    "flat_list = list(itertools.chain(*types))\n",
    "series = pd.Series(flat_list)"
   ]
  },
  {
   "cell_type": "code",
   "execution_count": 33,
   "id": "2a459e00",
   "metadata": {},
   "outputs": [
    {
     "data": {
      "text/plain": [
       " American               1558\n",
       " Vegetarian Friendly    1553\n",
       " Italian                 588\n",
       " Bar                     561\n",
       " Vegan Options           428\n",
       " Seafood                 305\n",
       " Asian                   278\n",
       " Gluten Free Options     270\n",
       " Pizza                   254\n",
       " Steakhouse              229\n",
       "dtype: int64"
      ]
     },
     "execution_count": 33,
     "metadata": {},
     "output_type": "execute_result"
    }
   ],
   "source": [
    "pd.Series(series).value_counts()[0:10]"
   ]
  },
  {
   "cell_type": "code",
   "execution_count": 34,
   "id": "f9bc0d96",
   "metadata": {},
   "outputs": [],
   "source": [
    "import matplotlib.pyplot as plt"
   ]
  },
  {
   "cell_type": "code",
   "execution_count": 37,
   "id": "a56a1d3f",
   "metadata": {},
   "outputs": [
    {
     "data": {
      "image/png": "[encoded data removed]",
      "text/plain": [
       "<Figure size 360x360 with 1 Axes>"
      ]
     },
     "metadata": {},
     "output_type": "display_data"
    }
   ],
   "source": [
    "ax = pd.Series(series).value_counts()[:10].plot(kind='pie', shadow=True,  cmap=plt.get_cmap('Spectral'), figsize=(5,5))\n",
    "ax.set_ylabel('Cuisine Types')\n",
    "plot = ax.set_title(\"10 Most Popular Types of Cuisines Served\")"
   ]
  },
  {
   "cell_type": "markdown",
   "id": "9d7eb79d",
   "metadata": {},
   "source": [
    "#### which state has the most number of restaurants"
   ]
  },
  {
   "cell_type": "code",
   "execution_count": 42,
   "id": "69f9d037",
   "metadata": {},
   "outputs": [
    {
     "data": {
      "text/plain": [
       "'NJ'"
      ]
     },
     "execution_count": 42,
     "metadata": {},
     "output_type": "execute_result"
    }
   ],
   "source": [
    "df['Location'][1].split(\",\")[-1].split(\" \")[1]"
   ]
  },
  {
   "cell_type": "code",
   "execution_count": 46,
   "id": "859442f0",
   "metadata": {},
   "outputs": [],
   "source": [
    "df['State'] = [i.split(\",\")[-1].split(\" \")[1] for i in df.Location]"
   ]
  },
  {
   "cell_type": "code",
   "execution_count": 47,
   "id": "576880a0",
   "metadata": {},
   "outputs": [],
   "source": [
    "df['ZipCode'] = [i.split(\",\")[-1].split(\" \")[-1] for i in df.Location]\n",
    "df['City'] = [\",\".join(i.split(\",\")[:-1]) for i in df.Location]\n",
    "df = df.drop(\"Location\",axis=1)"
   ]
  },
  {
   "cell_type": "code",
   "execution_count": 48,
   "id": "fd0ca3ee",
   "metadata": {},
   "outputs": [
    {
     "data": {
      "text/html": [
       "<div>\n",
       "<style scoped>\n",
       "    .dataframe tbody tr th:only-of-type {\n",
       "        vertical-align: middle;\n",
       "    }\n",
       "\n",
       "    .dataframe tbody tr th {\n",
       "        vertical-align: top;\n",
       "    }\n",
       "\n",
       "    .dataframe thead th {\n",
       "        text-align: right;\n",
       "    }\n",
       "</style>\n",
       "<table border=\"1\" class=\"dataframe\">\n",
       "  <thead>\n",
       "    <tr style=\"text-align: right;\">\n",
       "      <th></th>\n",
       "      <th>Name</th>\n",
       "      <th>Street Address</th>\n",
       "      <th>Type</th>\n",
       "      <th>Reviews</th>\n",
       "      <th>No of Reviews</th>\n",
       "      <th>Comments</th>\n",
       "      <th>Contact Number</th>\n",
       "      <th>Trip_advisor Url</th>\n",
       "      <th>Menu</th>\n",
       "      <th>Price_Range</th>\n",
       "      <th>State</th>\n",
       "      <th>ZipCode</th>\n",
       "      <th>City</th>\n",
       "    </tr>\n",
       "  </thead>\n",
       "  <tbody>\n",
       "    <tr>\n",
       "      <th>0</th>\n",
       "      <td>Betty Lou's Seafood and Grill</td>\n",
       "      <td>318 Columbus Ave</td>\n",
       "      <td>Seafood, Vegetarian Friendly, Vegan Options</td>\n",
       "      <td>4.5 of 5 bubbles</td>\n",
       "      <td>243 reviews</td>\n",
       "      <td></td>\n",
       "      <td>+1 415-757-0569</td>\n",
       "      <td>https://www.tripadvisor.com//Restaurant_Review...</td>\n",
       "      <td>Check The Website for a Menu</td>\n",
       "      <td>$$ - $$$</td>\n",
       "      <td>CA</td>\n",
       "      <td>94133-3908</td>\n",
       "      <td>San Francisco</td>\n",
       "    </tr>\n",
       "    <tr>\n",
       "      <th>1</th>\n",
       "      <td>Coach House Diner</td>\n",
       "      <td>55 State Rt 4</td>\n",
       "      <td>Diner, American, Vegetarian Friendly</td>\n",
       "      <td>4 of 5 bubbles</td>\n",
       "      <td>84 reviews</td>\n",
       "      <td>Both times we were there very late, after 11 P...</td>\n",
       "      <td>+1 201-488-4999</td>\n",
       "      <td>https://www.tripadvisor.com//Restaurant_Review...</td>\n",
       "      <td>Check The Website for a Menu</td>\n",
       "      <td>$$ - $$$</td>\n",
       "      <td>NJ</td>\n",
       "      <td>07601-6337</td>\n",
       "      <td>Hackensack</td>\n",
       "    </tr>\n",
       "    <tr>\n",
       "      <th>2</th>\n",
       "      <td>Table Talk Diner</td>\n",
       "      <td>2521 South Rd Ste C</td>\n",
       "      <td>American, Diner, Vegetarian Friendly</td>\n",
       "      <td>4 of 5 bubbles</td>\n",
       "      <td>256 reviews</td>\n",
       "      <td>Waitress was very friendly but a little pricey...</td>\n",
       "      <td>+1 845-849-2839</td>\n",
       "      <td>https://www.tripadvisor.com//Restaurant_Review...</td>\n",
       "      <td>http://tabletalkdiner.com/menu/breakfast/</td>\n",
       "      <td>$$ - $$$</td>\n",
       "      <td>NY</td>\n",
       "      <td>12601-5476</td>\n",
       "      <td>Poughkeepsie</td>\n",
       "    </tr>\n",
       "    <tr>\n",
       "      <th>3</th>\n",
       "      <td>Sixty Vines</td>\n",
       "      <td>3701 Dallas Pkwy</td>\n",
       "      <td>American, Wine Bar, Vegetarian Friendly</td>\n",
       "      <td>4.5 of 5 bubbles</td>\n",
       "      <td>235 reviews</td>\n",
       "      <td>Not sure why I went there for the second time....</td>\n",
       "      <td>+1 469-620-8463</td>\n",
       "      <td>https://www.tripadvisor.com//Restaurant_Review...</td>\n",
       "      <td>https://sixtyvines.com/menu/plano-tx/</td>\n",
       "      <td>$$ - $$$</td>\n",
       "      <td>TX</td>\n",
       "      <td>75093-7777</td>\n",
       "      <td>Plano</td>\n",
       "    </tr>\n",
       "    <tr>\n",
       "      <th>4</th>\n",
       "      <td>The Clam Bar</td>\n",
       "      <td>3914 Brewerton Rd</td>\n",
       "      <td>American, Bar, Seafood</td>\n",
       "      <td>4 of 5 bubbles</td>\n",
       "      <td>285 reviews</td>\n",
       "      <td>Doesn't look like much from the outside but wa...</td>\n",
       "      <td>+1 315-458-1662</td>\n",
       "      <td>https://www.tripadvisor.com//Restaurant_Review...</td>\n",
       "      <td>Check The Website for a Menu</td>\n",
       "      <td>$$ - $$$</td>\n",
       "      <td>NY</td>\n",
       "      <td>13212</td>\n",
       "      <td>Syracuse</td>\n",
       "    </tr>\n",
       "    <tr>\n",
       "      <th>5</th>\n",
       "      <td>E Tutto Qua</td>\n",
       "      <td>270 Columbus Ave</td>\n",
       "      <td>Seafood, Italian, Pizza</td>\n",
       "      <td>4.5 of 5 bubbles</td>\n",
       "      <td>1,406 reviews</td>\n",
       "      <td></td>\n",
       "      <td>+1 415-989-1002</td>\n",
       "      <td>https://www.tripadvisor.com//Restaurant_Review...</td>\n",
       "      <td>Check The Website for a Menu</td>\n",
       "      <td>$$ - $$$</td>\n",
       "      <td>CA</td>\n",
       "      <td>94133-4518</td>\n",
       "      <td>San Francisco</td>\n",
       "    </tr>\n",
       "    <tr>\n",
       "      <th>6</th>\n",
       "      <td>Black Angus Steakhouse - Federal Way</td>\n",
       "      <td>2400 S 320th St</td>\n",
       "      <td>American, Steakhouse, Bar</td>\n",
       "      <td>4 of 5 bubbles</td>\n",
       "      <td>220 reviews</td>\n",
       "      <td>This is an easy any time place to have dinner!...</td>\n",
       "      <td>+1 253-839-8370</td>\n",
       "      <td>https://www.tripadvisor.com//Restaurant_Review...</td>\n",
       "      <td>Check The Website for a Menu</td>\n",
       "      <td>$$ - $$$</td>\n",
       "      <td>WA</td>\n",
       "      <td>98003-5465</td>\n",
       "      <td>Federal Way</td>\n",
       "    </tr>\n",
       "    <tr>\n",
       "      <th>7</th>\n",
       "      <td>Ziziki's</td>\n",
       "      <td>11663 Preston Rd</td>\n",
       "      <td>Mediterranean, Greek, Healthy</td>\n",
       "      <td>4.5 of 5 bubbles</td>\n",
       "      <td>89 reviews</td>\n",
       "      <td>My husband and I went to Greece last fall and ...</td>\n",
       "      <td>+1 469-232-9922</td>\n",
       "      <td>https://www.tripadvisor.com//Restaurant_Review...</td>\n",
       "      <td>Check The Website for a Menu</td>\n",
       "      <td>$$ - $$$</td>\n",
       "      <td>TX</td>\n",
       "      <td>75230-2704</td>\n",
       "      <td>Dallas</td>\n",
       "    </tr>\n",
       "    <tr>\n",
       "      <th>8</th>\n",
       "      <td>Vince's Italian Restaurant &amp; Pizzeria</td>\n",
       "      <td>2815 NE Sunset Blvd</td>\n",
       "      <td>Italian, Pizza, Vegetarian Friendly</td>\n",
       "      <td>4 of 5 bubbles</td>\n",
       "      <td>90 reviews</td>\n",
       "      <td>I love Vince's pizza and I was in the neighbor...</td>\n",
       "      <td>+1 425-226-8180</td>\n",
       "      <td>https://www.tripadvisor.com//Restaurant_Review...</td>\n",
       "      <td>Check The Website for a Menu</td>\n",
       "      <td>$$ - $$$</td>\n",
       "      <td>WA</td>\n",
       "      <td>98056-3105</td>\n",
       "      <td>Renton</td>\n",
       "    </tr>\n",
       "    <tr>\n",
       "      <th>9</th>\n",
       "      <td>John Thomas Steakhouse</td>\n",
       "      <td>1152 Danby Rd</td>\n",
       "      <td>American, Steakhouse, Gluten Free Options</td>\n",
       "      <td>4 of 5 bubbles</td>\n",
       "      <td>258 reviews</td>\n",
       "      <td>The ambience, food and service were all excell...</td>\n",
       "      <td>+1 607-273-3464</td>\n",
       "      <td>https://www.tripadvisor.com//Restaurant_Review...</td>\n",
       "      <td>Check The Website for a Menu</td>\n",
       "      <td>$$$$</td>\n",
       "      <td>NY</td>\n",
       "      <td>14850-8927</td>\n",
       "      <td>Ithaca</td>\n",
       "    </tr>\n",
       "  </tbody>\n",
       "</table>\n",
       "</div>"
      ],
      "text/plain": [
       "                                    Name       Street Address  \\\n",
       "0          Betty Lou's Seafood and Grill     318 Columbus Ave   \n",
       "1                      Coach House Diner        55 State Rt 4   \n",
       "2                       Table Talk Diner  2521 South Rd Ste C   \n",
       "3                            Sixty Vines     3701 Dallas Pkwy   \n",
       "4                           The Clam Bar    3914 Brewerton Rd   \n",
       "5                            E Tutto Qua     270 Columbus Ave   \n",
       "6   Black Angus Steakhouse - Federal Way      2400 S 320th St   \n",
       "7                               Ziziki's     11663 Preston Rd   \n",
       "8  Vince's Italian Restaurant & Pizzeria  2815 NE Sunset Blvd   \n",
       "9                 John Thomas Steakhouse        1152 Danby Rd   \n",
       "\n",
       "                                           Type           Reviews  \\\n",
       "0   Seafood, Vegetarian Friendly, Vegan Options  4.5 of 5 bubbles   \n",
       "1          Diner, American, Vegetarian Friendly    4 of 5 bubbles   \n",
       "2          American, Diner, Vegetarian Friendly    4 of 5 bubbles   \n",
       "3       American, Wine Bar, Vegetarian Friendly  4.5 of 5 bubbles   \n",
       "4                        American, Bar, Seafood    4 of 5 bubbles   \n",
       "5                       Seafood, Italian, Pizza  4.5 of 5 bubbles   \n",
       "6                     American, Steakhouse, Bar    4 of 5 bubbles   \n",
       "7                 Mediterranean, Greek, Healthy  4.5 of 5 bubbles   \n",
       "8           Italian, Pizza, Vegetarian Friendly    4 of 5 bubbles   \n",
       "9     American, Steakhouse, Gluten Free Options    4 of 5 bubbles   \n",
       "\n",
       "   No of Reviews                                           Comments  \\\n",
       "0    243 reviews                                                      \n",
       "1     84 reviews  Both times we were there very late, after 11 P...   \n",
       "2    256 reviews  Waitress was very friendly but a little pricey...   \n",
       "3    235 reviews  Not sure why I went there for the second time....   \n",
       "4    285 reviews  Doesn't look like much from the outside but wa...   \n",
       "5  1,406 reviews                                                      \n",
       "6    220 reviews  This is an easy any time place to have dinner!...   \n",
       "7     89 reviews  My husband and I went to Greece last fall and ...   \n",
       "8     90 reviews  I love Vince's pizza and I was in the neighbor...   \n",
       "9    258 reviews  The ambience, food and service were all excell...   \n",
       "\n",
       "    Contact Number                                   Trip_advisor Url  \\\n",
       "0  +1 415-757-0569  https://www.tripadvisor.com//Restaurant_Review...   \n",
       "1  +1 201-488-4999  https://www.tripadvisor.com//Restaurant_Review...   \n",
       "2  +1 845-849-2839  https://www.tripadvisor.com//Restaurant_Review...   \n",
       "3  +1 469-620-8463  https://www.tripadvisor.com//Restaurant_Review...   \n",
       "4  +1 315-458-1662  https://www.tripadvisor.com//Restaurant_Review...   \n",
       "5  +1 415-989-1002  https://www.tripadvisor.com//Restaurant_Review...   \n",
       "6  +1 253-839-8370  https://www.tripadvisor.com//Restaurant_Review...   \n",
       "7  +1 469-232-9922  https://www.tripadvisor.com//Restaurant_Review...   \n",
       "8  +1 425-226-8180  https://www.tripadvisor.com//Restaurant_Review...   \n",
       "9  +1 607-273-3464  https://www.tripadvisor.com//Restaurant_Review...   \n",
       "\n",
       "                                        Menu Price_Range State     ZipCode  \\\n",
       "0               Check The Website for a Menu    $$ - $$$    CA  94133-3908   \n",
       "1               Check The Website for a Menu    $$ - $$$    NJ  07601-6337   \n",
       "2  http://tabletalkdiner.com/menu/breakfast/    $$ - $$$    NY  12601-5476   \n",
       "3      https://sixtyvines.com/menu/plano-tx/    $$ - $$$    TX  75093-7777   \n",
       "4               Check The Website for a Menu    $$ - $$$    NY       13212   \n",
       "5               Check The Website for a Menu    $$ - $$$    CA  94133-4518   \n",
       "6               Check The Website for a Menu    $$ - $$$    WA  98003-5465   \n",
       "7               Check The Website for a Menu    $$ - $$$    TX  75230-2704   \n",
       "8               Check The Website for a Menu    $$ - $$$    WA  98056-3105   \n",
       "9               Check The Website for a Menu        $$$$    NY  14850-8927   \n",
       "\n",
       "            City  \n",
       "0  San Francisco  \n",
       "1     Hackensack  \n",
       "2   Poughkeepsie  \n",
       "3          Plano  \n",
       "4       Syracuse  \n",
       "5  San Francisco  \n",
       "6    Federal Way  \n",
       "7         Dallas  \n",
       "8         Renton  \n",
       "9         Ithaca  "
      ]
     },
     "execution_count": 48,
     "metadata": {},
     "output_type": "execute_result"
    }
   ],
   "source": [
    "df.head(10)"
   ]
  },
  {
   "cell_type": "code",
   "execution_count": 49,
   "id": "a3c9b95e",
   "metadata": {},
   "outputs": [
    {
     "data": {
      "text/plain": [
       "NY    650\n",
       "CA    615\n",
       "TX    614\n",
       "WA    606\n",
       "NJ    563\n",
       "PA      9\n",
       "OR      2\n",
       "        1\n",
       "Name: State, dtype: int64"
      ]
     },
     "execution_count": 49,
     "metadata": {},
     "output_type": "execute_result"
    }
   ],
   "source": [
    "df['State'].value_counts()"
   ]
  },
  {
   "cell_type": "markdown",
   "id": "6abbc33e",
   "metadata": {},
   "source": [
    "#### rank the best highly rated restaurants from each state"
   ]
  },
  {
   "cell_type": "code",
   "execution_count": 50,
   "id": "b94aa6ae",
   "metadata": {},
   "outputs": [],
   "source": [
    "\n",
    "df['No of Reviews'] = [int(i.split(\" \")[0].replace(\",\",\"\")) for i in df['No of Reviews']]\n",
    "df['Reviews'] = [float(i.split(\" \")[0]) for i in df.Reviews]"
   ]
  },
  {
   "cell_type": "code",
   "execution_count": 51,
   "id": "89538fd0",
   "metadata": {},
   "outputs": [],
   "source": [
    "df['weighted ratings'] = df['Reviews'] * df['No of Reviews']"
   ]
  },
  {
   "cell_type": "code",
   "execution_count": 52,
   "id": "99692197",
   "metadata": {},
   "outputs": [
    {
     "data": {
      "text/html": [
       "<div>\n",
       "<style scoped>\n",
       "    .dataframe tbody tr th:only-of-type {\n",
       "        vertical-align: middle;\n",
       "    }\n",
       "\n",
       "    .dataframe tbody tr th {\n",
       "        vertical-align: top;\n",
       "    }\n",
       "\n",
       "    .dataframe thead th {\n",
       "        text-align: right;\n",
       "    }\n",
       "</style>\n",
       "<table border=\"1\" class=\"dataframe\">\n",
       "  <thead>\n",
       "    <tr style=\"text-align: right;\">\n",
       "      <th></th>\n",
       "      <th>Name</th>\n",
       "      <th>Street Address</th>\n",
       "      <th>Type</th>\n",
       "      <th>Reviews</th>\n",
       "      <th>No of Reviews</th>\n",
       "      <th>Comments</th>\n",
       "      <th>Contact Number</th>\n",
       "      <th>Trip_advisor Url</th>\n",
       "      <th>Menu</th>\n",
       "      <th>Price_Range</th>\n",
       "      <th>State</th>\n",
       "      <th>ZipCode</th>\n",
       "      <th>City</th>\n",
       "      <th>weighted ratings</th>\n",
       "    </tr>\n",
       "  </thead>\n",
       "  <tbody>\n",
       "    <tr>\n",
       "      <th>2164</th>\n",
       "      <td>Big Texan Steak Ranch</td>\n",
       "      <td>7701 E Interstate 40</td>\n",
       "      <td>American, Steakhouse, Southwestern</td>\n",
       "      <td>4.0</td>\n",
       "      <td>5448</td>\n",
       "      <td>Roquefort dressing homemade and delicious. I h...</td>\n",
       "      <td>+1 806-372-6000</td>\n",
       "      <td>https://www.tripadvisor.com//Restaurant_Review...</td>\n",
       "      <td>https://www.bigtexan.com/restaurant/menu/</td>\n",
       "      <td>$$ - $$$</td>\n",
       "      <td>TX</td>\n",
       "      <td>79118-6915</td>\n",
       "      <td>Amarillo</td>\n",
       "      <td>21792.0</td>\n",
       "    </tr>\n",
       "    <tr>\n",
       "      <th>883</th>\n",
       "      <td>Boudro's</td>\n",
       "      <td>421 E Commerce St</td>\n",
       "      <td>American, Southwestern, Vegetarian Friendly</td>\n",
       "      <td>4.5</td>\n",
       "      <td>4620</td>\n",
       "      <td>Had been here roughly 10 years ago on vacation...</td>\n",
       "      <td>+1 210-224-8484</td>\n",
       "      <td>https://www.tripadvisor.com//Restaurant_Review...</td>\n",
       "      <td>Check The Website for a Menu</td>\n",
       "      <td>$$ - $$$</td>\n",
       "      <td>TX</td>\n",
       "      <td>78205-2814</td>\n",
       "      <td>San Antonio</td>\n",
       "      <td>20790.0</td>\n",
       "    </tr>\n",
       "    <tr>\n",
       "      <th>2632</th>\n",
       "      <td>The River Cafe</td>\n",
       "      <td>1 Water St</td>\n",
       "      <td>American, Wine Bar, Vegetarian Friendly</td>\n",
       "      <td>4.5</td>\n",
       "      <td>4055</td>\n",
       "      <td>This is one of those iconic restaurants you se...</td>\n",
       "      <td>+1 718-522-5200</td>\n",
       "      <td>https://www.tripadvisor.com//Restaurant_Review...</td>\n",
       "      <td>https://rivercafe.com/menus/</td>\n",
       "      <td>$$$$</td>\n",
       "      <td>NY</td>\n",
       "      <td>11201-1335</td>\n",
       "      <td>Brooklyn</td>\n",
       "      <td>18247.5</td>\n",
       "    </tr>\n",
       "    <tr>\n",
       "      <th>1884</th>\n",
       "      <td>Club A Steakhouse</td>\n",
       "      <td>240 E 58th Street</td>\n",
       "      <td>American, Steakhouse, Gluten Free Options</td>\n",
       "      <td>4.5</td>\n",
       "      <td>3978</td>\n",
       "      <td>Excellent filet mignon&amp; beautiful ambiance. Th...</td>\n",
       "      <td>+1 212-688-4190</td>\n",
       "      <td>https://www.tripadvisor.com//Restaurant_Review...</td>\n",
       "      <td>Check The Website for a Menu</td>\n",
       "      <td>$$$$</td>\n",
       "      <td>NY</td>\n",
       "      <td>10022-2001</td>\n",
       "      <td>New York City</td>\n",
       "      <td>17901.0</td>\n",
       "    </tr>\n",
       "    <tr>\n",
       "      <th>2720</th>\n",
       "      <td>Club A Steakhouse</td>\n",
       "      <td>240 E 58th Street</td>\n",
       "      <td>American, Steakhouse, Gluten Free Options</td>\n",
       "      <td>4.5</td>\n",
       "      <td>3978</td>\n",
       "      <td>Excellent filet mignon&amp; beautiful ambiance. Th...</td>\n",
       "      <td>+1 212-688-4190</td>\n",
       "      <td>https://www.tripadvisor.com//Restaurant_Review...</td>\n",
       "      <td>Check The Website for a Menu</td>\n",
       "      <td>$$$$</td>\n",
       "      <td>NY</td>\n",
       "      <td>10022-2001</td>\n",
       "      <td>New York City</td>\n",
       "      <td>17901.0</td>\n",
       "    </tr>\n",
       "    <tr>\n",
       "      <th>604</th>\n",
       "      <td>Taste of Texas Restaurant</td>\n",
       "      <td>10505 Katy Fwy</td>\n",
       "      <td>American, Steakhouse, Vegetarian Friendly</td>\n",
       "      <td>4.5</td>\n",
       "      <td>3807</td>\n",
       "      <td>Enjoyed a great dinnEnjoyed a great dinner at ...</td>\n",
       "      <td>+1 713-932-6901</td>\n",
       "      <td>https://www.tripadvisor.com//Restaurant_Review...</td>\n",
       "      <td>Check The Website for a Menu</td>\n",
       "      <td>$$$$</td>\n",
       "      <td>TX</td>\n",
       "      <td>77024-1001</td>\n",
       "      <td>Houston</td>\n",
       "      <td>17131.5</td>\n",
       "    </tr>\n",
       "    <tr>\n",
       "      <th>1989</th>\n",
       "      <td>Trio Restaurant</td>\n",
       "      <td>707 N Palm Canyon Dr</td>\n",
       "      <td>American, Bar, Contemporary</td>\n",
       "      <td>4.5</td>\n",
       "      <td>3785</td>\n",
       "      <td></td>\n",
       "      <td>+1 760-864-8746</td>\n",
       "      <td>https://www.tripadvisor.com//Restaurant_Review...</td>\n",
       "      <td>Check The Website for a Menu</td>\n",
       "      <td>$$ - $$$</td>\n",
       "      <td>CA</td>\n",
       "      <td>92262-5507</td>\n",
       "      <td>Palm Springs, Greater Palm Springs</td>\n",
       "      <td>17032.5</td>\n",
       "    </tr>\n",
       "    <tr>\n",
       "      <th>337</th>\n",
       "      <td>Hollywood Cafe</td>\n",
       "      <td>530 North Point St</td>\n",
       "      <td>American, Cafe, Vegetarian Friendly</td>\n",
       "      <td>4.5</td>\n",
       "      <td>3775</td>\n",
       "      <td></td>\n",
       "      <td>+1 415-563-3779</td>\n",
       "      <td>https://www.tripadvisor.com//Restaurant_Review...</td>\n",
       "      <td>https://www.hollywoodcafesf.com/menu-1</td>\n",
       "      <td>$$ - $$$</td>\n",
       "      <td>CA</td>\n",
       "      <td>94133-1312</td>\n",
       "      <td>San Francisco</td>\n",
       "      <td>16987.5</td>\n",
       "    </tr>\n",
       "    <tr>\n",
       "      <th>2541</th>\n",
       "      <td>Le Bernardin</td>\n",
       "      <td>155 W 51st St</td>\n",
       "      <td>French, Vegetarian Friendly, Gluten Free Options</td>\n",
       "      <td>4.5</td>\n",
       "      <td>3444</td>\n",
       "      <td>Had the Valentine’s tasting menu and the overa...</td>\n",
       "      <td>+1 212-554-1515</td>\n",
       "      <td>https://www.tripadvisor.com//Restaurant_Review...</td>\n",
       "      <td>Check The Website for a Menu</td>\n",
       "      <td>$$$$</td>\n",
       "      <td>NY</td>\n",
       "      <td>10019-6019</td>\n",
       "      <td>New York City</td>\n",
       "      <td>15498.0</td>\n",
       "    </tr>\n",
       "    <tr>\n",
       "      <th>2570</th>\n",
       "      <td>Daniel</td>\n",
       "      <td>60 East 65th Street</td>\n",
       "      <td>French, Vegetarian Friendly, Vegan Options</td>\n",
       "      <td>4.5</td>\n",
       "      <td>3274</td>\n",
       "      <td>Wonderful restaurant, pleasant. The menu at DA...</td>\n",
       "      <td>212 288 0033</td>\n",
       "      <td>https://www.tripadvisor.com//Restaurant_Review...</td>\n",
       "      <td>Check The Website for a Menu</td>\n",
       "      <td>$$$$</td>\n",
       "      <td>NY</td>\n",
       "      <td>10065-7056</td>\n",
       "      <td>New York City</td>\n",
       "      <td>14733.0</td>\n",
       "    </tr>\n",
       "  </tbody>\n",
       "</table>\n",
       "</div>"
      ],
      "text/plain": [
       "                           Name        Street Address  \\\n",
       "2164      Big Texan Steak Ranch  7701 E Interstate 40   \n",
       "883                    Boudro's     421 E Commerce St   \n",
       "2632             The River Cafe            1 Water St   \n",
       "1884          Club A Steakhouse     240 E 58th Street   \n",
       "2720          Club A Steakhouse     240 E 58th Street   \n",
       "604   Taste of Texas Restaurant        10505 Katy Fwy   \n",
       "1989            Trio Restaurant  707 N Palm Canyon Dr   \n",
       "337              Hollywood Cafe    530 North Point St   \n",
       "2541               Le Bernardin         155 W 51st St   \n",
       "2570                     Daniel   60 East 65th Street   \n",
       "\n",
       "                                                   Type  Reviews  \\\n",
       "2164                 American, Steakhouse, Southwestern      4.0   \n",
       "883         American, Southwestern, Vegetarian Friendly      4.5   \n",
       "2632            American, Wine Bar, Vegetarian Friendly      4.5   \n",
       "1884          American, Steakhouse, Gluten Free Options      4.5   \n",
       "2720          American, Steakhouse, Gluten Free Options      4.5   \n",
       "604           American, Steakhouse, Vegetarian Friendly      4.5   \n",
       "1989                        American, Bar, Contemporary      4.5   \n",
       "337                 American, Cafe, Vegetarian Friendly      4.5   \n",
       "2541   French, Vegetarian Friendly, Gluten Free Options      4.5   \n",
       "2570         French, Vegetarian Friendly, Vegan Options      4.5   \n",
       "\n",
       "      No of Reviews                                           Comments  \\\n",
       "2164           5448  Roquefort dressing homemade and delicious. I h...   \n",
       "883            4620  Had been here roughly 10 years ago on vacation...   \n",
       "2632           4055  This is one of those iconic restaurants you se...   \n",
       "1884           3978  Excellent filet mignon& beautiful ambiance. Th...   \n",
       "2720           3978  Excellent filet mignon& beautiful ambiance. Th...   \n",
       "604            3807  Enjoyed a great dinnEnjoyed a great dinner at ...   \n",
       "1989           3785                                                      \n",
       "337            3775                                                      \n",
       "2541           3444  Had the Valentine’s tasting menu and the overa...   \n",
       "2570           3274  Wonderful restaurant, pleasant. The menu at DA...   \n",
       "\n",
       "       Contact Number                                   Trip_advisor Url  \\\n",
       "2164  +1 806-372-6000  https://www.tripadvisor.com//Restaurant_Review...   \n",
       "883   +1 210-224-8484  https://www.tripadvisor.com//Restaurant_Review...   \n",
       "2632  +1 718-522-5200  https://www.tripadvisor.com//Restaurant_Review...   \n",
       "1884  +1 212-688-4190  https://www.tripadvisor.com//Restaurant_Review...   \n",
       "2720  +1 212-688-4190  https://www.tripadvisor.com//Restaurant_Review...   \n",
       "604   +1 713-932-6901  https://www.tripadvisor.com//Restaurant_Review...   \n",
       "1989  +1 760-864-8746  https://www.tripadvisor.com//Restaurant_Review...   \n",
       "337   +1 415-563-3779  https://www.tripadvisor.com//Restaurant_Review...   \n",
       "2541  +1 212-554-1515  https://www.tripadvisor.com//Restaurant_Review...   \n",
       "2570     212 288 0033  https://www.tripadvisor.com//Restaurant_Review...   \n",
       "\n",
       "                                           Menu Price_Range State     ZipCode  \\\n",
       "2164  https://www.bigtexan.com/restaurant/menu/    $$ - $$$    TX  79118-6915   \n",
       "883                Check The Website for a Menu    $$ - $$$    TX  78205-2814   \n",
       "2632               https://rivercafe.com/menus/        $$$$    NY  11201-1335   \n",
       "1884               Check The Website for a Menu        $$$$    NY  10022-2001   \n",
       "2720               Check The Website for a Menu        $$$$    NY  10022-2001   \n",
       "604                Check The Website for a Menu        $$$$    TX  77024-1001   \n",
       "1989               Check The Website for a Menu    $$ - $$$    CA  92262-5507   \n",
       "337      https://www.hollywoodcafesf.com/menu-1    $$ - $$$    CA  94133-1312   \n",
       "2541               Check The Website for a Menu        $$$$    NY  10019-6019   \n",
       "2570               Check The Website for a Menu        $$$$    NY  10065-7056   \n",
       "\n",
       "                                    City  weighted ratings  \n",
       "2164                            Amarillo           21792.0  \n",
       "883                          San Antonio           20790.0  \n",
       "2632                            Brooklyn           18247.5  \n",
       "1884                       New York City           17901.0  \n",
       "2720                       New York City           17901.0  \n",
       "604                              Houston           17131.5  \n",
       "1989  Palm Springs, Greater Palm Springs           17032.5  \n",
       "337                        San Francisco           16987.5  \n",
       "2541                       New York City           15498.0  \n",
       "2570                       New York City           14733.0  "
      ]
     },
     "execution_count": 52,
     "metadata": {},
     "output_type": "execute_result"
    }
   ],
   "source": [
    "df.sort_values(by='weighted ratings', ascending=False)[0:10]"
   ]
  },
  {
   "cell_type": "markdown",
   "id": "9f1c1171",
   "metadata": {},
   "source": [
    "#### best state for good food"
   ]
  },
  {
   "cell_type": "code",
   "execution_count": null,
   "id": "5bc335ee",
   "metadata": {},
   "outputs": [],
   "source": []
  },
  {
   "cell_type": "markdown",
   "id": "13d53d60",
   "metadata": {},
   "source": [
    "#### best city for food"
   ]
  },
  {
   "cell_type": "code",
   "execution_count": null,
   "id": "db9c2fdd",
   "metadata": {},
   "outputs": [],
   "source": []
  },
  {
   "cell_type": "markdown",
   "id": "62ab3b15",
   "metadata": {},
   "source": [
    "### build a recommendation system"
   ]
  },
  {
   "cell_type": "code",
   "execution_count": null,
   "id": "b1fc3569",
   "metadata": {},
   "outputs": [],
   "source": []
  },
  {
   "cell_type": "code",
   "execution_count": null,
   "id": "451f8f6b",
   "metadata": {},
   "outputs": [],
   "source": []
  },
  {
   "cell_type": "markdown",
   "id": "18e7a090",
   "metadata": {},
   "source": [
    "#### meta data based rec sys based on \"type\" feature"
   ]
  },
  {
   "cell_type": "code",
   "execution_count": null,
   "id": "1ce0575a",
   "metadata": {},
   "outputs": [],
   "source": []
  },
  {
   "cell_type": "markdown",
   "id": "48cb03c0",
   "metadata": {},
   "source": [
    "#### the function we write might be same"
   ]
  },
  {
   "cell_type": "code",
   "execution_count": null,
   "id": "e8cc787c",
   "metadata": {},
   "outputs": [],
   "source": []
  },
  {
   "cell_type": "markdown",
   "id": "53e04949",
   "metadata": {},
   "source": [
    "#### comments we build content based rec sys"
   ]
  },
  {
   "cell_type": "code",
   "execution_count": null,
   "id": "816696a2",
   "metadata": {},
   "outputs": [],
   "source": []
  }
 ],
 "metadata": {
  "kernelspec": {
   "display_name": "Python 3 (ipykernel)",
   "language": "python",
   "name": "python3"
  },
  "language_info": {
   "codemirror_mode": {
    "name": "ipython",
    "version": 3
   },
   "file_extension": ".py",
   "mimetype": "text/x-python",
   "name": "python",
   "nbconvert_exporter": "python",
   "pygments_lexer": "ipython3",
   "version": "3.10.6"
  }
 },
 "nbformat": 4,
 "nbformat_minor": 5
}
