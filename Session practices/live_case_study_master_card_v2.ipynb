{
  "cells": [
    {
      "cell_type": "code",
      "execution_count": 141,
      "metadata": {
        "id": "DFr4cDU_Jj-4"
      },
      "outputs": [],
      "source": [
        "import pandas as pd\n",
        "import numpy as np\n",
        "import matplotlib.pyplot as plt"
      ]
    },
    {
      "cell_type": "code",
      "execution_count": 142,
      "metadata": {
        "colab": {
          "base_uri": "https://localhost:8080/",
          "height": 292
        },
        "id": "OFIzeP5WJ-lw",
        "outputId": "c38cb0e7-b412-43a2-fa3e-920456d31059"
      },
      "outputs": [
        {
          "name": "stderr",
          "output_type": "stream",
          "text": [
            "/tmp/ipykernel_16113/1229077619.py:1: UserWarning: Parsing dates in DD/MM/YYYY format when dayfirst=False (the default) was specified. This may lead to inconsistently parsed dates! Specify a format to ensure consistent parsing.\n",
            "  data = pd.read_csv(\"Mastercard_stock_history.csv\",\n"
          ]
        },
        {
          "data": {
            "text/html": [
              "<div>\n",
              "<style scoped>\n",
              "    .dataframe tbody tr th:only-of-type {\n",
              "        vertical-align: middle;\n",
              "    }\n",
              "\n",
              "    .dataframe tbody tr th {\n",
              "        vertical-align: top;\n",
              "    }\n",
              "\n",
              "    .dataframe thead th {\n",
              "        text-align: right;\n",
              "    }\n",
              "</style>\n",
              "<table border=\"1\" class=\"dataframe\">\n",
              "  <thead>\n",
              "    <tr style=\"text-align: right;\">\n",
              "      <th></th>\n",
              "      <th>Open</th>\n",
              "      <th>High</th>\n",
              "      <th>Low</th>\n",
              "      <th>Close</th>\n",
              "      <th>Volume</th>\n",
              "      <th>Dividends</th>\n",
              "      <th>Stock Splits</th>\n",
              "    </tr>\n",
              "    <tr>\n",
              "      <th>Date</th>\n",
              "      <th></th>\n",
              "      <th></th>\n",
              "      <th></th>\n",
              "      <th></th>\n",
              "      <th></th>\n",
              "      <th></th>\n",
              "      <th></th>\n",
              "    </tr>\n",
              "  </thead>\n",
              "  <tbody>\n",
              "    <tr>\n",
              "      <th>2006-05-25</th>\n",
              "      <td>3.748967</td>\n",
              "      <td>4.283869</td>\n",
              "      <td>3.739664</td>\n",
              "      <td>4.279217</td>\n",
              "      <td>395343000</td>\n",
              "      <td>0.0</td>\n",
              "      <td>0</td>\n",
              "    </tr>\n",
              "    <tr>\n",
              "      <th>2006-05-26</th>\n",
              "      <td>4.307126</td>\n",
              "      <td>4.348058</td>\n",
              "      <td>4.103398</td>\n",
              "      <td>4.179680</td>\n",
              "      <td>103044000</td>\n",
              "      <td>0.0</td>\n",
              "      <td>0</td>\n",
              "    </tr>\n",
              "    <tr>\n",
              "      <th>2006-05-30</th>\n",
              "      <td>4.183400</td>\n",
              "      <td>4.184330</td>\n",
              "      <td>3.986184</td>\n",
              "      <td>4.093164</td>\n",
              "      <td>49898000</td>\n",
              "      <td>0.0</td>\n",
              "      <td>0</td>\n",
              "    </tr>\n",
              "    <tr>\n",
              "      <th>2006-05-31</th>\n",
              "      <td>4.125723</td>\n",
              "      <td>4.219679</td>\n",
              "      <td>4.125723</td>\n",
              "      <td>4.180608</td>\n",
              "      <td>30002000</td>\n",
              "      <td>0.0</td>\n",
              "      <td>0</td>\n",
              "    </tr>\n",
              "    <tr>\n",
              "      <th>2006-01-06</th>\n",
              "      <td>4.179678</td>\n",
              "      <td>4.474572</td>\n",
              "      <td>4.176887</td>\n",
              "      <td>4.419686</td>\n",
              "      <td>62344000</td>\n",
              "      <td>0.0</td>\n",
              "      <td>0</td>\n",
              "    </tr>\n",
              "  </tbody>\n",
              "</table>\n",
              "</div>"
            ],
            "text/plain": [
              "                Open      High       Low     Close     Volume  Dividends  \\\n",
              "Date                                                                       \n",
              "2006-05-25  3.748967  4.283869  3.739664  4.279217  395343000        0.0   \n",
              "2006-05-26  4.307126  4.348058  4.103398  4.179680  103044000        0.0   \n",
              "2006-05-30  4.183400  4.184330  3.986184  4.093164   49898000        0.0   \n",
              "2006-05-31  4.125723  4.219679  4.125723  4.180608   30002000        0.0   \n",
              "2006-01-06  4.179678  4.474572  4.176887  4.419686   62344000        0.0   \n",
              "\n",
              "            Stock Splits  \n",
              "Date                      \n",
              "2006-05-25             0  \n",
              "2006-05-26             0  \n",
              "2006-05-30             0  \n",
              "2006-05-31             0  \n",
              "2006-01-06             0  "
            ]
          },
          "execution_count": 142,
          "metadata": {},
          "output_type": "execute_result"
        }
      ],
      "source": [
        "data = pd.read_csv(\"Mastercard_stock_history.csv\", \n",
        "                   index_col = \"Date\", parse_dates = [\"Date\"])\n",
        "data.head()"
      ]
    },
    {
      "cell_type": "code",
      "execution_count": 143,
      "metadata": {
        "id": "pzbhfR8IKE0S"
      },
      "outputs": [],
      "source": [
        "data = data.drop([\"Dividends\",\"Stock Splits\"], axis=1)"
      ]
    },
    {
      "cell_type": "code",
      "execution_count": 144,
      "metadata": {
        "colab": {
          "base_uri": "https://localhost:8080/",
          "height": 455
        },
        "id": "hRofv08NKWhH",
        "outputId": "56b234f9-9127-4f40-ddd2-240c917d6eea"
      },
      "outputs": [
        {
          "data": {
            "text/html": [
              "<div>\n",
              "<style scoped>\n",
              "    .dataframe tbody tr th:only-of-type {\n",
              "        vertical-align: middle;\n",
              "    }\n",
              "\n",
              "    .dataframe tbody tr th {\n",
              "        vertical-align: top;\n",
              "    }\n",
              "\n",
              "    .dataframe thead th {\n",
              "        text-align: right;\n",
              "    }\n",
              "</style>\n",
              "<table border=\"1\" class=\"dataframe\">\n",
              "  <thead>\n",
              "    <tr style=\"text-align: right;\">\n",
              "      <th></th>\n",
              "      <th>Open</th>\n",
              "      <th>High</th>\n",
              "      <th>Low</th>\n",
              "      <th>Close</th>\n",
              "      <th>Volume</th>\n",
              "    </tr>\n",
              "    <tr>\n",
              "      <th>Date</th>\n",
              "      <th></th>\n",
              "      <th></th>\n",
              "      <th></th>\n",
              "      <th></th>\n",
              "      <th></th>\n",
              "    </tr>\n",
              "  </thead>\n",
              "  <tbody>\n",
              "    <tr>\n",
              "      <th>2006-05-25</th>\n",
              "      <td>3.748967</td>\n",
              "      <td>4.283869</td>\n",
              "      <td>3.739664</td>\n",
              "      <td>4.279217</td>\n",
              "      <td>395343000</td>\n",
              "    </tr>\n",
              "    <tr>\n",
              "      <th>2006-05-26</th>\n",
              "      <td>4.307126</td>\n",
              "      <td>4.348058</td>\n",
              "      <td>4.103398</td>\n",
              "      <td>4.179680</td>\n",
              "      <td>103044000</td>\n",
              "    </tr>\n",
              "    <tr>\n",
              "      <th>2006-05-30</th>\n",
              "      <td>4.183400</td>\n",
              "      <td>4.184330</td>\n",
              "      <td>3.986184</td>\n",
              "      <td>4.093164</td>\n",
              "      <td>49898000</td>\n",
              "    </tr>\n",
              "    <tr>\n",
              "      <th>2006-05-31</th>\n",
              "      <td>4.125723</td>\n",
              "      <td>4.219679</td>\n",
              "      <td>4.125723</td>\n",
              "      <td>4.180608</td>\n",
              "      <td>30002000</td>\n",
              "    </tr>\n",
              "    <tr>\n",
              "      <th>2006-01-06</th>\n",
              "      <td>4.179678</td>\n",
              "      <td>4.474572</td>\n",
              "      <td>4.176887</td>\n",
              "      <td>4.419686</td>\n",
              "      <td>62344000</td>\n",
              "    </tr>\n",
              "    <tr>\n",
              "      <th>...</th>\n",
              "      <td>...</td>\n",
              "      <td>...</td>\n",
              "      <td>...</td>\n",
              "      <td>...</td>\n",
              "      <td>...</td>\n",
              "    </tr>\n",
              "    <tr>\n",
              "      <th>2021-05-10</th>\n",
              "      <td>347.121403</td>\n",
              "      <td>348.130138</td>\n",
              "      <td>342.497240</td>\n",
              "      <td>342.776886</td>\n",
              "      <td>4724100</td>\n",
              "    </tr>\n",
              "    <tr>\n",
              "      <th>2021-06-10</th>\n",
              "      <td>339.580960</td>\n",
              "      <td>348.439763</td>\n",
              "      <td>338.682072</td>\n",
              "      <td>348.250000</td>\n",
              "      <td>3712000</td>\n",
              "    </tr>\n",
              "    <tr>\n",
              "      <th>2021-07-10</th>\n",
              "      <td>349.000000</td>\n",
              "      <td>357.899994</td>\n",
              "      <td>349.000000</td>\n",
              "      <td>353.910004</td>\n",
              "      <td>3209200</td>\n",
              "    </tr>\n",
              "    <tr>\n",
              "      <th>2021-08-10</th>\n",
              "      <td>356.000000</td>\n",
              "      <td>360.369995</td>\n",
              "      <td>354.209992</td>\n",
              "      <td>354.959992</td>\n",
              "      <td>2336700</td>\n",
              "    </tr>\n",
              "    <tr>\n",
              "      <th>2021-11-10</th>\n",
              "      <td>353.950012</td>\n",
              "      <td>354.880005</td>\n",
              "      <td>346.899994</td>\n",
              "      <td>347.149994</td>\n",
              "      <td>2766800</td>\n",
              "    </tr>\n",
              "  </tbody>\n",
              "</table>\n",
              "<p>3872 rows × 5 columns</p>\n",
              "</div>"
            ],
            "text/plain": [
              "                  Open        High         Low       Close     Volume\n",
              "Date                                                                 \n",
              "2006-05-25    3.748967    4.283869    3.739664    4.279217  395343000\n",
              "2006-05-26    4.307126    4.348058    4.103398    4.179680  103044000\n",
              "2006-05-30    4.183400    4.184330    3.986184    4.093164   49898000\n",
              "2006-05-31    4.125723    4.219679    4.125723    4.180608   30002000\n",
              "2006-01-06    4.179678    4.474572    4.176887    4.419686   62344000\n",
              "...                ...         ...         ...         ...        ...\n",
              "2021-05-10  347.121403  348.130138  342.497240  342.776886    4724100\n",
              "2021-06-10  339.580960  348.439763  338.682072  348.250000    3712000\n",
              "2021-07-10  349.000000  357.899994  349.000000  353.910004    3209200\n",
              "2021-08-10  356.000000  360.369995  354.209992  354.959992    2336700\n",
              "2021-11-10  353.950012  354.880005  346.899994  347.149994    2766800\n",
              "\n",
              "[3872 rows x 5 columns]"
            ]
          },
          "execution_count": 144,
          "metadata": {},
          "output_type": "execute_result"
        }
      ],
      "source": [
        "data"
      ]
    },
    {
      "cell_type": "code",
      "execution_count": 145,
      "metadata": {
        "colab": {
          "base_uri": "https://localhost:8080/",
          "height": 300
        },
        "id": "VXiYsjJoKy06",
        "outputId": "6e9cd6c3-e792-4c45-b2b7-a95e35782df8"
      },
      "outputs": [
        {
          "data": {
            "text/html": [
              "<div>\n",
              "<style scoped>\n",
              "    .dataframe tbody tr th:only-of-type {\n",
              "        vertical-align: middle;\n",
              "    }\n",
              "\n",
              "    .dataframe tbody tr th {\n",
              "        vertical-align: top;\n",
              "    }\n",
              "\n",
              "    .dataframe thead th {\n",
              "        text-align: right;\n",
              "    }\n",
              "</style>\n",
              "<table border=\"1\" class=\"dataframe\">\n",
              "  <thead>\n",
              "    <tr style=\"text-align: right;\">\n",
              "      <th></th>\n",
              "      <th>Open</th>\n",
              "      <th>High</th>\n",
              "      <th>Low</th>\n",
              "      <th>Close</th>\n",
              "      <th>Volume</th>\n",
              "    </tr>\n",
              "  </thead>\n",
              "  <tbody>\n",
              "    <tr>\n",
              "      <th>count</th>\n",
              "      <td>3872.000000</td>\n",
              "      <td>3872.000000</td>\n",
              "      <td>3872.000000</td>\n",
              "      <td>3872.000000</td>\n",
              "      <td>3.872000e+03</td>\n",
              "    </tr>\n",
              "    <tr>\n",
              "      <th>mean</th>\n",
              "      <td>104.896814</td>\n",
              "      <td>105.956054</td>\n",
              "      <td>103.769349</td>\n",
              "      <td>104.882714</td>\n",
              "      <td>1.232250e+07</td>\n",
              "    </tr>\n",
              "    <tr>\n",
              "      <th>std</th>\n",
              "      <td>106.245511</td>\n",
              "      <td>107.303589</td>\n",
              "      <td>105.050064</td>\n",
              "      <td>106.168693</td>\n",
              "      <td>1.759665e+07</td>\n",
              "    </tr>\n",
              "    <tr>\n",
              "      <th>min</th>\n",
              "      <td>3.748967</td>\n",
              "      <td>4.102467</td>\n",
              "      <td>3.739664</td>\n",
              "      <td>4.083861</td>\n",
              "      <td>6.411000e+05</td>\n",
              "    </tr>\n",
              "    <tr>\n",
              "      <th>25%</th>\n",
              "      <td>22.347203</td>\n",
              "      <td>22.637997</td>\n",
              "      <td>22.034458</td>\n",
              "      <td>22.300391</td>\n",
              "      <td>3.529475e+06</td>\n",
              "    </tr>\n",
              "    <tr>\n",
              "      <th>50%</th>\n",
              "      <td>70.810079</td>\n",
              "      <td>71.375896</td>\n",
              "      <td>70.224002</td>\n",
              "      <td>70.856083</td>\n",
              "      <td>5.891750e+06</td>\n",
              "    </tr>\n",
              "    <tr>\n",
              "      <th>75%</th>\n",
              "      <td>147.688448</td>\n",
              "      <td>148.645373</td>\n",
              "      <td>146.822013</td>\n",
              "      <td>147.688438</td>\n",
              "      <td>1.319775e+07</td>\n",
              "    </tr>\n",
              "    <tr>\n",
              "      <th>max</th>\n",
              "      <td>392.653890</td>\n",
              "      <td>400.521479</td>\n",
              "      <td>389.747812</td>\n",
              "      <td>394.685730</td>\n",
              "      <td>3.953430e+08</td>\n",
              "    </tr>\n",
              "  </tbody>\n",
              "</table>\n",
              "</div>"
            ],
            "text/plain": [
              "              Open         High          Low        Close        Volume\n",
              "count  3872.000000  3872.000000  3872.000000  3872.000000  3.872000e+03\n",
              "mean    104.896814   105.956054   103.769349   104.882714  1.232250e+07\n",
              "std     106.245511   107.303589   105.050064   106.168693  1.759665e+07\n",
              "min       3.748967     4.102467     3.739664     4.083861  6.411000e+05\n",
              "25%      22.347203    22.637997    22.034458    22.300391  3.529475e+06\n",
              "50%      70.810079    71.375896    70.224002    70.856083  5.891750e+06\n",
              "75%     147.688448   148.645373   146.822013   147.688438  1.319775e+07\n",
              "max     392.653890   400.521479   389.747812   394.685730  3.953430e+08"
            ]
          },
          "execution_count": 145,
          "metadata": {},
          "output_type": "execute_result"
        }
      ],
      "source": [
        "data.describe()"
      ]
    },
    {
      "cell_type": "code",
      "execution_count": 146,
      "metadata": {
        "colab": {
          "base_uri": "https://localhost:8080/"
        },
        "id": "z-3Yh1EYLHxm",
        "outputId": "43b3aa00-ac33-4361-dabe-caf8ef3e4421"
      },
      "outputs": [
        {
          "data": {
            "text/plain": [
              "Open      0\n",
              "High      0\n",
              "Low       0\n",
              "Close     0\n",
              "Volume    0\n",
              "dtype: int64"
            ]
          },
          "execution_count": 146,
          "metadata": {},
          "output_type": "execute_result"
        }
      ],
      "source": [
        "data.isna().sum()"
      ]
    },
    {
      "cell_type": "code",
      "execution_count": 147,
      "metadata": {
        "id": "_18FmQKJLS7f"
      },
      "outputs": [],
      "source": [
        "#### can not randomly devide the dataset"
      ]
    },
    {
      "cell_type": "code",
      "execution_count": 148,
      "metadata": {
        "id": "e_RBVujALf63"
      },
      "outputs": [],
      "source": [
        "def train_test_plot(dataset, tstart, tend):\n",
        "    dataset.loc[f\"{tstart}\":f\"{tend}\", \"High\"].plot(figsize=(16, 4), legend=True)\n",
        "    dataset.loc[f\"{tend+1}\":, \"High\"].plot(figsize=(16, 4), legend=True)\n",
        "    plt.legend([f\"Train (Before {tend+1})\", f\"Test ({tend+1} and beyond)\"])\n",
        "    plt.title(\"MasterCard stock price\")\n",
        "    plt.show()"
      ]
    },
    {
      "cell_type": "code",
      "execution_count": 149,
      "metadata": {
        "id": "n9vSnYLVLwom"
      },
      "outputs": [],
      "source": [
        "tstart = 2016\n",
        "tend = 2020"
      ]
    },
    {
      "cell_type": "code",
      "execution_count": 150,
      "metadata": {
        "colab": {
          "base_uri": "https://localhost:8080/",
          "height": 425
        },
        "id": "QnoEOdg1MCPG",
        "outputId": "55d4e4ff-0a26-4390-86e4-aadee4e41889"
      },
      "outputs": [
        {
          "name": "stderr",
          "output_type": "stream",
          "text": [
            "/tmp/ipykernel_16113/3427557351.py:2: FutureWarning: Value based partial slicing on non-monotonic DatetimeIndexes with non-existing keys is deprecated and will raise a KeyError in a future Version.\n",
            "  dataset.loc[f\"{tstart}\":f\"{tend}\", \"High\"].plot(figsize=(16, 4), legend=True)\n",
            "/tmp/ipykernel_16113/3427557351.py:3: FutureWarning: Value based partial slicing on non-monotonic DatetimeIndexes with non-existing keys is deprecated and will raise a KeyError in a future Version.\n",
            "  dataset.loc[f\"{tend+1}\":, \"High\"].plot(figsize=(16, 4), legend=True)\n"
          ]
        },
        {
          "data": {
            "image/png": "[encoded data removed]",
            "text/plain": [
              "<Figure size 1600x400 with 1 Axes>"
            ]
          },
          "metadata": {},
          "output_type": "display_data"
        }
      ],
      "source": [
        "train_test_plot(data, tstart, tend)"
      ]
    },
    {
      "cell_type": "code",
      "execution_count": 151,
      "metadata": {
        "id": "qJoditQCMI1K"
      },
      "outputs": [],
      "source": [
        "def train_test_split(dataset, tstart, tend):\n",
        "    train = dataset.loc[f\"{tstart}\":f\"{tend}\", \"High\"].values\n",
        "    test = dataset.loc[f\"{tend+1}\":, \"High\"].values\n",
        "    return train, test"
      ]
    },
    {
      "cell_type": "code",
      "execution_count": 152,
      "metadata": {
        "colab": {
          "base_uri": "https://localhost:8080/"
        },
        "id": "oCeIuu2zMt1h",
        "outputId": "fa66172a-5023-485f-fbc1-6bac5812ef35"
      },
      "outputs": [
        {
          "name": "stderr",
          "output_type": "stream",
          "text": [
            "/tmp/ipykernel_16113/2530204431.py:2: FutureWarning: Value based partial slicing on non-monotonic DatetimeIndexes with non-existing keys is deprecated and will raise a KeyError in a future Version.\n",
            "  train = dataset.loc[f\"{tstart}\":f\"{tend}\", \"High\"].values\n",
            "/tmp/ipykernel_16113/2530204431.py:3: FutureWarning: Value based partial slicing on non-monotonic DatetimeIndexes with non-existing keys is deprecated and will raise a KeyError in a future Version.\n",
            "  test = dataset.loc[f\"{tend+1}\":, \"High\"].values\n"
          ]
        }
      ],
      "source": [
        "training_set , test_set = train_test_split(data, tstart, tend)"
      ]
    },
    {
      "cell_type": "code",
      "execution_count": 153,
      "metadata": {
        "id": "pRxfwPRsM58g"
      },
      "outputs": [],
      "source": [
        "from sklearn.preprocessing import MinMaxScaler"
      ]
    },
    {
      "cell_type": "code",
      "execution_count": 154,
      "metadata": {
        "id": "Mwg7keHENNug"
      },
      "outputs": [],
      "source": [
        "sc = MinMaxScaler(feature_range = (0,1))"
      ]
    },
    {
      "cell_type": "code",
      "execution_count": 155,
      "metadata": {
        "id": "nRF-oYBnNepg"
      },
      "outputs": [],
      "source": [
        "training_set = training_set.reshape(-1,1)"
      ]
    },
    {
      "cell_type": "code",
      "execution_count": 156,
      "metadata": {
        "id": "_QPsL0-_NVb2"
      },
      "outputs": [],
      "source": [
        "training_set_scaled = sc.fit_transform(training_set)"
      ]
    },
    {
      "cell_type": "code",
      "execution_count": 157,
      "metadata": {
        "id": "IsVhoZjvNa1m"
      },
      "outputs": [],
      "source": [
        "### example : [1,2,3,4,5,6,7,8,9,10,11,12]\n",
        "### n_step = 3\n",
        "\n",
        "#### 1,2,3, 4\n",
        "#### 2,3,4, 5\n",
        "#### 3,4,5, 6\n",
        "\n"
      ]
    },
    {
      "cell_type": "code",
      "execution_count": 158,
      "metadata": {
        "id": "w4taEQMKOt_q"
      },
      "outputs": [],
      "source": [
        "def split_sequence(sequence, n_steps):\n",
        "    X, y = list(), list()\n",
        "    for i in range(len(sequence)):\n",
        "        end_ix = i + n_steps\n",
        "        if end_ix > len(sequence) - 1:\n",
        "            break\n",
        "        seq_x, seq_y = sequence[i:end_ix], sequence[end_ix]\n",
        "        X.append(seq_x)\n",
        "        y.append(seq_y)\n",
        "    return np.array(X), np.array(y)"
      ]
    },
    {
      "cell_type": "code",
      "execution_count": 159,
      "metadata": {
        "id": "RCYizHNBPAo0"
      },
      "outputs": [],
      "source": [
        "n_steps = 60\n",
        "X_train, y_train = split_sequence(training_set_scaled, n_steps)"
      ]
    },
    {
      "cell_type": "code",
      "execution_count": 160,
      "metadata": {
        "colab": {
          "base_uri": "https://localhost:8080/"
        },
        "id": "BrUDJTkmPTSk",
        "outputId": "4b2b9d9b-1b0b-4d95-e1d1-6320ce92e95c"
      },
      "outputs": [
        {
          "data": {
            "text/plain": [
              "(1199, 60, 1)"
            ]
          },
          "execution_count": 160,
          "metadata": {},
          "output_type": "execute_result"
        }
      ],
      "source": [
        "X_train.shape"
      ]
    },
    {
      "cell_type": "code",
      "execution_count": 161,
      "metadata": {
        "colab": {
          "base_uri": "https://localhost:8080/"
        },
        "id": "PVoivSiqPU2R",
        "outputId": "d522519f-b21a-4c5f-fb59-2c4a9d26259c"
      },
      "outputs": [
        {
          "data": {
            "text/plain": [
              "(1199, 1)"
            ]
          },
          "execution_count": 161,
          "metadata": {},
          "output_type": "execute_result"
        }
      ],
      "source": [
        "y_train.shape"
      ]
    },
    {
      "cell_type": "code",
      "execution_count": 162,
      "metadata": {
        "id": "eDCz0u26PavE"
      },
      "outputs": [],
      "source": [
        "features = 1\n",
        "X_train = X_train.reshape(X_train.shape[0], X_train.shape[1], features)"
      ]
    },
    {
      "cell_type": "code",
      "execution_count": 163,
      "metadata": {
        "colab": {
          "base_uri": "https://localhost:8080/"
        },
        "id": "hu9W_KmcP3Kb",
        "outputId": "3bea9630-ca91-41a6-f778-8bbda220d1a2"
      },
      "outputs": [
        {
          "data": {
            "text/plain": [
              "(1199, 60, 1)"
            ]
          },
          "execution_count": 163,
          "metadata": {},
          "output_type": "execute_result"
        }
      ],
      "source": [
        "X_train.shape"
      ]
    },
    {
      "cell_type": "code",
      "execution_count": 164,
      "metadata": {
        "id": "jSgGCfKlP-j5"
      },
      "outputs": [],
      "source": [
        "from tensorflow.keras.models import Sequential\n",
        "from tensorflow.keras.layers import LSTM, Dense, Bidirectional, GRU"
      ]
    },
    {
      "cell_type": "code",
      "execution_count": 165,
      "metadata": {
        "colab": {
          "base_uri": "https://localhost:8080/"
        },
        "id": "mvV_sfKAQSw8",
        "outputId": "22c1944f-b115-4930-8d84-2e2b819048ac"
      },
      "outputs": [],
      "source": [
        "model_lstm = Sequential()\n",
        "model_lstm.add(Bidirectional(GRU(units = 128, return_sequences=True, activation = \"tanh\", input_shape = (60,1))))\n",
        "model_lstm.add(Bidirectional(GRU(units=128)))\n",
        "model_lstm.add(Dense(1))\n",
        "model_lstm.compile(optimizer = \"RMSprop\", loss = \"mse\")\n"
      ]
    },
    {
      "cell_type": "code",
      "execution_count": 166,
      "metadata": {
        "colab": {
          "base_uri": "https://localhost:8080/"
        },
        "id": "t96Osy_3Q5Zw",
        "outputId": "d3a3bc0d-28d2-4b1d-879c-e4e2b91b72d9"
      },
      "outputs": [
        {
          "name": "stdout",
          "output_type": "stream",
          "text": [
            "Epoch 1/25\n",
            "38/38 [==============================] - 15s 214ms/step - loss: 0.0172\n",
            "Epoch 2/25\n",
            "38/38 [==============================] - 14s 375ms/step - loss: 0.0056\n",
            "Epoch 3/25\n",
            "38/38 [==============================] - 8s 198ms/step - loss: 0.0031\n",
            "Epoch 4/25\n",
            "38/38 [==============================] - 6s 170ms/step - loss: 0.0026\n",
            "Epoch 5/25\n",
            "38/38 [==============================] - 6s 167ms/step - loss: 0.0021\n",
            "Epoch 6/25\n",
            "38/38 [==============================] - 6s 157ms/step - loss: 0.0019\n",
            "Epoch 7/25\n",
            "38/38 [==============================] - 6s 160ms/step - loss: 0.0019\n",
            "Epoch 8/25\n",
            "38/38 [==============================] - 6s 162ms/step - loss: 0.0014\n",
            "Epoch 9/25\n",
            "38/38 [==============================] - 81s 2s/step - loss: 0.0015\n",
            "Epoch 10/25\n",
            "38/38 [==============================] - 8s 209ms/step - loss: 0.0011\n",
            "Epoch 11/25\n",
            "38/38 [==============================] - 70s 2s/step - loss: 0.0015\n",
            "Epoch 12/25\n",
            "38/38 [==============================] - 6s 168ms/step - loss: 0.0014\n",
            "Epoch 13/25\n",
            "38/38 [==============================] - 6s 150ms/step - loss: 8.9725e-04\n",
            "Epoch 14/25\n",
            "38/38 [==============================] - 7s 182ms/step - loss: 0.0011\n",
            "Epoch 15/25\n",
            "38/38 [==============================] - 6s 156ms/step - loss: 0.0011\n",
            "Epoch 16/25\n",
            "38/38 [==============================] - 6s 169ms/step - loss: 0.0011\n",
            "Epoch 17/25\n",
            "38/38 [==============================] - 7s 170ms/step - loss: 8.5856e-04\n",
            "Epoch 18/25\n",
            "38/38 [==============================] - 6s 166ms/step - loss: 8.7781e-04\n",
            "Epoch 19/25\n",
            "38/38 [==============================] - 6s 148ms/step - loss: 9.8207e-04\n",
            "Epoch 20/25\n",
            "38/38 [==============================] - 6s 162ms/step - loss: 9.0434e-04\n",
            "Epoch 21/25\n",
            "38/38 [==============================] - 7s 172ms/step - loss: 9.0857e-04\n",
            "Epoch 22/25\n",
            "38/38 [==============================] - 6s 152ms/step - loss: 8.9992e-04\n",
            "Epoch 23/25\n",
            "38/38 [==============================] - 7s 173ms/step - loss: 9.5529e-04\n",
            "Epoch 24/25\n",
            "38/38 [==============================] - 7s 183ms/step - loss: 8.6826e-04\n",
            "Epoch 25/25\n",
            "38/38 [==============================] - 7s 188ms/step - loss: 8.2039e-04\n"
          ]
        },
        {
          "data": {
            "text/plain": [
              "<keras.callbacks.History at 0x7fa90db15f60>"
            ]
          },
          "execution_count": 166,
          "metadata": {},
          "output_type": "execute_result"
        }
      ],
      "source": [
        "model_lstm.fit(X_train, y_train, epochs = 25, batch_size = 32)"
      ]
    },
    {
      "cell_type": "code",
      "execution_count": 183,
      "metadata": {
        "id": "Q_Xc8W6DRUfN"
      },
      "outputs": [],
      "source": [
        "dataset_total = data.loc[:,\"High\"]"
      ]
    },
    {
      "cell_type": "code",
      "execution_count": 184,
      "metadata": {
        "colab": {
          "base_uri": "https://localhost:8080/"
        },
        "id": "o3NvFTIfSgBm",
        "outputId": "52eacc1b-191c-4ebe-afc0-377a4101ffd2"
      },
      "outputs": [
        {
          "data": {
            "text/plain": [
              "3872"
            ]
          },
          "execution_count": 184,
          "metadata": {},
          "output_type": "execute_result"
        }
      ],
      "source": [
        "len(dataset_total)"
      ]
    },
    {
      "cell_type": "code",
      "execution_count": 185,
      "metadata": {
        "colab": {
          "base_uri": "https://localhost:8080/"
        },
        "id": "vwAUqKvpSrWq",
        "outputId": "4d0d3b93-8b8c-4ff8-92c3-514e8a83ebd1"
      },
      "outputs": [
        {
          "data": {
            "text/plain": [
              "195"
            ]
          },
          "execution_count": 185,
          "metadata": {},
          "output_type": "execute_result"
        }
      ],
      "source": [
        "len(test_set)"
      ]
    },
    {
      "cell_type": "code",
      "execution_count": 186,
      "metadata": {
        "id": "JytoK9EASw_f"
      },
      "outputs": [],
      "source": [
        "inputs = dataset_total[3872-195-60 : ].values"
      ]
    },
    {
      "cell_type": "code",
      "execution_count": 187,
      "metadata": {
        "id": "VWRFEQi5TBHj"
      },
      "outputs": [],
      "source": [
        "inputs = inputs.reshape(-1,1)"
      ]
    },
    {
      "cell_type": "code",
      "execution_count": 188,
      "metadata": {
        "id": "htbVX-jbTOui"
      },
      "outputs": [],
      "source": [
        "inputs = sc.fit_transform(inputs)"
      ]
    },
    {
      "cell_type": "code",
      "execution_count": 189,
      "metadata": {
        "id": "MH2-OR3WTSl0"
      },
      "outputs": [],
      "source": [
        "X_test , y_test = split_sequence(inputs, n_steps)"
      ]
    },
    {
      "cell_type": "code",
      "execution_count": 190,
      "metadata": {
        "colab": {
          "base_uri": "https://localhost:8080/"
        },
        "id": "j82H79vWTcyD",
        "outputId": "dc62e66b-54d2-4b46-9c7a-b3fd62d34978"
      },
      "outputs": [
        {
          "data": {
            "text/plain": [
              "(195, 60, 1)"
            ]
          },
          "execution_count": 190,
          "metadata": {},
          "output_type": "execute_result"
        }
      ],
      "source": [
        "X_test.shape"
      ]
    },
    {
      "cell_type": "code",
      "execution_count": 191,
      "metadata": {
        "colab": {
          "base_uri": "https://localhost:8080/"
        },
        "id": "h7HRt0liTegX",
        "outputId": "7ce3d6ea-06f5-4d94-f898-8991053eb49b"
      },
      "outputs": [
        {
          "data": {
            "text/plain": [
              "(195, 1)"
            ]
          },
          "execution_count": 191,
          "metadata": {},
          "output_type": "execute_result"
        }
      ],
      "source": [
        "y_test.shape"
      ]
    },
    {
      "cell_type": "code",
      "execution_count": 192,
      "metadata": {
        "id": "ZBG3nEGGTgLX"
      },
      "outputs": [],
      "source": [
        "X_test = X_test.reshape(X_test.shape[0], X_test.shape[1], 1 )"
      ]
    },
    {
      "cell_type": "code",
      "execution_count": 193,
      "metadata": {
        "colab": {
          "base_uri": "https://localhost:8080/"
        },
        "id": "GFEYriZNTsmK",
        "outputId": "5bc17801-73ae-42d8-c89b-b2a5e3501707"
      },
      "outputs": [
        {
          "name": "stdout",
          "output_type": "stream",
          "text": [
            "7/7 [==============================] - 0s 26ms/step\n"
          ]
        }
      ],
      "source": [
        "predicted_stock_price = model_lstm.predict(X_test)"
      ]
    },
    {
      "cell_type": "code",
      "execution_count": 194,
      "metadata": {
        "id": "04ryXEEYTzqh"
      },
      "outputs": [],
      "source": [
        "predicted_stock_price = sc.inverse_transform(predicted_stock_price)"
      ]
    },
    {
      "cell_type": "code",
      "execution_count": 195,
      "metadata": {
        "id": "8ztZp1MeUBGt"
      },
      "outputs": [],
      "source": [
        "def plot_predictions(test, predicted):\n",
        "    plt.figure(figsize = (10,5))\n",
        "    plt.plot(test, color=\"gray\", label=\"Real\")\n",
        "    plt.plot(predicted, color=\"red\", label=\"Predicted\")\n",
        "    plt.title(\"MasterCard Stock Price Prediction\")\n",
        "    plt.xlabel(\"Time\")\n",
        "    plt.ylabel(\"MasterCard Stock Price\")\n",
        "    plt.legend()\n",
        "    plt.show()"
      ]
    },
    {
      "cell_type": "code",
      "execution_count": 196,
      "metadata": {
        "colab": {
          "base_uri": "https://localhost:8080/",
          "height": 487
        },
        "id": "muFuYUBEULpL",
        "outputId": "987fa06a-9b1c-445a-85bd-4e3a50149a52"
      },
      "outputs": [
        {
          "data": {
            "image/png": "[encoded data removed]",
            "text/plain": [
              "<Figure size 1000x500 with 1 Axes>"
            ]
          },
          "metadata": {},
          "output_type": "display_data"
        }
      ],
      "source": [
        "plot_predictions(test_set, predicted_stock_price)"
      ]
    },
    {
      "cell_type": "code",
      "execution_count": 205,
      "metadata": {
        "id": "JdJcppQoUYb0"
      },
      "outputs": [],
      "source": [
        "from sklearn.metrics import mean_squared_error, mean_absolute_error"
      ]
    },
    {
      "cell_type": "code",
      "execution_count": 206,
      "metadata": {
        "colab": {
          "base_uri": "https://localhost:8080/"
        },
        "id": "BV7hPmw4Uuuq",
        "outputId": "e9f9c20a-6969-4478-ac29-77a8da6dcea4"
      },
      "outputs": [
        {
          "name": "stdout",
          "output_type": "stream",
          "text": [
            "6.355118065659668\n"
          ]
        }
      ],
      "source": [
        "mse = mean_squared_error(test_set, predicted_stock_price)\n",
        "rmse = mse ** 0.5\n",
        "print(rmse)"
      ]
    },
    {
      "cell_type": "code",
      "execution_count": 207,
      "metadata": {
        "id": "87JVLChgU5e8"
      },
      "outputs": [
        {
          "name": "stdout",
          "output_type": "stream",
          "text": [
            "4.794057367608172\n"
          ]
        }
      ],
      "source": [
        "mae = mean_absolute_error(test_set, predicted_stock_price)\n",
        "print(mae)"
      ]
    },
    {
      "cell_type": "code",
      "execution_count": null,
      "metadata": {},
      "outputs": [],
      "source": []
    }
  ],
  "metadata": {
    "colab": {
      "provenance": []
    },
    "kernelspec": {
      "display_name": "Python 3",
      "name": "python3"
    },
    "language_info": {
      "codemirror_mode": {
        "name": "ipython",
        "version": 3
      },
      "file_extension": ".py",
      "mimetype": "text/x-python",
      "name": "python",
      "nbconvert_exporter": "python",
      "pygments_lexer": "ipython3",
      "version": "3.10.6"
    }
  },
  "nbformat": 4,
  "nbformat_minor": 0
}
